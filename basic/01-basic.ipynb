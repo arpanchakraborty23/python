{
 "cells": [
  {
   "cell_type": "markdown",
   "id": "40caae9a",
   "metadata": {},
   "source": [
    "# what is Data?"
   ]
  },
  {
   "cell_type": "markdown",
   "id": "1d5f25f3",
   "metadata": {},
   "source": [
    " Data is collection of information gathersed by observations, mesurments, resarch or analysis. In current world Every thing is data . Ex - sending message in whatapp, posting photo in fb every thing is data"
   ]
  },
  {
   "cell_type": "markdown",
   "id": "48657515",
   "metadata": {},
   "source": [
    "# How to store Data?\n",
    "So now we have data for using data we need to store it in a temporary space to perfome any kind of oparations like\n",
    "addition, divison etc, it is called variabels."
   ]
  },
  {
   "cell_type": "code",
   "execution_count": 72,
   "id": "48d8798b",
   "metadata": {},
   "outputs": [],
   "source": [
    "a = 1"
   ]
  },
  {
   "cell_type": "code",
   "execution_count": 74,
   "id": "f0781e26",
   "metadata": {},
   "outputs": [
    {
     "ename": "SyntaxError",
     "evalue": "invalid syntax. Maybe you meant '==' or ':=' instead of '='? (1789263275.py, line 2)",
     "output_type": "error",
     "traceback": [
      "\u001b[1;36m  Cell \u001b[1;32mIn[74], line 2\u001b[1;36m\u001b[0m\n\u001b[1;33m    @name = 1\u001b[0m\n\u001b[1;37m     ^\u001b[0m\n\u001b[1;31mSyntaxError\u001b[0m\u001b[1;31m:\u001b[0m invalid syntax. Maybe you meant '==' or ':=' instead of '='?\n"
     ]
    }
   ],
   "source": [
    "# you can't star with a digit, spacial chr except underscore for a variabel\n",
    "@name = 1"
   ]
  },
  {
   "cell_type": "code",
   "execution_count": 75,
   "id": "d2db7f82",
   "metadata": {},
   "outputs": [
    {
     "ename": "SyntaxError",
     "evalue": "invalid decimal literal (3392674422.py, line 1)",
     "output_type": "error",
     "traceback": [
      "\u001b[1;36m  Cell \u001b[1;32mIn[75], line 1\u001b[1;36m\u001b[0m\n\u001b[1;33m    1name =1\u001b[0m\n\u001b[1;37m    ^\u001b[0m\n\u001b[1;31mSyntaxError\u001b[0m\u001b[1;31m:\u001b[0m invalid decimal literal\n"
     ]
    }
   ],
   "source": [
    "1name =1"
   ]
  },
  {
   "cell_type": "code",
   "execution_count": 77,
   "id": "03eaa36a",
   "metadata": {},
   "outputs": [
    {
     "ename": "SyntaxError",
     "evalue": "invalid syntax (883783691.py, line 1)",
     "output_type": "error",
     "traceback": [
      "\u001b[1;36m  Cell \u001b[1;32mIn[77], line 1\u001b[1;36m\u001b[0m\n\u001b[1;33m    name* = 1\u001b[0m\n\u001b[1;37m          ^\u001b[0m\n\u001b[1;31mSyntaxError\u001b[0m\u001b[1;31m:\u001b[0m invalid syntax\n"
     ]
    }
   ],
   "source": [
    "name* = 1"
   ]
  },
  {
   "cell_type": "code",
   "execution_count": 76,
   "id": "cb7f02e0",
   "metadata": {},
   "outputs": [],
   "source": [
    "_name = 1"
   ]
  },
  {
   "cell_type": "code",
   "execution_count": 78,
   "id": "be158510",
   "metadata": {},
   "outputs": [],
   "source": [
    "name_ =1"
   ]
  },
  {
   "cell_type": "code",
   "execution_count": 73,
   "id": "e52ad73b",
   "metadata": {},
   "outputs": [
    {
     "name": "stdout",
     "output_type": "stream",
     "text": [
      "1\n",
      "10\n"
     ]
    }
   ],
   "source": [
    "# Variabels are case sesatives\n",
    "abv = 1\n",
    "Abv = 10\n",
    "print(abv)\n",
    "print(Abv)"
   ]
  },
  {
   "cell_type": "code",
   "execution_count": 5,
   "id": "62679d04",
   "metadata": {},
   "outputs": [
    {
     "data": {
      "text/plain": [
       "int"
      ]
     },
     "execution_count": 5,
     "metadata": {},
     "output_type": "execute_result"
    }
   ],
   "source": [
    "# Dynamic typing -->  python automatic detact data types, but other languge we have to define variabel data type\n",
    "## it python advantage and disadvantage both. When it try to check data types it make it slower than other languge\n",
    "a = 7 \n",
    "type(a)"
   ]
  },
  {
   "cell_type": "code",
   "execution_count": 2,
   "id": "6f55d307",
   "metadata": {},
   "outputs": [
    {
     "name": "stdout",
     "output_type": "stream",
     "text": [
      "5\n",
      "ac\n"
     ]
    }
   ],
   "source": [
    "# Dynamic Binding --> In python we can modify variabels value but other languge support static binding , so, they can't change or modify veriabels value\n",
    "a = 5\n",
    "print(a)\n",
    "a = \"ac\"\n",
    "print(a)"
   ]
  },
  {
   "cell_type": "markdown",
   "id": "190d7530",
   "metadata": {},
   "source": [
    "# Python builtin data types:\n",
    "\n",
    "Every Data diffrent it self like . Their can be number or numaric data, string data, Bolen data, Date time\n",
    "\n",
    "* Numaric  --> numarical data takes b=numbers 1,2,3,6\n",
    "* string  --> textual info\n",
    "* Boolen  --> Bool varibels two kind 1. True, 2. False\n",
    "* Date time --> time format data"
   ]
  },
  {
   "cell_type": "markdown",
   "id": "9d52a3e3",
   "metadata": {},
   "source": [
    "# Operators"
   ]
  },
  {
   "cell_type": "markdown",
   "id": "efdd596e",
   "metadata": {},
   "source": [
    "* A operator is a symbole or keyword in pogramming and math that perfome a spacific action on one or more values."
   ]
  },
  {
   "cell_type": "markdown",
   "id": "6825524e",
   "metadata": {},
   "source": [
    "Types of opertors:\n",
    "\n",
    "1. Arithmetic operators\n",
    "\n",
    "2. Assignment operators\n",
    "\n",
    "3. Comparison operators\n",
    "\n",
    "4. Logical operators\n",
    "\n",
    "5. Identity operators\n",
    "\n",
    "6. Membership operators"
   ]
  },
  {
   "cell_type": "markdown",
   "id": "c364bd18",
   "metadata": {},
   "source": [
    "## Arithmetic operators"
   ]
  },
  {
   "cell_type": "code",
   "execution_count": 1,
   "id": "df7abd89",
   "metadata": {},
   "outputs": [
    {
     "data": {
      "text/plain": [
       "9"
      ]
     },
     "execution_count": 1,
     "metadata": {},
     "output_type": "execute_result"
    }
   ],
   "source": [
    "# Additions\n",
    "4 + 5"
   ]
  },
  {
   "cell_type": "code",
   "execution_count": 2,
   "id": "332b3041",
   "metadata": {},
   "outputs": [
    {
     "data": {
      "text/plain": [
       "11"
      ]
     },
     "execution_count": 2,
     "metadata": {},
     "output_type": "execute_result"
    }
   ],
   "source": [
    "a = 5\n",
    "b = 6\n",
    "a + b "
   ]
  },
  {
   "cell_type": "code",
   "execution_count": 3,
   "id": "82550a7f",
   "metadata": {},
   "outputs": [
    {
     "data": {
      "text/plain": [
       "-2"
      ]
     },
     "execution_count": 3,
     "metadata": {},
     "output_type": "execute_result"
    }
   ],
   "source": [
    "#  substaction\n",
    "4 - 6"
   ]
  },
  {
   "cell_type": "code",
   "execution_count": 4,
   "id": "1cd6092d",
   "metadata": {},
   "outputs": [
    {
     "data": {
      "text/plain": [
       "1"
      ]
     },
     "execution_count": 4,
     "metadata": {},
     "output_type": "execute_result"
    }
   ],
   "source": [
    "6 -5"
   ]
  },
  {
   "cell_type": "code",
   "execution_count": 5,
   "id": "a260e503",
   "metadata": {},
   "outputs": [
    {
     "data": {
      "text/plain": [
       "20"
      ]
     },
     "execution_count": 5,
     "metadata": {},
     "output_type": "execute_result"
    }
   ],
   "source": [
    "# multiplication\n",
    "4*5"
   ]
  },
  {
   "cell_type": "code",
   "execution_count": 6,
   "id": "4e83062c",
   "metadata": {},
   "outputs": [
    {
     "data": {
      "text/plain": [
       "30"
      ]
     },
     "execution_count": 6,
     "metadata": {},
     "output_type": "execute_result"
    }
   ],
   "source": [
    "6*5"
   ]
  },
  {
   "cell_type": "code",
   "execution_count": 7,
   "id": "b1a38bfb",
   "metadata": {},
   "outputs": [
    {
     "data": {
      "text/plain": [
       "5.0"
      ]
     },
     "execution_count": 7,
     "metadata": {},
     "output_type": "execute_result"
    }
   ],
   "source": [
    "# Devision\n",
    "25 /5"
   ]
  },
  {
   "cell_type": "code",
   "execution_count": 8,
   "id": "9c74efd3",
   "metadata": {},
   "outputs": [
    {
     "data": {
      "text/plain": [
       "2.4"
      ]
     },
     "execution_count": 8,
     "metadata": {},
     "output_type": "execute_result"
    }
   ],
   "source": [
    "12/5"
   ]
  },
  {
   "cell_type": "code",
   "execution_count": null,
   "id": "fbad5d24",
   "metadata": {},
   "outputs": [
    {
     "data": {
      "text/plain": [
       "2"
      ]
     },
     "execution_count": 9,
     "metadata": {},
     "output_type": "execute_result"
    }
   ],
   "source": [
    "# float division\n",
    "12//5"
   ]
  },
  {
   "cell_type": "code",
   "execution_count": 12,
   "id": "cd20ed77",
   "metadata": {},
   "outputs": [
    {
     "data": {
      "text/plain": [
       "4"
      ]
     },
     "execution_count": 12,
     "metadata": {},
     "output_type": "execute_result"
    }
   ],
   "source": [
    "# Modules --> It returns the remainder of a division between two numbers.\n",
    "4 %5"
   ]
  },
  {
   "cell_type": "code",
   "execution_count": null,
   "id": "8fba702f",
   "metadata": {},
   "outputs": [
    {
     "data": {
      "text/plain": [
       "5"
      ]
     },
     "execution_count": 13,
     "metadata": {},
     "output_type": "execute_result"
    }
   ],
   "source": [
    "5 % 6"
   ]
  },
  {
   "cell_type": "code",
   "execution_count": 14,
   "id": "2da153be",
   "metadata": {},
   "outputs": [
    {
     "data": {
      "text/plain": [
       "64"
      ]
     },
     "execution_count": 14,
     "metadata": {},
     "output_type": "execute_result"
    }
   ],
   "source": [
    "# Power or expoentiation\n",
    "8**2"
   ]
  },
  {
   "cell_type": "code",
   "execution_count": 15,
   "id": "d19801ef",
   "metadata": {},
   "outputs": [
    {
     "data": {
      "text/plain": [
       "8"
      ]
     },
     "execution_count": 15,
     "metadata": {},
     "output_type": "execute_result"
    }
   ],
   "source": [
    "2**3"
   ]
  },
  {
   "cell_type": "code",
   "execution_count": 16,
   "id": "4077c163",
   "metadata": {},
   "outputs": [
    {
     "data": {
      "text/plain": [
       "8.0"
      ]
     },
     "execution_count": 16,
     "metadata": {},
     "output_type": "execute_result"
    }
   ],
   "source": [
    "# Order of Operations followed in Python\n",
    "2 / 10 * 10 +6"
   ]
  },
  {
   "cell_type": "code",
   "execution_count": 17,
   "id": "99447b19",
   "metadata": {},
   "outputs": [
    {
     "data": {
      "text/plain": [
       "15.25"
      ]
     },
     "execution_count": 17,
     "metadata": {},
     "output_type": "execute_result"
    }
   ],
   "source": [
    "25 /(2*10) + (24 /4) +8"
   ]
  },
  {
   "cell_type": "code",
   "execution_count": 19,
   "id": "f8124107",
   "metadata": {},
   "outputs": [
    {
     "data": {
      "text/plain": [
       "140721541032536"
      ]
     },
     "execution_count": 19,
     "metadata": {},
     "output_type": "execute_result"
    }
   ],
   "source": [
    "# memory address\n",
    "a = 6\n",
    "id(a)"
   ]
  },
  {
   "cell_type": "code",
   "execution_count": 20,
   "id": "d09a1564",
   "metadata": {},
   "outputs": [
    {
     "data": {
      "text/plain": [
       "int"
      ]
     },
     "execution_count": 20,
     "metadata": {},
     "output_type": "execute_result"
    }
   ],
   "source": [
    "# Type is in built function in python to check data types of a variables\n",
    "type(a)"
   ]
  },
  {
   "cell_type": "code",
   "execution_count": 21,
   "id": "54e15a15",
   "metadata": {},
   "outputs": [
    {
     "ename": "NameError",
     "evalue": "name 'ml' is not defined",
     "output_type": "error",
     "traceback": [
      "\u001b[1;31m---------------------------------------------------------------------------\u001b[0m",
      "\u001b[1;31mNameError\u001b[0m                                 Traceback (most recent call last)",
      "Cell \u001b[1;32mIn[21], line 1\u001b[0m\n\u001b[1;32m----> 1\u001b[0m v \u001b[38;5;241m=\u001b[39m ml\n\u001b[0;32m      2\u001b[0m \u001b[38;5;28mtype\u001b[39m(v)\n",
      "\u001b[1;31mNameError\u001b[0m: name 'ml' is not defined"
     ]
    }
   ],
   "source": [
    "v = ml\n",
    "type(v)"
   ]
  },
  {
   "cell_type": "code",
   "execution_count": 22,
   "id": "1a8dbb71",
   "metadata": {},
   "outputs": [
    {
     "data": {
      "text/plain": [
       "str"
      ]
     },
     "execution_count": 22,
     "metadata": {},
     "output_type": "execute_result"
    }
   ],
   "source": [
    "v = \"ml\"\n",
    "type(v)"
   ]
  },
  {
   "cell_type": "code",
   "execution_count": 23,
   "id": "0db1a890",
   "metadata": {},
   "outputs": [
    {
     "data": {
      "text/plain": [
       "float"
      ]
     },
     "execution_count": 23,
     "metadata": {},
     "output_type": "execute_result"
    }
   ],
   "source": [
    "f = 1.5\n",
    "type(f)"
   ]
  },
  {
   "cell_type": "code",
   "execution_count": 24,
   "id": "cbcc03db",
   "metadata": {},
   "outputs": [
    {
     "data": {
      "text/plain": [
       "str"
      ]
     },
     "execution_count": 24,
     "metadata": {},
     "output_type": "execute_result"
    }
   ],
   "source": [
    "s = '5'\n",
    "type(s)"
   ]
  },
  {
   "cell_type": "code",
   "execution_count": 1,
   "id": "ee9e8443",
   "metadata": {},
   "outputs": [
    {
     "data": {
      "text/plain": [
       "1.4"
      ]
     },
     "execution_count": 1,
     "metadata": {},
     "output_type": "execute_result"
    }
   ],
   "source": [
    "7/5"
   ]
  },
  {
   "cell_type": "code",
   "execution_count": 2,
   "id": "e8d2d16e",
   "metadata": {},
   "outputs": [
    {
     "data": {
      "text/plain": [
       "1"
      ]
     },
     "execution_count": 2,
     "metadata": {},
     "output_type": "execute_result"
    }
   ],
   "source": [
    "7//5"
   ]
  },
  {
   "cell_type": "code",
   "execution_count": 3,
   "id": "1d6f8399",
   "metadata": {},
   "outputs": [
    {
     "data": {
      "text/plain": [
       "2"
      ]
     },
     "execution_count": 3,
     "metadata": {},
     "output_type": "execute_result"
    }
   ],
   "source": [
    "7%5"
   ]
  },
  {
   "cell_type": "code",
   "execution_count": 4,
   "id": "5b75df61",
   "metadata": {},
   "outputs": [
    {
     "data": {
      "text/plain": [
       "0"
      ]
     },
     "execution_count": 4,
     "metadata": {},
     "output_type": "execute_result"
    }
   ],
   "source": [
    "3 //4"
   ]
  },
  {
   "cell_type": "code",
   "execution_count": null,
   "id": "caf14200",
   "metadata": {},
   "outputs": [],
   "source": []
  },
  {
   "cell_type": "markdown",
   "id": "7eb1454a",
   "metadata": {},
   "source": [
    "## Assignment Operators\n",
    "use to assign values to variables."
   ]
  },
  {
   "cell_type": "code",
   "execution_count": 25,
   "id": "a4379700",
   "metadata": {},
   "outputs": [
    {
     "name": "stdout",
     "output_type": "stream",
     "text": [
      "orenge\n"
     ]
    }
   ],
   "source": [
    "# assign variable\n",
    "a = \"orenge\"\n",
    "print(a)"
   ]
  },
  {
   "cell_type": "code",
   "execution_count": 26,
   "id": "c4bec0be",
   "metadata": {},
   "outputs": [
    {
     "name": "stdout",
     "output_type": "stream",
     "text": [
      "5\n",
      "5\n",
      "5\n"
     ]
    }
   ],
   "source": [
    "# multipel variable with same value\n",
    "a = b = c =5\n",
    "print(a)\n",
    "print(b)\n",
    "print(c)"
   ]
  },
  {
   "cell_type": "code",
   "execution_count": 28,
   "id": "5f1b7e45",
   "metadata": {},
   "outputs": [
    {
     "name": "stdout",
     "output_type": "stream",
     "text": [
      "orenge\n",
      "apple\n",
      "cherry\n"
     ]
    }
   ],
   "source": [
    "# unpacking\n",
    "a, b ,c = [\"orenge\", \"apple\", \"cherry\"]\n",
    "print(a)\n",
    "print(b)\n",
    "print(c)"
   ]
  },
  {
   "cell_type": "markdown",
   "id": "49c3abe1",
   "metadata": {},
   "source": [
    "## Comparison (Relational) Operators\n",
    "* These operators will allow us to compare variables and output a Boolean value "
   ]
  },
  {
   "cell_type": "code",
   "execution_count": 29,
   "id": "f61264ec",
   "metadata": {},
   "outputs": [
    {
     "data": {
      "text/plain": [
       "('orenge', 'apple')"
      ]
     },
     "execution_count": 29,
     "metadata": {},
     "output_type": "execute_result"
    }
   ],
   "source": [
    "a , b"
   ]
  },
  {
   "cell_type": "code",
   "execution_count": 31,
   "id": "c2bfb725",
   "metadata": {},
   "outputs": [],
   "source": [
    "b = a"
   ]
  },
  {
   "cell_type": "code",
   "execution_count": 32,
   "id": "431dc37b",
   "metadata": {},
   "outputs": [
    {
     "data": {
      "text/plain": [
       "'orenge'"
      ]
     },
     "execution_count": 32,
     "metadata": {},
     "output_type": "execute_result"
    }
   ],
   "source": [
    "a"
   ]
  },
  {
   "cell_type": "code",
   "execution_count": 33,
   "id": "50b74abf",
   "metadata": {},
   "outputs": [
    {
     "data": {
      "text/plain": [
       "'orenge'"
      ]
     },
     "execution_count": 33,
     "metadata": {},
     "output_type": "execute_result"
    }
   ],
   "source": [
    "b"
   ]
  },
  {
   "cell_type": "code",
   "execution_count": 34,
   "id": "579b680f",
   "metadata": {},
   "outputs": [
    {
     "data": {
      "text/plain": [
       "bool"
      ]
     },
     "execution_count": 34,
     "metadata": {},
     "output_type": "execute_result"
    }
   ],
   "source": [
    "b = False\n",
    "type(b)"
   ]
  },
  {
   "cell_type": "code",
   "execution_count": 35,
   "id": "160efb39",
   "metadata": {},
   "outputs": [
    {
     "ename": "TypeError",
     "evalue": "'>' not supported between instances of 'str' and 'bool'",
     "output_type": "error",
     "traceback": [
      "\u001b[1;31m---------------------------------------------------------------------------\u001b[0m",
      "\u001b[1;31mTypeError\u001b[0m                                 Traceback (most recent call last)",
      "Cell \u001b[1;32mIn[35], line 1\u001b[0m\n\u001b[1;32m----> 1\u001b[0m a \u001b[38;5;241m>\u001b[39m b\n",
      "\u001b[1;31mTypeError\u001b[0m: '>' not supported between instances of 'str' and 'bool'"
     ]
    }
   ],
   "source": [
    "a > b"
   ]
  },
  {
   "cell_type": "code",
   "execution_count": 38,
   "id": "f1531ee3",
   "metadata": {},
   "outputs": [
    {
     "data": {
      "text/plain": [
       "False"
      ]
     },
     "execution_count": 38,
     "metadata": {},
     "output_type": "execute_result"
    }
   ],
   "source": [
    "a =7 ; b =8\n",
    "a > b"
   ]
  },
  {
   "cell_type": "code",
   "execution_count": 39,
   "id": "b60c3e0f",
   "metadata": {},
   "outputs": [
    {
     "data": {
      "text/plain": [
       "False"
      ]
     },
     "execution_count": 39,
     "metadata": {},
     "output_type": "execute_result"
    }
   ],
   "source": [
    "# Equal\n",
    "2  == 3"
   ]
  },
  {
   "cell_type": "code",
   "execution_count": 40,
   "id": "eb77bef7",
   "metadata": {},
   "outputs": [
    {
     "data": {
      "text/plain": [
       "False"
      ]
     },
     "execution_count": 40,
     "metadata": {},
     "output_type": "execute_result"
    }
   ],
   "source": [
    "2 ==0"
   ]
  },
  {
   "cell_type": "code",
   "execution_count": 41,
   "id": "5d9fb17c",
   "metadata": {},
   "outputs": [],
   "source": [
    "## == is a comparision operator and = is a assignment operator"
   ]
  },
  {
   "cell_type": "code",
   "execution_count": 43,
   "id": "b2c8dbce",
   "metadata": {},
   "outputs": [
    {
     "data": {
      "text/plain": [
       "True"
      ]
     },
     "execution_count": 43,
     "metadata": {},
     "output_type": "execute_result"
    }
   ],
   "source": [
    "3 !=2"
   ]
  },
  {
   "cell_type": "code",
   "execution_count": 44,
   "id": "d661c896",
   "metadata": {},
   "outputs": [
    {
     "data": {
      "text/plain": [
       "False"
      ]
     },
     "execution_count": 44,
     "metadata": {},
     "output_type": "execute_result"
    }
   ],
   "source": [
    "10>45"
   ]
  },
  {
   "cell_type": "code",
   "execution_count": 45,
   "id": "b5f66fc4",
   "metadata": {},
   "outputs": [
    {
     "data": {
      "text/plain": [
       "True"
      ]
     },
     "execution_count": 45,
     "metadata": {},
     "output_type": "execute_result"
    }
   ],
   "source": [
    "45>10"
   ]
  },
  {
   "cell_type": "code",
   "execution_count": 46,
   "id": "2e817f84",
   "metadata": {},
   "outputs": [
    {
     "data": {
      "text/plain": [
       "True"
      ]
     },
     "execution_count": 46,
     "metadata": {},
     "output_type": "execute_result"
    }
   ],
   "source": [
    "45 >= 0"
   ]
  },
  {
   "cell_type": "code",
   "execution_count": 47,
   "id": "2401e755",
   "metadata": {},
   "outputs": [
    {
     "data": {
      "text/plain": [
       "True"
      ]
     },
     "execution_count": 47,
     "metadata": {},
     "output_type": "execute_result"
    }
   ],
   "source": [
    "0<= 1"
   ]
  },
  {
   "cell_type": "markdown",
   "id": "f0800361",
   "metadata": {},
   "source": [
    "## Logical Operators"
   ]
  },
  {
   "cell_type": "code",
   "execution_count": 48,
   "id": "544134e3",
   "metadata": {},
   "outputs": [],
   "source": [
    "# and Gate\n",
    "# True =1 , False = 0"
   ]
  },
  {
   "cell_type": "code",
   "execution_count": 52,
   "id": "414f2f18",
   "metadata": {},
   "outputs": [
    {
     "data": {
      "text/plain": [
       "True"
      ]
     },
     "execution_count": 52,
     "metadata": {},
     "output_type": "execute_result"
    }
   ],
   "source": [
    "x = 5 \n",
    "y = 10\n",
    "x < 6 and 6< 11 # True and True = True"
   ]
  },
  {
   "cell_type": "code",
   "execution_count": 53,
   "id": "4891d91b",
   "metadata": {},
   "outputs": [
    {
     "data": {
      "text/plain": [
       "False"
      ]
     },
     "execution_count": 53,
     "metadata": {},
     "output_type": "execute_result"
    }
   ],
   "source": [
    "5 >6 and 6> 5 # Flase and True =False"
   ]
  },
  {
   "cell_type": "code",
   "execution_count": 56,
   "id": "cbd54ce0",
   "metadata": {},
   "outputs": [],
   "source": [
    "# or Gate\n",
    "# if either condition true then it return true"
   ]
  },
  {
   "cell_type": "code",
   "execution_count": 55,
   "id": "5c7ec73f",
   "metadata": {},
   "outputs": [
    {
     "data": {
      "text/plain": [
       "True"
      ]
     },
     "execution_count": 55,
     "metadata": {},
     "output_type": "execute_result"
    }
   ],
   "source": [
    "x < 6 or 6< 11 "
   ]
  },
  {
   "cell_type": "code",
   "execution_count": 57,
   "id": "97d17d01",
   "metadata": {},
   "outputs": [
    {
     "data": {
      "text/plain": [
       "True"
      ]
     },
     "execution_count": 57,
     "metadata": {},
     "output_type": "execute_result"
    }
   ],
   "source": [
    "5 >6 or 6> 5"
   ]
  },
  {
   "cell_type": "code",
   "execution_count": 59,
   "id": "4dfe3e8e",
   "metadata": {},
   "outputs": [],
   "source": [
    "# not Gate\n",
    "# reverse result"
   ]
  },
  {
   "cell_type": "code",
   "execution_count": 60,
   "id": "a1f11301",
   "metadata": {},
   "outputs": [
    {
     "data": {
      "text/plain": [
       "False"
      ]
     },
     "execution_count": 60,
     "metadata": {},
     "output_type": "execute_result"
    }
   ],
   "source": [
    "5 >6 "
   ]
  },
  {
   "cell_type": "code",
   "execution_count": 61,
   "id": "426b737e",
   "metadata": {},
   "outputs": [
    {
     "data": {
      "text/plain": [
       "True"
      ]
     },
     "execution_count": 61,
     "metadata": {},
     "output_type": "execute_result"
    }
   ],
   "source": [
    "not 5 >6 "
   ]
  },
  {
   "cell_type": "code",
   "execution_count": 62,
   "id": "4d6f5f96",
   "metadata": {},
   "outputs": [
    {
     "data": {
      "text/plain": [
       "False"
      ]
     },
     "execution_count": 62,
     "metadata": {},
     "output_type": "execute_result"
    }
   ],
   "source": [
    "5 >6 and 6> 5"
   ]
  },
  {
   "cell_type": "code",
   "execution_count": 63,
   "id": "b419c3cc",
   "metadata": {},
   "outputs": [
    {
     "data": {
      "text/plain": [
       "True"
      ]
     },
     "execution_count": 63,
     "metadata": {},
     "output_type": "execute_result"
    }
   ],
   "source": [
    "not(5 >6 and 6> 5)"
   ]
  },
  {
   "cell_type": "markdown",
   "id": "0ee107d6",
   "metadata": {},
   "source": [
    "## Membership Operators"
   ]
  },
  {
   "cell_type": "code",
   "execution_count": 64,
   "id": "2b5d0b0e",
   "metadata": {},
   "outputs": [],
   "source": [
    "# Check if a value exists in a sequence.\n"
   ]
  },
  {
   "cell_type": "code",
   "execution_count": 65,
   "id": "7380e7a0",
   "metadata": {},
   "outputs": [
    {
     "data": {
      "text/plain": [
       "True"
      ]
     },
     "execution_count": 65,
     "metadata": {},
     "output_type": "execute_result"
    }
   ],
   "source": [
    "# in Check if a value exists in a sequence.\n",
    "\"a\" in 'apple'"
   ]
  },
  {
   "cell_type": "code",
   "execution_count": 66,
   "id": "4a6ab13c",
   "metadata": {},
   "outputs": [
    {
     "data": {
      "text/plain": [
       "True"
      ]
     },
     "execution_count": 66,
     "metadata": {},
     "output_type": "execute_result"
    }
   ],
   "source": [
    "y=[3,4,5,7,7,343,45676,5,\"ravi\",4+6j,0.5]\n",
    "\n",
    "5 in y"
   ]
  },
  {
   "cell_type": "code",
   "execution_count": 67,
   "id": "779cfcdf",
   "metadata": {},
   "outputs": [
    {
     "data": {
      "text/plain": [
       "True"
      ]
     },
     "execution_count": 67,
     "metadata": {},
     "output_type": "execute_result"
    }
   ],
   "source": [
    "# Value does not exist\n",
    "90 not in y"
   ]
  },
  {
   "cell_type": "markdown",
   "id": "edfd8fce",
   "metadata": {},
   "source": [
    "## Identity Operators\n",
    "Check if two variables refer to the same object in memory."
   ]
  },
  {
   "cell_type": "code",
   "execution_count": 68,
   "id": "3414060e",
   "metadata": {},
   "outputs": [
    {
     "name": "stdout",
     "output_type": "stream",
     "text": [
      "True\n"
     ]
    }
   ],
   "source": [
    "# Checks if the values of two variables are equal.\n",
    "\n",
    "a = [1, 2, 3]\n",
    "b = [1, 2, 3]\n",
    "\n",
    "print(a == b)   #True → values are equal"
   ]
  },
  {
   "cell_type": "code",
   "execution_count": 69,
   "id": "1efaafe1",
   "metadata": {},
   "outputs": [
    {
     "name": "stdout",
     "output_type": "stream",
     "text": [
      "False\n"
     ]
    }
   ],
   "source": [
    "a = [1, 2, 3]\n",
    "b = [1, 2, 3]\n",
    "\n",
    "print(a is b)   #False → different memory locations"
   ]
  },
  {
   "cell_type": "code",
   "execution_count": 70,
   "id": "455765eb",
   "metadata": {},
   "outputs": [
    {
     "data": {
      "text/plain": [
       "1776330660288"
      ]
     },
     "execution_count": 70,
     "metadata": {},
     "output_type": "execute_result"
    }
   ],
   "source": [
    "id(a)"
   ]
  },
  {
   "cell_type": "code",
   "execution_count": 71,
   "id": "55aca4aa",
   "metadata": {},
   "outputs": [
    {
     "data": {
      "text/plain": [
       "1776339727232"
      ]
     },
     "execution_count": 71,
     "metadata": {},
     "output_type": "execute_result"
    }
   ],
   "source": [
    "id(b)"
   ]
  },
  {
   "cell_type": "code",
   "execution_count": null,
   "id": "54166578",
   "metadata": {},
   "outputs": [],
   "source": []
  }
 ],
 "metadata": {
  "kernelspec": {
   "display_name": "base",
   "language": "python",
   "name": "python3"
  },
  "language_info": {
   "codemirror_mode": {
    "name": "ipython",
    "version": 3
   },
   "file_extension": ".py",
   "mimetype": "text/x-python",
   "name": "python",
   "nbconvert_exporter": "python",
   "pygments_lexer": "ipython3",
   "version": "3.12.7"
  }
 },
 "nbformat": 4,
 "nbformat_minor": 5
}
