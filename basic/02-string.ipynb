{
 "cells": [
  {
   "cell_type": "markdown",
   "id": "174b77fe",
   "metadata": {},
   "source": [
    "# String\n",
    "\n",
    "* A string is squence of text data. it could be a word, sentence or parageaph. In python string is a data type, python try track every element of string squentialy."
   ]
  },
  {
   "cell_type": "code",
   "execution_count": 1,
   "id": "07b4dcff",
   "metadata": {},
   "outputs": [
    {
     "name": "stdout",
     "output_type": "stream",
     "text": [
      "Ac\n"
     ]
    }
   ],
   "source": [
    "# Create String\n",
    "x = \"ac\" \n",
    "x = \"Ac\"\n",
    "\n",
    "print(x)"
   ]
  },
  {
   "cell_type": "code",
   "execution_count": 3,
   "metadata": {},
   "outputs": [
    {
     "name": "stdout",
     "output_type": "stream",
     "text": [
      "statistic is the fundamentals of ai\n"
     ]
    }
   ],
   "source": [
    "s = \"statistic is the fundamentals of ai\"\n",
    "print(s)"
   ]
  },
  {
   "cell_type": "code",
   "execution_count": 4,
   "metadata": {},
   "outputs": [
    {
     "data": {
      "text/plain": [
       "str"
      ]
     },
     "execution_count": 4,
     "metadata": {},
     "output_type": "execute_result"
    }
   ],
   "source": [
    "type(s)"
   ]
  },
  {
   "cell_type": "code",
   "execution_count": 5,
   "metadata": {},
   "outputs": [
    {
     "data": {
      "text/plain": [
       "'This is example of single line comment'"
      ]
     },
     "execution_count": 5,
     "metadata": {},
     "output_type": "execute_result"
    }
   ],
   "source": [
    "# Single line comment\n",
    "'This is example of single line comment'"
   ]
  },
  {
   "cell_type": "code",
   "execution_count": 8,
   "id": "f506e33e",
   "metadata": {},
   "outputs": [
    {
     "name": "stdout",
     "output_type": "stream",
     "text": [
      "This is example of single line comment\n"
     ]
    }
   ],
   "source": [
    "singel ='This is example of single line comment'\n",
    "print(singel)"
   ]
  },
  {
   "cell_type": "code",
   "execution_count": 6,
   "id": "e686dfd5",
   "metadata": {},
   "outputs": [
    {
     "data": {
      "text/plain": [
       "' \\nThis is example of multi line comment with string\\nThis second line\\nThis is third line\\n'"
      ]
     },
     "execution_count": 6,
     "metadata": {},
     "output_type": "execute_result"
    }
   ],
   "source": [
    "# multiline comment with string\n",
    "\"\"\" \n",
    "This is example of multi line comment with string\n",
    "This second line\n",
    "This is third line\n",
    "\"\"\""
   ]
  },
  {
   "cell_type": "code",
   "execution_count": 9,
   "id": "bbc58eb2",
   "metadata": {},
   "outputs": [
    {
     "name": "stdout",
     "output_type": "stream",
     "text": [
      " \n",
      "This is example of multi line comment with string\n",
      "This second line\n",
      "This is third line\n",
      "\n"
     ]
    }
   ],
   "source": [
    "multiline= \"\"\" \n",
    "This is example of multi line comment with string\n",
    "This second line\n",
    "This is third line\n",
    "\"\"\"\n",
    "\n",
    "print(multiline)"
   ]
  },
  {
   "cell_type": "code",
   "execution_count": 10,
   "metadata": {},
   "outputs": [
    {
     "ename": "SyntaxError",
     "evalue": "unterminated string literal (detected at line 2) (1373959511.py, line 2)",
     "output_type": "error",
     "traceback": [
      "\u001b[1;36m  Cell \u001b[1;32mIn[10], line 2\u001b[1;36m\u001b[0m\n\u001b[1;33m    st = 'I'm a Data Scientist'\u001b[0m\n\u001b[1;37m                              ^\u001b[0m\n\u001b[1;31mSyntaxError\u001b[0m\u001b[1;31m:\u001b[0m unterminated string literal (detected at line 2)\n"
     ]
    }
   ],
   "source": [
    "# conflict of quotes\n",
    "st = 'I'm a Data Scientist'"
   ]
  },
  {
   "cell_type": "code",
   "execution_count": 11,
   "metadata": {},
   "outputs": [],
   "source": [
    "st = \"I'm a Data Scientist\""
   ]
  },
  {
   "cell_type": "code",
   "execution_count": 12,
   "id": "18bcaf95",
   "metadata": {},
   "outputs": [
    {
     "data": {
      "text/plain": [
       "88"
      ]
     },
     "execution_count": 12,
     "metadata": {},
     "output_type": "execute_result"
    }
   ],
   "source": [
    "len(multiline)"
   ]
  },
  {
   "cell_type": "code",
   "execution_count": 13,
   "id": "809f9e1d",
   "metadata": {},
   "outputs": [
    {
     "data": {
      "text/plain": [
       "' \\nTHIS IS EXAMPLE OF MULTI LINE COMMENT WITH STRING\\nTHIS SECOND LINE\\nTHIS IS THIRD LINE\\n'"
      ]
     },
     "execution_count": 13,
     "metadata": {},
     "output_type": "execute_result"
    }
   ],
   "source": [
    "multiline.upper()"
   ]
  },
  {
   "cell_type": "code",
   "execution_count": 14,
   "id": "4e105d01",
   "metadata": {},
   "outputs": [
    {
     "data": {
      "text/plain": [
       "' \\nthis is example of multi line comment with string\\nthis second line\\nthis is third line\\n'"
      ]
     },
     "execution_count": 14,
     "metadata": {},
     "output_type": "execute_result"
    }
   ],
   "source": [
    "# lower case\n",
    "multiline.lower()"
   ]
  },
  {
   "cell_type": "code",
   "execution_count": 15,
   "id": "d388e486",
   "metadata": {},
   "outputs": [
    {
     "data": {
      "text/plain": [
       "' \\nthis is example of multi line comment with string\\nthis second line\\nthis is third line\\n'"
      ]
     },
     "execution_count": 15,
     "metadata": {},
     "output_type": "execute_result"
    }
   ],
   "source": [
    "multiline.capitalize()"
   ]
  },
  {
   "cell_type": "markdown",
   "id": "01aa016a",
   "metadata": {},
   "source": [
    " print --> print is python in-built function . it only shows values"
   ]
  },
  {
   "cell_type": "code",
   "execution_count": 16,
   "id": "03bc2f13",
   "metadata": {},
   "outputs": [
    {
     "name": "stdout",
     "output_type": "stream",
     "text": [
      "Machine Learning\n"
     ]
    }
   ],
   "source": [
    "print(\"Machine Learning\")"
   ]
  },
  {
   "cell_type": "code",
   "execution_count": 17,
   "id": "0ab2ec67",
   "metadata": {},
   "outputs": [
    {
     "name": "stdout",
     "output_type": "stream",
     "text": [
      "1 2 3 1.2 ac True\n"
     ]
    }
   ],
   "source": [
    "# multipel data types\n",
    "print(1,2,3,1.2,'ac',True)"
   ]
  },
  {
   "cell_type": "code",
   "execution_count": 18,
   "id": "ff89d244",
   "metadata": {},
   "outputs": [
    {
     "name": "stdout",
     "output_type": "stream",
     "text": [
      "1|2|3|1.2|ac|True\n"
     ]
    }
   ],
   "source": [
    "# separator\n",
    "print(1,2,3,1.2,'ac',True,sep='|')"
   ]
  },
  {
   "cell_type": "code",
   "execution_count": 19,
   "id": "6f9f684d",
   "metadata": {},
   "outputs": [
    {
     "name": "stdout",
     "output_type": "stream",
     "text": [
      "1-2-3-1.2-ac-True\n"
     ]
    }
   ],
   "source": [
    "print(1,2,3,1.2,'ac',True,sep='-')"
   ]
  },
  {
   "cell_type": "code",
   "execution_count": 24,
   "id": "71f59d89",
   "metadata": {},
   "outputs": [
    {
     "name": "stdout",
     "output_type": "stream",
     "text": [
      "ac ds\n"
     ]
    }
   ],
   "source": [
    "# after completing each input it prints next new line by default  in python end='/n'\n",
    "print(\"ac\",end=\" \")\n",
    "print(\"ds\")"
   ]
  },
  {
   "cell_type": "code",
   "execution_count": 25,
   "id": "b8a361b2",
   "metadata": {},
   "outputs": [
    {
     "name": "stdout",
     "output_type": "stream",
     "text": [
      "python-->Data Science\n"
     ]
    }
   ],
   "source": [
    "print(\"python\",end=\"-->\")\n",
    "print(\"Data Science\")"
   ]
  },
  {
   "cell_type": "code",
   "execution_count": 26,
   "id": "0f306d14",
   "metadata": {},
   "outputs": [
    {
     "data": {
      "text/plain": [
       "'Generative AI'"
      ]
     },
     "execution_count": 26,
     "metadata": {},
     "output_type": "execute_result"
    }
   ],
   "source": [
    "\"pyhton\"\n",
    "\"statistics\"\n",
    "\"machine learning\"\n",
    "\"deep learning\"\n",
    "\"Generative AI\""
   ]
  },
  {
   "cell_type": "code",
   "execution_count": 28,
   "id": "be004733",
   "metadata": {},
   "outputs": [
    {
     "name": "stdout",
     "output_type": "stream",
     "text": [
      "machine learning statistics pyhton\n"
     ]
    }
   ],
   "source": [
    "z,y, x = \"pyhton\", \"statistics\", \"machine learning\"\n",
    "print(x,y,z)"
   ]
  },
  {
   "cell_type": "code",
   "execution_count": 31,
   "id": "000fc437",
   "metadata": {},
   "outputs": [
    {
     "name": "stdout",
     "output_type": "stream",
     "text": [
      "pyhtonstatisticsmachine learningdeep learningGenerative AI\n"
     ]
    }
   ],
   "source": [
    "# String addition(concate)\n",
    "print(\"pyhton\" + \"statistics\" +\"machine learning\" + \"deep learning\" + \"Generative AI\")"
   ]
  },
  {
   "cell_type": "code",
   "execution_count": 32,
   "id": "37904aa9",
   "metadata": {},
   "outputs": [
    {
     "ename": "TypeError",
     "evalue": "unsupported operand type(s) for +: 'int' and 'str'",
     "output_type": "error",
     "traceback": [
      "\u001b[1;31m---------------------------------------------------------------------------\u001b[0m",
      "\u001b[1;31mTypeError\u001b[0m                                 Traceback (most recent call last)",
      "Cell \u001b[1;32mIn[32], line 4\u001b[0m\n\u001b[0;32m      2\u001b[0m x \u001b[38;5;241m=\u001b[39m\u001b[38;5;241m5\u001b[39m\n\u001b[0;32m      3\u001b[0m y \u001b[38;5;241m=\u001b[39m \u001b[38;5;124m\"\u001b[39m\u001b[38;5;124mnum\u001b[39m\u001b[38;5;124m\"\u001b[39m\n\u001b[1;32m----> 4\u001b[0m \u001b[38;5;28mprint\u001b[39m(x \u001b[38;5;241m+\u001b[39m y)\n",
      "\u001b[1;31mTypeError\u001b[0m: unsupported operand type(s) for +: 'int' and 'str'"
     ]
    }
   ],
   "source": [
    "# int and str\n",
    "x =5\n",
    "y = \"num\"\n",
    "print(x + y)"
   ]
  },
  {
   "cell_type": "code",
   "execution_count": 34,
   "id": "ca04f3ad",
   "metadata": {},
   "outputs": [
    {
     "name": "stdout",
     "output_type": "stream",
     "text": [
      "5num\n"
     ]
    }
   ],
   "source": [
    "# typecasting --> changing data type\n",
    "print(str(x) + y)"
   ]
  },
  {
   "cell_type": "markdown",
   "id": "cf4645bc",
   "metadata": {},
   "source": [
    "## String Indexing"
   ]
  },
  {
   "cell_type": "markdown",
   "id": "8c2fee4b",
   "metadata": {},
   "source": [
    "We know strings are a sequence, which means Python can use indexes to call parts of the sequence.\n",
    "\n",
    "String indexing means accessing single characters in a string using their position \n",
    "\n",
    "The indexing begins from 0 in Python.\n",
    "\n",
    "The first element is assigned an index 0, the second element is assigned an index of 1 and so on and so forth.\n",
    "\n",
    "In Python, we use brackets [] after an object to call its index."
   ]
  },
  {
   "cell_type": "code",
   "execution_count": 35,
   "id": "95428923",
   "metadata": {},
   "outputs": [],
   "source": [
    "abc = \"pyhton statistics machine learning deep learning Generative AI\""
   ]
  },
  {
   "cell_type": "code",
   "execution_count": 37,
   "id": "1ee93f8a",
   "metadata": {},
   "outputs": [
    {
     "data": {
      "text/plain": [
       "'o'"
      ]
     },
     "execution_count": 37,
     "metadata": {},
     "output_type": "execute_result"
    }
   ],
   "source": [
    "abc[4]"
   ]
  },
  {
   "cell_type": "code",
   "execution_count": 38,
   "id": "4fef587a",
   "metadata": {},
   "outputs": [
    {
     "data": {
      "text/plain": [
       "'I'"
      ]
     },
     "execution_count": 38,
     "metadata": {},
     "output_type": "execute_result"
    }
   ],
   "source": [
    "abc[-1] "
   ]
  },
  {
   "cell_type": "code",
   "execution_count": 39,
   "id": "8f84cc6e",
   "metadata": {},
   "outputs": [
    {
     "data": {
      "text/plain": [
       "'v'"
      ]
     },
     "execution_count": 39,
     "metadata": {},
     "output_type": "execute_result"
    }
   ],
   "source": [
    "abc[-5]"
   ]
  },
  {
   "cell_type": "code",
   "execution_count": 42,
   "id": "d2867af5",
   "metadata": {},
   "outputs": [
    {
     "ename": "IndexError",
     "evalue": "string index out of range",
     "output_type": "error",
     "traceback": [
      "\u001b[1;31m---------------------------------------------------------------------------\u001b[0m",
      "\u001b[1;31mIndexError\u001b[0m                                Traceback (most recent call last)",
      "Cell \u001b[1;32mIn[42], line 2\u001b[0m\n\u001b[0;32m      1\u001b[0m \u001b[38;5;66;03m# out of range\u001b[39;00m\n\u001b[1;32m----> 2\u001b[0m abc[\u001b[38;5;241m70\u001b[39m]\n",
      "\u001b[1;31mIndexError\u001b[0m: string index out of range"
     ]
    }
   ],
   "source": [
    "# out of range\n",
    "abc[70]"
   ]
  },
  {
   "cell_type": "markdown",
   "id": "a0acdef2",
   "metadata": {},
   "source": [
    "## slicing\n",
    "* Sclicing refrs extracting a part of string by spacifing star end and jumpe step"
   ]
  },
  {
   "cell_type": "code",
   "execution_count": 43,
   "id": "2ff48015",
   "metadata": {},
   "outputs": [
    {
     "data": {
      "text/plain": [
       "'on sta'"
      ]
     },
     "execution_count": 43,
     "metadata": {},
     "output_type": "execute_result"
    }
   ],
   "source": [
    "# slicing oparation\n",
    "abc[4:10]"
   ]
  },
  {
   "cell_type": "code",
   "execution_count": 44,
   "id": "20d51112",
   "metadata": {},
   "outputs": [
    {
     "data": {
      "text/plain": [
       "'yhton statistics machine learning deep learning Generative AI'"
      ]
     },
     "execution_count": 44,
     "metadata": {},
     "output_type": "execute_result"
    }
   ],
   "source": [
    "abc[1:]"
   ]
  },
  {
   "cell_type": "code",
   "execution_count": 45,
   "id": "0dceff2a",
   "metadata": {},
   "outputs": [
    {
     "data": {
      "text/plain": [
       "'pyhton statistics machine learning deep learning Generative A'"
      ]
     },
     "execution_count": 45,
     "metadata": {},
     "output_type": "execute_result"
    }
   ],
   "source": [
    "abc[:-1]"
   ]
  },
  {
   "cell_type": "code",
   "execution_count": 47,
   "id": "3eec0ca0",
   "metadata": {},
   "outputs": [
    {
     "data": {
      "text/plain": [
       "'ytnsaitc ahn erigde '"
      ]
     },
     "execution_count": 47,
     "metadata": {},
     "output_type": "execute_result"
    }
   ],
   "source": [
    "# jump\n",
    "abc[1:40:2]"
   ]
  },
  {
   "cell_type": "code",
   "execution_count": null,
   "id": "96829679",
   "metadata": {},
   "outputs": [
    {
     "data": {
      "text/plain": [
       "'IA evitareneG gninrael peed gninrael enihcam scitsitats nothyp'"
      ]
     },
     "execution_count": 50,
     "metadata": {},
     "output_type": "execute_result"
    }
   ],
   "source": [
    "abc[::-1] # reverse string"
   ]
  },
  {
   "cell_type": "code",
   "execution_count": 58,
   "id": "2542d114",
   "metadata": {},
   "outputs": [
    {
     "data": {
      "text/plain": [
       "'pyhton statistics machine learning deep learning Generative AI'"
      ]
     },
     "execution_count": 58,
     "metadata": {},
     "output_type": "execute_result"
    }
   ],
   "source": [
    "abc[:]"
   ]
  },
  {
   "cell_type": "code",
   "execution_count": 59,
   "id": "771e3380",
   "metadata": {},
   "outputs": [
    {
     "data": {
      "text/plain": [
       "18"
      ]
     },
     "execution_count": 59,
     "metadata": {},
     "output_type": "execute_result"
    }
   ],
   "source": [
    "# in built method\n",
    "abc.index(\"m\")"
   ]
  },
  {
   "cell_type": "code",
   "execution_count": 60,
   "id": "4af9ef14",
   "metadata": {},
   "outputs": [
    {
     "data": {
      "text/plain": [
       "'pyhton statistics machine learning deep learning Generative AI'"
      ]
     },
     "execution_count": 60,
     "metadata": {},
     "output_type": "execute_result"
    }
   ],
   "source": [
    "abc[::]"
   ]
  },
  {
   "cell_type": "code",
   "execution_count": 62,
   "id": "c1d74d7f",
   "metadata": {},
   "outputs": [
    {
     "data": {
      "text/plain": [
       "'pyhton statistics machine'"
      ]
     },
     "execution_count": 62,
     "metadata": {},
     "output_type": "execute_result"
    }
   ],
   "source": [
    "abc[:25:1]"
   ]
  },
  {
   "cell_type": "code",
   "execution_count": 63,
   "id": "b509c00b",
   "metadata": {},
   "outputs": [
    {
     "data": {
      "text/plain": [
       "'pho ttsismcielann eplann eeaieA'"
      ]
     },
     "execution_count": 63,
     "metadata": {},
     "output_type": "execute_result"
    }
   ],
   "source": [
    "abc[::2]"
   ]
  },
  {
   "cell_type": "code",
   "execution_count": 64,
   "id": "c6ecfbc3",
   "metadata": {},
   "outputs": [
    {
     "data": {
      "text/plain": [
       "'IA evitareneG gninrael peed gninrael enihcam scitsita'"
      ]
     },
     "execution_count": 64,
     "metadata": {},
     "output_type": "execute_result"
    }
   ],
   "source": [
    "abc[:8:-1]"
   ]
  },
  {
   "cell_type": "code",
   "execution_count": 65,
   "id": "8f32f5fc",
   "metadata": {},
   "outputs": [
    {
     "data": {
      "text/plain": [
       "''"
      ]
     },
     "execution_count": 65,
     "metadata": {},
     "output_type": "execute_result"
    }
   ],
   "source": [
    "abc[2:8:-1]"
   ]
  },
  {
   "cell_type": "code",
   "execution_count": 66,
   "id": "7e11badb",
   "metadata": {},
   "outputs": [
    {
     "data": {
      "text/plain": [
       "'hyp'"
      ]
     },
     "execution_count": 66,
     "metadata": {},
     "output_type": "execute_result"
    }
   ],
   "source": [
    "abc[2::-1]"
   ]
  },
  {
   "cell_type": "code",
   "execution_count": 67,
   "id": "f9bb0ce7",
   "metadata": {},
   "outputs": [
    {
     "data": {
      "text/plain": [
       "'p'"
      ]
     },
     "execution_count": 67,
     "metadata": {},
     "output_type": "execute_result"
    }
   ],
   "source": [
    "abc[-0]"
   ]
  },
  {
   "cell_type": "code",
   "execution_count": 68,
   "id": "46f0d2f6",
   "metadata": {},
   "outputs": [
    {
     "data": {
      "text/plain": [
       "''"
      ]
     },
     "execution_count": 68,
     "metadata": {},
     "output_type": "execute_result"
    }
   ],
   "source": [
    "abc[-1:-20]"
   ]
  },
  {
   "cell_type": "code",
   "execution_count": 69,
   "id": "8cd45377",
   "metadata": {},
   "outputs": [
    {
     "data": {
      "text/plain": [
       "'IA evitareneG gninr'"
      ]
     },
     "execution_count": 69,
     "metadata": {},
     "output_type": "execute_result"
    }
   ],
   "source": [
    "abc[-1:-20:-1]"
   ]
  },
  {
   "cell_type": "markdown",
   "id": "310c968f",
   "metadata": {},
   "source": [
    "## In Built"
   ]
  },
  {
   "cell_type": "code",
   "execution_count": 71,
   "id": "258eaa0a",
   "metadata": {},
   "outputs": [
    {
     "data": {
      "text/plain": [
       "'pyhton statistics machine learning deep learning Generative AI'"
      ]
     },
     "execution_count": 71,
     "metadata": {},
     "output_type": "execute_result"
    }
   ],
   "source": [
    "# In built\n",
    "abc"
   ]
  },
  {
   "cell_type": "code",
   "execution_count": 72,
   "id": "bfad56c0",
   "metadata": {},
   "outputs": [
    {
     "data": {
      "text/plain": [
       "18"
      ]
     },
     "execution_count": 72,
     "metadata": {},
     "output_type": "execute_result"
    }
   ],
   "source": [
    "# Get particular index no\n",
    "abc.index(\"m\")"
   ]
  },
  {
   "cell_type": "code",
   "execution_count": 73,
   "id": "32a205c6",
   "metadata": {},
   "outputs": [
    {
     "data": {
      "text/plain": [
       "61"
      ]
     },
     "execution_count": 73,
     "metadata": {},
     "output_type": "execute_result"
    }
   ],
   "source": [
    "abc.index(\"I\")"
   ]
  },
  {
   "cell_type": "code",
   "execution_count": 74,
   "id": "f0dbd264",
   "metadata": {},
   "outputs": [
    {
     "ename": "ValueError",
     "evalue": "substring not found",
     "output_type": "error",
     "traceback": [
      "\u001b[1;31m---------------------------------------------------------------------------\u001b[0m",
      "\u001b[1;31mValueError\u001b[0m                                Traceback (most recent call last)",
      "Cell \u001b[1;32mIn[74], line 1\u001b[0m\n\u001b[1;32m----> 1\u001b[0m abc\u001b[38;5;241m.\u001b[39mindex(\u001b[38;5;124m\"\u001b[39m\u001b[38;5;124mP\u001b[39m\u001b[38;5;124m\"\u001b[39m)\n",
      "\u001b[1;31mValueError\u001b[0m: substring not found"
     ]
    }
   ],
   "source": [
    "abc.index(\"P\")"
   ]
  },
  {
   "cell_type": "code",
   "execution_count": 75,
   "id": "18848854",
   "metadata": {},
   "outputs": [
    {
     "data": {
      "text/plain": [
       "0"
      ]
     },
     "execution_count": 75,
     "metadata": {},
     "output_type": "execute_result"
    }
   ],
   "source": [
    "abc.index(\"p\")"
   ]
  },
  {
   "cell_type": "code",
   "execution_count": 79,
   "id": "15db5a77",
   "metadata": {},
   "outputs": [
    {
     "data": {
      "text/plain": [
       "'Pyhton statistics machine learning deep learning generative ai'"
      ]
     },
     "execution_count": 79,
     "metadata": {},
     "output_type": "execute_result"
    }
   ],
   "source": [
    "abc.capitalize() # Capital the first chr"
   ]
  },
  {
   "cell_type": "code",
   "execution_count": null,
   "id": "51599877",
   "metadata": {},
   "outputs": [
    {
     "data": {
      "text/plain": [
       "1"
      ]
     },
     "execution_count": 80,
     "metadata": {},
     "output_type": "execute_result"
    }
   ],
   "source": [
    "abc.count(\"m\") # No of time m appers"
   ]
  },
  {
   "cell_type": "code",
   "execution_count": 81,
   "id": "23062af2",
   "metadata": {},
   "outputs": [
    {
     "data": {
      "text/plain": [
       "0"
      ]
     },
     "execution_count": 81,
     "metadata": {},
     "output_type": "execute_result"
    }
   ],
   "source": [
    "abc.count(\"b\")"
   ]
  },
  {
   "cell_type": "code",
   "execution_count": 82,
   "id": "cd3e4e6b",
   "metadata": {},
   "outputs": [
    {
     "data": {
      "text/plain": [
       "5"
      ]
     },
     "execution_count": 82,
     "metadata": {},
     "output_type": "execute_result"
    }
   ],
   "source": [
    "abc.count('a')"
   ]
  },
  {
   "cell_type": "code",
   "execution_count": 84,
   "id": "597ec0a7",
   "metadata": {},
   "outputs": [
    {
     "ename": "TypeError",
     "evalue": "'str' object does not support item assignment",
     "output_type": "error",
     "traceback": [
      "\u001b[1;31m---------------------------------------------------------------------------\u001b[0m",
      "\u001b[1;31mTypeError\u001b[0m                                 Traceback (most recent call last)",
      "Cell \u001b[1;32mIn[84], line 4\u001b[0m\n\u001b[0;32m      1\u001b[0m \u001b[38;5;66;03m# In String there is concept of immutability. It refers after creatng string we can't modify or change the string\u001b[39;00m\n\u001b[0;32m      3\u001b[0m b \u001b[38;5;241m=\u001b[39m \u001b[38;5;124m\"\u001b[39m\u001b[38;5;124mData Science\u001b[39m\u001b[38;5;124m\"\u001b[39m\n\u001b[1;32m----> 4\u001b[0m b[\u001b[38;5;241m0\u001b[39m]  \u001b[38;5;241m=\u001b[39m \u001b[38;5;124m\"\u001b[39m\u001b[38;5;124mb\u001b[39m\u001b[38;5;124m\"\u001b[39m\n",
      "\u001b[1;31mTypeError\u001b[0m: 'str' object does not support item assignment"
     ]
    }
   ],
   "source": [
    "# In String there is concept of immutability. It refers after creatng string we can't modify or change the string\n",
    "\n",
    "b = \"Data Science\"\n",
    "b[0]  = \"b\""
   ]
  },
  {
   "cell_type": "code",
   "execution_count": 85,
   "id": "e156a47e",
   "metadata": {},
   "outputs": [
    {
     "data": {
      "text/plain": [
       "'pyhton stztistics mzchine lezrning deep lezrning Generztive AI'"
      ]
     },
     "execution_count": 85,
     "metadata": {},
     "output_type": "execute_result"
    }
   ],
   "source": [
    "# replace \n",
    "abc.replace(\"a\",\"z\")"
   ]
  },
  {
   "cell_type": "code",
   "execution_count": 86,
   "id": "1b1cb558",
   "metadata": {},
   "outputs": [
    {
     "name": "stdout",
     "output_type": "stream",
     "text": [
      "datascience\n"
     ]
    }
   ],
   "source": [
    "# concate string\n",
    "a = \"data\"\n",
    "b = \"science\" \n",
    "\n",
    "print(a + b)"
   ]
  },
  {
   "cell_type": "code",
   "execution_count": 87,
   "id": "819a99c5",
   "metadata": {},
   "outputs": [
    {
     "data": {
      "text/plain": [
       "62"
      ]
     },
     "execution_count": 87,
     "metadata": {},
     "output_type": "execute_result"
    }
   ],
   "source": [
    "# checking length of a string\n",
    "len(abc)"
   ]
  },
  {
   "cell_type": "code",
   "execution_count": 88,
   "id": "3a1e630f",
   "metadata": {},
   "outputs": [
    {
     "data": {
      "text/plain": [
       "'PYHTON STATISTICS MACHINE LEARNING DEEP LEARNING GENERATIVE AI'"
      ]
     },
     "execution_count": 88,
     "metadata": {},
     "output_type": "execute_result"
    }
   ],
   "source": [
    "abc.upper()"
   ]
  },
  {
   "cell_type": "code",
   "execution_count": 89,
   "id": "3823bb18",
   "metadata": {},
   "outputs": [
    {
     "data": {
      "text/plain": [
       "'pyhton statistics machine learning deep learning generative ai'"
      ]
     },
     "execution_count": 89,
     "metadata": {},
     "output_type": "execute_result"
    }
   ],
   "source": [
    "abc.lower()"
   ]
  },
  {
   "cell_type": "code",
   "execution_count": 90,
   "id": "c4f3b1bf",
   "metadata": {},
   "outputs": [
    {
     "data": {
      "text/plain": [
       "False"
      ]
     },
     "execution_count": 90,
     "metadata": {},
     "output_type": "execute_result"
    }
   ],
   "source": [
    "abc.istitle()"
   ]
  },
  {
   "cell_type": "code",
   "execution_count": 91,
   "id": "7b7fc587",
   "metadata": {},
   "outputs": [
    {
     "data": {
      "text/plain": [
       "'Pyhton Statistics Machine Learning Deep Learning Generative Ai'"
      ]
     },
     "execution_count": 91,
     "metadata": {},
     "output_type": "execute_result"
    }
   ],
   "source": [
    "abc.title()"
   ]
  },
  {
   "cell_type": "code",
   "execution_count": null,
   "id": "6949b6f8",
   "metadata": {},
   "outputs": [
    {
     "data": {
      "text/plain": [
       "'kOLaLyLil'"
      ]
     },
     "execution_count": 93,
     "metadata": {},
     "output_type": "execute_result"
    }
   ],
   "source": [
    "c = \"KolAlYlIL\"\n",
    "c.swapcase()"
   ]
  },
  {
   "cell_type": "code",
   "execution_count": 98,
   "id": "5999fa4e",
   "metadata": {},
   "outputs": [
    {
     "data": {
      "text/plain": [
       "'    data science   python '"
      ]
     },
     "execution_count": 98,
     "metadata": {},
     "output_type": "execute_result"
    }
   ],
   "source": [
    "# remove empty space\n",
    "d =\"    data science   python \"\n",
    "d"
   ]
  },
  {
   "cell_type": "code",
   "execution_count": 99,
   "id": "0ac6fe61",
   "metadata": {},
   "outputs": [
    {
     "data": {
      "text/plain": [
       "'data science   python'"
      ]
     },
     "execution_count": 99,
     "metadata": {},
     "output_type": "execute_result"
    }
   ],
   "source": [
    "d.strip()"
   ]
  },
  {
   "cell_type": "code",
   "execution_count": 100,
   "id": "350fd204",
   "metadata": {},
   "outputs": [
    {
     "data": {
      "text/plain": [
       "'    data science   python'"
      ]
     },
     "execution_count": 100,
     "metadata": {},
     "output_type": "execute_result"
    }
   ],
   "source": [
    "d.rstrip()"
   ]
  },
  {
   "cell_type": "code",
   "execution_count": 101,
   "id": "ab84bb2b",
   "metadata": {},
   "outputs": [
    {
     "data": {
      "text/plain": [
       "9"
      ]
     },
     "execution_count": 101,
     "metadata": {},
     "output_type": "execute_result"
    }
   ],
   "source": [
    "abc.find(\"a\")"
   ]
  },
  {
   "cell_type": "code",
   "execution_count": 104,
   "id": "89abd827",
   "metadata": {},
   "outputs": [
    {
     "data": {
      "text/plain": [
       "True"
      ]
     },
     "execution_count": 104,
     "metadata": {},
     "output_type": "execute_result"
    }
   ],
   "source": [
    "abc.endswith(\"AI\")"
   ]
  },
  {
   "cell_type": "code",
   "execution_count": 106,
   "id": "923acac0",
   "metadata": {},
   "outputs": [
    {
     "data": {
      "text/plain": [
       "True"
      ]
     },
     "execution_count": 106,
     "metadata": {},
     "output_type": "execute_result"
    }
   ],
   "source": [
    "b = \"Data cleaning\"\n",
    "b[1].isalpha() # check it is alphabetic"
   ]
  },
  {
   "cell_type": "code",
   "execution_count": 107,
   "id": "913f22f0",
   "metadata": {},
   "outputs": [
    {
     "data": {
      "text/plain": [
       "False"
      ]
     },
     "execution_count": 107,
     "metadata": {},
     "output_type": "execute_result"
    }
   ],
   "source": [
    "b.isalpha()"
   ]
  },
  {
   "cell_type": "code",
   "execution_count": 108,
   "id": "145e61f8",
   "metadata": {},
   "outputs": [
    {
     "data": {
      "text/plain": [
       "False"
      ]
     },
     "execution_count": 108,
     "metadata": {},
     "output_type": "execute_result"
    }
   ],
   "source": [
    "b.isnumeric()"
   ]
  },
  {
   "cell_type": "code",
   "execution_count": 109,
   "id": "d0eda4f2",
   "metadata": {},
   "outputs": [
    {
     "data": {
      "text/plain": [
       "True"
      ]
     },
     "execution_count": 109,
     "metadata": {},
     "output_type": "execute_result"
    }
   ],
   "source": [
    "n = \"34\"\n",
    "n.isnumeric()"
   ]
  },
  {
   "cell_type": "code",
   "execution_count": 110,
   "id": "059ae334",
   "metadata": {},
   "outputs": [
    {
     "data": {
      "text/plain": [
       "True"
      ]
     },
     "execution_count": 110,
     "metadata": {},
     "output_type": "execute_result"
    }
   ],
   "source": [
    "n.isalnum()"
   ]
  },
  {
   "cell_type": "code",
   "execution_count": 111,
   "id": "e39bb0a8",
   "metadata": {},
   "outputs": [
    {
     "data": {
      "text/plain": [
       "True"
      ]
     },
     "execution_count": 111,
     "metadata": {},
     "output_type": "execute_result"
    }
   ],
   "source": [
    "n.isdigit()"
   ]
  },
  {
   "cell_type": "code",
   "execution_count": 112,
   "id": "76959e9e",
   "metadata": {},
   "outputs": [
    {
     "data": {
      "text/plain": [
       "'pyhton statistics machine learning deep learning Generative AI'"
      ]
     },
     "execution_count": 112,
     "metadata": {},
     "output_type": "execute_result"
    }
   ],
   "source": [
    "abc"
   ]
  },
  {
   "cell_type": "code",
   "execution_count": null,
   "id": "6e9c7e9b",
   "metadata": {},
   "outputs": [
    {
     "data": {
      "text/plain": [
       "['pyhton',\n",
       " 'statistics',\n",
       " 'machine',\n",
       " 'learning',\n",
       " 'deep',\n",
       " 'learning',\n",
       " 'Generative',\n",
       " 'AI']"
      ]
     },
     "execution_count": 113,
     "metadata": {},
     "output_type": "execute_result"
    }
   ],
   "source": [
    "abc.split() # split string into list"
   ]
  },
  {
   "cell_type": "code",
   "execution_count": null,
   "id": "f93ba4ff",
   "metadata": {},
   "outputs": [
    {
     "data": {
      "text/plain": [
       "list"
      ]
     },
     "execution_count": 114,
     "metadata": {},
     "output_type": "execute_result"
    }
   ],
   "source": [
    "type(abc.split())"
   ]
  },
  {
   "cell_type": "code",
   "execution_count": 116,
   "id": "6e8dd513",
   "metadata": {},
   "outputs": [],
   "source": [
    "n = abc.split() "
   ]
  },
  {
   "cell_type": "code",
   "execution_count": 115,
   "id": "331557f5",
   "metadata": {},
   "outputs": [
    {
     "data": {
      "text/plain": [
       "['pyhton st',\n",
       " 'tistics m',\n",
       " 'chine le',\n",
       " 'rning deep le',\n",
       " 'rning Gener',\n",
       " 'tive AI']"
      ]
     },
     "execution_count": 115,
     "metadata": {},
     "output_type": "execute_result"
    }
   ],
   "source": [
    "abc.split('a') "
   ]
  },
  {
   "cell_type": "code",
   "execution_count": null,
   "id": "bd914375",
   "metadata": {},
   "outputs": [
    {
     "data": {
      "text/plain": [
       "'pyhton statistics machine learning deep learning Generative AI'"
      ]
     },
     "execution_count": 117,
     "metadata": {},
     "output_type": "execute_result"
    }
   ],
   "source": [
    "\" \".join(n) # concate besd on space"
   ]
  },
  {
   "cell_type": "code",
   "execution_count": 118,
   "id": "47b6a503",
   "metadata": {},
   "outputs": [
    {
     "data": {
      "text/plain": [
       "'pyhton|statistics|machine|learning|deep|learning|Generative|AI'"
      ]
     },
     "execution_count": 118,
     "metadata": {},
     "output_type": "execute_result"
    }
   ],
   "source": [
    "\"|\".join(n)"
   ]
  },
  {
   "cell_type": "code",
   "execution_count": 119,
   "id": "58d06807",
   "metadata": {},
   "outputs": [
    {
     "data": {
      "text/plain": [
       "['pyhton',\n",
       " 'statistics',\n",
       " 'machine',\n",
       " 'learning',\n",
       " 'deep',\n",
       " 'learning',\n",
       " 'Generative',\n",
       " 'AI']"
      ]
     },
     "execution_count": 119,
     "metadata": {},
     "output_type": "execute_result"
    }
   ],
   "source": [
    "n"
   ]
  },
  {
   "cell_type": "code",
   "execution_count": 121,
   "id": "6c22d0fd",
   "metadata": {},
   "outputs": [
    {
     "data": {
      "text/plain": [
       "'**arpan***'"
      ]
     },
     "execution_count": 121,
     "metadata": {},
     "output_type": "execute_result"
    }
   ],
   "source": [
    "s =\"arpan\"\n",
    "s.center(10,'*')"
   ]
  },
  {
   "cell_type": "code",
   "execution_count": null,
   "id": "1df936fa",
   "metadata": {},
   "outputs": [],
   "source": []
  },
  {
   "cell_type": "markdown",
   "id": "8732e65e",
   "metadata": {},
   "source": [
    "# Common errors in the Python Programming\n",
    " * Name error\n",
    " * Type error\n",
    " * Syntax error\n",
    " * Index error"
   ]
  },
  {
   "cell_type": "code",
   "execution_count": 51,
   "id": "aa67b0a2",
   "metadata": {},
   "outputs": [
    {
     "ename": "NameError",
     "evalue": "name 'b' is not defined",
     "output_type": "error",
     "traceback": [
      "\u001b[1;31m---------------------------------------------------------------------------\u001b[0m",
      "\u001b[1;31mNameError\u001b[0m                                 Traceback (most recent call last)",
      "Cell \u001b[1;32mIn[51], line 3\u001b[0m\n\u001b[0;32m      1\u001b[0m \u001b[38;5;66;03m# name Error\u001b[39;00m\n\u001b[0;32m      2\u001b[0m a \u001b[38;5;241m=\u001b[39m \u001b[38;5;124m\"\u001b[39m\u001b[38;5;124mac\u001b[39m\u001b[38;5;124m\"\u001b[39m\n\u001b[1;32m----> 3\u001b[0m b\n",
      "\u001b[1;31mNameError\u001b[0m: name 'b' is not defined"
     ]
    }
   ],
   "source": [
    "# name Error\n",
    "a = \"ac\"\n",
    "b"
   ]
  },
  {
   "cell_type": "code",
   "execution_count": 54,
   "id": "e92f4e69",
   "metadata": {},
   "outputs": [
    {
     "ename": "TypeError",
     "evalue": "unsupported operand type(s) for +: 'int' and 'str'",
     "output_type": "error",
     "traceback": [
      "\u001b[1;31m---------------------------------------------------------------------------\u001b[0m",
      "\u001b[1;31mTypeError\u001b[0m                                 Traceback (most recent call last)",
      "Cell \u001b[1;32mIn[54], line 2\u001b[0m\n\u001b[0;32m      1\u001b[0m \u001b[38;5;66;03m# Type error\u001b[39;00m\n\u001b[1;32m----> 2\u001b[0m \u001b[38;5;28mprint\u001b[39m( \u001b[38;5;241m5\u001b[39m \u001b[38;5;241m+\u001b[39m \u001b[38;5;124m\"\u001b[39m\u001b[38;5;124mac\u001b[39m\u001b[38;5;124m\"\u001b[39m)\n",
      "\u001b[1;31mTypeError\u001b[0m: unsupported operand type(s) for +: 'int' and 'str'"
     ]
    }
   ],
   "source": [
    "# Type error\n",
    "print( 5 + \"ac\")"
   ]
  },
  {
   "cell_type": "code",
   "execution_count": 56,
   "id": "547cd978",
   "metadata": {},
   "outputs": [
    {
     "ename": "IndexError",
     "evalue": "list index out of range",
     "output_type": "error",
     "traceback": [
      "\u001b[1;31m---------------------------------------------------------------------------\u001b[0m",
      "\u001b[1;31mIndexError\u001b[0m                                Traceback (most recent call last)",
      "Cell \u001b[1;32mIn[56], line 3\u001b[0m\n\u001b[0;32m      1\u001b[0m \u001b[38;5;66;03m# syntx error\u001b[39;00m\n\u001b[0;32m      2\u001b[0m fruits \u001b[38;5;241m=\u001b[39m [\u001b[38;5;124m\"\u001b[39m\u001b[38;5;124mapple\u001b[39m\u001b[38;5;124m\"\u001b[39m, \u001b[38;5;124m\"\u001b[39m\u001b[38;5;124mbanana\u001b[39m\u001b[38;5;124m\"\u001b[39m]\n\u001b[1;32m----> 3\u001b[0m \u001b[38;5;28mprint\u001b[39m(fruits[\u001b[38;5;241m2\u001b[39m])\n",
      "\u001b[1;31mIndexError\u001b[0m: list index out of range"
     ]
    }
   ],
   "source": [
    "# syntx error\n",
    "fruits = [\"apple\", \"banana\"]\n",
    "print(fruits[2])"
   ]
  },
  {
   "cell_type": "code",
   "execution_count": null,
   "id": "741198b8",
   "metadata": {},
   "outputs": [],
   "source": []
  }
 ],
 "metadata": {
  "kernelspec": {
   "display_name": "base",
   "language": "python",
   "name": "python3"
  },
  "language_info": {
   "codemirror_mode": {
    "name": "ipython",
    "version": 3
   },
   "file_extension": ".py",
   "mimetype": "text/x-python",
   "name": "python",
   "nbconvert_exporter": "python",
   "pygments_lexer": "ipython3",
   "version": "3.12.7"
  }
 },
 "nbformat": 4,
 "nbformat_minor": 5
}
