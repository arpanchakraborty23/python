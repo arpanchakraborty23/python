{
 "cells": [
  {
   "cell_type": "markdown",
   "id": "1ed6effb",
   "metadata": {},
   "source": [
    "# List\n",
    "\n",
    "* A list is a order,changeble collection of data. it is a python in build data structure \n",
    "* List are construded with [] commas separating every element in the list"
   ]
  },
  {
   "cell_type": "markdown",
   "id": "5aef5f35",
   "metadata": {},
   "source": [
    "# Characteristics of a List\n",
    "* Order -> items have a spacifc index\n",
    "* Mutable -> We can modify value after list creation\n",
    "* Duplicated -> Allow duplicated values.\n",
    "* Heterogenous -> can store diffrent data types "
   ]
  },
  {
   "cell_type": "code",
   "execution_count": 1,
   "id": "99f2b1ce",
   "metadata": {},
   "outputs": [
    {
     "name": "stdout",
     "output_type": "stream",
     "text": [
      "[1, 2, 3, True, 'Bool', 1.2]\n"
     ]
    }
   ],
   "source": [
    "lst = [1,2,3,True,\"Bool\",1.2]\n",
    "print(lst)"
   ]
  },
  {
   "cell_type": "code",
   "execution_count": 2,
   "id": "6b48d248",
   "metadata": {},
   "outputs": [
    {
     "data": {
      "text/plain": [
       "list"
      ]
     },
     "execution_count": 2,
     "metadata": {},
     "output_type": "execute_result"
    }
   ],
   "source": [
    "type(lst)"
   ]
  },
  {
   "cell_type": "markdown",
   "id": "cbd961ed",
   "metadata": {},
   "source": [
    "# indexing\n",
    "* A list indexing refers to location of element in a list\n",
    "first element assign an index 0 , second element index 1 and so on "
   ]
  },
  {
   "cell_type": "code",
   "execution_count": 3,
   "id": "1d6964b2",
   "metadata": {},
   "outputs": [
    {
     "data": {
      "text/plain": [
       "['Accuracy', 'precision', 'Recall', 'F1score', 'AUC_ROC_Score']"
      ]
     },
     "execution_count": 3,
     "metadata": {},
     "output_type": "execute_result"
    }
   ],
   "source": [
    "# list of string\n",
    "metrics=[\"Accuracy\",\"precision\",\"Recall\",\"F1score\",\"AUC_ROC_Score\"]\n",
    "metrics"
   ]
  },
  {
   "cell_type": "code",
   "execution_count": 4,
   "id": "1964e310",
   "metadata": {},
   "outputs": [
    {
     "data": {
      "text/plain": [
       "'Accuracy'"
      ]
     },
     "execution_count": 4,
     "metadata": {},
     "output_type": "execute_result"
    }
   ],
   "source": [
    "# 0th index\n",
    "metrics[0]"
   ]
  },
  {
   "cell_type": "code",
   "execution_count": 5,
   "id": "6c3e7014",
   "metadata": {},
   "outputs": [
    {
     "data": {
      "text/plain": [
       "'AUC_ROC_Score'"
      ]
     },
     "execution_count": 5,
     "metadata": {},
     "output_type": "execute_result"
    }
   ],
   "source": [
    "metrics[4] # 4th index"
   ]
  },
  {
   "cell_type": "code",
   "execution_count": 6,
   "id": "30d1d334",
   "metadata": {},
   "outputs": [
    {
     "data": {
      "text/plain": [
       "'AUC_ROC_Score'"
      ]
     },
     "execution_count": 6,
     "metadata": {},
     "output_type": "execute_result"
    }
   ],
   "source": [
    "# neg index\n",
    "metrics[-1]"
   ]
  },
  {
   "cell_type": "code",
   "execution_count": 7,
   "id": "07c78189",
   "metadata": {},
   "outputs": [
    {
     "data": {
      "text/plain": [
       "'precision'"
      ]
     },
     "execution_count": 7,
     "metadata": {},
     "output_type": "execute_result"
    }
   ],
   "source": [
    "metrics[-4]"
   ]
  },
  {
   "cell_type": "code",
   "execution_count": 10,
   "id": "9014a5f3",
   "metadata": {},
   "outputs": [
    {
     "data": {
      "text/plain": [
       "list"
      ]
     },
     "execution_count": 10,
     "metadata": {},
     "output_type": "execute_result"
    }
   ],
   "source": [
    "type(metrics)"
   ]
  },
  {
   "cell_type": "code",
   "execution_count": 11,
   "id": "f4c21ca7",
   "metadata": {},
   "outputs": [
    {
     "data": {
      "text/plain": [
       "str"
      ]
     },
     "execution_count": 11,
     "metadata": {},
     "output_type": "execute_result"
    }
   ],
   "source": [
    "type(metrics[1])"
   ]
  },
  {
   "cell_type": "code",
   "execution_count": 13,
   "id": "18d64bae",
   "metadata": {},
   "outputs": [
    {
     "data": {
      "text/plain": [
       "'s'"
      ]
     },
     "execution_count": 13,
     "metadata": {},
     "output_type": "execute_result"
    }
   ],
   "source": [
    "# advance indexing\n",
    "metrics[1][5]"
   ]
  },
  {
   "cell_type": "code",
   "execution_count": 14,
   "id": "0c0ee616",
   "metadata": {},
   "outputs": [
    {
     "data": {
      "text/plain": [
       "'l'"
      ]
     },
     "execution_count": 14,
     "metadata": {},
     "output_type": "execute_result"
    }
   ],
   "source": [
    "metrics[2][5]"
   ]
  },
  {
   "cell_type": "code",
   "execution_count": 15,
   "id": "07ab8bce",
   "metadata": {},
   "outputs": [
    {
     "data": {
      "text/plain": [
       "'C'"
      ]
     },
     "execution_count": 15,
     "metadata": {},
     "output_type": "execute_result"
    }
   ],
   "source": [
    "metrics[4][2]"
   ]
  },
  {
   "cell_type": "code",
   "execution_count": 16,
   "id": "8a1a7fa3",
   "metadata": {},
   "outputs": [
    {
     "data": {
      "text/plain": [
       "'i'"
      ]
     },
     "execution_count": 16,
     "metadata": {},
     "output_type": "execute_result"
    }
   ],
   "source": [
    "metrics[1][-5]"
   ]
  },
  {
   "cell_type": "markdown",
   "id": "05c2d3e7",
   "metadata": {},
   "source": [
    "# List Slicing\n",
    "* we can use : to perfome slicing which grabs everything up to a deginated point\n",
    "* in index start with 0 , ex -[\"python\",\"data\"] -> python index is 0\n",
    "* [:] ->[start: end]\n",
    "* [::] -> [start: end: jumps] "
   ]
  },
  {
   "cell_type": "code",
   "execution_count": 18,
   "id": "acf225b7",
   "metadata": {},
   "outputs": [
    {
     "data": {
      "text/plain": [
       "['Accuracy', 'precision', 'Recall', 'F1score', 'AUC_ROC_Score']"
      ]
     },
     "execution_count": 18,
     "metadata": {},
     "output_type": "execute_result"
    }
   ],
   "source": [
    "metrics"
   ]
  },
  {
   "cell_type": "code",
   "execution_count": 19,
   "id": "a435ae53",
   "metadata": {},
   "outputs": [
    {
     "data": {
      "text/plain": [
       "['Accuracy', 'precision', 'Recall', 'F1score', 'AUC_ROC_Score']"
      ]
     },
     "execution_count": 19,
     "metadata": {},
     "output_type": "execute_result"
    }
   ],
   "source": [
    "metrics[:]"
   ]
  },
  {
   "cell_type": "code",
   "execution_count": 20,
   "id": "59e2139a",
   "metadata": {},
   "outputs": [
    {
     "data": {
      "text/plain": [
       "'precision'"
      ]
     },
     "execution_count": 20,
     "metadata": {},
     "output_type": "execute_result"
    }
   ],
   "source": [
    "metrics[1]"
   ]
  },
  {
   "cell_type": "code",
   "execution_count": 21,
   "id": "fbd23a2c",
   "metadata": {},
   "outputs": [
    {
     "data": {
      "text/plain": [
       "['Accuracy', 'precision', 'Recall', 'F1score', 'AUC_ROC_Score']"
      ]
     },
     "execution_count": 21,
     "metadata": {},
     "output_type": "execute_result"
    }
   ],
   "source": [
    "metrics[0:]"
   ]
  },
  {
   "cell_type": "code",
   "execution_count": 22,
   "id": "0f659402",
   "metadata": {},
   "outputs": [
    {
     "name": "stdout",
     "output_type": "stream",
     "text": [
      "['Accuracy', 'precision', 'Recall', 'F1score', 'AUC_ROC_Score']\n"
     ]
    }
   ],
   "source": [
    "print(metrics[:5])"
   ]
  },
  {
   "cell_type": "code",
   "execution_count": 23,
   "id": "016c6f31",
   "metadata": {},
   "outputs": [
    {
     "data": {
      "text/plain": [
       "['Accuracy', 'precision', 'Recall', 'F1score', 'AUC_ROC_Score']"
      ]
     },
     "execution_count": 23,
     "metadata": {},
     "output_type": "execute_result"
    }
   ],
   "source": [
    "metrics[::]"
   ]
  },
  {
   "cell_type": "code",
   "execution_count": 24,
   "id": "ca596b41",
   "metadata": {},
   "outputs": [
    {
     "data": {
      "text/plain": [
       "['AUC_ROC_Score', 'F1score', 'Recall', 'precision', 'Accuracy']"
      ]
     },
     "execution_count": 24,
     "metadata": {},
     "output_type": "execute_result"
    }
   ],
   "source": [
    "metrics[::-1]"
   ]
  },
  {
   "cell_type": "code",
   "execution_count": 26,
   "id": "1b3ab126",
   "metadata": {},
   "outputs": [
    {
     "data": {
      "text/plain": [
       "['Accuracy', 'Recall', 'AUC_ROC_Score']"
      ]
     },
     "execution_count": 26,
     "metadata": {},
     "output_type": "execute_result"
    }
   ],
   "source": [
    "metrics[::2] # skis 2th pos"
   ]
  },
  {
   "cell_type": "code",
   "execution_count": 27,
   "id": "7775342b",
   "metadata": {},
   "outputs": [
    {
     "data": {
      "text/plain": [
       "['Accuracy', 'precision']"
      ]
     },
     "execution_count": 27,
     "metadata": {},
     "output_type": "execute_result"
    }
   ],
   "source": [
    "metrics[:2:]"
   ]
  },
  {
   "cell_type": "code",
   "execution_count": 28,
   "id": "77299f7a",
   "metadata": {},
   "outputs": [
    {
     "data": {
      "text/plain": [
       "['AUC_ROC_Score']"
      ]
     },
     "execution_count": 28,
     "metadata": {},
     "output_type": "execute_result"
    }
   ],
   "source": [
    "metrics[-1:]"
   ]
  },
  {
   "cell_type": "code",
   "execution_count": 29,
   "id": "0935b73b",
   "metadata": {},
   "outputs": [
    {
     "data": {
      "text/plain": [
       "['precision', 'Recall', 'F1score', 'AUC_ROC_Score']"
      ]
     },
     "execution_count": 29,
     "metadata": {},
     "output_type": "execute_result"
    }
   ],
   "source": [
    "metrics[1:]"
   ]
  },
  {
   "cell_type": "code",
   "execution_count": 33,
   "id": "34c9a043",
   "metadata": {},
   "outputs": [
    {
     "data": {
      "text/plain": [
       "[]"
      ]
     },
     "execution_count": 33,
     "metadata": {},
     "output_type": "execute_result"
    }
   ],
   "source": [
    "metrics[-1:-5:]"
   ]
  },
  {
   "cell_type": "code",
   "execution_count": 34,
   "id": "9b78c5ef",
   "metadata": {},
   "outputs": [
    {
     "data": {
      "text/plain": [
       "[]"
      ]
     },
     "execution_count": 34,
     "metadata": {},
     "output_type": "execute_result"
    }
   ],
   "source": [
    "metrics[-1:-5]"
   ]
  },
  {
   "cell_type": "code",
   "execution_count": 36,
   "id": "7e3e3e5c",
   "metadata": {},
   "outputs": [
    {
     "data": {
      "text/plain": [
       "['Accuracy', 'precision', 'Recall', 'F1score', 'AUC_ROC_Score']"
      ]
     },
     "execution_count": 36,
     "metadata": {},
     "output_type": "execute_result"
    }
   ],
   "source": [
    "metrics"
   ]
  },
  {
   "cell_type": "code",
   "execution_count": 37,
   "id": "66fbd5c9",
   "metadata": {},
   "outputs": [
    {
     "data": {
      "text/plain": [
       "['precision', 'Recall', 'F1score', 'AUC_ROC_Score']"
      ]
     },
     "execution_count": 37,
     "metadata": {},
     "output_type": "execute_result"
    }
   ],
   "source": [
    "metrics[-4:]"
   ]
  },
  {
   "cell_type": "code",
   "execution_count": 39,
   "id": "c4278c94",
   "metadata": {},
   "outputs": [
    {
     "data": {
      "text/plain": [
       "['AUC_ROC_Score', 'F1score', 'Recall', 'precision']"
      ]
     },
     "execution_count": 39,
     "metadata": {},
     "output_type": "execute_result"
    }
   ],
   "source": [
    "metrics[-1:-5:-1]"
   ]
  },
  {
   "cell_type": "markdown",
   "id": "24ac7235",
   "metadata": {},
   "source": [
    "# List Operations\n",
    "* list is mutable as opposite of string\n",
    "* we can also use + to concate lists"
   ]
  },
  {
   "cell_type": "code",
   "execution_count": 40,
   "id": "7c6a5979",
   "metadata": {},
   "outputs": [
    {
     "data": {
      "text/plain": [
       "['Accuracy', 'precision', 'Recall', 'F1score', 'AUC_ROC_Score']"
      ]
     },
     "execution_count": 40,
     "metadata": {},
     "output_type": "execute_result"
    }
   ],
   "source": [
    "metrics"
   ]
  },
  {
   "cell_type": "code",
   "execution_count": 41,
   "id": "7023cdcd",
   "metadata": {},
   "outputs": [
    {
     "data": {
      "text/plain": [
       "['Accuracy', 'precision', 'Recall', 'F1score', 'AUC_ROC_Score', 'MSE']"
      ]
     },
     "execution_count": 41,
     "metadata": {},
     "output_type": "execute_result"
    }
   ],
   "source": [
    "metrics + [\"MSE\"]"
   ]
  },
  {
   "cell_type": "code",
   "execution_count": 42,
   "id": "3090becb",
   "metadata": {},
   "outputs": [
    {
     "data": {
      "text/plain": [
       "['Accuracy', 'precision', 'Recall', 'F1score', 'AUC_ROC_Score']"
      ]
     },
     "execution_count": 42,
     "metadata": {},
     "output_type": "execute_result"
    }
   ],
   "source": [
    "metrics"
   ]
  },
  {
   "cell_type": "code",
   "execution_count": 44,
   "id": "e2dd9fb0",
   "metadata": {},
   "outputs": [
    {
     "data": {
      "text/plain": [
       "['Accuracy', 'precision', 'Recall', 'F1score', 'AUC_ROC_Score', 'MSE']"
      ]
     },
     "execution_count": 44,
     "metadata": {},
     "output_type": "execute_result"
    }
   ],
   "source": [
    "# new data wouldn't save until we save in a variable\n",
    "metrics = metrics + [\"MSE\"]\n",
    "metrics"
   ]
  },
  {
   "cell_type": "code",
   "execution_count": 64,
   "id": "ade1400b",
   "metadata": {},
   "outputs": [],
   "source": [
    "metrics[1] =\"RMSE\""
   ]
  },
  {
   "cell_type": "code",
   "execution_count": 65,
   "id": "b626aaf8",
   "metadata": {},
   "outputs": [
    {
     "data": {
      "text/plain": [
       "['Accuracy', 'RMSE', 'Recall', 'F1score', 'AUC_ROC_Score', 'MSE']"
      ]
     },
     "execution_count": 65,
     "metadata": {},
     "output_type": "execute_result"
    }
   ],
   "source": [
    "metrics"
   ]
  },
  {
   "cell_type": "markdown",
   "id": "90982c2b",
   "metadata": {},
   "source": [
    "# In builts"
   ]
  },
  {
   "cell_type": "code",
   "execution_count": null,
   "id": "ad551215",
   "metadata": {},
   "outputs": [
    {
     "data": {
      "text/plain": [
       "6"
      ]
     },
     "execution_count": 45,
     "metadata": {},
     "output_type": "execute_result"
    }
   ],
   "source": [
    "# len\n",
    "len(metrics) # when come to list len try to count indexs"
   ]
  },
  {
   "cell_type": "code",
   "execution_count": 48,
   "id": "2d80636a",
   "metadata": {},
   "outputs": [
    {
     "data": {
      "text/plain": [
       "8"
      ]
     },
     "execution_count": 48,
     "metadata": {},
     "output_type": "execute_result"
    }
   ],
   "source": [
    "s =\"Accuracy\"\n",
    "len(s) # for string it it count chr"
   ]
  },
  {
   "cell_type": "code",
   "execution_count": 49,
   "id": "14e5a1a8",
   "metadata": {},
   "outputs": [
    {
     "data": {
      "text/plain": [
       "18"
      ]
     },
     "execution_count": 49,
     "metadata": {},
     "output_type": "execute_result"
    }
   ],
   "source": [
    "s =\"Accuracy lksalsoso\"\n",
    "len(s)"
   ]
  },
  {
   "cell_type": "code",
   "execution_count": 50,
   "id": "bce462a3",
   "metadata": {},
   "outputs": [
    {
     "data": {
      "text/plain": [
       "1"
      ]
     },
     "execution_count": 50,
     "metadata": {},
     "output_type": "execute_result"
    }
   ],
   "source": [
    "# min -> min element from list, it works well when list datatypes are same\n",
    "lst = [1,2,3,6,5,48,85]\n",
    "min(lst)"
   ]
  },
  {
   "cell_type": "code",
   "execution_count": 51,
   "id": "668cbf3b",
   "metadata": {},
   "outputs": [
    {
     "ename": "TypeError",
     "evalue": "'<' not supported between instances of 'str' and 'int'",
     "output_type": "error",
     "traceback": [
      "\u001b[1;31m---------------------------------------------------------------------------\u001b[0m",
      "\u001b[1;31mTypeError\u001b[0m                                 Traceback (most recent call last)",
      "Cell \u001b[1;32mIn[51], line 2\u001b[0m\n\u001b[0;32m      1\u001b[0m lst \u001b[38;5;241m=\u001b[39m [\u001b[38;5;241m1\u001b[39m,\u001b[38;5;241m2\u001b[39m,\u001b[38;5;241m3\u001b[39m,\u001b[38;5;124m\"\u001b[39m\u001b[38;5;124mbool\u001b[39m\u001b[38;5;124m\"\u001b[39m]\n\u001b[1;32m----> 2\u001b[0m \u001b[38;5;28mmin\u001b[39m(lst)\n",
      "\u001b[1;31mTypeError\u001b[0m: '<' not supported between instances of 'str' and 'int'"
     ]
    }
   ],
   "source": [
    "lst = [1,2,3,\"bool\"]\n",
    "min(lst)"
   ]
  },
  {
   "cell_type": "code",
   "execution_count": null,
   "id": "3b9d82b3",
   "metadata": {},
   "outputs": [
    {
     "data": {
      "text/plain": [
       "'AUC_ROC_Score'"
      ]
     },
     "execution_count": 52,
     "metadata": {},
     "output_type": "execute_result"
    }
   ],
   "source": [
    "min(metrics) # Alphabetically a is first"
   ]
  },
  {
   "cell_type": "code",
   "execution_count": 53,
   "id": "8164e4b0",
   "metadata": {},
   "outputs": [
    {
     "data": {
      "text/plain": [
       "'a'"
      ]
     },
     "execution_count": 53,
     "metadata": {},
     "output_type": "execute_result"
    }
   ],
   "source": [
    "min([\"a\",\"e\",\"i\",\"o\"])"
   ]
  },
  {
   "cell_type": "code",
   "execution_count": null,
   "id": "72f3ebd9",
   "metadata": {},
   "outputs": [
    {
     "data": {
      "text/plain": [
       "'A'"
      ]
     },
     "execution_count": 54,
     "metadata": {},
     "output_type": "execute_result"
    }
   ],
   "source": [
    "min([\"a\",\"e\",\"i\",\"o\", \"A\"])  # capitel first"
   ]
  },
  {
   "cell_type": "code",
   "execution_count": null,
   "id": "ba32272d",
   "metadata": {},
   "outputs": [
    {
     "data": {
      "text/plain": [
       "'precision'"
      ]
     },
     "execution_count": 55,
     "metadata": {},
     "output_type": "execute_result"
    }
   ],
   "source": [
    "# max return max value elements\n",
    "max(metrics) # highest"
   ]
  },
  {
   "cell_type": "code",
   "execution_count": 56,
   "id": "7c34b0db",
   "metadata": {},
   "outputs": [
    {
     "data": {
      "text/plain": [
       "9"
      ]
     },
     "execution_count": 56,
     "metadata": {},
     "output_type": "execute_result"
    }
   ],
   "source": [
    "max([1,2,3,6,8,9])"
   ]
  },
  {
   "cell_type": "code",
   "execution_count": 57,
   "id": "663517db",
   "metadata": {},
   "outputs": [
    {
     "data": {
      "text/plain": [
       "'z'"
      ]
     },
     "execution_count": 57,
     "metadata": {},
     "output_type": "execute_result"
    }
   ],
   "source": [
    "iit_hyd1 = ['a','b', 'z' ,'y' , 'm']\n",
    "max(iit_hyd1)"
   ]
  },
  {
   "cell_type": "code",
   "execution_count": 58,
   "id": "d88746f3",
   "metadata": {},
   "outputs": [
    {
     "data": {
      "text/plain": [
       "201"
      ]
     },
     "execution_count": 58,
     "metadata": {},
     "output_type": "execute_result"
    }
   ],
   "source": [
    "# sum() -> summing of elements , workes for num data only\n",
    "sum([1,2,6,5,89,98])"
   ]
  },
  {
   "cell_type": "code",
   "execution_count": 59,
   "id": "6775f7bd",
   "metadata": {},
   "outputs": [
    {
     "ename": "TypeError",
     "evalue": "unsupported operand type(s) for +: 'int' and 'str'",
     "output_type": "error",
     "traceback": [
      "\u001b[1;31m---------------------------------------------------------------------------\u001b[0m",
      "\u001b[1;31mTypeError\u001b[0m                                 Traceback (most recent call last)",
      "Cell \u001b[1;32mIn[59], line 1\u001b[0m\n\u001b[1;32m----> 1\u001b[0m \u001b[38;5;28msum\u001b[39m(iit_hyd1)\n",
      "\u001b[1;31mTypeError\u001b[0m: unsupported operand type(s) for +: 'int' and 'str'"
     ]
    }
   ],
   "source": [
    "sum(iit_hyd1)"
   ]
  },
  {
   "cell_type": "code",
   "execution_count": null,
   "id": "4363802e",
   "metadata": {},
   "outputs": [],
   "source": [
    "# sorted -> sorted list, \n",
    "# sorted() takes reversed boolen as argument\n",
    "# it also work with only similar data types of list"
   ]
  },
  {
   "cell_type": "code",
   "execution_count": 61,
   "id": "a9218541",
   "metadata": {},
   "outputs": [
    {
     "data": {
      "text/plain": [
       "[1, 2, 3, 'bool']"
      ]
     },
     "execution_count": 61,
     "metadata": {},
     "output_type": "execute_result"
    }
   ],
   "source": [
    "lst"
   ]
  },
  {
   "cell_type": "code",
   "execution_count": 62,
   "id": "fe74416a",
   "metadata": {},
   "outputs": [
    {
     "data": {
      "text/plain": [
       "[1, 2, 3, 6, 54, 6]"
      ]
     },
     "execution_count": 62,
     "metadata": {},
     "output_type": "execute_result"
    }
   ],
   "source": [
    "lst =[1,2,3,6,54,6] # mutability.\n",
    "lst"
   ]
  },
  {
   "cell_type": "code",
   "execution_count": 66,
   "id": "4e09800f",
   "metadata": {},
   "outputs": [
    {
     "data": {
      "text/plain": [
       "[1, 2, 3, 6, 6, 54]"
      ]
     },
     "execution_count": 66,
     "metadata": {},
     "output_type": "execute_result"
    }
   ],
   "source": [
    "sorted(lst)"
   ]
  },
  {
   "cell_type": "code",
   "execution_count": null,
   "id": "a2afcdfe",
   "metadata": {},
   "outputs": [
    {
     "data": {
      "text/plain": [
       "[1, 2, 3, 6, 6, 54]"
      ]
     },
     "execution_count": 67,
     "metadata": {},
     "output_type": "execute_result"
    }
   ],
   "source": [
    "sorted(lst,reverse =False) # asc"
   ]
  },
  {
   "cell_type": "code",
   "execution_count": null,
   "id": "fd63e1dc",
   "metadata": {},
   "outputs": [
    {
     "data": {
      "text/plain": [
       "[54, 6, 6, 3, 2, 1]"
      ]
     },
     "execution_count": 68,
     "metadata": {},
     "output_type": "execute_result"
    }
   ],
   "source": [
    "sorted(lst,reverse =True) # dsec"
   ]
  },
  {
   "cell_type": "code",
   "execution_count": null,
   "id": "84f6f12d",
   "metadata": {},
   "outputs": [
    {
     "data": {
      "text/plain": [
       "['a', 'b', 'm', 'y', 'z']"
      ]
     },
     "execution_count": 69,
     "metadata": {},
     "output_type": "execute_result"
    }
   ],
   "source": [
    "sorted(iit_hyd1) # asc"
   ]
  },
  {
   "cell_type": "code",
   "execution_count": 70,
   "id": "6e6b91d8",
   "metadata": {},
   "outputs": [
    {
     "data": {
      "text/plain": [
       "['z', 'y', 'm', 'b', 'a']"
      ]
     },
     "execution_count": 70,
     "metadata": {},
     "output_type": "execute_result"
    }
   ],
   "source": [
    "sorted(iit_hyd1,reverse=True)"
   ]
  },
  {
   "cell_type": "markdown",
   "id": "0e1879f1",
   "metadata": {},
   "source": [
    "# List methods"
   ]
  },
  {
   "cell_type": "markdown",
   "id": "4c9ffddb",
   "metadata": {},
   "source": [
    "* If you are familiar with another programming language, you might start to draw parallels between arrays in another language and lists in Python. Lists in Python however, tend to be more flexible than arrays \n",
    "\n",
    "advantage of list:\n",
    "1. No fixed size, flexible \n",
    "2. can take any data types\n",
    "\n",
    "disadvantage:\n",
    "* List slower than array"
   ]
  },
  {
   "cell_type": "code",
   "execution_count": 71,
   "id": "61477478",
   "metadata": {},
   "outputs": [
    {
     "data": {
      "text/plain": [
       "[1, 2, 3, 6, 54, 6]"
      ]
     },
     "execution_count": 71,
     "metadata": {},
     "output_type": "execute_result"
    }
   ],
   "source": [
    "lst"
   ]
  },
  {
   "cell_type": "code",
   "execution_count": 72,
   "id": "67d88a69",
   "metadata": {},
   "outputs": [],
   "source": [
    "## append -> add new element at end of list\n",
    "lst.append(\"ac\")"
   ]
  },
  {
   "cell_type": "code",
   "execution_count": 73,
   "id": "1828d654",
   "metadata": {},
   "outputs": [
    {
     "data": {
      "text/plain": [
       "[1, 2, 3, 6, 54, 6, 'ac']"
      ]
     },
     "execution_count": 73,
     "metadata": {},
     "output_type": "execute_result"
    }
   ],
   "source": [
    "lst"
   ]
  },
  {
   "cell_type": "code",
   "execution_count": 74,
   "id": "5588be37",
   "metadata": {},
   "outputs": [
    {
     "data": {
      "text/plain": [
       "7"
      ]
     },
     "execution_count": 74,
     "metadata": {},
     "output_type": "execute_result"
    }
   ],
   "source": [
    "len(lst)"
   ]
  },
  {
   "cell_type": "code",
   "execution_count": 76,
   "id": "4977a812",
   "metadata": {},
   "outputs": [],
   "source": [
    "new_lst = [1,2,3]\n",
    "lst.append(new_lst)"
   ]
  },
  {
   "cell_type": "code",
   "execution_count": 77,
   "id": "05896518",
   "metadata": {},
   "outputs": [
    {
     "data": {
      "text/plain": [
       "[1, 2, 3, 6, 54, 6, 'ac', [1, 2, 3]]"
      ]
     },
     "execution_count": 77,
     "metadata": {},
     "output_type": "execute_result"
    }
   ],
   "source": [
    "lst"
   ]
  },
  {
   "cell_type": "code",
   "execution_count": null,
   "id": "70b02300",
   "metadata": {},
   "outputs": [
    {
     "data": {
      "text/plain": [
       "[1, 2, 3]"
      ]
     },
     "execution_count": 78,
     "metadata": {},
     "output_type": "execute_result"
    }
   ],
   "source": [
    "# Extend -. use to merge to a new list to end of existing list\n",
    "new_lst"
   ]
  },
  {
   "cell_type": "code",
   "execution_count": 81,
   "id": "bceba61a",
   "metadata": {},
   "outputs": [],
   "source": [
    "l = [1,2,3,6,5,69]"
   ]
  },
  {
   "cell_type": "code",
   "execution_count": 82,
   "id": "476017cc",
   "metadata": {},
   "outputs": [],
   "source": [
    "lst.extend(l)"
   ]
  },
  {
   "cell_type": "code",
   "execution_count": 83,
   "id": "309e0dde",
   "metadata": {},
   "outputs": [
    {
     "data": {
      "text/plain": [
       "[1, 2, 3, 6, 54, 6, 'ac', [1, 2, 3], 1, 2, 3, 1, 2, 3, 6, 5, 69]"
      ]
     },
     "execution_count": 83,
     "metadata": {},
     "output_type": "execute_result"
    }
   ],
   "source": [
    "lst"
   ]
  },
  {
   "cell_type": "code",
   "execution_count": 84,
   "id": "3ca37e35",
   "metadata": {},
   "outputs": [],
   "source": [
    "new_lst.extend([\"pyhton\",\"statistics\",\"machine learning\",\"deep learning\",\"Generative AI\"])"
   ]
  },
  {
   "cell_type": "code",
   "execution_count": 85,
   "id": "9c71b927",
   "metadata": {},
   "outputs": [
    {
     "data": {
      "text/plain": [
       "[1,\n",
       " 2,\n",
       " 3,\n",
       " 'pyhton',\n",
       " 'statistics',\n",
       " 'machine learning',\n",
       " 'deep learning',\n",
       " 'Generative AI']"
      ]
     },
     "execution_count": 85,
     "metadata": {},
     "output_type": "execute_result"
    }
   ],
   "source": [
    "new_lst"
   ]
  },
  {
   "cell_type": "code",
   "execution_count": 86,
   "id": "99031f79",
   "metadata": {},
   "outputs": [
    {
     "data": {
      "text/plain": [
       "[1,\n",
       " 2,\n",
       " 3,\n",
       " 'pyhton',\n",
       " 'statistics',\n",
       " 'machine learning',\n",
       " 'deep learning',\n",
       " 'Generative AI']"
      ]
     },
     "execution_count": 86,
     "metadata": {},
     "output_type": "execute_result"
    }
   ],
   "source": [
    "# insert -> insert data on spacific index\n",
    "new_lst"
   ]
  },
  {
   "cell_type": "code",
   "execution_count": 87,
   "id": "d0258618",
   "metadata": {},
   "outputs": [
    {
     "data": {
      "text/plain": [
       "'deep learning'"
      ]
     },
     "execution_count": 87,
     "metadata": {},
     "output_type": "execute_result"
    }
   ],
   "source": [
    "new_lst[6]"
   ]
  },
  {
   "cell_type": "code",
   "execution_count": 88,
   "id": "bf6ee49d",
   "metadata": {},
   "outputs": [],
   "source": [
    "new_lst.insert(6,\"ANN\")"
   ]
  },
  {
   "cell_type": "code",
   "execution_count": 89,
   "id": "350b4580",
   "metadata": {},
   "outputs": [
    {
     "data": {
      "text/plain": [
       "[1,\n",
       " 2,\n",
       " 3,\n",
       " 'pyhton',\n",
       " 'statistics',\n",
       " 'machine learning',\n",
       " 'ANN',\n",
       " 'deep learning',\n",
       " 'Generative AI']"
      ]
     },
     "execution_count": 89,
     "metadata": {},
     "output_type": "execute_result"
    }
   ],
   "source": [
    "new_lst"
   ]
  },
  {
   "cell_type": "code",
   "execution_count": 90,
   "id": "4f3b51c8",
   "metadata": {},
   "outputs": [
    {
     "ename": "TypeError",
     "evalue": "can only concatenate list (not \"str\") to list",
     "output_type": "error",
     "traceback": [
      "\u001b[1;31m---------------------------------------------------------------------------\u001b[0m",
      "\u001b[1;31mTypeError\u001b[0m                                 Traceback (most recent call last)",
      "Cell \u001b[1;32mIn[90], line 3\u001b[0m\n\u001b[0;32m      1\u001b[0m \u001b[38;5;66;03m# concate\u001b[39;00m\n\u001b[0;32m      2\u001b[0m lst \u001b[38;5;241m=\u001b[39m[\u001b[38;5;241m1\u001b[39m,\u001b[38;5;241m2\u001b[39m,\u001b[38;5;241m3\u001b[39m]\n\u001b[1;32m----> 3\u001b[0m lst \u001b[38;5;241m+\u001b[39m \u001b[38;5;124m\"\u001b[39m\u001b[38;5;124mac\u001b[39m\u001b[38;5;124m\"\u001b[39m\n",
      "\u001b[1;31mTypeError\u001b[0m: can only concatenate list (not \"str\") to list"
     ]
    }
   ],
   "source": [
    "# concate\n",
    "lst =[1,2,3]\n",
    "lst + \"ac\""
   ]
  },
  {
   "cell_type": "code",
   "execution_count": 92,
   "id": "76459064",
   "metadata": {},
   "outputs": [
    {
     "data": {
      "text/plain": [
       "[1, 2, 3, 'ac']"
      ]
     },
     "execution_count": 92,
     "metadata": {},
     "output_type": "execute_result"
    }
   ],
   "source": [
    "lst + [\"ac\"]"
   ]
  },
  {
   "cell_type": "code",
   "execution_count": 93,
   "id": "80b4a366",
   "metadata": {},
   "outputs": [
    {
     "data": {
      "text/plain": [
       "[1, 2, 3, 'F', 'C']"
      ]
     },
     "execution_count": 93,
     "metadata": {},
     "output_type": "execute_result"
    }
   ],
   "source": [
    "lst + list(\"FC\")"
   ]
  },
  {
   "cell_type": "code",
   "execution_count": 94,
   "id": "c37e3e25",
   "metadata": {},
   "outputs": [],
   "source": [
    "# pop() -> takes off the element at last index, but you can also specify which index to pop off.\n"
   ]
  },
  {
   "cell_type": "code",
   "execution_count": 95,
   "id": "524932c4",
   "metadata": {},
   "outputs": [
    {
     "data": {
      "text/plain": [
       "[1,\n",
       " 2,\n",
       " 3,\n",
       " 'pyhton',\n",
       " 'statistics',\n",
       " 'machine learning',\n",
       " 'ANN',\n",
       " 'deep learning',\n",
       " 'Generative AI']"
      ]
     },
     "execution_count": 95,
     "metadata": {},
     "output_type": "execute_result"
    }
   ],
   "source": [
    "new_lst"
   ]
  },
  {
   "cell_type": "code",
   "execution_count": 97,
   "id": "7693eebd",
   "metadata": {},
   "outputs": [
    {
     "data": {
      "text/plain": [
       "'deep learning'"
      ]
     },
     "execution_count": 97,
     "metadata": {},
     "output_type": "execute_result"
    }
   ],
   "source": [
    "new_lst.pop(-2)"
   ]
  },
  {
   "cell_type": "code",
   "execution_count": 98,
   "id": "cf501b03",
   "metadata": {},
   "outputs": [
    {
     "data": {
      "text/plain": [
       "[1, 2, 3, 'pyhton', 'statistics', 'machine learning', 'ANN', 'Generative AI']"
      ]
     },
     "execution_count": 98,
     "metadata": {},
     "output_type": "execute_result"
    }
   ],
   "source": [
    "new_lst"
   ]
  },
  {
   "cell_type": "code",
   "execution_count": 100,
   "id": "12ac928e",
   "metadata": {},
   "outputs": [
    {
     "ename": "ValueError",
     "evalue": "list.remove(x): x not in list",
     "output_type": "error",
     "traceback": [
      "\u001b[1;31m---------------------------------------------------------------------------\u001b[0m",
      "\u001b[1;31mValueError\u001b[0m                                Traceback (most recent call last)",
      "Cell \u001b[1;32mIn[100], line 2\u001b[0m\n\u001b[0;32m      1\u001b[0m \u001b[38;5;66;03m# remove -> remove items from list\u001b[39;00m\n\u001b[1;32m----> 2\u001b[0m new_lst\u001b[38;5;241m.\u001b[39mremove(\u001b[38;5;124m\"\u001b[39m\u001b[38;5;124mpython\u001b[39m\u001b[38;5;124m\"\u001b[39m)\n",
      "\u001b[1;31mValueError\u001b[0m: list.remove(x): x not in list"
     ]
    }
   ],
   "source": [
    "# remove -> remove items from list\n",
    "new_lst.remove(\"python\")"
   ]
  },
  {
   "cell_type": "code",
   "execution_count": 102,
   "id": "9ca916ff",
   "metadata": {},
   "outputs": [],
   "source": [
    "new_lst.remove(3)"
   ]
  },
  {
   "cell_type": "code",
   "execution_count": 103,
   "id": "585e1753",
   "metadata": {},
   "outputs": [
    {
     "data": {
      "text/plain": [
       "[1, 2, 'pyhton', 'statistics', 'machine learning', 'ANN', 'Generative AI']"
      ]
     },
     "execution_count": 103,
     "metadata": {},
     "output_type": "execute_result"
    }
   ],
   "source": [
    "new_lst"
   ]
  },
  {
   "cell_type": "code",
   "execution_count": null,
   "id": "55c69005",
   "metadata": {},
   "outputs": [],
   "source": [
    "new_lst.remove('pyhton') # remove use value and pop use index"
   ]
  },
  {
   "cell_type": "code",
   "execution_count": 109,
   "id": "b66343fe",
   "metadata": {},
   "outputs": [],
   "source": [
    "my_lst = [1,2,36,\"l\"]\n",
    "del my_lst[3] # remove elemnt by index"
   ]
  },
  {
   "cell_type": "code",
   "execution_count": 110,
   "id": "73819953",
   "metadata": {},
   "outputs": [
    {
     "data": {
      "text/plain": [
       "[1, 2, 36]"
      ]
     },
     "execution_count": 110,
     "metadata": {},
     "output_type": "execute_result"
    }
   ],
   "source": [
    "my_lst"
   ]
  },
  {
   "cell_type": "code",
   "execution_count": 111,
   "id": "0ee0ac75",
   "metadata": {},
   "outputs": [],
   "source": [
    "del my_lst"
   ]
  },
  {
   "cell_type": "code",
   "execution_count": 112,
   "id": "076598c3",
   "metadata": {},
   "outputs": [
    {
     "ename": "NameError",
     "evalue": "name 'my_lst' is not defined",
     "output_type": "error",
     "traceback": [
      "\u001b[1;31m---------------------------------------------------------------------------\u001b[0m",
      "\u001b[1;31mNameError\u001b[0m                                 Traceback (most recent call last)",
      "Cell \u001b[1;32mIn[112], line 1\u001b[0m\n\u001b[1;32m----> 1\u001b[0m my_lst\n",
      "\u001b[1;31mNameError\u001b[0m: name 'my_lst' is not defined"
     ]
    }
   ],
   "source": [
    "my_lst"
   ]
  },
  {
   "cell_type": "code",
   "execution_count": 113,
   "id": "bf80528a",
   "metadata": {},
   "outputs": [
    {
     "data": {
      "text/plain": [
       "[1, 2, 3]"
      ]
     },
     "execution_count": 113,
     "metadata": {},
     "output_type": "execute_result"
    }
   ],
   "source": [
    "# count() -> count method return the no of time element occurance in a list\n",
    "lst"
   ]
  },
  {
   "cell_type": "code",
   "execution_count": 115,
   "id": "6786885b",
   "metadata": {},
   "outputs": [],
   "source": [
    "lst_2 = [1,1,2,3,6,5,2,14,9]"
   ]
  },
  {
   "cell_type": "code",
   "execution_count": 116,
   "id": "35ac17d4",
   "metadata": {},
   "outputs": [
    {
     "data": {
      "text/plain": [
       "2"
      ]
     },
     "execution_count": 116,
     "metadata": {},
     "output_type": "execute_result"
    }
   ],
   "source": [
    "lst_2.count(2)"
   ]
  },
  {
   "cell_type": "code",
   "execution_count": 117,
   "id": "b6015905",
   "metadata": {},
   "outputs": [
    {
     "data": {
      "text/plain": [
       "1"
      ]
     },
     "execution_count": 117,
     "metadata": {},
     "output_type": "execute_result"
    }
   ],
   "source": [
    "lst_2.count(9)"
   ]
  },
  {
   "cell_type": "code",
   "execution_count": 118,
   "id": "46325853",
   "metadata": {},
   "outputs": [
    {
     "data": {
      "text/plain": [
       "0"
      ]
     },
     "execution_count": 118,
     "metadata": {},
     "output_type": "execute_result"
    }
   ],
   "source": [
    "lst_2.count(90)"
   ]
  },
  {
   "cell_type": "code",
   "execution_count": 121,
   "id": "b2f61787",
   "metadata": {},
   "outputs": [
    {
     "data": {
      "text/plain": [
       "'machine learning'"
      ]
     },
     "execution_count": 121,
     "metadata": {},
     "output_type": "execute_result"
    }
   ],
   "source": [
    "new_lst[3]"
   ]
  },
  {
   "cell_type": "code",
   "execution_count": 122,
   "id": "f3534f4b",
   "metadata": {},
   "outputs": [
    {
     "data": {
      "text/plain": [
       "2"
      ]
     },
     "execution_count": 122,
     "metadata": {},
     "output_type": "execute_result"
    }
   ],
   "source": [
    "new_lst[3].count(\"a\")"
   ]
  },
  {
   "cell_type": "code",
   "execution_count": 123,
   "id": "111d0cf2",
   "metadata": {},
   "outputs": [
    {
     "data": {
      "text/plain": [
       "0"
      ]
     },
     "execution_count": 123,
     "metadata": {},
     "output_type": "execute_result"
    }
   ],
   "source": [
    "new_lst.count(\"ann\")"
   ]
  },
  {
   "cell_type": "code",
   "execution_count": 124,
   "id": "69876a23",
   "metadata": {},
   "outputs": [
    {
     "data": {
      "text/plain": [
       "1"
      ]
     },
     "execution_count": 124,
     "metadata": {},
     "output_type": "execute_result"
    }
   ],
   "source": [
    "new_lst.count(\"ANN\")"
   ]
  },
  {
   "cell_type": "code",
   "execution_count": 125,
   "id": "c0f8fe9d",
   "metadata": {},
   "outputs": [
    {
     "data": {
      "text/plain": [
       "[1, 2, 3]"
      ]
     },
     "execution_count": 125,
     "metadata": {},
     "output_type": "execute_result"
    }
   ],
   "source": [
    "# index -> return index of spacifc item\n",
    "lst"
   ]
  },
  {
   "cell_type": "code",
   "execution_count": 127,
   "id": "3419a011",
   "metadata": {},
   "outputs": [
    {
     "data": {
      "text/plain": [
       "[1, 2, 'statistics', 'machine learning', 'ANN', 'Generative AI']"
      ]
     },
     "execution_count": 127,
     "metadata": {},
     "output_type": "execute_result"
    }
   ],
   "source": [
    "new_lst"
   ]
  },
  {
   "cell_type": "code",
   "execution_count": 128,
   "id": "e16fec76",
   "metadata": {},
   "outputs": [
    {
     "data": {
      "text/plain": [
       "4"
      ]
     },
     "execution_count": 128,
     "metadata": {},
     "output_type": "execute_result"
    }
   ],
   "source": [
    "new_lst.index(\"ANN\")"
   ]
  },
  {
   "cell_type": "code",
   "execution_count": 129,
   "id": "47cdd741",
   "metadata": {},
   "outputs": [
    {
     "data": {
      "text/plain": [
       "1"
      ]
     },
     "execution_count": 129,
     "metadata": {},
     "output_type": "execute_result"
    }
   ],
   "source": [
    "new_lst.index(2)"
   ]
  },
  {
   "cell_type": "code",
   "execution_count": 130,
   "id": "f152e72e",
   "metadata": {},
   "outputs": [],
   "source": [
    "# sort()\n",
    "#Use sort() to sort the list in either ascending/descending order .the sorting is done in ascending order by default\n",
    "\n",
    "# sort() method takes the reverse boolean as an argument, sort() method only works on a list with elements of same data type"
   ]
  },
  {
   "cell_type": "code",
   "execution_count": 131,
   "id": "8f4741c2",
   "metadata": {},
   "outputs": [],
   "source": [
    "lst = [1,2,36,5,4,89,85,4,6,33,65,65]\n",
    "lst.sort()"
   ]
  },
  {
   "cell_type": "code",
   "execution_count": null,
   "id": "0a1b28d6",
   "metadata": {},
   "outputs": [
    {
     "data": {
      "text/plain": [
       "[1, 2, 4, 4, 5, 6, 33, 36, 65, 65, 85, 89]"
      ]
     },
     "execution_count": 132,
     "metadata": {},
     "output_type": "execute_result"
    }
   ],
   "source": [
    "lst # asc"
   ]
  },
  {
   "cell_type": "code",
   "execution_count": 135,
   "id": "1aa35970",
   "metadata": {},
   "outputs": [
    {
     "data": {
      "text/plain": [
       "[89, 85, 65, 65, 36, 33, 6, 5, 4, 4, 2, 1]"
      ]
     },
     "execution_count": 135,
     "metadata": {},
     "output_type": "execute_result"
    }
   ],
   "source": [
    "lst.sort(reverse=True)\n",
    "lst # dsec"
   ]
  },
  {
   "cell_type": "code",
   "execution_count": 137,
   "id": "b6bc383f",
   "metadata": {},
   "outputs": [
    {
     "ename": "ValueError",
     "evalue": "list.remove(x): x not in list",
     "output_type": "error",
     "traceback": [
      "\u001b[1;31m---------------------------------------------------------------------------\u001b[0m",
      "\u001b[1;31mValueError\u001b[0m                                Traceback (most recent call last)",
      "Cell \u001b[1;32mIn[137], line 1\u001b[0m\n\u001b[1;32m----> 1\u001b[0m lst\u001b[38;5;241m.\u001b[39mremove([\u001b[38;5;241m1\u001b[39m,\u001b[38;5;241m2\u001b[39m,\u001b[38;5;241m3\u001b[39m])\n",
      "\u001b[1;31mValueError\u001b[0m: list.remove(x): x not in list"
     ]
    }
   ],
   "source": [
    "lst.remove([1,2,3])"
   ]
  },
  {
   "cell_type": "code",
   "execution_count": 138,
   "id": "abd727cd",
   "metadata": {},
   "outputs": [
    {
     "data": {
      "text/plain": [
       "[89, 85, 65, 65, 36, 33, 6, 5, 4, 4, 2, 1]"
      ]
     },
     "execution_count": 138,
     "metadata": {},
     "output_type": "execute_result"
    }
   ],
   "source": [
    "# reverse -> reverse the list\n",
    "lst"
   ]
  },
  {
   "cell_type": "code",
   "execution_count": 139,
   "id": "1bf8a80f",
   "metadata": {},
   "outputs": [],
   "source": [
    "lst.reverse()"
   ]
  },
  {
   "cell_type": "code",
   "execution_count": 140,
   "id": "5d6b87ac",
   "metadata": {},
   "outputs": [
    {
     "data": {
      "text/plain": [
       "[1, 2, 4, 4, 5, 6, 33, 36, 65, 65, 85, 89]"
      ]
     },
     "execution_count": 140,
     "metadata": {},
     "output_type": "execute_result"
    }
   ],
   "source": [
    "lst"
   ]
  },
  {
   "cell_type": "code",
   "execution_count": null,
   "id": "4208c067",
   "metadata": {},
   "outputs": [],
   "source": []
  }
 ],
 "metadata": {
  "kernelspec": {
   "display_name": "base",
   "language": "python",
   "name": "python3"
  },
  "language_info": {
   "codemirror_mode": {
    "name": "ipython",
    "version": 3
   },
   "file_extension": ".py",
   "mimetype": "text/x-python",
   "name": "python",
   "nbconvert_exporter": "python",
   "pygments_lexer": "ipython3",
   "version": "3.12.7"
  }
 },
 "nbformat": 4,
 "nbformat_minor": 5
}
