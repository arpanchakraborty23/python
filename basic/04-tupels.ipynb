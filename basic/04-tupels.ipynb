{
 "cells": [
  {
   "cell_type": "markdown",
   "id": "403c34ee",
   "metadata": {},
   "source": [
    "# Tuple\n",
    "\n",
    "* In Python tuples are very similar to lists, however, unlike lists they are immutable meaning they can not be changed\n",
    "\n",
    "You would use tuples to present things that shouldn't be changed, such as days of the week, or dates on a calendar.\n",
    "\n",
    "You'll have an intuition of how to use tuples based on what you've learned about lists. We can treat them very similarly with the major distinction being that tuples are immutable."
   ]
  },
  {
   "cell_type": "markdown",
   "id": "d06678a5",
   "metadata": {},
   "source": [
    "Tuples are ordered\n",
    "\n",
    "Tuples are immutable (you can’t modify, add, or remove items once created)\n",
    "\n",
    "Tuples can contain duplicate values\n",
    "\n",
    "Tuples can store different data types"
   ]
  },
  {
   "cell_type": "code",
   "execution_count": null,
   "id": "0dbd4d20",
   "metadata": {},
   "outputs": [],
   "source": [
    "# create tuple\n",
    "t =(1,2,3,6,\"ac\",1.2,True)"
   ]
  },
  {
   "cell_type": "code",
   "execution_count": 2,
   "id": "eb72c1fb",
   "metadata": {},
   "outputs": [
    {
     "data": {
      "text/plain": [
       "tuple"
      ]
     },
     "execution_count": 2,
     "metadata": {},
     "output_type": "execute_result"
    }
   ],
   "source": [
    "type(t)"
   ]
  },
  {
   "cell_type": "code",
   "execution_count": 3,
   "id": "ac55153d",
   "metadata": {},
   "outputs": [
    {
     "data": {
      "text/plain": [
       "(1, 2, 3, 6, 'ac', 1.2, True)"
      ]
     },
     "execution_count": 3,
     "metadata": {},
     "output_type": "execute_result"
    }
   ],
   "source": [
    "t"
   ]
  },
  {
   "cell_type": "code",
   "execution_count": 4,
   "id": "19ff416f",
   "metadata": {},
   "outputs": [
    {
     "data": {
      "text/plain": [
       "tuple"
      ]
     },
     "execution_count": 4,
     "metadata": {},
     "output_type": "execute_result"
    }
   ],
   "source": [
    "empty_tupel =()\n",
    "type(empty_tupel)"
   ]
  },
  {
   "cell_type": "markdown",
   "id": "3b619e4d",
   "metadata": {},
   "source": [
    "# Indexing\n",
    "Indexing work just like in lists\n",
    "\n",
    "A tuple index refers to the location of an element/or Items in a tuple\n",
    "\n",
    ". Remember the indexing begins from 0 in Python\n",
    "\n",
    ". The first element is assigned an index 0, the second element is assigned an index of 1 and so on and so forth."
   ]
  },
  {
   "cell_type": "code",
   "execution_count": 5,
   "id": "5d195392",
   "metadata": {},
   "outputs": [],
   "source": [
    "t= (1,2,23,8)"
   ]
  },
  {
   "cell_type": "code",
   "execution_count": 6,
   "id": "126ff815",
   "metadata": {},
   "outputs": [
    {
     "data": {
      "text/plain": [
       "23"
      ]
     },
     "execution_count": 6,
     "metadata": {},
     "output_type": "execute_result"
    }
   ],
   "source": [
    "# grab index 2 element\n",
    "t[2]"
   ]
  },
  {
   "cell_type": "code",
   "execution_count": 7,
   "id": "91bd1171",
   "metadata": {},
   "outputs": [
    {
     "data": {
      "text/plain": [
       "'vg'"
      ]
     },
     "execution_count": 7,
     "metadata": {},
     "output_type": "execute_result"
    }
   ],
   "source": [
    "nt = (\"ac\",'vg','kc')\n",
    "nt[1]"
   ]
  },
  {
   "cell_type": "code",
   "execution_count": 8,
   "id": "58be4e97",
   "metadata": {},
   "outputs": [
    {
     "data": {
      "text/plain": [
       "'g'"
      ]
     },
     "execution_count": 8,
     "metadata": {},
     "output_type": "execute_result"
    }
   ],
   "source": [
    "nt[1][1]"
   ]
  },
  {
   "cell_type": "code",
   "execution_count": 9,
   "id": "597e9157",
   "metadata": {},
   "outputs": [
    {
     "data": {
      "text/plain": [
       "'kc'"
      ]
     },
     "execution_count": 9,
     "metadata": {},
     "output_type": "execute_result"
    }
   ],
   "source": [
    "# neg index\n",
    "nt[-1]"
   ]
  },
  {
   "cell_type": "code",
   "execution_count": 10,
   "id": "34c23a91",
   "metadata": {},
   "outputs": [
    {
     "data": {
      "text/plain": [
       "'ac'"
      ]
     },
     "execution_count": 10,
     "metadata": {},
     "output_type": "execute_result"
    }
   ],
   "source": [
    "nt[-3]"
   ]
  },
  {
   "cell_type": "code",
   "execution_count": 11,
   "id": "9f61c836",
   "metadata": {},
   "outputs": [
    {
     "ename": "IndexError",
     "evalue": "tuple index out of range",
     "output_type": "error",
     "traceback": [
      "\u001b[1;31m---------------------------------------------------------------------------\u001b[0m",
      "\u001b[1;31mIndexError\u001b[0m                                Traceback (most recent call last)",
      "Cell \u001b[1;32mIn[11], line 1\u001b[0m\n\u001b[1;32m----> 1\u001b[0m nt[\u001b[38;5;241m9\u001b[39m]\n",
      "\u001b[1;31mIndexError\u001b[0m: tuple index out of range"
     ]
    }
   ],
   "source": [
    "nt[9]"
   ]
  },
  {
   "cell_type": "markdown",
   "id": "bb6eaf56",
   "metadata": {},
   "source": [
    "# Slicing"
   ]
  },
  {
   "cell_type": "markdown",
   "id": "eed23bb9",
   "metadata": {},
   "source": [
    "We can use a : to perform slicing which grabs everything up to a designated point.\n",
    "\n",
    "The starting index is specified on the left of the : and the ending index is specified on the right of the :.\n",
    "[: :]-> [star: end: jump]\n",
    "\n",
    "Remember the element located at the right index is not included. i.e right side value always present (n-1)\n",
    "\n",
    "if we use another second : it indicates step value means skipping of some part (n-1)"
   ]
  },
  {
   "cell_type": "code",
   "execution_count": 12,
   "id": "73b73062",
   "metadata": {},
   "outputs": [],
   "source": [
    "abc=1,2,3,9,143,11.5,\"aditya\",\"swathi\",\"sujana\""
   ]
  },
  {
   "cell_type": "code",
   "execution_count": 13,
   "id": "32da0df3",
   "metadata": {},
   "outputs": [
    {
     "data": {
      "text/plain": [
       "tuple"
      ]
     },
     "execution_count": 13,
     "metadata": {},
     "output_type": "execute_result"
    }
   ],
   "source": [
    "type(abc)"
   ]
  },
  {
   "cell_type": "code",
   "execution_count": 14,
   "id": "a9b0e3ce",
   "metadata": {},
   "outputs": [
    {
     "data": {
      "text/plain": [
       "(1, 2, 3, 9, 143, 11.5, 'aditya', 'swathi', 'sujana')"
      ]
     },
     "execution_count": 14,
     "metadata": {},
     "output_type": "execute_result"
    }
   ],
   "source": [
    "abc[:]"
   ]
  },
  {
   "cell_type": "code",
   "execution_count": 15,
   "id": "707f3dac",
   "metadata": {},
   "outputs": [
    {
     "data": {
      "text/plain": [
       "(2, 3, 9, 143, 11.5, 'aditya', 'swathi', 'sujana')"
      ]
     },
     "execution_count": 15,
     "metadata": {},
     "output_type": "execute_result"
    }
   ],
   "source": [
    "abc[1:]"
   ]
  },
  {
   "cell_type": "code",
   "execution_count": 16,
   "id": "b9bec9ec",
   "metadata": {},
   "outputs": [
    {
     "data": {
      "text/plain": [
       "'sujana'"
      ]
     },
     "execution_count": 16,
     "metadata": {},
     "output_type": "execute_result"
    }
   ],
   "source": [
    "abc[-1]"
   ]
  },
  {
   "cell_type": "code",
   "execution_count": 17,
   "id": "472e1327",
   "metadata": {},
   "outputs": [
    {
     "data": {
      "text/plain": [
       "('sujana', 'swathi', 'aditya', 11.5, 143, 9, 3, 2, 1)"
      ]
     },
     "execution_count": 17,
     "metadata": {},
     "output_type": "execute_result"
    }
   ],
   "source": [
    "abc[::-1]"
   ]
  },
  {
   "cell_type": "code",
   "execution_count": 18,
   "id": "73b75d58",
   "metadata": {},
   "outputs": [
    {
     "data": {
      "text/plain": [
       "(1, 2, 3)"
      ]
     },
     "execution_count": 18,
     "metadata": {},
     "output_type": "execute_result"
    }
   ],
   "source": [
    "abc[:-6]"
   ]
  },
  {
   "cell_type": "code",
   "execution_count": 19,
   "id": "3da0ca7f",
   "metadata": {},
   "outputs": [
    {
     "data": {
      "text/plain": [
       "(1, 3, 143, 'aditya')"
      ]
     },
     "execution_count": 19,
     "metadata": {},
     "output_type": "execute_result"
    }
   ],
   "source": [
    "abc[-9:-1:2]"
   ]
  },
  {
   "cell_type": "code",
   "execution_count": 20,
   "id": "3b7fd716",
   "metadata": {},
   "outputs": [
    {
     "name": "stdout",
     "output_type": "stream",
     "text": [
      "('sujana',)\n"
     ]
    }
   ],
   "source": [
    "print(abc[-1::1])"
   ]
  },
  {
   "cell_type": "markdown",
   "id": "3ea70cb5",
   "metadata": {},
   "source": [
    "# Methods"
   ]
  },
  {
   "cell_type": "code",
   "execution_count": 21,
   "id": "30f0cf1d",
   "metadata": {},
   "outputs": [
    {
     "data": {
      "text/plain": [
       "(1, 2, 3, 9, 143, 11.5, 'aditya', 'swathi', 'sujana')"
      ]
     },
     "execution_count": 21,
     "metadata": {},
     "output_type": "execute_result"
    }
   ],
   "source": [
    "abc"
   ]
  },
  {
   "cell_type": "code",
   "execution_count": 24,
   "id": "d225830a",
   "metadata": {},
   "outputs": [
    {
     "data": {
      "text/plain": [
       "2"
      ]
     },
     "execution_count": 24,
     "metadata": {},
     "output_type": "execute_result"
    }
   ],
   "source": [
    "abc.index(3) # return index no by value"
   ]
  },
  {
   "cell_type": "code",
   "execution_count": 25,
   "id": "7d6ad359",
   "metadata": {},
   "outputs": [
    {
     "data": {
      "text/plain": [
       "4"
      ]
     },
     "execution_count": 25,
     "metadata": {},
     "output_type": "execute_result"
    }
   ],
   "source": [
    "abc.index(143)"
   ]
  },
  {
   "cell_type": "code",
   "execution_count": 26,
   "id": "fe2057d4",
   "metadata": {},
   "outputs": [
    {
     "data": {
      "text/plain": [
       "6"
      ]
     },
     "execution_count": 26,
     "metadata": {},
     "output_type": "execute_result"
    }
   ],
   "source": [
    "abc.index(\"aditya\")"
   ]
  },
  {
   "cell_type": "code",
   "execution_count": 27,
   "id": "2761d9dd",
   "metadata": {},
   "outputs": [
    {
     "data": {
      "text/plain": [
       "(0, 1, 2, 3, 4, 5, 6, 7, 8, 9, 10)"
      ]
     },
     "execution_count": 27,
     "metadata": {},
     "output_type": "execute_result"
    }
   ],
   "source": [
    "tuple(range(0,11))"
   ]
  },
  {
   "cell_type": "code",
   "execution_count": 29,
   "id": "43c5d2c1",
   "metadata": {},
   "outputs": [
    {
     "data": {
      "text/plain": [
       "5"
      ]
     },
     "execution_count": 29,
     "metadata": {},
     "output_type": "execute_result"
    }
   ],
   "source": [
    "a = 'anshu'\n",
    "len(a)"
   ]
  },
  {
   "cell_type": "code",
   "execution_count": 30,
   "id": "23a770ab",
   "metadata": {},
   "outputs": [
    {
     "name": "stdout",
     "output_type": "stream",
     "text": [
      "0\n",
      "1\n",
      "2\n",
      "3\n",
      "4\n"
     ]
    }
   ],
   "source": [
    "for i in range(len(a)):\n",
    "    print(i)"
   ]
  },
  {
   "cell_type": "code",
   "execution_count": 31,
   "id": "ef8eb2bd",
   "metadata": {},
   "outputs": [
    {
     "name": "stdout",
     "output_type": "stream",
     "text": [
      "0 ---> a\n",
      "1 ---> n\n",
      "2 ---> s\n",
      "3 ---> h\n",
      "4 ---> u\n"
     ]
    }
   ],
   "source": [
    "for i in range(len(a)):\n",
    "    print(i,'--->',a[i])"
   ]
  },
  {
   "cell_type": "code",
   "execution_count": 32,
   "id": "8b128e26",
   "metadata": {},
   "outputs": [
    {
     "name": "stdout",
     "output_type": "stream",
     "text": [
      "0 ---> 1\n",
      "1 ---> 2\n",
      "2 ---> 3\n",
      "3 ---> 9\n",
      "4 ---> 143\n",
      "5 ---> 11.5\n",
      "6 ---> aditya\n",
      "7 ---> swathi\n",
      "8 ---> sujana\n"
     ]
    }
   ],
   "source": [
    "for i in range(len(abc)):\n",
    "    print(i,'--->',abc[i])"
   ]
  },
  {
   "cell_type": "code",
   "execution_count": 33,
   "id": "9cbcab6a",
   "metadata": {},
   "outputs": [
    {
     "data": {
      "text/plain": [
       "1"
      ]
     },
     "execution_count": 33,
     "metadata": {},
     "output_type": "execute_result"
    }
   ],
   "source": [
    "# Count -> return no of time the value apper in tupel\n",
    "abc.count(2)"
   ]
  },
  {
   "cell_type": "code",
   "execution_count": 34,
   "id": "0ea38db8",
   "metadata": {},
   "outputs": [
    {
     "data": {
      "text/plain": [
       "0"
      ]
     },
     "execution_count": 34,
     "metadata": {},
     "output_type": "execute_result"
    }
   ],
   "source": [
    "abc.count(\"sublst\")"
   ]
  },
  {
   "cell_type": "code",
   "execution_count": 35,
   "id": "e6411918",
   "metadata": {},
   "outputs": [],
   "source": [
    "# Immutability -> It can't be stressed enough that tuples are immutable\n",
    "new_t = (1,2,3,6,5,9,6,8,7,4)"
   ]
  },
  {
   "cell_type": "code",
   "execution_count": 36,
   "id": "9971399e",
   "metadata": {},
   "outputs": [
    {
     "data": {
      "text/plain": [
       "9"
      ]
     },
     "execution_count": 36,
     "metadata": {},
     "output_type": "execute_result"
    }
   ],
   "source": [
    "new_t[5]"
   ]
  },
  {
   "cell_type": "code",
   "execution_count": 37,
   "id": "44a48753",
   "metadata": {},
   "outputs": [
    {
     "ename": "TypeError",
     "evalue": "'tuple' object does not support item assignment",
     "output_type": "error",
     "traceback": [
      "\u001b[1;31m---------------------------------------------------------------------------\u001b[0m",
      "\u001b[1;31mTypeError\u001b[0m                                 Traceback (most recent call last)",
      "Cell \u001b[1;32mIn[37], line 1\u001b[0m\n\u001b[1;32m----> 1\u001b[0m new_t[\u001b[38;5;241m5\u001b[39m] \u001b[38;5;241m=\u001b[39m\u001b[38;5;124m\"\u001b[39m\u001b[38;5;124mav\u001b[39m\u001b[38;5;124m\"\u001b[39m\n",
      "\u001b[1;31mTypeError\u001b[0m: 'tuple' object does not support item assignment"
     ]
    }
   ],
   "source": [
    "new_t[5] =\"av\""
   ]
  },
  {
   "cell_type": "code",
   "execution_count": 38,
   "id": "1a94ee91",
   "metadata": {},
   "outputs": [
    {
     "ename": "TypeError",
     "evalue": "'tuple' object does not support item assignment",
     "output_type": "error",
     "traceback": [
      "\u001b[1;31m---------------------------------------------------------------------------\u001b[0m",
      "\u001b[1;31mTypeError\u001b[0m                                 Traceback (most recent call last)",
      "Cell \u001b[1;32mIn[38], line 1\u001b[0m\n\u001b[1;32m----> 1\u001b[0m new_t[\u001b[38;5;241m5\u001b[39m] \u001b[38;5;241m=\u001b[39m\u001b[38;5;241m5\u001b[39m\n",
      "\u001b[1;31mTypeError\u001b[0m: 'tuple' object does not support item assignment"
     ]
    }
   ],
   "source": [
    "new_t[5] =5"
   ]
  },
  {
   "cell_type": "code",
   "execution_count": 39,
   "id": "14c3acf1",
   "metadata": {},
   "outputs": [],
   "source": [
    "# zip()\n",
    "# zip() function takes multiple lists as arguments and zips them together\n",
    "\n",
    "# This function returns a list of n-paired tuples where n is the number of lists being zipped"
   ]
  },
  {
   "cell_type": "code",
   "execution_count": 42,
   "id": "3f42356a",
   "metadata": {},
   "outputs": [
    {
     "data": {
      "text/plain": [
       "[('Delhi', 'Yamuna'),\n",
       " ('Patna', 'Ganga'),\n",
       " ('Cuttack', 'Mahanadi'),\n",
       " ('Guwahati', 'Brahmaputra')]"
      ]
     },
     "execution_count": 42,
     "metadata": {},
     "output_type": "execute_result"
    }
   ],
   "source": [
    "city_list = ['Delhi','Patna','Cuttack','Guwahati']\n",
    "river_list = ['Yamuna','Ganga','Mahanadi','Brahmaputra']\n",
    "\n",
    "list(zip(city_list,river_list))"
   ]
  },
  {
   "cell_type": "code",
   "execution_count": 43,
   "id": "f5494475",
   "metadata": {},
   "outputs": [
    {
     "data": {
      "text/plain": [
       "(('Delhi', 'Yamuna'),\n",
       " ('Patna', 'Ganga'),\n",
       " ('Cuttack', 'Mahanadi'),\n",
       " ('Guwahati', 'Brahmaputra'))"
      ]
     },
     "execution_count": 43,
     "metadata": {},
     "output_type": "execute_result"
    }
   ],
   "source": [
    "tuple(zip(city_list,river_list))"
   ]
  },
  {
   "cell_type": "code",
   "execution_count": null,
   "id": "59597496",
   "metadata": {},
   "outputs": [
    {
     "data": {
      "text/plain": [
       "(1, 2, 23, 8)"
      ]
     },
     "execution_count": 44,
     "metadata": {},
     "output_type": "execute_result"
    }
   ],
   "source": [
    "t"
   ]
  },
  {
   "cell_type": "code",
   "execution_count": 47,
   "id": "8be05a7f",
   "metadata": {},
   "outputs": [],
   "source": [
    "t2 = (2,3,6,5,5)\n",
    "new = tuple(zip(t,t2)) # remove extra element"
   ]
  },
  {
   "cell_type": "code",
   "execution_count": 48,
   "id": "3915ac02",
   "metadata": {},
   "outputs": [
    {
     "data": {
      "text/plain": [
       "((1, 2), (2, 3), (23, 6), (8, 5))"
      ]
     },
     "execution_count": 48,
     "metadata": {},
     "output_type": "execute_result"
    }
   ],
   "source": [
    "new"
   ]
  },
  {
   "cell_type": "code",
   "execution_count": 49,
   "id": "5ac37d97",
   "metadata": {},
   "outputs": [
    {
     "ename": "TypeError",
     "evalue": "can only concatenate tuple (not \"int\") to tuple",
     "output_type": "error",
     "traceback": [
      "\u001b[1;31m---------------------------------------------------------------------------\u001b[0m",
      "\u001b[1;31mTypeError\u001b[0m                                 Traceback (most recent call last)",
      "Cell \u001b[1;32mIn[49], line 1\u001b[0m\n\u001b[1;32m----> 1\u001b[0m new \u001b[38;5;241m+\u001b[39m\u001b[38;5;241m1\u001b[39m\n",
      "\u001b[1;31mTypeError\u001b[0m: can only concatenate tuple (not \"int\") to tuple"
     ]
    }
   ],
   "source": [
    "new +1"
   ]
  },
  {
   "cell_type": "code",
   "execution_count": 50,
   "id": "719f5fdb",
   "metadata": {},
   "outputs": [
    {
     "ename": "TypeError",
     "evalue": "'int' object is not iterable",
     "output_type": "error",
     "traceback": [
      "\u001b[1;31m---------------------------------------------------------------------------\u001b[0m",
      "\u001b[1;31mTypeError\u001b[0m                                 Traceback (most recent call last)",
      "Cell \u001b[1;32mIn[50], line 1\u001b[0m\n\u001b[1;32m----> 1\u001b[0m new \u001b[38;5;241m+\u001b[39m \u001b[38;5;28mtuple\u001b[39m(\u001b[38;5;241m1\u001b[39m)\n",
      "\u001b[1;31mTypeError\u001b[0m: 'int' object is not iterable"
     ]
    }
   ],
   "source": [
    "new + tuple(1) "
   ]
  },
  {
   "cell_type": "code",
   "execution_count": 52,
   "id": "3b85dc95",
   "metadata": {},
   "outputs": [
    {
     "ename": "TypeError",
     "evalue": "can only concatenate tuple (not \"int\") to tuple",
     "output_type": "error",
     "traceback": [
      "\u001b[1;31m---------------------------------------------------------------------------\u001b[0m",
      "\u001b[1;31mTypeError\u001b[0m                                 Traceback (most recent call last)",
      "Cell \u001b[1;32mIn[52], line 1\u001b[0m\n\u001b[1;32m----> 1\u001b[0m t \u001b[38;5;241m+\u001b[39m\u001b[38;5;241m1\u001b[39m\n",
      "\u001b[1;31mTypeError\u001b[0m: can only concatenate tuple (not \"int\") to tuple"
     ]
    }
   ],
   "source": [
    "t +1"
   ]
  },
  {
   "cell_type": "code",
   "execution_count": 53,
   "id": "00dbfc34",
   "metadata": {},
   "outputs": [
    {
     "ename": "TypeError",
     "evalue": "'int' object is not iterable",
     "output_type": "error",
     "traceback": [
      "\u001b[1;31m---------------------------------------------------------------------------\u001b[0m",
      "\u001b[1;31mTypeError\u001b[0m                                 Traceback (most recent call last)",
      "Cell \u001b[1;32mIn[53], line 1\u001b[0m\n\u001b[1;32m----> 1\u001b[0m t \u001b[38;5;241m+\u001b[39m \u001b[38;5;28mtuple\u001b[39m(\u001b[38;5;241m1\u001b[39m)\n",
      "\u001b[1;31mTypeError\u001b[0m: 'int' object is not iterable"
     ]
    }
   ],
   "source": [
    "t + tuple(1)"
   ]
  },
  {
   "cell_type": "markdown",
   "id": "5d96c46e",
   "metadata": {},
   "source": [
    "# When to use Tuples\n",
    "To be honest, tuples are not used as often as lists in programming, but are used when immutability is necessary. If in your program you are passing around an object and need to make sure it does not get changed, then a tuple becomes your solution."
   ]
  },
  {
   "cell_type": "code",
   "execution_count": null,
   "id": "4cab9739",
   "metadata": {},
   "outputs": [],
   "source": []
  }
 ],
 "metadata": {
  "kernelspec": {
   "display_name": "base",
   "language": "python",
   "name": "python3"
  },
  "language_info": {
   "codemirror_mode": {
    "name": "ipython",
    "version": 3
   },
   "file_extension": ".py",
   "mimetype": "text/x-python",
   "name": "python",
   "nbconvert_exporter": "python",
   "pygments_lexer": "ipython3",
   "version": "3.12.7"
  }
 },
 "nbformat": 4,
 "nbformat_minor": 5
}
