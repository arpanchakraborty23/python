{
 "cells": [
  {
   "cell_type": "markdown",
   "metadata": {},
   "source": [
    "# Dictionary"
   ]
  },
  {
   "cell_type": "markdown",
   "id": "aa841426",
   "metadata": {},
   "source": [
    "* A dictionary is unorder collection of key-value pair of data. in dictionary every data have repsect access key, key are unique.\n",
    "* constructed using curly braces {key1:value1,key2:value2,key3:value3}"
   ]
  },
  {
   "cell_type": "code",
   "execution_count": 1,
   "id": "a7e7559f",
   "metadata": {},
   "outputs": [
    {
     "data": {
      "text/plain": [
       "dict"
      ]
     },
     "execution_count": 1,
     "metadata": {},
     "output_type": "execute_result"
    }
   ],
   "source": [
    "# empty dict\n",
    "d ={}\n",
    "type(d)"
   ]
  },
  {
   "cell_type": "code",
   "execution_count": 2,
   "metadata": {},
   "outputs": [],
   "source": [
    "my_dict = {\n",
    "    \"name\": \"Alice\",\n",
    "    \"age\": 25,\n",
    "    \"job\": \"Engineer\"\n",
    "}\n"
   ]
  },
  {
   "cell_type": "markdown",
   "id": "f26d3cca",
   "metadata": {},
   "source": [
    "# # methods"
   ]
  },
  {
   "cell_type": "code",
   "execution_count": 3,
   "id": "6b84b144",
   "metadata": {},
   "outputs": [
    {
     "data": {
      "text/plain": [
       "dict_keys(['name', 'age', 'job'])"
      ]
     },
     "execution_count": 3,
     "metadata": {},
     "output_type": "execute_result"
    }
   ],
   "source": [
    "my_dict.keys()"
   ]
  },
  {
   "cell_type": "code",
   "execution_count": 4,
   "metadata": {},
   "outputs": [
    {
     "data": {
      "text/plain": [
       "dict_values(['Alice', 25, 'Engineer'])"
      ]
     },
     "execution_count": 4,
     "metadata": {},
     "output_type": "execute_result"
    }
   ],
   "source": [
    "my_dict.values()"
   ]
  },
  {
   "cell_type": "code",
   "execution_count": 5,
   "metadata": {},
   "outputs": [
    {
     "data": {
      "text/plain": [
       "25"
      ]
     },
     "execution_count": 5,
     "metadata": {},
     "output_type": "execute_result"
    }
   ],
   "source": [
    "my_dict['age']"
   ]
  },
  {
   "cell_type": "code",
   "execution_count": 6,
   "id": "90079954",
   "metadata": {},
   "outputs": [],
   "source": [
    "# values -> return dict values"
   ]
  },
  {
   "cell_type": "code",
   "execution_count": 7,
   "id": "8fae053a",
   "metadata": {},
   "outputs": [
    {
     "data": {
      "text/plain": [
       "dict_values(['Alice', 25, 'Engineer'])"
      ]
     },
     "execution_count": 7,
     "metadata": {},
     "output_type": "execute_result"
    }
   ],
   "source": [
    "my_dict.values()"
   ]
  },
  {
   "cell_type": "code",
   "execution_count": 8,
   "id": "d17e4047",
   "metadata": {},
   "outputs": [],
   "source": [
    "#my_dict[1] # INDEXING not support"
   ]
  },
  {
   "cell_type": "code",
   "execution_count": 9,
   "metadata": {},
   "outputs": [
    {
     "data": {
      "text/plain": [
       "dict_items([('name', 'Alice'), ('age', 25), ('job', 'Engineer')])"
      ]
     },
     "execution_count": 9,
     "metadata": {},
     "output_type": "execute_result"
    }
   ],
   "source": [
    "# items -> return key and their respacted values\n",
    "my_dict.items()"
   ]
  },
  {
   "cell_type": "code",
   "execution_count": 10,
   "id": "a20a06d5",
   "metadata": {},
   "outputs": [],
   "source": [
    "# get() method takes the key as an argument and returns None if the key is not found in the dictionary\n",
    "\n",
    "# We can also set the value to return if a key is not found. This will be passed as the second argument in get()"
   ]
  },
  {
   "cell_type": "code",
   "execution_count": 11,
   "id": "3b6a2f89",
   "metadata": {},
   "outputs": [
    {
     "data": {
      "text/plain": [
       "'Alice'"
      ]
     },
     "execution_count": 11,
     "metadata": {},
     "output_type": "execute_result"
    }
   ],
   "source": [
    "my_dict.get(\"name\")"
   ]
  },
  {
   "cell_type": "code",
   "execution_count": 12,
   "id": "173d2473",
   "metadata": {},
   "outputs": [
    {
     "data": {
      "text/plain": [
       "'Alice'"
      ]
     },
     "execution_count": 12,
     "metadata": {},
     "output_type": "execute_result"
    }
   ],
   "source": [
    "my_dict.get(\"name\",'notfound')"
   ]
  },
  {
   "cell_type": "code",
   "execution_count": 13,
   "id": "2649e09b",
   "metadata": {},
   "outputs": [
    {
     "data": {
      "text/plain": [
       "'notfound'"
      ]
     },
     "execution_count": 13,
     "metadata": {},
     "output_type": "execute_result"
    }
   ],
   "source": [
    "my_dict.get(\"random\",'notfound')"
   ]
  },
  {
   "cell_type": "code",
   "execution_count": 14,
   "id": "cd081aa4",
   "metadata": {},
   "outputs": [
    {
     "data": {
      "text/plain": [
       "'Alice'"
      ]
     },
     "execution_count": 14,
     "metadata": {},
     "output_type": "execute_result"
    }
   ],
   "source": [
    "my_dict.get(\"name\",'notfound')"
   ]
  },
  {
   "cell_type": "code",
   "execution_count": 15,
   "id": "7a269fb3",
   "metadata": {},
   "outputs": [],
   "source": [
    "# add new data\n",
    "my_dict['Job'] =\"Data Scientist\""
   ]
  },
  {
   "cell_type": "code",
   "execution_count": 16,
   "id": "0b9826a0",
   "metadata": {},
   "outputs": [
    {
     "data": {
      "text/plain": [
       "{'name': 'Alice', 'age': 25, 'job': 'Engineer', 'Job': 'Data Scientist'}"
      ]
     },
     "execution_count": 16,
     "metadata": {},
     "output_type": "execute_result"
    }
   ],
   "source": [
    "my_dict"
   ]
  },
  {
   "cell_type": "code",
   "execution_count": 17,
   "id": "3bd19097",
   "metadata": {},
   "outputs": [],
   "source": [
    "# another way to add new key \n",
    "# update() -> You can add an element which is a key-value pair using the update() method\n",
    "\n",
    "# This method takes a dictionary as an argument"
   ]
  },
  {
   "cell_type": "code",
   "execution_count": 18,
   "id": "241c643a",
   "metadata": {},
   "outputs": [],
   "source": [
    "my_dict.update({'name':'ac'})"
   ]
  },
  {
   "cell_type": "code",
   "execution_count": 19,
   "id": "a32eefb5",
   "metadata": {},
   "outputs": [
    {
     "data": {
      "text/plain": [
       "{'name': 'ac', 'age': 25, 'job': 'Engineer', 'Job': 'Data Scientist'}"
      ]
     },
     "execution_count": 19,
     "metadata": {},
     "output_type": "execute_result"
    }
   ],
   "source": [
    "my_dict"
   ]
  },
  {
   "cell_type": "code",
   "execution_count": 20,
   "id": "180fe8b8",
   "metadata": {},
   "outputs": [],
   "source": [
    "my_dict.update({\"new\":[1,2,3,6,5]})"
   ]
  },
  {
   "cell_type": "code",
   "execution_count": 21,
   "id": "c8adc340",
   "metadata": {},
   "outputs": [
    {
     "data": {
      "text/plain": [
       "{'name': 'ac',\n",
       " 'age': 25,\n",
       " 'job': 'Engineer',\n",
       " 'Job': 'Data Scientist',\n",
       " 'new': [1, 2, 3, 6, 5]}"
      ]
     },
     "execution_count": 21,
     "metadata": {},
     "output_type": "execute_result"
    }
   ],
   "source": [
    "my_dict"
   ]
  },
  {
   "cell_type": "code",
   "execution_count": 22,
   "id": "ef17442b",
   "metadata": {},
   "outputs": [
    {
     "data": {
      "text/plain": [
       "5"
      ]
     },
     "execution_count": 22,
     "metadata": {},
     "output_type": "execute_result"
    }
   ],
   "source": [
    "len(my_dict)"
   ]
  },
  {
   "cell_type": "code",
   "execution_count": 23,
   "id": "025df32e",
   "metadata": {},
   "outputs": [],
   "source": [
    "d1= {'name': \"laxman\" , 'MCA' :[\"python\" , \"ML\" , \"DL\" , \"NLP\",\"CV\" , \"Big data\" , \"data analytics\"]}"
   ]
  },
  {
   "cell_type": "code",
   "execution_count": 24,
   "id": "fd2a37a3",
   "metadata": {},
   "outputs": [],
   "source": [
    "d = d1.copy()"
   ]
  },
  {
   "cell_type": "code",
   "execution_count": 25,
   "id": "ff7911b4",
   "metadata": {},
   "outputs": [
    {
     "data": {
      "text/plain": [
       "{'name': 'laxman',\n",
       " 'MCA': ['python', 'ML', 'DL', 'NLP', 'CV', 'Big data', 'data analytics']}"
      ]
     },
     "execution_count": 25,
     "metadata": {},
     "output_type": "execute_result"
    }
   ],
   "source": [
    "d"
   ]
  },
  {
   "cell_type": "code",
   "execution_count": 26,
   "id": "dcf04b5b",
   "metadata": {},
   "outputs": [],
   "source": [
    "# remove specific dictionary items\n",
    "del my_dict['Job'] # remove key-value"
   ]
  },
  {
   "cell_type": "code",
   "execution_count": 27,
   "id": "6679d5ef",
   "metadata": {},
   "outputs": [
    {
     "data": {
      "text/plain": [
       "{'name': 'ac', 'age': 25, 'job': 'Engineer', 'new': [1, 2, 3, 6, 5]}"
      ]
     },
     "execution_count": 27,
     "metadata": {},
     "output_type": "execute_result"
    }
   ],
   "source": [
    "my_dict"
   ]
  },
  {
   "cell_type": "code",
   "execution_count": 28,
   "id": "20cd84fe",
   "metadata": {},
   "outputs": [],
   "source": [
    "del d['MCA'][5] # delete nested dict value"
   ]
  },
  {
   "cell_type": "code",
   "execution_count": 29,
   "id": "af84ea23",
   "metadata": {},
   "outputs": [
    {
     "data": {
      "text/plain": [
       "{'name': 'laxman',\n",
       " 'MCA': ['python', 'ML', 'DL', 'NLP', 'CV', 'data analytics']}"
      ]
     },
     "execution_count": 29,
     "metadata": {},
     "output_type": "execute_result"
    }
   ],
   "source": [
    "d"
   ]
  },
  {
   "cell_type": "code",
   "execution_count": 30,
   "id": "f59ba941",
   "metadata": {},
   "outputs": [
    {
     "data": {
      "text/plain": [
       "'laxman'"
      ]
     },
     "execution_count": 30,
     "metadata": {},
     "output_type": "execute_result"
    }
   ],
   "source": [
    "d.pop(\"name\") # remove"
   ]
  },
  {
   "cell_type": "code",
   "execution_count": 31,
   "id": "f8f1623e",
   "metadata": {},
   "outputs": [
    {
     "data": {
      "text/plain": [
       "{'MCA': ['python', 'ML', 'DL', 'NLP', 'CV', 'data analytics']}"
      ]
     },
     "execution_count": 31,
     "metadata": {},
     "output_type": "execute_result"
    }
   ],
   "source": [
    "d"
   ]
  },
  {
   "cell_type": "code",
   "execution_count": 36,
   "id": "ccff70e3",
   "metadata": {},
   "outputs": [],
   "source": [
    "# update key name\n",
    "d['DataScientist'] = d.pop(\"MCA\")"
   ]
  },
  {
   "cell_type": "code",
   "execution_count": 37,
   "id": "d2591e3d",
   "metadata": {},
   "outputs": [
    {
     "data": {
      "text/plain": [
       "{'DataScientist': ['python', 'ML', 'DL', 'NLP', 'CV', 'data analytics']}"
      ]
     },
     "execution_count": 37,
     "metadata": {},
     "output_type": "execute_result"
    }
   ],
   "source": [
    "d"
   ]
  },
  {
   "cell_type": "code",
   "execution_count": 38,
   "id": "76a58f06",
   "metadata": {},
   "outputs": [],
   "source": [
    "del d1 # delete the dict"
   ]
  },
  {
   "cell_type": "code",
   "execution_count": 39,
   "id": "f39a2fde",
   "metadata": {},
   "outputs": [
    {
     "ename": "NameError",
     "evalue": "name 'd1' is not defined",
     "output_type": "error",
     "traceback": [
      "\u001b[1;31m---------------------------------------------------------------------------\u001b[0m",
      "\u001b[1;31mNameError\u001b[0m                                 Traceback (most recent call last)",
      "Cell \u001b[1;32mIn[39], line 1\u001b[0m\n\u001b[1;32m----> 1\u001b[0m d1\n",
      "\u001b[1;31mNameError\u001b[0m: name 'd1' is not defined"
     ]
    }
   ],
   "source": [
    "d1"
   ]
  },
  {
   "cell_type": "code",
   "execution_count": 40,
   "id": "de213716",
   "metadata": {},
   "outputs": [
    {
     "data": {
      "text/plain": [
       "{'DataScientist': ['python', 'ML', 'DL', 'NLP', 'CV', 'data analytics']}"
      ]
     },
     "execution_count": 40,
     "metadata": {},
     "output_type": "execute_result"
    }
   ],
   "source": [
    "d"
   ]
  },
  {
   "cell_type": "code",
   "execution_count": 41,
   "id": "9bc8689f",
   "metadata": {},
   "outputs": [
    {
     "data": {
      "text/plain": [
       "{'name': 'ac', 'age': 25, 'job': 'Engineer', 'new': [1, 2, 3, 6, 5]}"
      ]
     },
     "execution_count": 41,
     "metadata": {},
     "output_type": "execute_result"
    }
   ],
   "source": [
    "my_dict"
   ]
  },
  {
   "cell_type": "code",
   "execution_count": 42,
   "id": "9afa966a",
   "metadata": {},
   "outputs": [],
   "source": [
    "# clear -> clear dict elements\n",
    "my_dict.clear()"
   ]
  },
  {
   "cell_type": "code",
   "execution_count": 43,
   "id": "4e813a2b",
   "metadata": {},
   "outputs": [
    {
     "data": {
      "text/plain": [
       "{}"
      ]
     },
     "execution_count": 43,
     "metadata": {},
     "output_type": "execute_result"
    }
   ],
   "source": [
    "my_dict"
   ]
  },
  {
   "cell_type": "code",
   "execution_count": 44,
   "id": "7807b322",
   "metadata": {},
   "outputs": [
    {
     "data": {
      "text/plain": [
       "{(1, 2, 3): 'marks'}"
      ]
     },
     "execution_count": 44,
     "metadata": {},
     "output_type": "execute_result"
    }
   ],
   "source": [
    "d3={(1,2,3):\"marks\"}\n",
    "d3"
   ]
  },
  {
   "cell_type": "code",
   "execution_count": 45,
   "id": "08b052d7",
   "metadata": {},
   "outputs": [
    {
     "data": {
      "text/plain": [
       "dict_keys([(1, 2, 3)])"
      ]
     },
     "execution_count": 45,
     "metadata": {},
     "output_type": "execute_result"
    }
   ],
   "source": [
    "d3.keys()"
   ]
  },
  {
   "cell_type": "code",
   "execution_count": 46,
   "id": "1a0e176e",
   "metadata": {},
   "outputs": [
    {
     "data": {
      "text/plain": [
       "{'DataScientist': ['python', 'ML', 'DL', 'NLP', 'CV', 'data analytics']}"
      ]
     },
     "execution_count": 46,
     "metadata": {},
     "output_type": "execute_result"
    }
   ],
   "source": [
    "d"
   ]
  },
  {
   "cell_type": "code",
   "execution_count": 47,
   "id": "dfa0a437",
   "metadata": {},
   "outputs": [],
   "source": [
    "d1= {'name': \"Arpan\" , 'Skills' :[\"python\" , \"ML\" , \"DL\" , \"NLP\",\"CV\" , \"Big data\" , \"data analytics\"]}"
   ]
  },
  {
   "cell_type": "code",
   "execution_count": 48,
   "id": "38a485d4",
   "metadata": {},
   "outputs": [],
   "source": [
    "a1=[3]\n",
    "a2=[4]\n",
    "a3=[5]"
   ]
  },
  {
   "cell_type": "code",
   "execution_count": 49,
   "id": "e3fcbf10",
   "metadata": {},
   "outputs": [
    {
     "data": {
      "text/plain": [
       "[3]"
      ]
     },
     "execution_count": 49,
     "metadata": {},
     "output_type": "execute_result"
    }
   ],
   "source": [
    "a1"
   ]
  },
  {
   "cell_type": "code",
   "execution_count": 52,
   "id": "a6e25741",
   "metadata": {},
   "outputs": [
    {
     "data": {
      "text/plain": [
       "{}"
      ]
     },
     "execution_count": 52,
     "metadata": {},
     "output_type": "execute_result"
    }
   ],
   "source": [
    "# Example: create a new dictionary with keys from a1 and default value None\n",
    "my_dict.fromkeys(my_dict)"
   ]
  },
  {
   "cell_type": "code",
   "execution_count": 54,
   "id": "4e10a85f",
   "metadata": {},
   "outputs": [
    {
     "ename": "TypeError",
     "evalue": "unhashable type: 'dict_keys'",
     "output_type": "error",
     "traceback": [
      "\u001b[1;31m---------------------------------------------------------------------------\u001b[0m",
      "\u001b[1;31mTypeError\u001b[0m                                 Traceback (most recent call last)",
      "Cell \u001b[1;32mIn[54], line 1\u001b[0m\n\u001b[1;32m----> 1\u001b[0m my_dict\u001b[38;5;241m.\u001b[39msetdefault(my_dict\u001b[38;5;241m.\u001b[39mkeys())\n",
      "\u001b[1;31mTypeError\u001b[0m: unhashable type: 'dict_keys'"
     ]
    }
   ],
   "source": [
    "my_dict.setdefault(my_dict.keys())"
   ]
  },
  {
   "cell_type": "code",
   "execution_count": null,
   "id": "639bb096",
   "metadata": {},
   "outputs": [],
   "source": []
  }
 ],
 "metadata": {
  "kernelspec": {
   "display_name": "base",
   "language": "python",
   "name": "python3"
  },
  "language_info": {
   "codemirror_mode": {
    "name": "ipython",
    "version": 3
   },
   "file_extension": ".py",
   "mimetype": "text/x-python",
   "name": "python",
   "nbconvert_exporter": "python",
   "pygments_lexer": "ipython3",
   "version": "3.12.7"
  }
 },
 "nbformat": 4,
 "nbformat_minor": 5
}
