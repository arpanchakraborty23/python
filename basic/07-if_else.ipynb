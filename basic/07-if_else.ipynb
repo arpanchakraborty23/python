{
 "cells": [
  {
   "cell_type": "markdown",
   "id": "45573b5f",
   "metadata": {},
   "source": [
    "# Conditional Statements\n",
    "if Statements in Python allows us to tell the computer to perform alternative actions based on a certain set of results.\n",
    "\n",
    "Verbally, we can imagine we are telling the computer:\"Hey if this case happens, perform some action\"\n",
    "\n",
    "We can then expand the idea further with elif and else statements, which allow us to tell the computer: \"Hey if this case happens, perform some action. Else, if another case happens, perform some other action. Else, if none of the above cases happened, perform this action.\""
   ]
  },
  {
   "cell_type": "markdown",
   "id": "b47c23ee",
   "metadata": {},
   "source": [
    "if case1:\n",
    "\n",
    "perform action1\n",
    "\n",
    "elif case2:\n",
    "\n",
    "perform\n",
    "\n",
    "else:\n",
    "\n",
    "perform action3"
   ]
  },
  {
   "cell_type": "code",
   "execution_count": 3,
   "id": "d8b10db0",
   "metadata": {},
   "outputs": [
    {
     "name": "stdout",
     "output_type": "stream",
     "text": [
      "It is a Negative Number\n"
     ]
    }
   ],
   "source": [
    "# check posative or not\n",
    "v = -1\n",
    "if v > 0:\n",
    "   print(\"It is a Posative number\")\n",
    "else :\n",
    "   print(\"It is a Negative Number\")"
   ]
  },
  {
   "cell_type": "code",
   "execution_count": 3,
   "id": "d784daa1",
   "metadata": {},
   "outputs": [
    {
     "name": "stdout",
     "output_type": "stream",
     "text": [
      "yes\n"
     ]
    }
   ],
   "source": [
    "# single condition\n",
    "v = 15\n",
    "if v>11:\n",
    "\tprint(\"yes\")"
   ]
  },
  {
   "cell_type": "code",
   "execution_count": 4,
   "id": "ce859a64",
   "metadata": {},
   "outputs": [],
   "source": [
    "v = 5\n",
    "if v > 11:\n",
    "\tprint(\"yes\")"
   ]
  },
  {
   "cell_type": "code",
   "execution_count": 5,
   "id": "cd816951",
   "metadata": {},
   "outputs": [
    {
     "name": "stdout",
     "output_type": "stream",
     "text": [
      "No\n"
     ]
    }
   ],
   "source": [
    "v = 5\n",
    "if v > 11:\n",
    "\tprint(\"yes\")\n",
    "else:\n",
    "\tprint(\"No\")"
   ]
  },
  {
   "cell_type": "code",
   "execution_count": 7,
   "id": "cc3261e3",
   "metadata": {},
   "outputs": [
    {
     "name": "stdout",
     "output_type": "stream",
     "text": [
      "medium\n"
     ]
    }
   ],
   "source": [
    "v = 15\n",
    "if v < 11:\n",
    "\tprint(\"small\")\n",
    "elif v<21:\n",
    "\tprint(\"medium\")\n",
    "else:\n",
    "\tprint(\"Big\")"
   ]
  },
  {
   "cell_type": "code",
   "execution_count": 41,
   "id": "f8de3c10",
   "metadata": {},
   "outputs": [
    {
     "data": {
      "text/plain": [
       "True"
      ]
     },
     "execution_count": 41,
     "metadata": {},
     "output_type": "execute_result"
    }
   ],
   "source": [
    "a= 5\n",
    "b = 10\n",
    "c = 9 \n",
    "d = 12\n",
    "\n",
    "a == 5 and b ==10 # True and True = True"
   ]
  },
  {
   "cell_type": "code",
   "execution_count": null,
   "id": "2ccf2f51",
   "metadata": {},
   "outputs": [
    {
     "data": {
      "text/plain": [
       "True"
      ]
     },
     "execution_count": 42,
     "metadata": {},
     "output_type": "execute_result"
    }
   ],
   "source": [
    "a == 5 or b ==10  # True  & false =True"
   ]
  },
  {
   "cell_type": "code",
   "execution_count": 43,
   "id": "618ad7dc",
   "metadata": {},
   "outputs": [
    {
     "name": "stdout",
     "output_type": "stream",
     "text": [
      "Ok It is True\n"
     ]
    }
   ],
   "source": [
    "if a == 5 or b ==10 and a == 5 or b ==10 :\n",
    "\tprint(\"Ok It is True\")\n",
    "else :\n",
    "\tprint(\"It is Wrong False\")"
   ]
  },
  {
   "cell_type": "code",
   "execution_count": 45,
   "id": "bef25832",
   "metadata": {},
   "outputs": [
    {
     "name": "stdout",
     "output_type": "stream",
     "text": [
      "It is Wrong False\n"
     ]
    }
   ],
   "source": [
    "if a == 6 or b ==11 or c == 5 or d ==10 : # f or f =False \n",
    "\tprint(\"Ok It is True\")\n",
    "else :\n",
    "\tprint(\"It is Wrong False\")"
   ]
  },
  {
   "cell_type": "code",
   "execution_count": 6,
   "id": "a87218c4",
   "metadata": {},
   "outputs": [],
   "source": [
    "a = 60 ; b =90"
   ]
  },
  {
   "cell_type": "code",
   "execution_count": 7,
   "id": "a0b84e48",
   "metadata": {},
   "outputs": [
    {
     "name": "stdout",
     "output_type": "stream",
     "text": [
      "d is biggest\n"
     ]
    }
   ],
   "source": [
    "if a> b:\n",
    "\tprint(\"a is bigger than b\")\n",
    "\tif b > c:\n",
    "\t\tprint(\"b bigger than c\")\n",
    "\telif c > d:\n",
    "\t\t\tprint(\"c is bigger than d\")\n",
    "else:\n",
    "\t\t\tprint(\"d is biggest\")"
   ]
  },
  {
   "cell_type": "code",
   "execution_count": 67,
   "id": "3881d275",
   "metadata": {},
   "outputs": [
    {
     "name": "stdout",
     "output_type": "stream",
     "text": [
      "ok\n"
     ]
    }
   ],
   "source": [
    "print('ok') if a>b else print(\"small\")"
   ]
  },
  {
   "cell_type": "markdown",
   "id": "adcf1882",
   "metadata": {},
   "source": [
    "# multiple condition"
   ]
  },
  {
   "cell_type": "code",
   "execution_count": 10,
   "id": "4fdb74e0",
   "metadata": {},
   "outputs": [
    {
     "name": "stdout",
     "output_type": "stream",
     "text": [
      "A\n"
     ]
    }
   ],
   "source": [
    "num = int(input())\n",
    "if num >90 or num < 100:\n",
    "\tprint(\"A\")\n",
    "elif num < 90 or num>75:\n",
    "\tprint(\"B\")\n",
    "elif num < 75 or num> 40:\n",
    "\tprint(\"C\")\n",
    "else:\n",
    "\tprint(\"D\")"
   ]
  },
  {
   "cell_type": "code",
   "execution_count": 17,
   "id": "ffb7e2b2",
   "metadata": {},
   "outputs": [
    {
     "name": "stdout",
     "output_type": "stream",
     "text": [
      "City Ulubaria Not found\n"
     ]
    }
   ],
   "source": [
    "city = \"Ulubaria\"\n",
    "\n",
    "if city == \"New Town\":\n",
    "\tprint(\"wellcome to New Town\")\n",
    "elif city == \"Satlake\":\n",
    "\tprint(f\"wellcome to {city}\")\n",
    "elif city == \"Kolkata\":\n",
    "\tprint(f\"wellcome to {city}\")\n",
    "\n",
    "else:\n",
    "\tprint(f\"City {city} Not found\")"
   ]
  },
  {
   "cell_type": "code",
   "execution_count": 11,
   "id": "a4e28a4a",
   "metadata": {},
   "outputs": [
    {
     "name": "stdout",
     "output_type": "stream",
     "text": [
      "You will get 20% discount Amount: 720.0\n"
     ]
    }
   ],
   "source": [
    "price =float(input(\"Enter your amount:\"))\n",
    "if price >=500 and price <=1500:\n",
    "\tprint(f\"You will get 20% discount Amount: {price  - (price/100) *20}\")\n",
    "elif price >1500 and price < 3500 :\n",
    "\tprint(f\"You will get 24% discount Amount: {price  - (price/100) *24}\")\n",
    "else :\n",
    "\tprint(f\"You will get 30% discount: {price  - (price/100) *30}\")"
   ]
  },
  {
   "cell_type": "code",
   "execution_count": 70,
   "id": "560f843d",
   "metadata": {},
   "outputs": [
    {
     "ename": "SyntaxError",
     "evalue": "invalid syntax (1309403542.py, line 4)",
     "output_type": "error",
     "traceback": [
      "\u001b[1;36m  Cell \u001b[1;32mIn[70], line 4\u001b[1;36m\u001b[0m\n\u001b[1;33m    print(\"C bigger\") elif b > c  if a>b  else print(\"small\")\u001b[0m\n\u001b[1;37m                      ^\u001b[0m\n\u001b[1;31mSyntaxError\u001b[0m\u001b[1;31m:\u001b[0m invalid syntax\n"
     ]
    }
   ],
   "source": [
    "a =333\n",
    "b = 256\n",
    "\n",
    "print(\"C bigger\") elif b > c  if a>b  else print(\"small\")"
   ]
  },
  {
   "cell_type": "markdown",
   "id": "d5896ef0",
   "metadata": {},
   "source": [
    "# Nested"
   ]
  },
  {
   "cell_type": "code",
   "execution_count": 36,
   "id": "852bf090",
   "metadata": {},
   "outputs": [
    {
     "name": "stdout",
     "output_type": "stream",
     "text": [
      "You Win a Hoody\n"
     ]
    }
   ],
   "source": [
    "price = float(input(\"Enter Amount\"))\n",
    "\n",
    "if price >=1000 and price <=3000:\n",
    "\tif price >= 1200 and price<=2000:\n",
    "\t\tprint(\"You Win a T-Shirt\") \n",
    "\telse:\n",
    "\t\tprint(\"You Win a Hoody\") \n",
    "elif price >=2000 and price<= 8000:\n",
    "\tif price <=5000:\n",
    "\t\tprint(\"You Win a Track Pant\")\n",
    "\telse:\n",
    "\t\tprint(\"You Win a T-Shirt and Track Pant\")\n",
    "else :\n",
    "\tif price>=8000 and price<=15000:\n",
    "\t\tprint(\"You Win a jacket\")\n",
    "\telse:\n",
    "\t\tprint(\"You Win a jacket & Sport Shoe\")"
   ]
  },
  {
   "cell_type": "code",
   "execution_count": 38,
   "id": "8490d4a9",
   "metadata": {},
   "outputs": [
    {
     "name": "stdout",
     "output_type": "stream",
     "text": [
      "you Enter zero\n",
      "Try Bigger number Than zero\n",
      "Well Done\n"
     ]
    }
   ],
   "source": [
    "val = 0\n",
    "if val >= 0:\n",
    "\tif val == 0:\n",
    "\t\tprint(\"you Enter zero\")\n",
    "\t\tprint(\"Try Bigger number Than zero\")\n",
    "\t\tnum = int(input())\n",
    "\t\tif num > 0:\n",
    "\t\t\tprint(\"Well Done\")"
   ]
  },
  {
   "cell_type": "code",
   "execution_count": 39,
   "id": "ec35e366",
   "metadata": {},
   "outputs": [
    {
     "name": "stdout",
     "output_type": "stream",
     "text": [
      "Pass\n",
      "Need To Improve\n"
     ]
    }
   ],
   "source": [
    "total_marks = 50\n",
    "written_marks = 30 # full marks 70\n",
    "project_marks = 20 # full marks 30\n",
    "\n",
    "if total_marks >= 60:\n",
    "\tprint(\"Pass\")\n",
    "elif total_marks <=60 and total_marks>=30:\n",
    "\tif written_marks>=18 and project_marks >=8:\n",
    "\t\tprint(\"Pass\")\n",
    "\t\tprint(\"Need To Improve\")\n",
    "\telse :\n",
    "\t\tprint(\"Falis\")\n",
    "else:\n",
    "\tprint(\"Flil\")\n",
    "\t"
   ]
  },
  {
   "cell_type": "markdown",
   "id": "f34716d3",
   "metadata": {},
   "source": [
    "# Truthy & Falsy\n",
    "* truthy and falsy values are used in conditions to determine whether a block of code should execute.\n",
    "\n",
    "* Truthy values are those that evaluate to True in a Boolean context.\n",
    "\n",
    "* Falsy values are those that evaluate to False in a Boolean context."
   ]
  },
  {
   "cell_type": "code",
   "execution_count": 46,
   "id": "def9e92b",
   "metadata": {},
   "outputs": [
    {
     "name": "stdout",
     "output_type": "stream",
     "text": [
      "Ok\n"
     ]
    }
   ],
   "source": [
    "if True:\n",
    "\tprint(\"Ok\")\n",
    "else :\n",
    "\tprint(\"Wrong\")"
   ]
  },
  {
   "cell_type": "code",
   "execution_count": 47,
   "id": "1b485464",
   "metadata": {},
   "outputs": [
    {
     "name": "stdout",
     "output_type": "stream",
     "text": [
      "!\n"
     ]
    }
   ],
   "source": [
    "if False:\n",
    "\tprint(\"Ok\")\n",
    "else:\n",
    "\tprint(\"!\")"
   ]
  },
  {
   "cell_type": "code",
   "execution_count": 48,
   "id": "9d69d292",
   "metadata": {},
   "outputs": [
    {
     "name": "stdout",
     "output_type": "stream",
     "text": [
      "Try more\n"
     ]
    }
   ],
   "source": [
    "if []:\n",
    "\tprint(\"empty\")\n",
    "else :\n",
    "\tprint(\"Try more\")"
   ]
  },
  {
   "cell_type": "code",
   "execution_count": 49,
   "id": "f132f57d",
   "metadata": {},
   "outputs": [
    {
     "name": "stdout",
     "output_type": "stream",
     "text": [
      "List Ecexcuted\n"
     ]
    }
   ],
   "source": [
    "if [1,23]:\n",
    "\tprint(\"List Ecexcuted\")\n",
    "else :\n",
    "\tprint(\"test more\")"
   ]
  },
  {
   "cell_type": "code",
   "execution_count": 50,
   "id": "a3f1e4a7",
   "metadata": {},
   "outputs": [
    {
     "name": "stdout",
     "output_type": "stream",
     "text": [
      "This is True\n"
     ]
    }
   ],
   "source": [
    "if {1:2,3:4}:\n",
    "      print(\"This is True\")\n",
    "else:\n",
    "  print(\"This is False\")"
   ]
  },
  {
   "cell_type": "code",
   "execution_count": 54,
   "id": "29c82f67",
   "metadata": {},
   "outputs": [
    {
     "data": {
      "text/plain": [
       "dict_keys([1, 3])"
      ]
     },
     "execution_count": 54,
     "metadata": {},
     "output_type": "execute_result"
    }
   ],
   "source": [
    "{1:2,3:4}.keys()"
   ]
  },
  {
   "cell_type": "code",
   "execution_count": null,
   "id": "e5c32f2e",
   "metadata": {},
   "outputs": [],
   "source": []
  }
 ],
 "metadata": {
  "kernelspec": {
   "display_name": "base",
   "language": "python",
   "name": "python3"
  },
  "language_info": {
   "codemirror_mode": {
    "name": "ipython",
    "version": 3
   },
   "file_extension": ".py",
   "mimetype": "text/x-python",
   "name": "python",
   "nbconvert_exporter": "python",
   "pygments_lexer": "ipython3",
   "version": "3.12.7"
  }
 },
 "nbformat": 4,
 "nbformat_minor": 5
}
