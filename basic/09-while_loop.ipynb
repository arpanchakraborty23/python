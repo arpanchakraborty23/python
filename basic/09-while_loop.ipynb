{
 "cells": [
  {
   "cell_type": "code",
   "execution_count": 1,
   "id": "2d0111b5",
   "metadata": {},
   "outputs": [
    {
     "name": "stdout",
     "output_type": "stream",
     "text": [
      "0\n",
      "1\n",
      "2\n",
      "3\n",
      "4\n",
      "5\n"
     ]
    }
   ],
   "source": [
    "for i in range(6):\n",
    "\tprint(i)"
   ]
  },
  {
   "cell_type": "code",
   "execution_count": 3,
   "id": "3aed537d",
   "metadata": {},
   "outputs": [
    {
     "name": "stdout",
     "output_type": "stream",
     "text": [
      "1\n",
      "2\n",
      "3\n",
      "4\n",
      "5\n"
     ]
    }
   ],
   "source": [
    "x = 1\n",
    "while x<6:\n",
    "    print(x)\n",
    "    x = x +1"
   ]
  },
  {
   "cell_type": "code",
   "execution_count": 8,
   "id": "94897328",
   "metadata": {},
   "outputs": [
    {
     "name": "stdout",
     "output_type": "stream",
     "text": [
      "15\n"
     ]
    }
   ],
   "source": [
    "n = 5\n",
    "total = 0\n",
    "i = 1\n",
    "\n",
    "while i<=5:\n",
    "   total  = total +i\n",
    "   i = i+1\n",
    "print(total)"
   ]
  },
  {
   "cell_type": "code",
   "execution_count": 9,
   "id": "41d68b44",
   "metadata": {},
   "outputs": [
    {
     "name": "stdout",
     "output_type": "stream",
     "text": [
      "10\n",
      "9\n",
      "8\n",
      "7\n",
      "6\n",
      "5\n",
      "4\n",
      "3\n",
      "2\n",
      "1\n"
     ]
    }
   ],
   "source": [
    "i = 10\n",
    "while i>=1:\n",
    "    print(i)\n",
    "    i = i -1"
   ]
  },
  {
   "cell_type": "code",
   "execution_count": 11,
   "id": "0b3ccca1",
   "metadata": {},
   "outputs": [
    {
     "name": "stdout",
     "output_type": "stream",
     "text": [
      "0 --> p\n",
      "1 --> y\n",
      "2 --> t\n",
      "3 --> h\n",
      "4 --> o\n",
      "5 --> n\n"
     ]
    }
   ],
   "source": [
    "s =\"python\"\n",
    "i = 0\n",
    "while i <len(s):\n",
    "    print(i,'-->',s[i])\n",
    "    i = i +1"
   ]
  },
  {
   "cell_type": "code",
   "execution_count": 17,
   "id": "23c453fa",
   "metadata": {},
   "outputs": [
    {
     "data": {
      "text/plain": [
       "[1, 2, 3, 4, 5, 6, 7, 8, 9, 10, 11, 12, 13, 14, 15, 16, 17, 18, 19]"
      ]
     },
     "execution_count": 17,
     "metadata": {},
     "output_type": "execute_result"
    }
   ],
   "source": [
    "lst = [i for i in range(1,20)]\n",
    "lst"
   ]
  },
  {
   "cell_type": "code",
   "execution_count": 20,
   "id": "35fca695",
   "metadata": {},
   "outputs": [],
   "source": [
    "i  = 0\n",
    "even =[]\n",
    "while i < len(lst):\n",
    "    if lst[i] %2 ==0:\n",
    "      even.append(lst[i])\n",
    "    i = i +1"
   ]
  },
  {
   "cell_type": "code",
   "execution_count": 21,
   "id": "9f864d06",
   "metadata": {},
   "outputs": [
    {
     "data": {
      "text/plain": [
       "[2, 4, 6, 8, 10, 12, 14, 16, 18]"
      ]
     },
     "execution_count": 21,
     "metadata": {},
     "output_type": "execute_result"
    }
   ],
   "source": [
    "even"
   ]
  },
  {
   "cell_type": "code",
   "execution_count": 27,
   "id": "6902f322",
   "metadata": {},
   "outputs": [
    {
     "name": "stdout",
     "output_type": "stream",
     "text": [
      "1---> cube: 1\n",
      "2---> cube: 8\n",
      "3---> cube: 27\n",
      "5---> cube: 125\n",
      "1.2---> cube: 1.7279999999999998\n"
     ]
    }
   ],
   "source": [
    "a = [1,2,3,5,1.2]\n",
    "i = 0\n",
    "while i<len(a):\n",
    "    print(a[i],end=\"--->\")\n",
    "    cube = a[i] **3\n",
    "    print(f\" cube: {cube}\")\n",
    "    i +=1"
   ]
  },
  {
   "cell_type": "code",
   "execution_count": 28,
   "id": "35bea0b4",
   "metadata": {},
   "outputs": [
    {
     "data": {
      "text/plain": [
       "'python'"
      ]
     },
     "execution_count": 28,
     "metadata": {},
     "output_type": "execute_result"
    }
   ],
   "source": [
    "s"
   ]
  },
  {
   "cell_type": "code",
   "execution_count": null,
   "id": "56015824",
   "metadata": {},
   "outputs": [
    {
     "ename": "KeyError",
     "evalue": "0",
     "output_type": "error",
     "traceback": [
      "\u001b[1;31m---------------------------------------------------------------------------\u001b[0m",
      "\u001b[1;31mKeyError\u001b[0m                                  Traceback (most recent call last)",
      "Cell \u001b[1;32mIn[38], line 5\u001b[0m\n\u001b[0;32m      3\u001b[0m i\u001b[38;5;241m=\u001b[39m\u001b[38;5;241m0\u001b[39m\n\u001b[0;32m      4\u001b[0m \u001b[38;5;28;01mwhile\u001b[39;00m i \u001b[38;5;241m<\u001b[39m \u001b[38;5;28mlen\u001b[39m(d\u001b[38;5;241m.\u001b[39mkeys()):\n\u001b[1;32m----> 5\u001b[0m     \u001b[38;5;28mprint\u001b[39m(d[i])\n\u001b[0;32m      6\u001b[0m     i \u001b[38;5;241m+\u001b[39m\u001b[38;5;241m=\u001b[39m\u001b[38;5;241m1\u001b[39m\n",
      "\u001b[1;31mKeyError\u001b[0m: 0"
     ]
    }
   ],
   "source": [
    "d = {\"name\":\"ac\",\"age\":24,\"skill\":'ds'}\n",
    "\n",
    "i=0\n",
    "while i < len(d.keys()):\n",
    "    print(d[])\n",
    "    i +=1"
   ]
  },
  {
   "cell_type": "code",
   "execution_count": 44,
   "id": "d28ba4bb",
   "metadata": {},
   "outputs": [
    {
     "ename": "TypeError",
     "evalue": "'list' object is not callable",
     "output_type": "error",
     "traceback": [
      "\u001b[1;31m---------------------------------------------------------------------------\u001b[0m",
      "\u001b[1;31mTypeError\u001b[0m                                 Traceback (most recent call last)",
      "Cell \u001b[1;32mIn[44], line 1\u001b[0m\n\u001b[1;32m----> 1\u001b[0m \u001b[38;5;28mlist\u001b[39m(d\u001b[38;5;241m.\u001b[39mkeys())\n",
      "\u001b[1;31mTypeError\u001b[0m: 'list' object is not callable"
     ]
    }
   ],
   "source": [
    "list(d.keys())"
   ]
  },
  {
   "cell_type": "code",
   "execution_count": 45,
   "id": "f8ab1f82",
   "metadata": {},
   "outputs": [
    {
     "name": "stdout",
     "output_type": "stream",
     "text": [
      "O in index no 4\n"
     ]
    }
   ],
   "source": [
    "i = 0\n",
    "while i< len(s):\n",
    "    if s[i] ==\"o\":\n",
    "        print(f\"O in index no {i}\")\n",
    "    i +=1"
   ]
  },
  {
   "cell_type": "code",
   "execution_count": 47,
   "id": "577f8ef7",
   "metadata": {},
   "outputs": [
    {
     "name": "stdout",
     "output_type": "stream",
     "text": [
      "0\n",
      "1\n",
      "2\n",
      "3\n",
      "4\n",
      "5\n",
      "6\n",
      "7\n",
      "8\n",
      "9\n"
     ]
    }
   ],
   "source": [
    "i = 0\n",
    "n = 10\n",
    "while i<n:\n",
    "   print(i)\n",
    "   i =i +1"
   ]
  },
  {
   "cell_type": "code",
   "execution_count": 52,
   "id": "85aaba3f",
   "metadata": {},
   "outputs": [
    {
     "name": "stdout",
     "output_type": "stream",
     "text": [
      "10\n",
      "9\n",
      "8\n",
      "7\n",
      "6\n",
      "5\n",
      "4\n",
      "3\n",
      "2\n",
      "1\n"
     ]
    }
   ],
   "source": [
    "i = 0\n",
    "n= 10\n",
    "while i<n:\n",
    "     print(n -i)\n",
    "     i +=1"
   ]
  },
  {
   "cell_type": "code",
   "execution_count": 61,
   "id": "553edb4e",
   "metadata": {},
   "outputs": [
    {
     "name": "stdout",
     "output_type": "stream",
     "text": [
      "18\n",
      "16\n",
      "12\n",
      "4\n"
     ]
    }
   ],
   "source": [
    "i = 2\n",
    "n = 20\n",
    "while i < n:\n",
    "    print(n -i)\n",
    "    i += i"
   ]
  },
  {
   "cell_type": "code",
   "execution_count": 64,
   "id": "5dca3891",
   "metadata": {},
   "outputs": [
    {
     "name": "stdout",
     "output_type": "stream",
     "text": [
      "45\n",
      "40\n",
      "30\n",
      "10\n"
     ]
    }
   ],
   "source": [
    "i = 5\n",
    "n = 50\n",
    "while i < n:\n",
    "    print(n -i)\n",
    "    i += i"
   ]
  },
  {
   "cell_type": "code",
   "execution_count": 67,
   "id": "bc99ba11",
   "metadata": {},
   "outputs": [
    {
     "name": "stdout",
     "output_type": "stream",
     "text": [
      "1\n",
      "3\n",
      "6\n",
      "10\n",
      "15\n",
      "21\n",
      "28\n",
      "36\n",
      "45\n",
      "55\n",
      "66\n",
      "78\n",
      "91\n",
      "105\n",
      "120\n",
      "136\n",
      "153\n",
      "171\n",
      "190\n",
      "210\n",
      "231\n",
      "253\n",
      "276\n",
      "300\n",
      "325\n",
      "351\n",
      "378\n",
      "406\n",
      "435\n",
      "465\n",
      "496\n",
      "528\n",
      "561\n",
      "595\n",
      "630\n",
      "666\n",
      "703\n",
      "741\n",
      "780\n",
      "820\n",
      "861\n",
      "903\n",
      "946\n",
      "990\n",
      "1035\n",
      "1081\n",
      "1128\n",
      "1176\n",
      "1225\n"
     ]
    }
   ],
   "source": [
    "i = 1\n",
    "n = 50\n",
    "count =0\n",
    "while i<n:\n",
    "   count +=i\n",
    "   print(count)\n",
    "   i +=1"
   ]
  },
  {
   "cell_type": "code",
   "execution_count": 89,
   "id": "78ace9fc",
   "metadata": {},
   "outputs": [],
   "source": [
    "num = 5\n",
    "n=1\n",
    "while num < 1:\n",
    "    print(n*2)\n",
    "    num +=1"
   ]
  },
  {
   "cell_type": "code",
   "execution_count": 80,
   "id": "c73b2254",
   "metadata": {},
   "outputs": [
    {
     "data": {
      "text/plain": [
       "1"
      ]
     },
     "execution_count": 80,
     "metadata": {},
     "output_type": "execute_result"
    }
   ],
   "source": [
    "count"
   ]
  },
  {
   "cell_type": "code",
   "execution_count": 105,
   "id": "276da095",
   "metadata": {},
   "outputs": [
    {
     "name": "stdout",
     "output_type": "stream",
     "text": [
      "Your password is too short.\n",
      "Weak password. Try again.\n",
      "Your password is strong 💪\n"
     ]
    }
   ],
   "source": [
    "password = input(\"Enter password: \")\n",
    "\n",
    "while True:\n",
    "    if len(password) > 8:\n",
    "        if (any(i.isdigit() for i in password) and \n",
    "            any(i.islower() for i in password) and \n",
    "            any(i.isupper() for i in password)):\n",
    "            print(\"Your password is strong 💪\")\n",
    "            break\n",
    "        else:\n",
    "            print(\"Weak password. Try again.\")\n",
    "            password = input(\"Enter new password: \")\n",
    "    else:\n",
    "        print(\"Your password is too short.\")\n",
    "        password = input(\"Enter new password: \")\n"
   ]
  },
  {
   "cell_type": "code",
   "execution_count": 107,
   "id": "7932b907",
   "metadata": {},
   "outputs": [
    {
     "name": "stdout",
     "output_type": "stream",
     "text": [
      "your age 24.0\n"
     ]
    }
   ],
   "source": [
    "age = float(input())\n",
    "while True:\n",
    "   if age>0 and age<=120:\n",
    "      print(\"your age\",age)\n",
    "      break\n",
    "   else:\n",
    "      print(\"Enter Age Between 0-120\")\n",
    "      age = float(input())"
   ]
  },
  {
   "cell_type": "code",
   "execution_count": null,
   "id": "914833ca",
   "metadata": {},
   "outputs": [],
   "source": []
  }
 ],
 "metadata": {
  "kernelspec": {
   "display_name": "base",
   "language": "python",
   "name": "python3"
  },
  "language_info": {
   "codemirror_mode": {
    "name": "ipython",
    "version": 3
   },
   "file_extension": ".py",
   "mimetype": "text/x-python",
   "name": "python",
   "nbconvert_exporter": "python",
   "pygments_lexer": "ipython3",
   "version": "3.12.7"
  }
 },
 "nbformat": 4,
 "nbformat_minor": 5
}
