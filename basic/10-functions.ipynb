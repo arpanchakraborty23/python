{
 "cells": [
  {
   "cell_type": "markdown",
   "id": "22582d5b",
   "metadata": {},
   "source": [
    "# Function\n",
    "\n",
    "* A function is a block of code that perfoms a specific task. functions helps in organize, reuse, improvement of code.\n",
    "\n",
    "* This idea is put to some commonly or repeatedly done task together and makes functions s0 that instead of writing the same code again and again for different inputs, we can do the function calls to reuse code contained in it over and over again"
   ]
  },
  {
   "cell_type": "code",
   "execution_count": 1,
   "id": "bf5a0fbf",
   "metadata": {},
   "outputs": [],
   "source": [
    "# syntax\n",
    "def function_name(parameter):\n",
    "\t\"\"\"doc string\"\"\"\n",
    "\t# code block\n",
    "\treturn"
   ]
  },
  {
   "cell_type": "code",
   "execution_count": 1,
   "id": "0df986c6",
   "metadata": {},
   "outputs": [],
   "source": [
    "def name():\n",
    "    print(\"This is a name function\")"
   ]
  },
  {
   "cell_type": "code",
   "execution_count": 2,
   "id": "3a7057e8",
   "metadata": {},
   "outputs": [
    {
     "name": "stdout",
     "output_type": "stream",
     "text": [
      "This is a name function\n"
     ]
    },
    {
     "data": {
      "text/plain": [
       "NoneType"
      ]
     },
     "execution_count": 2,
     "metadata": {},
     "output_type": "execute_result"
    }
   ],
   "source": [
    "type(name())"
   ]
  },
  {
   "cell_type": "code",
   "execution_count": 3,
   "id": "490348c8",
   "metadata": {},
   "outputs": [
    {
     "data": {
      "text/plain": [
       "'accakra'"
      ]
     },
     "execution_count": 3,
     "metadata": {},
     "output_type": "execute_result"
    }
   ],
   "source": [
    "\"ac\" + \"cakra\""
   ]
  },
  {
   "cell_type": "code",
   "execution_count": 4,
   "id": "43587303",
   "metadata": {},
   "outputs": [
    {
     "ename": "TypeError",
     "evalue": "unsupported operand type(s) for +: 'function' and 'str'",
     "output_type": "error",
     "traceback": [
      "\u001b[1;31m---------------------------------------------------------------------------\u001b[0m",
      "\u001b[1;31mTypeError\u001b[0m                                 Traceback (most recent call last)",
      "Cell \u001b[1;32mIn[4], line 1\u001b[0m\n\u001b[1;32m----> 1\u001b[0m name \u001b[38;5;241m+\u001b[39m \u001b[38;5;124m\"\u001b[39m\u001b[38;5;124mpython\u001b[39m\u001b[38;5;124m\"\u001b[39m\n",
      "\u001b[1;31mTypeError\u001b[0m: unsupported operand type(s) for +: 'function' and 'str'"
     ]
    }
   ],
   "source": [
    "name + \"python\""
   ]
  },
  {
   "cell_type": "code",
   "execution_count": 5,
   "id": "f7e49253",
   "metadata": {},
   "outputs": [],
   "source": [
    "def ac():\n",
    "    return \" this is first return\""
   ]
  },
  {
   "cell_type": "code",
   "execution_count": 6,
   "id": "965d83a2",
   "metadata": {},
   "outputs": [
    {
     "data": {
      "text/plain": [
       "' this is first return'"
      ]
     },
     "execution_count": 6,
     "metadata": {},
     "output_type": "execute_result"
    }
   ],
   "source": [
    "ac()"
   ]
  },
  {
   "cell_type": "code",
   "execution_count": 7,
   "id": "dc663d17",
   "metadata": {},
   "outputs": [
    {
     "data": {
      "text/plain": [
       "' this is first returnpython'"
      ]
     },
     "execution_count": 7,
     "metadata": {},
     "output_type": "execute_result"
    }
   ],
   "source": [
    "ac() + \"python\""
   ]
  },
  {
   "cell_type": "code",
   "execution_count": 8,
   "id": "0bfd05f1",
   "metadata": {},
   "outputs": [
    {
     "data": {
      "text/plain": [
       "str"
      ]
     },
     "execution_count": 8,
     "metadata": {},
     "output_type": "execute_result"
    }
   ],
   "source": [
    "type(ac())"
   ]
  },
  {
   "cell_type": "code",
   "execution_count": 9,
   "id": "4d36f5a4",
   "metadata": {},
   "outputs": [],
   "source": [
    "# list\n",
    "def name1():\n",
    "    print([1,5,2,3])"
   ]
  },
  {
   "cell_type": "markdown",
   "id": "1f5b41ba",
   "metadata": {},
   "source": [
    "* Difference between print and return is that print just show the result but return pass data that can use for another pogram"
   ]
  },
  {
   "cell_type": "code",
   "execution_count": 10,
   "id": "c76fb076",
   "metadata": {},
   "outputs": [
    {
     "data": {
      "text/plain": [
       "<function __main__.name1()>"
      ]
     },
     "execution_count": 10,
     "metadata": {},
     "output_type": "execute_result"
    }
   ],
   "source": [
    "name1"
   ]
  },
  {
   "cell_type": "code",
   "execution_count": 11,
   "id": "2c8519db",
   "metadata": {},
   "outputs": [
    {
     "name": "stdout",
     "output_type": "stream",
     "text": [
      "[1, 5, 2, 3]\n"
     ]
    }
   ],
   "source": [
    "name1()"
   ]
  },
  {
   "cell_type": "code",
   "execution_count": 12,
   "id": "1c3145ff",
   "metadata": {},
   "outputs": [],
   "source": [
    "def name2():\n",
    "    return [1,5,2,3]"
   ]
  },
  {
   "cell_type": "code",
   "execution_count": 14,
   "id": "b1938d98",
   "metadata": {},
   "outputs": [
    {
     "data": {
      "text/plain": [
       "[1, 5, 2, 3]"
      ]
     },
     "execution_count": 14,
     "metadata": {},
     "output_type": "execute_result"
    }
   ],
   "source": [
    "name2()"
   ]
  },
  {
   "cell_type": "code",
   "execution_count": 15,
   "id": "18fd7b08",
   "metadata": {},
   "outputs": [
    {
     "data": {
      "text/plain": [
       "(1, 2, 3)"
      ]
     },
     "execution_count": 15,
     "metadata": {},
     "output_type": "execute_result"
    }
   ],
   "source": [
    "# tuple\n",
    "def tup():\n",
    "    return(1,2,3)\n",
    "tup()"
   ]
  },
  {
   "cell_type": "code",
   "execution_count": 16,
   "id": "f8b40077",
   "metadata": {},
   "outputs": [
    {
     "data": {
      "text/plain": [
       "{1, 2, 3}"
      ]
     },
     "execution_count": 16,
     "metadata": {},
     "output_type": "execute_result"
    }
   ],
   "source": [
    "# set\n",
    "def sets():\n",
    "    return{1,2,3}\n",
    "sets()"
   ]
  },
  {
   "cell_type": "code",
   "execution_count": 17,
   "id": "cbf2444a",
   "metadata": {},
   "outputs": [
    {
     "data": {
      "text/plain": [
       "{'name': 'ac'}"
      ]
     },
     "execution_count": 17,
     "metadata": {},
     "output_type": "execute_result"
    }
   ],
   "source": [
    "# dict\n",
    "def dit():\n",
    "    return{\"name\":\"ac\"}\n",
    "dit()"
   ]
  },
  {
   "cell_type": "code",
   "execution_count": 19,
   "id": "e098c97c",
   "metadata": {},
   "outputs": [
    {
     "ename": "SyntaxError",
     "evalue": "incomplete input (616651418.py, line 1)",
     "output_type": "error",
     "traceback": [
      "\u001b[1;36m  Cell \u001b[1;32mIn[19], line 1\u001b[1;36m\u001b[0m\n\u001b[1;33m    def n():\u001b[0m\n\u001b[1;37m            ^\u001b[0m\n\u001b[1;31mSyntaxError\u001b[0m\u001b[1;31m:\u001b[0m incomplete input\n"
     ]
    }
   ],
   "source": [
    "def n():"
   ]
  },
  {
   "cell_type": "code",
   "execution_count": 20,
   "id": "4f1da26f",
   "metadata": {},
   "outputs": [],
   "source": [
    "def n():\n",
    "    pass"
   ]
  },
  {
   "cell_type": "code",
   "execution_count": 21,
   "id": "9657db33",
   "metadata": {},
   "outputs": [],
   "source": [
    "def r():\n",
    "    return 1,[1,2,3]"
   ]
  },
  {
   "cell_type": "code",
   "execution_count": 23,
   "id": "6eb6e8d6",
   "metadata": {},
   "outputs": [
    {
     "data": {
      "text/plain": [
       "tuple"
      ]
     },
     "execution_count": 23,
     "metadata": {},
     "output_type": "execute_result"
    }
   ],
   "source": [
    "type(r())"
   ]
  },
  {
   "cell_type": "code",
   "execution_count": 25,
   "id": "d9ee3f79",
   "metadata": {},
   "outputs": [
    {
     "data": {
      "text/plain": [
       "int"
      ]
     },
     "execution_count": 25,
     "metadata": {},
     "output_type": "execute_result"
    }
   ],
   "source": [
    "def r2():\n",
    "    return 1\n",
    "type(r2())"
   ]
  },
  {
   "cell_type": "code",
   "execution_count": 30,
   "id": "24982d16",
   "metadata": {},
   "outputs": [
    {
     "name": "stdout",
     "output_type": "stream",
     "text": [
      "current x value: 0\n",
      "updated x value: 1\n",
      "===============\n",
      "current x value: 1\n",
      "updated x value: 2\n",
      "===============\n",
      "current x value: 2\n",
      "updated x value: 3\n",
      "===============\n",
      "current x value: 3\n",
      "updated x value: 4\n",
      "===============\n",
      "current x value: 4\n",
      "updated x value: 5\n",
      "===============\n",
      "current x value: 5\n",
      "updated x value: 6\n",
      "===============\n",
      "current x value: 6\n",
      "updated x value: 7\n",
      "===============\n",
      "current x value: 7\n",
      "updated x value: 8\n",
      "===============\n",
      "current x value: 8\n",
      "updated x value: 9\n",
      "===============\n",
      "current x value: 9\n",
      "updated x value: 10\n",
      "===============\n"
     ]
    }
   ],
   "source": [
    "x=0\n",
    "y =10\n",
    "\n",
    "while x<y:\n",
    "    print(\"current x value:\",x)\n",
    "    x = x +1\n",
    "    print(\"updated x value:\",x)\n",
    "    print(\"=\"*15)"
   ]
  },
  {
   "cell_type": "code",
   "execution_count": 35,
   "id": "3fb36d41",
   "metadata": {},
   "outputs": [],
   "source": [
    "def f1(x, y):\n",
    "    x = x\n",
    "    y = y\n",
    "    while x < y:\n",
    "        print(\"current x value:\", x)\n",
    "        x = x + 1\n",
    "        print(\"updated x value:\", x)\n",
    "        print(\"=\" * 15)"
   ]
  },
  {
   "cell_type": "code",
   "execution_count": 38,
   "id": "640263c3",
   "metadata": {},
   "outputs": [
    {
     "name": "stdout",
     "output_type": "stream",
     "text": [
      "current x value: 0\n",
      "updated x value: 1\n",
      "===============\n",
      "current x value: 1\n",
      "updated x value: 2\n",
      "===============\n",
      "current x value: 2\n",
      "updated x value: 3\n",
      "===============\n",
      "current x value: 3\n",
      "updated x value: 4\n",
      "===============\n",
      "current x value: 4\n",
      "updated x value: 5\n",
      "===============\n"
     ]
    }
   ],
   "source": [
    "f = f1(x =0,y=5)"
   ]
  },
  {
   "cell_type": "code",
   "execution_count": 39,
   "id": "e80156b4",
   "metadata": {},
   "outputs": [
    {
     "name": "stdout",
     "output_type": "stream",
     "text": [
      "current x value: 10\n",
      "updated x value: 11\n",
      "===============\n",
      "current x value: 11\n",
      "updated x value: 12\n",
      "===============\n",
      "current x value: 12\n",
      "updated x value: 13\n",
      "===============\n",
      "current x value: 13\n",
      "updated x value: 14\n",
      "===============\n",
      "current x value: 14\n",
      "updated x value: 15\n",
      "===============\n"
     ]
    }
   ],
   "source": [
    "f1(10,15)"
   ]
  },
  {
   "cell_type": "code",
   "execution_count": 40,
   "id": "85306e8c",
   "metadata": {},
   "outputs": [
    {
     "name": "stdout",
     "output_type": "stream",
     "text": [
      "[1, 2, 3, 6, 54]\n"
     ]
    }
   ],
   "source": [
    "a = [1,2,3,6,54,\"ac\"]\n",
    "l1 = []\n",
    "for i in a:\n",
    "    if type(i) == int:\n",
    "      l1.append(i)\n",
    "print(l1)"
   ]
  },
  {
   "cell_type": "code",
   "execution_count": null,
   "id": "1ff9c4f5",
   "metadata": {},
   "outputs": [
    {
     "ename": "IndentationError",
     "evalue": "unindent does not match any outer indentation level (<string>, line 6)",
     "output_type": "error",
     "traceback": [
      "\u001b[1;36m  File \u001b[1;32m<string>:6\u001b[1;36m\u001b[0m\n\u001b[1;33m    return l1\u001b[0m\n\u001b[1;37m             ^\u001b[0m\n\u001b[1;31mIndentationError\u001b[0m\u001b[1;31m:\u001b[0m unindent does not match any outer indentation level\n"
     ]
    }
   ],
   "source": [
    "def integer(lst):\n",
    "\tl1 = []\n",
    "\tfor i in lst:\n",
    "\t\tif type(i) == int:\n",
    "\t\t\tl1.append(i)\n",
    "\treturn l1"
   ]
  },
  {
   "cell_type": "code",
   "execution_count": 53,
   "id": "53919134",
   "metadata": {},
   "outputs": [],
   "source": [
    "def integer(lst):\n",
    "    l=[]\n",
    "    for i in lst:\n",
    "      if type(i)==int:\n",
    "         l.append(i)\n",
    "    return l"
   ]
  },
  {
   "cell_type": "code",
   "execution_count": 54,
   "id": "7b466274",
   "metadata": {},
   "outputs": [
    {
     "data": {
      "text/plain": [
       "[1, 2, 3, 5, 3, 1]"
      ]
     },
     "execution_count": 54,
     "metadata": {},
     "output_type": "execute_result"
    }
   ],
   "source": [
    "integer([1,2,3,5,3,1,\"ac\",5+5j])"
   ]
  },
  {
   "cell_type": "code",
   "execution_count": 57,
   "id": "d979f77d",
   "metadata": {},
   "outputs": [],
   "source": [
    "def string_reverse(s):\n",
    "    \"This is reversing string\"\n",
    "    splits = s.split()\n",
    "    print(\"splits of string :\",splits)\n",
    "    inversed = splits[::-1]\n",
    "    print(f\"inversed string in list:{inversed}\")\n",
    "    final = \" \".join(inversed)\n",
    "    return final"
   ]
  },
  {
   "cell_type": "code",
   "execution_count": 58,
   "id": "63b4ca28",
   "metadata": {},
   "outputs": [
    {
     "name": "stdout",
     "output_type": "stream",
     "text": [
      "splits of string : ['This', 'is', 'Function', 'Practice']\n",
      "inversed string in list:['Practice', 'Function', 'is', 'This']\n"
     ]
    },
    {
     "data": {
      "text/plain": [
       "'Practice Function is This'"
      ]
     },
     "execution_count": 58,
     "metadata": {},
     "output_type": "execute_result"
    }
   ],
   "source": [
    "string_reverse(\"This is Function Practice\")"
   ]
  },
  {
   "cell_type": "code",
   "execution_count": 61,
   "id": "6c4c0d1e",
   "metadata": {},
   "outputs": [
    {
     "name": "stdout",
     "output_type": "stream",
     "text": [
      "level is a palindrome\n"
     ]
    }
   ],
   "source": [
    "# palindrome\n",
    "def palindrome(s):\n",
    "\tif s == s[::-1]:\n",
    "\t\tprint(f\"{s} is a palindrome\")\n",
    "\telse:\n",
    "\t\tprint(\"Not palindrom\")\n",
    "\n",
    "palindrome(\"level\")"
   ]
  },
  {
   "cell_type": "code",
   "execution_count": 62,
   "id": "aad284be",
   "metadata": {},
   "outputs": [
    {
     "name": "stdout",
     "output_type": "stream",
     "text": [
      "Not palindrom\n"
     ]
    }
   ],
   "source": [
    "palindrome(\"master\")"
   ]
  },
  {
   "cell_type": "code",
   "execution_count": 82,
   "id": "1f020798",
   "metadata": {},
   "outputs": [
    {
     "name": "stdout",
     "output_type": "stream",
     "text": [
      "gfg is best gfg also has classes now. classes help understand better\n"
     ]
    },
    {
     "data": {
      "text/plain": [
       "['has',\n",
       " 'gfg',\n",
       " 'best',\n",
       " 'classes',\n",
       " 'help',\n",
       " 'also',\n",
       " 'better',\n",
       " 'understand',\n",
       " 'now.',\n",
       " 'is']"
      ]
     },
     "execution_count": 82,
     "metadata": {},
     "output_type": "execute_result"
    }
   ],
   "source": [
    "#python program for unique items, removing duplicate items in string i.e only unique items\n",
    "txt = 'Gfg is best Gfg also has Classes now. Classes help understand better'\n",
    "\n",
    "def unique(s:str):\n",
    "    lower = s.lower()\n",
    "    print(lower)\n",
    "    split = lower.split()\n",
    "    lst = list(set(split))\n",
    "    return lst\n",
    "unique(txt)"
   ]
  },
  {
   "cell_type": "code",
   "execution_count": 103,
   "id": "1bbdd460",
   "metadata": {},
   "outputs": [],
   "source": [
    "# Find all duplicate characters in string\n",
    "def duplicates(s:str):\n",
    "   lower = s.lower()\n",
    "   print(lower)\n",
    "   d ={}\n",
    "   for word in lower:\n",
    "      if word in d:\n",
    "         d[word] +=1\n",
    "      else :\n",
    "         d[word] =1\n",
    "   lst =[k for k,v in d.items() if v>=1]\n",
    "   return lst"
   ]
  },
  {
   "cell_type": "code",
   "execution_count": 104,
   "id": "0b8aa493",
   "metadata": {},
   "outputs": [
    {
     "name": "stdout",
     "output_type": "stream",
     "text": [
      "gfg is best gfg also has classes now. classes help understand better\n"
     ]
    },
    {
     "data": {
      "text/plain": [
       "['g',\n",
       " 'f',\n",
       " ' ',\n",
       " 'i',\n",
       " 's',\n",
       " 'b',\n",
       " 'e',\n",
       " 't',\n",
       " 'a',\n",
       " 'l',\n",
       " 'o',\n",
       " 'h',\n",
       " 'c',\n",
       " 'n',\n",
       " 'w',\n",
       " '.',\n",
       " 'p',\n",
       " 'u',\n",
       " 'd',\n",
       " 'r']"
      ]
     },
     "execution_count": 104,
     "metadata": {},
     "output_type": "execute_result"
    }
   ],
   "source": [
    "duplicates(txt)"
   ]
  },
  {
   "cell_type": "code",
   "execution_count": 109,
   "id": "d28a3fb4",
   "metadata": {},
   "outputs": [],
   "source": [
    "# half string\n",
    "def half_string(s:int):\n",
    "    half_len = len(s)//2\n",
    "    print(half_len)\n",
    "    return s[:half_len]"
   ]
  },
  {
   "cell_type": "code",
   "execution_count": 110,
   "id": "e6ce73ab",
   "metadata": {},
   "outputs": [
    {
     "name": "stdout",
     "output_type": "stream",
     "text": [
      "34\n"
     ]
    },
    {
     "data": {
      "text/plain": [
       "'Gfg is best Gfg also has Classes n'"
      ]
     },
     "execution_count": 110,
     "metadata": {},
     "output_type": "execute_result"
    }
   ],
   "source": [
    "half_string(txt)"
   ]
  },
  {
   "cell_type": "markdown",
   "id": "bba6aabe",
   "metadata": {},
   "source": [
    "# Docstring\n",
    "* A doc string is a special kind of string that appears right after function name.\n",
    "* Helps understand what the code does without reading the code."
   ]
  },
  {
   "cell_type": "code",
   "execution_count": 113,
   "id": "5fcdcc68",
   "metadata": {},
   "outputs": [],
   "source": [
    "def odd_even(num):\n",
    "   \"\"\"\n",
    "   This is a function to check num is even or odd\n",
    "   input : takes input as integer\n",
    "   output : string even or odd\n",
    "   \"\"\"\n",
    "   if type(num)==int:\n",
    "      if num%2==0:\n",
    "         print(f\"{num} is even no\")\n",
    "      else:\n",
    "         print(f\"{num} is odd no\")\n",
    "   else:\n",
    "      print(\"invalid input\")"
   ]
  },
  {
   "cell_type": "code",
   "execution_count": 114,
   "id": "6aa9ae8e",
   "metadata": {},
   "outputs": [
    {
     "name": "stdout",
     "output_type": "stream",
     "text": [
      "1 is odd no\n",
      "2 is even no\n",
      "3 is odd no\n",
      "4 is even no\n",
      "5 is odd no\n",
      "6 is even no\n",
      "7 is odd no\n",
      "8 is even no\n",
      "9 is odd no\n"
     ]
    }
   ],
   "source": [
    "for i in range(1,10):\n",
    "   odd_even(i)"
   ]
  },
  {
   "cell_type": "code",
   "execution_count": 116,
   "id": "df7bbc5b",
   "metadata": {},
   "outputs": [
    {
     "name": "stdout",
     "output_type": "stream",
     "text": [
      "\n",
      "   This is a function to check num is even or odd\n",
      "   input : takes input as integer\n",
      "   output : string even or odd\n",
      "   \n"
     ]
    }
   ],
   "source": [
    "print(odd_even.__doc__)"
   ]
  },
  {
   "cell_type": "code",
   "execution_count": 117,
   "id": "81ec3114",
   "metadata": {},
   "outputs": [
    {
     "name": "stdout",
     "output_type": "stream",
     "text": [
      "Compile source into a code object that can be executed by exec() or eval().\n",
      "\n",
      "The source code may represent a Python module, statement or expression.\n",
      "The filename will be used for run-time error messages.\n",
      "The mode must be 'exec' to compile a module, 'single' to compile a\n",
      "single (interactive) statement, or 'eval' to compile an expression.\n",
      "The flags argument, if present, controls which future statements influence\n",
      "the compilation of the code.\n",
      "The dont_inherit argument, if true, stops the compilation inheriting\n",
      "the effects of any future statements in effect in the code calling\n",
      "compile; if absent or false these statements do influence the compilation,\n",
      "in addition to any features explicitly specified.\n"
     ]
    }
   ],
   "source": [
    "print(compile.__doc__)"
   ]
  },
  {
   "cell_type": "code",
   "execution_count": 118,
   "id": "991be9ac",
   "metadata": {},
   "outputs": [],
   "source": [
    "def calculate_area(length,width):\n",
    "   \"\"\" \n",
    "\t calculate are of a retangle\n",
    "    premrterss:\n",
    "\t length(float) :The length of the rectangle.\n",
    "    width (float): The width of the rectangle.\n",
    "\n",
    "    Returns:\n",
    "    float: The area of the rectangle.\n",
    "   \"\"\"\n",
    "   return length * width"
   ]
  },
  {
   "cell_type": "code",
   "execution_count": 119,
   "id": "f772e02e",
   "metadata": {},
   "outputs": [
    {
     "data": {
      "text/plain": [
       "15"
      ]
     },
     "execution_count": 119,
     "metadata": {},
     "output_type": "execute_result"
    }
   ],
   "source": [
    "calculate_area(5,3)"
   ]
  },
  {
   "cell_type": "markdown",
   "id": "f90b270b",
   "metadata": {},
   "source": [
    "# Types of Arguments\n",
    " \n",
    "> * Default Argument : A defualt argument is one that assumes a default value if no value provide by user\n",
    "> * Positional Argument: A Positional argument is an argument passes to a function based on its postion in function\n",
    "> * KeyWord Argument : A keyword argument is an argument passes to function using syntax arg =value"
   ]
  },
  {
   "cell_type": "code",
   "execution_count": 120,
   "id": "ef9108f3",
   "metadata": {},
   "outputs": [],
   "source": [
    "def sum(a,b):\n",
    "   return a +b"
   ]
  },
  {
   "cell_type": "code",
   "execution_count": 121,
   "id": "fd5cd5c8",
   "metadata": {},
   "outputs": [
    {
     "ename": "TypeError",
     "evalue": "sum() missing 2 required positional arguments: 'a' and 'b'",
     "output_type": "error",
     "traceback": [
      "\u001b[1;31m---------------------------------------------------------------------------\u001b[0m",
      "\u001b[1;31mTypeError\u001b[0m                                 Traceback (most recent call last)",
      "Cell \u001b[1;32mIn[121], line 1\u001b[0m\n\u001b[1;32m----> 1\u001b[0m \u001b[38;5;28msum\u001b[39m()\n",
      "\u001b[1;31mTypeError\u001b[0m: sum() missing 2 required positional arguments: 'a' and 'b'"
     ]
    }
   ],
   "source": [
    "sum()"
   ]
  },
  {
   "cell_type": "code",
   "execution_count": null,
   "id": "5f9b8ff7",
   "metadata": {},
   "outputs": [],
   "source": [
    "def sum(a=3,b=5): # keywords arguments\n",
    "   return a +b"
   ]
  },
  {
   "cell_type": "code",
   "execution_count": 123,
   "id": "7743b75c",
   "metadata": {},
   "outputs": [
    {
     "data": {
      "text/plain": [
       "8"
      ]
     },
     "execution_count": 123,
     "metadata": {},
     "output_type": "execute_result"
    }
   ],
   "source": [
    "sum()"
   ]
  },
  {
   "cell_type": "code",
   "execution_count": null,
   "id": "6e33c4e7",
   "metadata": {},
   "outputs": [
    {
     "name": "stdout",
     "output_type": "stream",
     "text": [
      "arpan Hello\n"
     ]
    }
   ],
   "source": [
    "def greet(name,message=\"Hello\"): # defualt arguments\n",
    "    print(f\"{name} {message}\")\n",
    "   \n",
    "greet(\"arpan\")"
   ]
  },
  {
   "cell_type": "code",
   "execution_count": 125,
   "id": "c283fb8c",
   "metadata": {},
   "outputs": [
    {
     "name": "stdout",
     "output_type": "stream",
     "text": [
      "arpan buddy\n"
     ]
    }
   ],
   "source": [
    "greet(\"arpan\",\"buddy\")"
   ]
  },
  {
   "cell_type": "code",
   "execution_count": null,
   "id": "334844fe",
   "metadata": {},
   "outputs": [],
   "source": [
    "# defualt argument\n",
    "def sum(a=2,b=3):\n",
    "   return a +b"
   ]
  },
  {
   "cell_type": "code",
   "execution_count": 127,
   "id": "419673f4",
   "metadata": {},
   "outputs": [
    {
     "data": {
      "text/plain": [
       "89"
      ]
     },
     "execution_count": 127,
     "metadata": {},
     "output_type": "execute_result"
    }
   ],
   "source": [
    "sum(4,85)"
   ]
  },
  {
   "cell_type": "code",
   "execution_count": 128,
   "id": "38f1a3d1",
   "metadata": {},
   "outputs": [],
   "source": [
    "# keyword arguments -> it passes as key=value pair\n",
    "# order doesn't matter as long we use corret parameter name"
   ]
  },
  {
   "cell_type": "code",
   "execution_count": null,
   "id": "9a59c893",
   "metadata": {},
   "outputs": [
    {
     "data": {
      "text/plain": [
       "'Mixing 200gm with 1 eggs and add 200ml and pancke ready to get heat'"
      ]
     },
     "execution_count": 130,
     "metadata": {},
     "output_type": "execute_result"
    }
   ],
   "source": [
    "def make_pancke(flour=200, eggs=2, milk=500): # defaualt argument\n",
    "   return f\"Mixing {flour}gm with {eggs} eggs and add {milk}ml and pancke ready to get heat\"\n",
    "\n",
    "make_pancke(flour=200,eggs=1,milk=200)"
   ]
  },
  {
   "cell_type": "markdown",
   "id": "18579144",
   "metadata": {},
   "source": [
    "# *args and ** Kwargs\n",
    "\n",
    "* *args: \n",
    "> when we don't know how many argument to pass into the function. it generally use with list,tuple, string"
   ]
  },
  {
   "cell_type": "code",
   "execution_count": 131,
   "id": "565436cc",
   "metadata": {},
   "outputs": [
    {
     "data": {
      "text/plain": [
       "90"
      ]
     },
     "execution_count": 131,
     "metadata": {},
     "output_type": "execute_result"
    }
   ],
   "source": [
    "def calculate_area(l,h,w):\n",
    "    return l* h* w\n",
    "calculate_area(5,3,6)"
   ]
  },
  {
   "cell_type": "code",
   "execution_count": null,
   "id": "3018f4be",
   "metadata": {},
   "outputs": [],
   "source": [
    "def calculate_area(*args): # positional argument\n",
    "    product = 1\n",
    "    for i in args:\n",
    "        product *=i\n",
    "    return product"
   ]
  },
  {
   "cell_type": "code",
   "execution_count": 142,
   "id": "1465335a",
   "metadata": {},
   "outputs": [
    {
     "data": {
      "text/plain": [
       "22176000"
      ]
     },
     "execution_count": 142,
     "metadata": {},
     "output_type": "execute_result"
    }
   ],
   "source": [
    "calculate_area(1,2,3,56,6,5,5,8,55,)"
   ]
  },
  {
   "cell_type": "code",
   "execution_count": 149,
   "id": "3346bc9f",
   "metadata": {},
   "outputs": [],
   "source": [
    "def f3(*args):\n",
    "    return {\"q\":5}"
   ]
  },
  {
   "cell_type": "code",
   "execution_count": 150,
   "id": "f4351fcf",
   "metadata": {},
   "outputs": [
    {
     "data": {
      "text/plain": [
       "{'q': 5}"
      ]
     },
     "execution_count": 150,
     "metadata": {},
     "output_type": "execute_result"
    }
   ],
   "source": [
    "f3(4,56)"
   ]
  },
  {
   "cell_type": "code",
   "execution_count": 151,
   "id": "9d7ad43c",
   "metadata": {},
   "outputs": [],
   "source": [
    "def f4(a,b,c,*m):\n",
    "    return( a,b,c,m)"
   ]
  },
  {
   "cell_type": "code",
   "execution_count": 152,
   "id": "a61682ee",
   "metadata": {},
   "outputs": [
    {
     "data": {
      "text/plain": [
       "(1, 2, 3, (5, 6, 8, 5, 21, 4, 78, 8, 85))"
      ]
     },
     "execution_count": 152,
     "metadata": {},
     "output_type": "execute_result"
    }
   ],
   "source": [
    "f4(1,2,3,5,6,8,5,21,4,78,8,85)"
   ]
  },
  {
   "cell_type": "code",
   "execution_count": 154,
   "id": "816ac0b1",
   "metadata": {},
   "outputs": [
    {
     "ename": "TypeError",
     "evalue": "f5() missing 4 required keyword-only arguments: 'p', 'q', 'r', and 's'",
     "output_type": "error",
     "traceback": [
      "\u001b[1;31m---------------------------------------------------------------------------\u001b[0m",
      "\u001b[1;31mTypeError\u001b[0m                                 Traceback (most recent call last)",
      "Cell \u001b[1;32mIn[154], line 4\u001b[0m\n\u001b[0;32m      1\u001b[0m \u001b[38;5;28;01mdef\u001b[39;00m \u001b[38;5;21mf5\u001b[39m(\u001b[38;5;241m*\u001b[39mx, p,q,r,s ):\n\u001b[0;32m      2\u001b[0m     \u001b[38;5;28;01mreturn\u001b[39;00m  x, p , q, r,s\n\u001b[1;32m----> 4\u001b[0m f5(\u001b[38;5;241m1\u001b[39m,\u001b[38;5;241m2\u001b[39m,\u001b[38;5;241m3\u001b[39m,\u001b[38;5;241m5\u001b[39m,\u001b[38;5;241m6\u001b[39m,\u001b[38;5;241m8\u001b[39m,\u001b[38;5;241m5\u001b[39m,\u001b[38;5;241m21\u001b[39m,\u001b[38;5;241m4\u001b[39m,\u001b[38;5;241m78\u001b[39m,\u001b[38;5;241m8\u001b[39m,\u001b[38;5;241m8\u001b[39m)\n",
      "\u001b[1;31mTypeError\u001b[0m: f5() missing 4 required keyword-only arguments: 'p', 'q', 'r', and 's'"
     ]
    }
   ],
   "source": [
    "def f5(*x, p,q,r,s ):\n",
    "    return  x, p , q, r,s\n",
    "\n",
    "f5(1,2,3,5,6,8,5,21,4,78,8,8)"
   ]
  },
  {
   "cell_type": "markdown",
   "id": "e1ed74de",
   "metadata": {},
   "source": [
    "# **kwargs\n",
    "* When don't lnow, how many keyword argument are going to pass is called **kwargs. It allow us to pass any no of keywords\n",
    "* keyword argument mean thay have key conten for every argument likely dictionary"
   ]
  },
  {
   "cell_type": "code",
   "execution_count": null,
   "id": "3cffc89a",
   "metadata": {},
   "outputs": [
    {
     "data": {
      "text/plain": [
       "{'a': 5, 'b': 5, 'c': 6, 'd': [1, 5, 97]}"
      ]
     },
     "execution_count": 155,
     "metadata": {},
     "output_type": "execute_result"
    }
   ],
   "source": [
    "def f5(**kwrgs): # keywords arguments\n",
    "   return kwrgs\n",
    "f5(a=5,b=5,c=6,d=[1,5,97])"
   ]
  },
  {
   "cell_type": "code",
   "execution_count": 157,
   "id": "0336a0e7",
   "metadata": {},
   "outputs": [
    {
     "ename": "TypeError",
     "evalue": "f6() takes 0 positional arguments but 1 was given",
     "output_type": "error",
     "traceback": [
      "\u001b[1;31m---------------------------------------------------------------------------\u001b[0m",
      "\u001b[1;31mTypeError\u001b[0m                                 Traceback (most recent call last)",
      "Cell \u001b[1;32mIn[157], line 9\u001b[0m\n\u001b[0;32m      2\u001b[0m    \u001b[38;5;28;01mreturn\u001b[39;00m kwrgs\u001b[38;5;241m.\u001b[39mvalues()\n\u001b[0;32m      4\u001b[0m my_dict \u001b[38;5;241m=\u001b[39m {\n\u001b[0;32m      5\u001b[0m     \u001b[38;5;124m\"\u001b[39m\u001b[38;5;124mname\u001b[39m\u001b[38;5;124m\"\u001b[39m: \u001b[38;5;124m\"\u001b[39m\u001b[38;5;124mAlice\u001b[39m\u001b[38;5;124m\"\u001b[39m,\n\u001b[0;32m      6\u001b[0m     \u001b[38;5;124m\"\u001b[39m\u001b[38;5;124mage\u001b[39m\u001b[38;5;124m\"\u001b[39m: \u001b[38;5;241m25\u001b[39m,\n\u001b[0;32m      7\u001b[0m     \u001b[38;5;124m\"\u001b[39m\u001b[38;5;124mjob\u001b[39m\u001b[38;5;124m\"\u001b[39m: \u001b[38;5;124m\"\u001b[39m\u001b[38;5;124mEngineer\u001b[39m\u001b[38;5;124m\"\u001b[39m\n\u001b[0;32m      8\u001b[0m }\n\u001b[1;32m----> 9\u001b[0m f6(my_dict)\n",
      "\u001b[1;31mTypeError\u001b[0m: f6() takes 0 positional arguments but 1 was given"
     ]
    }
   ],
   "source": [
    "def f6(**kwrgs):\n",
    "   return kwrgs.values()\n",
    "\n",
    "my_dict = {\n",
    "    \"name\": \"Alice\",\n",
    "    \"age\": 25,\n",
    "    \"job\": \"Engineer\"\n",
    "}\n",
    "f6(my_dict)"
   ]
  },
  {
   "cell_type": "code",
   "execution_count": 158,
   "id": "970693b5",
   "metadata": {},
   "outputs": [
    {
     "data": {
      "text/plain": [
       "dict_values([5, 5, 6, [1, 5, 97]])"
      ]
     },
     "execution_count": 158,
     "metadata": {},
     "output_type": "execute_result"
    }
   ],
   "source": [
    "f6(a=5,b=5,c=6,d=[1,5,97])"
   ]
  },
  {
   "cell_type": "code",
   "execution_count": 159,
   "id": "1620d0b4",
   "metadata": {},
   "outputs": [],
   "source": [
    "def display(**kwrgs):\n",
    "    for k,v in kwrgs.items():\n",
    "      print(f\"{k} --> {v}\")"
   ]
  },
  {
   "cell_type": "code",
   "execution_count": 160,
   "id": "88dd12c4",
   "metadata": {},
   "outputs": [
    {
     "name": "stdout",
     "output_type": "stream",
     "text": [
      "India --> Delhi\n",
      "France --> Paris\n",
      "Amarica --> NY\n"
     ]
    }
   ],
   "source": [
    "display(India = \"Delhi\",France=\"Paris\",Amarica=\"NY\")"
   ]
  },
  {
   "cell_type": "markdown",
   "id": "8287e02e",
   "metadata": {},
   "source": [
    "# Closure \n",
    "* A closure occurs when inner function remembers variables from the enclosing function even after the outer function has finished"
   ]
  },
  {
   "cell_type": "code",
   "execution_count": 161,
   "id": "2d04212a",
   "metadata": {},
   "outputs": [
    {
     "name": "stdout",
     "output_type": "stream",
     "text": [
      "11\n"
     ]
    }
   ],
   "source": [
    "def my_func():\n",
    "   x =10\n",
    "   x +=1\n",
    "   print(x)\n",
    "my_func()"
   ]
  },
  {
   "cell_type": "code",
   "execution_count": 164,
   "id": "74964a37",
   "metadata": {},
   "outputs": [],
   "source": [
    "def my_func():\n",
    "    x =10\n",
    "    def inner():\n",
    "      print(x)\n",
    "    inner()\n",
    "      "
   ]
  },
  {
   "cell_type": "code",
   "execution_count": 165,
   "id": "d2aa1962",
   "metadata": {},
   "outputs": [
    {
     "name": "stdout",
     "output_type": "stream",
     "text": [
      "10\n"
     ]
    }
   ],
   "source": [
    "my_func()"
   ]
  },
  {
   "cell_type": "code",
   "execution_count": 167,
   "id": "e3193fb8",
   "metadata": {},
   "outputs": [
    {
     "name": "stdout",
     "output_type": "stream",
     "text": [
      "10\n",
      "2\n",
      "20\n"
     ]
    }
   ],
   "source": [
    "y = 20\n",
    "def my_fun():\n",
    "    x =10\n",
    "    print(x)\n",
    "    y= 2\n",
    "    print(y)\n",
    "    \n",
    "my_fun()\n",
    "print(y)"
   ]
  },
  {
   "cell_type": "code",
   "execution_count": 168,
   "id": "e27e686d",
   "metadata": {},
   "outputs": [
    {
     "name": "stdout",
     "output_type": "stream",
     "text": [
      "10\n"
     ]
    },
    {
     "ename": "UnboundLocalError",
     "evalue": "cannot access local variable 'y' where it is not associated with a value",
     "output_type": "error",
     "traceback": [
      "\u001b[1;31m---------------------------------------------------------------------------\u001b[0m",
      "\u001b[1;31mUnboundLocalError\u001b[0m                         Traceback (most recent call last)",
      "Cell \u001b[1;32mIn[168], line 8\u001b[0m\n\u001b[0;32m      5\u001b[0m     y \u001b[38;5;241m+\u001b[39m\u001b[38;5;241m=\u001b[39m \u001b[38;5;241m2\u001b[39m\n\u001b[0;32m      6\u001b[0m     \u001b[38;5;28mprint\u001b[39m(y)\n\u001b[1;32m----> 8\u001b[0m my_fun()\n\u001b[0;32m      9\u001b[0m \u001b[38;5;28mprint\u001b[39m(y)\n",
      "Cell \u001b[1;32mIn[168], line 5\u001b[0m, in \u001b[0;36mmy_fun\u001b[1;34m()\u001b[0m\n\u001b[0;32m      3\u001b[0m x \u001b[38;5;241m=\u001b[39m\u001b[38;5;241m10\u001b[39m\n\u001b[0;32m      4\u001b[0m \u001b[38;5;28mprint\u001b[39m(x)\n\u001b[1;32m----> 5\u001b[0m y \u001b[38;5;241m+\u001b[39m\u001b[38;5;241m=\u001b[39m \u001b[38;5;241m2\u001b[39m\n\u001b[0;32m      6\u001b[0m \u001b[38;5;28mprint\u001b[39m(y)\n",
      "\u001b[1;31mUnboundLocalError\u001b[0m: cannot access local variable 'y' where it is not associated with a value"
     ]
    }
   ],
   "source": [
    "y = 20\n",
    "def my_fun():\n",
    "    x =10\n",
    "    print(x)\n",
    "    y += 2\n",
    "    print(y)\n",
    "    \n",
    "my_fun()\n",
    "print(y)"
   ]
  },
  {
   "cell_type": "code",
   "execution_count": 170,
   "id": "4f93e6e6",
   "metadata": {},
   "outputs": [
    {
     "name": "stdout",
     "output_type": "stream",
     "text": [
      "10\n",
      "22\n",
      "22\n"
     ]
    }
   ],
   "source": [
    "y = 20\n",
    "def my_fun():\n",
    "    x =10\n",
    "    print(x)\n",
    "    global y\n",
    "    y = y+2\n",
    "    print(y)\n",
    "    \n",
    "my_fun()\n",
    "print(y)"
   ]
  },
  {
   "cell_type": "code",
   "execution_count": 171,
   "id": "f8b4d780",
   "metadata": {},
   "outputs": [
    {
     "ename": "UnboundLocalError",
     "evalue": "cannot access local variable 'x' where it is not associated with a value",
     "output_type": "error",
     "traceback": [
      "\u001b[1;31m---------------------------------------------------------------------------\u001b[0m",
      "\u001b[1;31mUnboundLocalError\u001b[0m                         Traceback (most recent call last)",
      "Cell \u001b[1;32mIn[171], line 17\u001b[0m\n\u001b[0;32m     11\u001b[0m         \u001b[38;5;28mprint\u001b[39m(y)\n\u001b[0;32m     15\u001b[0m     my_fun()\n\u001b[1;32m---> 17\u001b[0m my_fun1()\n",
      "Cell \u001b[1;32mIn[171], line 15\u001b[0m, in \u001b[0;36mmy_fun1\u001b[1;34m()\u001b[0m\n\u001b[0;32m      9\u001b[0m     \u001b[38;5;28mprint\u001b[39m(x)\n\u001b[0;32m     11\u001b[0m     \u001b[38;5;28mprint\u001b[39m(y)\n\u001b[1;32m---> 15\u001b[0m my_fun()\n",
      "Cell \u001b[1;32mIn[171], line 8\u001b[0m, in \u001b[0;36mmy_fun1.<locals>.my_fun\u001b[1;34m()\u001b[0m\n\u001b[0;32m      5\u001b[0m \u001b[38;5;28;01mdef\u001b[39;00m \u001b[38;5;21mmy_fun\u001b[39m():\n\u001b[0;32m      6\u001b[0m     y\u001b[38;5;241m=\u001b[39m\u001b[38;5;241m20\u001b[39m\n\u001b[1;32m----> 8\u001b[0m     x \u001b[38;5;241m+\u001b[39m\u001b[38;5;241m=\u001b[39m\u001b[38;5;241m1\u001b[39m\n\u001b[0;32m      9\u001b[0m     \u001b[38;5;28mprint\u001b[39m(x)\n\u001b[0;32m     11\u001b[0m     \u001b[38;5;28mprint\u001b[39m(y)\n",
      "\u001b[1;31mUnboundLocalError\u001b[0m: cannot access local variable 'x' where it is not associated with a value"
     ]
    }
   ],
   "source": [
    "def my_fun1():\n",
    "\n",
    "    x = 10 \n",
    " \n",
    "    def my_fun():\n",
    "        y=20\n",
    "        \n",
    "        x +=1\n",
    "        print(x)\n",
    "        \n",
    "        print(y)\n",
    "    \n",
    "        \n",
    "\n",
    "    my_fun()\n",
    "\n",
    "my_fun1()"
   ]
  },
  {
   "cell_type": "code",
   "execution_count": 172,
   "id": "fceedd10",
   "metadata": {},
   "outputs": [
    {
     "name": "stdout",
     "output_type": "stream",
     "text": [
      "11\n",
      "20\n"
     ]
    }
   ],
   "source": [
    "def my_fun1():\n",
    "\n",
    "    x = 10 \n",
    " \n",
    "    def my_fun():\n",
    "        y=20\n",
    "        global x\n",
    "        x +=1\n",
    "        print(x)\n",
    "        \n",
    "        print(y)\n",
    "    \n",
    "        \n",
    "\n",
    "    my_fun()\n",
    "\n",
    "my_fun1()"
   ]
  },
  {
   "cell_type": "markdown",
   "id": "53360171",
   "metadata": {},
   "source": [
    "# LEGB Rule Explained\n",
    "The LEGB rule dictates how Python looks for variable names:\n",
    "\n",
    "* L (Local): Python first looks for a variable in the local scope (inside the current function).\n",
    "* E (Enclosing): If not found, it looks in the enclosing scope (inside any enclosing functions, in case of nested functions).\n",
    "* G (Global): If still not found, it checks the global scope (outside the function but in the current module).\n",
    "* B (Built-in): Finally, it checks the built-in scope for Python’s built-in functions and constants."
   ]
  },
  {
   "cell_type": "code",
   "execution_count": 173,
   "id": "21729a76",
   "metadata": {},
   "outputs": [],
   "source": [
    "# nested\n",
    "def outer_fun(outer):\n",
    "   def inner_fun(inner):\n",
    "      result = outer + inner\n",
    "      return result\n",
    "   result = inner_fun(5)\n",
    "   return result"
   ]
  },
  {
   "cell_type": "code",
   "execution_count": 174,
   "id": "d235876f",
   "metadata": {},
   "outputs": [
    {
     "data": {
      "text/plain": [
       "13"
      ]
     },
     "execution_count": 174,
     "metadata": {},
     "output_type": "execute_result"
    }
   ],
   "source": [
    "outer_fun(8)"
   ]
  },
  {
   "cell_type": "code",
   "execution_count": 177,
   "id": "f3c92f25",
   "metadata": {},
   "outputs": [],
   "source": [
    "def sum_of_cubs(a,b):\n",
    "   def cube(x):\n",
    "      return x**3\n",
    "   def sum(x,y):\n",
    "      return x +y\n",
    "   result = sum(cube(x),cube(b))\n",
    "   return result"
   ]
  },
  {
   "cell_type": "code",
   "execution_count": 178,
   "id": "1f7fa400",
   "metadata": {},
   "outputs": [
    {
     "data": {
      "text/plain": [
       "1456"
      ]
     },
     "execution_count": 178,
     "metadata": {},
     "output_type": "execute_result"
    }
   ],
   "source": [
    "sum_of_cubs(2,5)"
   ]
  },
  {
   "cell_type": "code",
   "execution_count": 3,
   "id": "b64c64d1",
   "metadata": {},
   "outputs": [
    {
     "name": "stdout",
     "output_type": "stream",
     "text": [
      "Hello\n"
     ]
    }
   ],
   "source": [
    "def greet():\n",
    "    message = \"Hello\"  # local variable\n",
    "    print(message)\n",
    "\n",
    "greet()\n"
   ]
  },
  {
   "cell_type": "code",
   "execution_count": 4,
   "id": "1bd62ec7",
   "metadata": {},
   "outputs": [
    {
     "name": "stdout",
     "output_type": "stream",
     "text": [
      "Hello\n"
     ]
    }
   ],
   "source": [
    "message = \"Hello\"  # global variable\n",
    "\n",
    "def greet():\n",
    "    print(message)  # accessing global variable\n",
    "\n",
    "greet()  # Output: Hello"
   ]
  },
  {
   "cell_type": "code",
   "execution_count": 5,
   "id": "6f5857eb",
   "metadata": {},
   "outputs": [
    {
     "ename": "UnboundLocalError",
     "evalue": "cannot access local variable 'x' where it is not associated with a value",
     "output_type": "error",
     "traceback": [
      "\u001b[1;31m---------------------------------------------------------------------------\u001b[0m",
      "\u001b[1;31mUnboundLocalError\u001b[0m                         Traceback (most recent call last)",
      "Cell \u001b[1;32mIn[5], line 6\u001b[0m\n\u001b[0;32m      3\u001b[0m \u001b[38;5;28;01mdef\u001b[39;00m \u001b[38;5;21mchange\u001b[39m():\n\u001b[0;32m      4\u001b[0m     x \u001b[38;5;241m=\u001b[39m x \u001b[38;5;241m+\u001b[39m \u001b[38;5;241m5\u001b[39m  \u001b[38;5;66;03m# UnboundLocalError: local variable 'x' referenced before assignment\u001b[39;00m\n\u001b[1;32m----> 6\u001b[0m change()\n",
      "Cell \u001b[1;32mIn[5], line 4\u001b[0m, in \u001b[0;36mchange\u001b[1;34m()\u001b[0m\n\u001b[0;32m      3\u001b[0m \u001b[38;5;28;01mdef\u001b[39;00m \u001b[38;5;21mchange\u001b[39m():\n\u001b[1;32m----> 4\u001b[0m     x \u001b[38;5;241m=\u001b[39m x \u001b[38;5;241m+\u001b[39m \u001b[38;5;241m5\u001b[39m\n",
      "\u001b[1;31mUnboundLocalError\u001b[0m: cannot access local variable 'x' where it is not associated with a value"
     ]
    }
   ],
   "source": [
    "x = 10\n",
    "\n",
    "def change():\n",
    "    x = x + 5  # UnboundLocalError: local variable 'x' referenced before assignment\n",
    "\n",
    "change()\n"
   ]
  },
  {
   "cell_type": "code",
   "execution_count": 6,
   "id": "db32a108",
   "metadata": {},
   "outputs": [],
   "source": [
    "x = 10\n",
    "\n",
    "def change():\n",
    "    x2 = x + 5  # UnboundLocalError: local variable 'x' referenced before assignment\n",
    "\n",
    "change()\n"
   ]
  },
  {
   "cell_type": "code",
   "execution_count": 7,
   "id": "da259e30",
   "metadata": {},
   "outputs": [
    {
     "name": "stdout",
     "output_type": "stream",
     "text": [
      "15\n"
     ]
    }
   ],
   "source": [
    "x = 10\n",
    "\n",
    "def change():\n",
    "    global x\n",
    "    x = x + 5\n",
    "\n",
    "change()\n",
    "print(x)  # Output: 15\n"
   ]
  },
  {
   "cell_type": "code",
   "execution_count": null,
   "id": "8a76e5ae",
   "metadata": {},
   "outputs": [],
   "source": []
  }
 ],
 "metadata": {
  "kernelspec": {
   "display_name": "base",
   "language": "python",
   "name": "python3"
  },
  "language_info": {
   "codemirror_mode": {
    "name": "ipython",
    "version": 3
   },
   "file_extension": ".py",
   "mimetype": "text/x-python",
   "name": "python",
   "nbconvert_exporter": "python",
   "pygments_lexer": "ipython3",
   "version": "3.12.7"
  }
 },
 "nbformat": 4,
 "nbformat_minor": 5
}
