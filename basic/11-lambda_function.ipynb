{
 "cells": [
  {
   "cell_type": "markdown",
   "id": "dfaf1e54",
   "metadata": {},
   "source": [
    "# Lambda function\n",
    "Lambda function is a anonymus function . It doesn't have any keywords like print, return, it only one keyword called lambda.\n",
    "it is use to create one line function,tipically for short tearm use."
   ]
  },
  {
   "cell_type": "code",
   "execution_count": 1,
   "id": "e9f25235",
   "metadata": {},
   "outputs": [
    {
     "data": {
      "text/plain": [
       "' \\nlambda is keyword use to define a lambda function\\nargument one or multipel argument. separated by a comma\\nexpression is to evaluate single oparation and return result \\n'"
      ]
     },
     "execution_count": 1,
     "metadata": {},
     "output_type": "execute_result"
    }
   ],
   "source": [
    "\"lambda argument : expression\"\n",
    "\"\"\" \n",
    "lambda is keyword use to define a lambda function\n",
    "argument one or multipel argument. separated by a comma\n",
    "expression is to evaluate single oparation and return result \n",
    "\"\"\""
   ]
  },
  {
   "cell_type": "code",
   "execution_count": 2,
   "id": "2c444887",
   "metadata": {},
   "outputs": [
    {
     "data": {
      "text/plain": [
       "11"
      ]
     },
     "execution_count": 2,
     "metadata": {},
     "output_type": "execute_result"
    }
   ],
   "source": [
    "def sum(a,b):\n",
    "   return a +b\n",
    "sum(5,6)"
   ]
  },
  {
   "cell_type": "code",
   "execution_count": 3,
   "id": "53803fa8",
   "metadata": {},
   "outputs": [
    {
     "data": {
      "text/plain": [
       "11"
      ]
     },
     "execution_count": 3,
     "metadata": {},
     "output_type": "execute_result"
    }
   ],
   "source": [
    "add =lambda a,b : a +b\n",
    "add(5,6)"
   ]
  },
  {
   "cell_type": "code",
   "execution_count": 4,
   "id": "d168cd9b",
   "metadata": {},
   "outputs": [],
   "source": [
    "y = lambda *args: args"
   ]
  },
  {
   "cell_type": "code",
   "execution_count": 5,
   "id": "327eca26",
   "metadata": {},
   "outputs": [
    {
     "data": {
      "text/plain": [
       "(5, 6, 9, 63, 32, 2, 11)"
      ]
     },
     "execution_count": 5,
     "metadata": {},
     "output_type": "execute_result"
    }
   ],
   "source": [
    "y(5,6,9,63,32,2,11)"
   ]
  },
  {
   "cell_type": "code",
   "execution_count": 6,
   "id": "18592e36",
   "metadata": {},
   "outputs": [],
   "source": [
    "d = lambda a,b,c,*m : a+b+c//m"
   ]
  },
  {
   "cell_type": "code",
   "execution_count": 9,
   "id": "5d008269",
   "metadata": {},
   "outputs": [
    {
     "ename": "SyntaxError",
     "evalue": "cannot assign to iterable argument unpacking (1364478710.py, line 1)",
     "output_type": "error",
     "traceback": [
      "\u001b[1;36m  Cell \u001b[1;32mIn[9], line 1\u001b[1;36m\u001b[0m\n\u001b[1;33m    d(a=5,b=6,c=8,*m=5)\u001b[0m\n\u001b[1;37m                  ^\u001b[0m\n\u001b[1;31mSyntaxError\u001b[0m\u001b[1;31m:\u001b[0m cannot assign to iterable argument unpacking\n"
     ]
    }
   ],
   "source": [
    "d(a=5,b=6,c=8,*m=5)"
   ]
  },
  {
   "cell_type": "code",
   "execution_count": 11,
   "id": "705e0ee4",
   "metadata": {},
   "outputs": [],
   "source": [
    "t =\"This is python Lambda function\"\n",
    "s = lambda t : t.split()  if len(t)>5 else t.lower()"
   ]
  },
  {
   "cell_type": "code",
   "execution_count": 12,
   "id": "5572613d",
   "metadata": {},
   "outputs": [
    {
     "data": {
      "text/plain": [
       "['This', 'is', 'python', 'Lambda', 'function']"
      ]
     },
     "execution_count": 12,
     "metadata": {},
     "output_type": "execute_result"
    }
   ],
   "source": [
    "s(t)"
   ]
  },
  {
   "cell_type": "markdown",
   "id": "be678ab1",
   "metadata": {},
   "source": [
    "# Map\n",
    "* It applies the given function logic to all iterable and return new modify data.\n",
    "* it applies the same function to each of sequence"
   ]
  },
  {
   "cell_type": "code",
   "execution_count": 23,
   "id": "49f4fa12",
   "metadata": {},
   "outputs": [
    {
     "data": {
      "text/plain": [
       "[1, 2, 3, 4, 5, 6, 7, 5, 3, 8, 12]"
      ]
     },
     "execution_count": 23,
     "metadata": {},
     "output_type": "execute_result"
    }
   ],
   "source": [
    "l"
   ]
  },
  {
   "cell_type": "code",
   "execution_count": 25,
   "id": "f2a8064c",
   "metadata": {},
   "outputs": [
    {
     "ename": "TypeError",
     "evalue": "map() must have at least two arguments.",
     "output_type": "error",
     "traceback": [
      "\u001b[1;31m---------------------------------------------------------------------------\u001b[0m",
      "\u001b[1;31mTypeError\u001b[0m                                 Traceback (most recent call last)",
      "Cell \u001b[1;32mIn[25], line 1\u001b[0m\n\u001b[1;32m----> 1\u001b[0m \u001b[38;5;28mmap\u001b[39m(l)\n",
      "\u001b[1;31mTypeError\u001b[0m: map() must have at least two arguments."
     ]
    }
   ],
   "source": [
    "map(l)"
   ]
  },
  {
   "cell_type": "code",
   "execution_count": 27,
   "id": "ff99096e",
   "metadata": {},
   "outputs": [
    {
     "data": {
      "text/plain": [
       "[1, 4, 9, 16, 25, 36, 49, 25, 9, 64, 144]"
      ]
     },
     "execution_count": 27,
     "metadata": {},
     "output_type": "execute_result"
    }
   ],
   "source": [
    "squre = lambda x: x**2\n",
    "list(map(squre,l))"
   ]
  },
  {
   "cell_type": "code",
   "execution_count": 28,
   "id": "2b252c97",
   "metadata": {},
   "outputs": [],
   "source": [
    "def cube(x):\n",
    "   return x**3"
   ]
  },
  {
   "cell_type": "code",
   "execution_count": 30,
   "id": "859d8285",
   "metadata": {},
   "outputs": [
    {
     "data": {
      "text/plain": [
       "[1, 8, 27, 64, 125, 216, 343, 125, 27, 512, 1728]"
      ]
     },
     "execution_count": 30,
     "metadata": {},
     "output_type": "execute_result"
    }
   ],
   "source": [
    "list(map(cube,l))"
   ]
  },
  {
   "cell_type": "code",
   "execution_count": 32,
   "id": "0d388bc9",
   "metadata": {},
   "outputs": [
    {
     "data": {
      "text/plain": [
       "('1', '2', '3', '4', '5', '6', '7', '5', '3', '8', '12')"
      ]
     },
     "execution_count": 32,
     "metadata": {},
     "output_type": "execute_result"
    }
   ],
   "source": [
    "tuple(map(lambda x: str(x),l))"
   ]
  },
  {
   "cell_type": "code",
   "execution_count": 47,
   "id": "e41a6df4",
   "metadata": {},
   "outputs": [
    {
     "data": {
      "text/plain": [
       "(1, 2, 3, 4, 5, 6, 7, 8, 9, 10, 11)"
      ]
     },
     "execution_count": 47,
     "metadata": {},
     "output_type": "execute_result"
    }
   ],
   "source": [
    "t = tuple(range(1,12))\n",
    "t"
   ]
  },
  {
   "cell_type": "code",
   "execution_count": 59,
   "metadata": {},
   "outputs": [
    {
     "data": {
      "text/plain": [
       "(False, False, False, False, False, False, False, False, False, False, False)"
      ]
     },
     "execution_count": 59,
     "metadata": {},
     "output_type": "execute_result"
    }
   ],
   "source": [
    "tuple(map(lambda x:x**2==0,t))"
   ]
  },
  {
   "cell_type": "code",
   "execution_count": 52,
   "id": "25805d63",
   "metadata": {},
   "outputs": [
    {
     "data": {
      "text/plain": [
       "set"
      ]
     },
     "execution_count": 52,
     "metadata": {},
     "output_type": "execute_result"
    }
   ],
   "source": [
    "s = {1, 2, 3, 4, 5, 6, 7, 8, 9, 10, 11}\n",
    "type(s)"
   ]
  },
  {
   "cell_type": "code",
   "execution_count": 56,
   "id": "357f83e6",
   "metadata": {},
   "outputs": [
    {
     "data": {
      "text/plain": [
       "[False, True, False, True, False, True, False, True, False, True, False]"
      ]
     },
     "execution_count": 56,
     "metadata": {},
     "output_type": "execute_result"
    }
   ],
   "source": [
    "list(map(lambda x:x%2==0,s))"
   ]
  },
  {
   "cell_type": "code",
   "execution_count": 51,
   "metadata": {},
   "outputs": [
    {
     "ename": "TypeError",
     "evalue": "cannot convert dictionary update sequence element #0 to a sequence",
     "output_type": "error",
     "traceback": [
      "\u001b[1;31m---------------------------------------------------------------------------\u001b[0m",
      "\u001b[1;31mTypeError\u001b[0m                                 Traceback (most recent call last)",
      "Cell \u001b[1;32mIn[51], line 1\u001b[0m\n\u001b[1;32m----> 1\u001b[0m \u001b[38;5;28mdict\u001b[39m(\u001b[38;5;28mmap\u001b[39m(\u001b[38;5;28;01mlambda\u001b[39;00m x:x\u001b[38;5;241m%\u001b[39m\u001b[38;5;241m2\u001b[39m\u001b[38;5;241m==\u001b[39m\u001b[38;5;241m0\u001b[39m,t))\n",
      "\u001b[1;31mTypeError\u001b[0m: cannot convert dictionary update sequence element #0 to a sequence"
     ]
    }
   ],
   "source": [
    "dict(map(lambda x:x%2==0,t))"
   ]
  },
  {
   "cell_type": "markdown",
   "id": "1982b7ae",
   "metadata": {},
   "source": [
    "# FIITER Function:\n",
    "it filtres an item out of a Sequence\n",
    "\n",
    "It is used to filter the given iterable (list, sets, tuple) With the help of another function passed as an argument to test all the elements to be true or false\n",
    "\n",
    "Its output is a filtered list"
   ]
  },
  {
   "cell_type": "code",
   "execution_count": 33,
   "id": "e6952c30",
   "metadata": {},
   "outputs": [
    {
     "data": {
      "text/plain": [
       "[1, 2, 3, 4, 5, 6, 7, 5, 3, 8, 12]"
      ]
     },
     "execution_count": 33,
     "metadata": {},
     "output_type": "execute_result"
    }
   ],
   "source": [
    "l"
   ]
  },
  {
   "cell_type": "code",
   "execution_count": 34,
   "metadata": {},
   "outputs": [
    {
     "data": {
      "text/plain": [
       "<filter at 0x18f75ce03a0>"
      ]
     },
     "execution_count": 34,
     "metadata": {},
     "output_type": "execute_result"
    }
   ],
   "source": [
    "filter(lambda x: x%2==0 ,l)"
   ]
  },
  {
   "cell_type": "code",
   "execution_count": 35,
   "metadata": {},
   "outputs": [
    {
     "data": {
      "text/plain": [
       "[2, 4, 6, 8, 12]"
      ]
     },
     "execution_count": 35,
     "metadata": {},
     "output_type": "execute_result"
    }
   ],
   "source": [
    "list(filter(lambda x: x%2==0 ,l))"
   ]
  },
  {
   "cell_type": "code",
   "execution_count": 36,
   "metadata": {},
   "outputs": [],
   "source": [
    "words = ['apple', 'banana', 'cherry', 'date', 'elderberry']"
   ]
  },
  {
   "cell_type": "code",
   "execution_count": 41,
   "id": "2a25dc99",
   "metadata": {},
   "outputs": [
    {
     "data": {
      "text/plain": [
       "['apple', 'banana', 'cherry', 'elderberry']"
      ]
     },
     "execution_count": 41,
     "metadata": {},
     "output_type": "execute_result"
    }
   ],
   "source": [
    "len_3 = lambda x: len(x)>=5\n",
    "list(filter(len_3,words))"
   ]
  },
  {
   "cell_type": "code",
   "execution_count": 58,
   "id": "59613e2b",
   "metadata": {},
   "outputs": [
    {
     "data": {
      "text/plain": [
       "(1, 2, 3, 4, 5, 6, 7, 8, 9, 10, 11)"
      ]
     },
     "execution_count": 58,
     "metadata": {},
     "output_type": "execute_result"
    }
   ],
   "source": [
    "t"
   ]
  },
  {
   "cell_type": "code",
   "execution_count": 60,
   "id": "d5d3bc88",
   "metadata": {},
   "outputs": [],
   "source": [
    "logic= lambda x: x**2>30"
   ]
  },
  {
   "cell_type": "code",
   "execution_count": 61,
   "id": "dcb235ff",
   "metadata": {},
   "outputs": [
    {
     "data": {
      "text/plain": [
       "[6, 7, 8, 9, 10, 11]"
      ]
     },
     "execution_count": 61,
     "metadata": {},
     "output_type": "execute_result"
    }
   ],
   "source": [
    "list(filter(logic,t))"
   ]
  },
  {
   "cell_type": "markdown",
   "id": "9433ab84",
   "metadata": {},
   "source": [
    "# REDUCE Function\n",
    "It applies the Same operation to items of a Sequence.\n",
    "\n",
    "It uses the result of operations as the first paris of the next operation. It returns, an item and not a list.\n",
    "\n",
    "Use reduce to perform operations that involve comparing values or finding extremum values like maximum or minimum in a collection.\n",
    "\n",
    "Use reduce when you need to combine all elements of a list into a single result through a binary operation, like product, concatenation, or any form of aggregation.\n",
    "\n",
    "This function is defined in \"functools\" module."
   ]
  },
  {
   "cell_type": "code",
   "execution_count": 42,
   "id": "ce4b7ce7",
   "metadata": {},
   "outputs": [],
   "source": [
    "from functools import reduce"
   ]
  },
  {
   "cell_type": "code",
   "execution_count": 44,
   "metadata": {},
   "outputs": [
    {
     "data": {
      "text/plain": [
       "11"
      ]
     },
     "execution_count": 44,
     "metadata": {},
     "output_type": "execute_result"
    }
   ],
   "source": [
    "len(l)"
   ]
  },
  {
   "cell_type": "code",
   "execution_count": 45,
   "id": "28a7e3ce",
   "metadata": {},
   "outputs": [
    {
     "ename": "TypeError",
     "evalue": "reduce expected at least 2 arguments, got 1",
     "output_type": "error",
     "traceback": [
      "\u001b[1;31m---------------------------------------------------------------------------\u001b[0m",
      "\u001b[1;31mTypeError\u001b[0m                                 Traceback (most recent call last)",
      "Cell \u001b[1;32mIn[45], line 1\u001b[0m\n\u001b[1;32m----> 1\u001b[0m reduce(\u001b[38;5;28;01mlambda\u001b[39;00m a,b:a\u001b[38;5;241m+\u001b[39mb)\n",
      "\u001b[1;31mTypeError\u001b[0m: reduce expected at least 2 arguments, got 1"
     ]
    }
   ],
   "source": [
    "reduce(lambda a,b:a+b)"
   ]
  },
  {
   "cell_type": "code",
   "execution_count": 46,
   "id": "4486bce2",
   "metadata": {},
   "outputs": [
    {
     "data": {
      "text/plain": [
       "56"
      ]
     },
     "execution_count": 46,
     "metadata": {},
     "output_type": "execute_result"
    }
   ],
   "source": [
    "reduce(lambda a,b:a+b,l)"
   ]
  },
  {
   "cell_type": "markdown",
   "id": "502bcbc8",
   "metadata": {},
   "source": [
    "# list comprehensions"
   ]
  },
  {
   "cell_type": "markdown",
   "id": "8ac3cb4d",
   "metadata": {},
   "source": [
    "List comprehensions are a tool for transforming one list (any iterable actually) into another list.\n",
    "\n",
    "During this transformation, elements can be conditionally included in the new list and each element can be transformed as needed.\n",
    "\n",
    "List comprehensions in Python are great, but mastering them can be tricky because they don’t solve a new problem: they just provide a new syntax to solve an existing problem."
   ]
  },
  {
   "cell_type": "code",
   "execution_count": 13,
   "id": "147ebf71",
   "metadata": {},
   "outputs": [
    {
     "data": {
      "text/plain": [
       "'This is python Lambda function'"
      ]
     },
     "execution_count": 13,
     "metadata": {},
     "output_type": "execute_result"
    }
   ],
   "source": [
    "t"
   ]
  },
  {
   "cell_type": "code",
   "execution_count": 15,
   "id": "fb581db3",
   "metadata": {},
   "outputs": [
    {
     "data": {
      "text/plain": [
       "['T',\n",
       " 'h',\n",
       " 'i',\n",
       " 's',\n",
       " ' ',\n",
       " 'i',\n",
       " 's',\n",
       " ' ',\n",
       " 'p',\n",
       " 'y',\n",
       " 't',\n",
       " 'h',\n",
       " 'o',\n",
       " 'n',\n",
       " ' ',\n",
       " 'L',\n",
       " 'a',\n",
       " 'm',\n",
       " 'b',\n",
       " 'd',\n",
       " 'a',\n",
       " ' ',\n",
       " 'f',\n",
       " 'u',\n",
       " 'n',\n",
       " 'c',\n",
       " 't',\n",
       " 'i',\n",
       " 'o',\n",
       " 'n']"
      ]
     },
     "execution_count": 15,
     "metadata": {},
     "output_type": "execute_result"
    }
   ],
   "source": [
    "[i for i in t]"
   ]
  },
  {
   "cell_type": "code",
   "execution_count": 17,
   "id": "0af176fa",
   "metadata": {},
   "outputs": [
    {
     "data": {
      "text/plain": [
       "[1, 27, 125, 343, 729, 1331, 2197, 3375, 4913, 6859]"
      ]
     },
     "execution_count": 17,
     "metadata": {},
     "output_type": "execute_result"
    }
   ],
   "source": [
    "[i**3 for i in range(1,20,2)]"
   ]
  },
  {
   "cell_type": "code",
   "execution_count": 19,
   "id": "36aece38",
   "metadata": {},
   "outputs": [],
   "source": [
    "l = [1,2,3,4,5,6,7,5,3,8,12]\n",
    "even_squred =[i**2 for i in l if i%2==0]"
   ]
  },
  {
   "cell_type": "code",
   "execution_count": 20,
   "id": "577f5b01",
   "metadata": {},
   "outputs": [
    {
     "data": {
      "text/plain": [
       "[4, 16, 36, 64, 144]"
      ]
     },
     "execution_count": 20,
     "metadata": {},
     "output_type": "execute_result"
    }
   ],
   "source": [
    "even_squred"
   ]
  },
  {
   "cell_type": "markdown",
   "id": "79f3a779",
   "metadata": {},
   "source": [
    "# enumerate"
   ]
  },
  {
   "cell_type": "code",
   "execution_count": 21,
   "id": "4ef89fdd",
   "metadata": {},
   "outputs": [
    {
     "data": {
      "text/plain": [
       "[1, 2, 3, 4, 5, 6, 7, 5, 3, 8, 12]"
      ]
     },
     "execution_count": 21,
     "metadata": {},
     "output_type": "execute_result"
    }
   ],
   "source": [
    "l"
   ]
  },
  {
   "cell_type": "code",
   "execution_count": 22,
   "id": "dc32ffe1",
   "metadata": {},
   "outputs": [
    {
     "name": "stdout",
     "output_type": "stream",
     "text": [
      "0  ->1\n",
      "1  ->2\n",
      "2  ->3\n",
      "3  ->4\n",
      "4  ->5\n",
      "5  ->6\n",
      "6  ->7\n",
      "7  ->5\n",
      "8  ->3\n",
      "9  ->8\n",
      "10  ->12\n"
     ]
    }
   ],
   "source": [
    "for i,e in enumerate(l):\n",
    "   print(f\"{i}  ->{e}\")"
   ]
  },
  {
   "cell_type": "code",
   "execution_count": null,
   "id": "befe4eba",
   "metadata": {},
   "outputs": [],
   "source": []
  }
 ],
 "metadata": {
  "kernelspec": {
   "display_name": "base",
   "language": "python",
   "name": "python3"
  },
  "language_info": {
   "codemirror_mode": {
    "name": "ipython",
    "version": 3
   },
   "file_extension": ".py",
   "mimetype": "text/x-python",
   "name": "python",
   "nbconvert_exporter": "python",
   "pygments_lexer": "ipython3",
   "version": "3.12.7"
  }
 },
 "nbformat": 4,
 "nbformat_minor": 5
}
