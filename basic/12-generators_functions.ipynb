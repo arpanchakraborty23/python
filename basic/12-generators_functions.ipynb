{
 "cells": [
  {
   "cell_type": "markdown",
   "id": "9dcca4a1",
   "metadata": {},
   "source": [
    "# Iterators\n",
    "* An  Iterator are advance python concepts that allow for efficent looping and memory mangment.\n",
    "* Iterators provides a way to access elements of a collection sequntially without exposing the underlying structure"
   ]
  },
  {
   "cell_type": "code",
   "execution_count": 19,
   "id": "be2e4c03",
   "metadata": {},
   "outputs": [
    {
     "name": "stdout",
     "output_type": "stream",
     "text": [
      "1\n",
      "2\n",
      "5\n",
      "3\n",
      "6\n",
      "54\n",
      "5\n",
      "8\n",
      "2\n",
      "18\n"
     ]
    }
   ],
   "source": [
    "l = [1,2,5,3,6,54,5,8,2,18]\n",
    "for i in l:\n",
    "\tprint(i)"
   ]
  },
  {
   "cell_type": "code",
   "execution_count": 20,
   "id": "f40cbcdc",
   "metadata": {},
   "outputs": [],
   "source": [
    "# iterator\n",
    "iterator =iter(l) # when we use iter() it became iterator"
   ]
  },
  {
   "cell_type": "code",
   "execution_count": 22,
   "id": "3a7ab562",
   "metadata": {},
   "outputs": [
    {
     "name": "stdout",
     "output_type": "stream",
     "text": [
      "<class 'list_iterator'>\n"
     ]
    }
   ],
   "source": [
    "print(type(iterator))"
   ]
  },
  {
   "cell_type": "code",
   "execution_count": null,
   "id": "175e1f6f",
   "metadata": {},
   "outputs": [
    {
     "data": {
      "text/plain": [
       "<list_iterator at 0x1f73ff81150>"
      ]
     },
     "execution_count": 23,
     "metadata": {},
     "output_type": "execute_result"
    }
   ],
   "source": [
    "iterator # Lazy loading "
   ]
  },
  {
   "cell_type": "code",
   "execution_count": 25,
   "id": "1f7de6ee",
   "metadata": {},
   "outputs": [
    {
     "data": {
      "text/plain": [
       "2"
      ]
     },
     "execution_count": 25,
     "metadata": {},
     "output_type": "execute_result"
    }
   ],
   "source": [
    "# Iterate though all element use next\n",
    "next(iterator)"
   ]
  },
  {
   "cell_type": "code",
   "execution_count": null,
   "id": "357c3e80",
   "metadata": {},
   "outputs": [],
   "source": []
  },
  {
   "cell_type": "markdown",
   "id": "4af3c68b",
   "metadata": {},
   "source": [
    "# Generators\n",
    "* A generator in python are special type of function that allow you to create an iterator. they use yield to produce a series of values lazily, which means they geretate value on the fly and do not store them in memory"
   ]
  },
  {
   "cell_type": "code",
   "execution_count": 3,
   "id": "cb439a7d",
   "metadata": {},
   "outputs": [
    {
     "name": "stdout",
     "output_type": "stream",
     "text": [
      "1\n",
      "2\n",
      "3\n",
      "4\n"
     ]
    }
   ],
   "source": [
    "for i in range(1,5):\n",
    "\tprint(i)"
   ]
  },
  {
   "cell_type": "code",
   "execution_count": 4,
   "id": "9679b023",
   "metadata": {},
   "outputs": [
    {
     "data": {
      "text/plain": [
       "<generator object <genexpr> at 0x000001F742616140>"
      ]
     },
     "execution_count": 4,
     "metadata": {},
     "output_type": "execute_result"
    }
   ],
   "source": [
    "(i for i in range(50))"
   ]
  },
  {
   "cell_type": "code",
   "execution_count": 5,
   "id": "16f3338e",
   "metadata": {},
   "outputs": [
    {
     "name": "stdout",
     "output_type": "stream",
     "text": [
      "1\n",
      "2\n",
      "3\n"
     ]
    }
   ],
   "source": [
    "def mul():\n",
    "    yield 1\n",
    "    yield 2\n",
    "    yield 3 \n",
    "\n",
    "\n",
    "a=mul()\n",
    "print(next(a))\n",
    "print(next(a))\n",
    "\n",
    "print(next(a))"
   ]
  },
  {
   "cell_type": "code",
   "execution_count": 29,
   "id": "5ef97a18",
   "metadata": {},
   "outputs": [],
   "source": [
    "def squre(n):\n",
    "\tfor i in range(n):\n",
    "\t\tyield i**2"
   ]
  },
  {
   "cell_type": "code",
   "execution_count": 30,
   "id": "5f0348fa",
   "metadata": {},
   "outputs": [
    {
     "data": {
      "text/plain": [
       "<generator object squre at 0x000001F7426CE9B0>"
      ]
     },
     "execution_count": 30,
     "metadata": {},
     "output_type": "execute_result"
    }
   ],
   "source": [
    "squre(3)"
   ]
  },
  {
   "cell_type": "code",
   "execution_count": 31,
   "id": "ff718cca",
   "metadata": {},
   "outputs": [
    {
     "name": "stdout",
     "output_type": "stream",
     "text": [
      "0\n",
      "1\n",
      "4\n"
     ]
    }
   ],
   "source": [
    "for i in squre(3):\n",
    "\tprint(i)"
   ]
  },
  {
   "cell_type": "markdown",
   "id": "f95785a1",
   "metadata": {},
   "source": [
    "# decorators "
   ]
  },
  {
   "cell_type": "markdown",
   "id": "a725f5b0",
   "metadata": {},
   "source": [
    "* Decorators are a powerful and flexible feature in python that allows you to modify the behavior of a function or class method.\n",
    "* They commonly used to add extra functionality to functions or methods without modifying their actual code. "
   ]
  },
  {
   "cell_type": "code",
   "execution_count": 34,
   "id": "c68dbf2e",
   "metadata": {},
   "outputs": [
    {
     "data": {
      "text/plain": [
       "'Hello To world of Ai'"
      ]
     },
     "execution_count": 34,
     "metadata": {},
     "output_type": "execute_result"
    }
   ],
   "source": [
    "def welcome():\n",
    "\treturn \"Hello To world of Ai\"\n",
    "welcome()"
   ]
  },
  {
   "cell_type": "code",
   "execution_count": null,
   "id": "53ff8131",
   "metadata": {},
   "outputs": [
    {
     "data": {
      "text/plain": [
       "'Hello To world of Ai'"
      ]
     },
     "execution_count": 37,
     "metadata": {},
     "output_type": "execute_result"
    }
   ],
   "source": [
    "wel = welcome # Function copy\n",
    "wel()"
   ]
  },
  {
   "cell_type": "code",
   "execution_count": 38,
   "id": "54b884f7",
   "metadata": {},
   "outputs": [],
   "source": [
    "# clousers ->function inside function\n",
    "def main():\n",
    "\tmsg=\"wellcome\"\n",
    "\tdef sub_welcome():\n",
    "\t\tprint(\"wellcome to advance python\")\n",
    "\t\tprint(\"Inner function\")\n",
    "\treturn sub_welcome()"
   ]
  },
  {
   "cell_type": "code",
   "execution_count": 39,
   "id": "9295437d",
   "metadata": {},
   "outputs": [
    {
     "name": "stdout",
     "output_type": "stream",
     "text": [
      "wellcome to advance python\n",
      "Inner function\n"
     ]
    }
   ],
   "source": [
    "main()"
   ]
  },
  {
   "cell_type": "code",
   "execution_count": 40,
   "id": "7b16964c",
   "metadata": {},
   "outputs": [],
   "source": [
    "def main():\n",
    "\tmsg=\"wellcome\"\n",
    "\tdef sub_welcome():\n",
    "\t\tprint(\"wellcome to advance python\")\n",
    "\t\tprint(msg)\n",
    "\t\tprint(\"Inner function\")\n",
    "\treturn sub_welcome()"
   ]
  },
  {
   "cell_type": "code",
   "execution_count": 41,
   "id": "d35c6155",
   "metadata": {},
   "outputs": [
    {
     "name": "stdout",
     "output_type": "stream",
     "text": [
      "wellcome to advance python\n",
      "wellcome\n",
      "Inner function\n"
     ]
    }
   ],
   "source": [
    "main()"
   ]
  },
  {
   "cell_type": "code",
   "execution_count": 47,
   "id": "40d51392",
   "metadata": {},
   "outputs": [
    {
     "name": "stdout",
     "output_type": "stream",
     "text": [
      "wellcome to advance python\n",
      "\n",
      "Inner function\n"
     ]
    }
   ],
   "source": [
    "def main(func):\n",
    "\tmsg=\"wellcome\"\n",
    "\tdef sub_welcome():\n",
    "\t\tprint(\"wellcome to advance python\")\n",
    "\t\tfunc()\n",
    "\t\tprint(\"Inner function\")\n",
    "\treturn sub_welcome()\n",
    "main(print)"
   ]
  },
  {
   "cell_type": "code",
   "execution_count": 48,
   "id": "09b15d28",
   "metadata": {},
   "outputs": [
    {
     "name": "stdout",
     "output_type": "stream",
     "text": [
      "this is decorator\n"
     ]
    }
   ],
   "source": [
    "def course():\n",
    "\tprint(\"this is decorator\")\n",
    "\n",
    "course()"
   ]
  },
  {
   "cell_type": "code",
   "execution_count": 49,
   "id": "90e41313",
   "metadata": {},
   "outputs": [
    {
     "name": "stdout",
     "output_type": "stream",
     "text": [
      "wellcome to advance python\n",
      "this is decorator\n",
      "Inner function\n"
     ]
    }
   ],
   "source": [
    "main(course)"
   ]
  },
  {
   "cell_type": "code",
   "execution_count": 52,
   "id": "7017a3ca",
   "metadata": {},
   "outputs": [
    {
     "name": "stdout",
     "output_type": "stream",
     "text": [
      "wellcome to advance python\n",
      "this is decorator\n",
      "Inner function\n"
     ]
    }
   ],
   "source": [
    "@main\n",
    "def course():\n",
    "\tprint(\"this is decorator\")\n"
   ]
  },
  {
   "cell_type": "code",
   "execution_count": 98,
   "id": "c697dc76",
   "metadata": {},
   "outputs": [],
   "source": [
    "def repeat(n):\n",
    "\tdef deco(func):\n",
    "\t\tdef wrapper(*args,**kwrgs):\n",
    "\t\t\tprint(f\"====== {n} ========\")\n",
    "\t\t\tfunc(*args,**kwrgs)\n",
    "\t\t\tprint(f\"====== {n} ========\")\n",
    "\t\treturn wrapper\n",
    "\treturn deco"
   ]
  },
  {
   "cell_type": "code",
   "execution_count": 99,
   "id": "42c6171b",
   "metadata": {},
   "outputs": [],
   "source": [
    "@repeat(\"data\")\n",
    "def say():\n",
    "\tprint(\"Hi\")"
   ]
  },
  {
   "cell_type": "code",
   "execution_count": 100,
   "id": "36f78439",
   "metadata": {},
   "outputs": [
    {
     "name": "stdout",
     "output_type": "stream",
     "text": [
      "====== data ========\n",
      "Hi\n",
      "====== data ========\n"
     ]
    }
   ],
   "source": [
    "say()"
   ]
  },
  {
   "cell_type": "code",
   "execution_count": 120,
   "id": "9a42947a",
   "metadata": {},
   "outputs": [
    {
     "name": "stdout",
     "output_type": "stream",
     "text": [
      "====== DATA INGESTION CLASS ========\n",
      "Initializing DataIngestion\n",
      "====== DATA INGESTION CLASS ========\n"
     ]
    },
    {
     "ename": "AttributeError",
     "evalue": "'NoneType' object has no attribute 'step_three'",
     "output_type": "error",
     "traceback": [
      "\u001b[1;31m---------------------------------------------------------------------------\u001b[0m",
      "\u001b[1;31mAttributeError\u001b[0m                            Traceback (most recent call last)",
      "Cell \u001b[1;32mIn[120], line 2\u001b[0m\n\u001b[0;32m      1\u001b[0m obj \u001b[38;5;241m=\u001b[39m DataIngestion()\n\u001b[1;32m----> 2\u001b[0m obj\u001b[38;5;241m.\u001b[39mstep_three()\n",
      "\u001b[1;31mAttributeError\u001b[0m: 'NoneType' object has no attribute 'step_three'"
     ]
    }
   ],
   "source": [
    "obj = DataIngestion()\n",
    "obj.step_three()\n"
   ]
  },
  {
   "cell_type": "markdown",
   "id": "d820cb50",
   "metadata": {},
   "source": [
    "# Iterable\n",
    "* An itrerable is any object in python that we can use for loop."
   ]
  },
  {
   "cell_type": "markdown",
   "id": "4464d0c3",
   "metadata": {},
   "source": [
    "t"
   ]
  },
  {
   "cell_type": "code",
   "execution_count": 8,
   "id": "3aebbbd8",
   "metadata": {},
   "outputs": [
    {
     "name": "stdout",
     "output_type": "stream",
     "text": [
      "1\n",
      "2\n",
      "3\n",
      "4\n"
     ]
    }
   ],
   "source": [
    "l = list(range(1,5))\n",
    "for i in l:\n",
    "\tprint(i)"
   ]
  },
  {
   "cell_type": "code",
   "execution_count": 9,
   "id": "3f62e609",
   "metadata": {},
   "outputs": [
    {
     "name": "stdout",
     "output_type": "stream",
     "text": [
      "1\n",
      "4\n",
      "9\n",
      "16\n",
      "25\n",
      "36\n",
      "49\n",
      "64\n",
      "81\n",
      "100\n",
      "121\n"
     ]
    }
   ],
   "source": [
    "t = (1, 2, 3, 4, 5, 6, 7, 8, 9, 10, 11)\n",
    "for i in t:\n",
    "\tprint(i**2)"
   ]
  },
  {
   "cell_type": "code",
   "execution_count": 16,
   "id": "1639e812",
   "metadata": {},
   "outputs": [
    {
     "data": {
      "text/plain": [
       "1"
      ]
     },
     "execution_count": 16,
     "metadata": {},
     "output_type": "execute_result"
    }
   ],
   "source": [
    "next(iter(t))"
   ]
  },
  {
   "cell_type": "code",
   "execution_count": 17,
   "id": "7bae8727",
   "metadata": {},
   "outputs": [
    {
     "data": {
      "text/plain": [
       "1"
      ]
     },
     "execution_count": 17,
     "metadata": {},
     "output_type": "execute_result"
    }
   ],
   "source": [
    "next(iter(t))"
   ]
  },
  {
   "cell_type": "code",
   "execution_count": null,
   "id": "ee60ec1d",
   "metadata": {},
   "outputs": [],
   "source": []
  }
 ],
 "metadata": {
  "kernelspec": {
   "display_name": "base",
   "language": "python",
   "name": "python3"
  },
  "language_info": {
   "codemirror_mode": {
    "name": "ipython",
    "version": 3
   },
   "file_extension": ".py",
   "mimetype": "text/x-python",
   "name": "python",
   "nbconvert_exporter": "python",
   "pygments_lexer": "ipython3",
   "version": "3.12.7"
  }
 },
 "nbformat": 4,
 "nbformat_minor": 5
}
