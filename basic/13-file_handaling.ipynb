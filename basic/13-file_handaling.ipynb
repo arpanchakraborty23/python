{
 "cells": [
  {
   "cell_type": "markdown",
   "id": "423fcda2",
   "metadata": {},
   "source": [
    "# File Handling in Python\n",
    "\n",
    "* File handlling is a crucail part of any programming languge.python provides built-in functions and methods to read and write files.\n",
    "Types of data used for I/O:\n",
    "\n",
    "Text - '12345' as a sequence of unicode chars\n",
    "\n",
    "Binary - 12345 as a sequence of bytes of its binary equivalent\n",
    "\n",
    "Hence there are 2 file types to deal with\n",
    "\n",
    "Text files - All program files are text files\n",
    "\n",
    "Binary Files - Images,music,video,exe files\n",
    "\n",
    "How File I/O is done in most programming languages\n",
    "\n",
    "Open a file\n",
    "\n",
    "Read/Write data\n",
    "\n",
    "Close the file\n",
    "\n",
    "Writing to a file"
   ]
  },
  {
   "cell_type": "code",
   "execution_count": null,
   "id": "6a274444",
   "metadata": {},
   "outputs": [],
   "source": [
    "# read a file content\n",
    "\n",
    "with open(\"example.txt\",\"r\") as f:\n",
    "    content = f.read()"
   ]
  },
  {
   "cell_type": "code",
   "execution_count": 3,
   "id": "f4ccaafa",
   "metadata": {},
   "outputs": [
    {
     "name": "stdout",
     "output_type": "stream",
     "text": [
      "1. T-stats, F-test, T-distribution\n",
      "2. T-stats vs. Z-stats: Overview\n",
      "3. When to Use a T-test vs. Z-test\n",
      "4. Chi-square Test\n",
      "5. Central Limit Theorem and Applications\n",
      "6. Confidence Intervals\n",
      "• Confidence Interval (CI)\n",
      "• Confidence Intervals and the Margin of Error\n",
      "• Interpreting Confidence Levels and Confidence Intervals\n",
      "7. Estimation and Hypothesis Testing\n",
      "• What is Hypothesis\n",
      "• Types of Hypothesis\n",
      "• P-value\n",
      "• Null Hypothesis (H₀)\n",
      "• Alternative Hypothesis (Hₐ)\n",
      "• One-tailed Alternative Hypothesis\n",
      "• Two-tailed Alternative Hypothesis\n",
      "• Type 1 & Type 2 Error\n",
      "8. Bayes' Theorem\n",
      "• Chi-Square Test\n",
      "• Chi-Square Distribution Using Python\n",
      "• Chi-Square For Goodness Of Fit Test\n",
      "• A/B Testing\n",
      "• ANOVA Test\n",
      "Machine Learning\n",
      "1. Intro to ML and how machine learns\n",
      "2. Linear Regression(OLS)\n",
      "1. Practical Linear Regression\n",
      "1. types of regression\n",
      "2. Assumptions of linear regression\n",
      "2. Bias - Variance Trade-off\n",
      "3. Gradient descent\n",
      "1. how gradient descent works\n",
      "2. Types of gradient descent\n",
      "4. Regularized Linear Regression [ridge,lasso,elastic]\n",
      "5. Cross validation and Hyperparameter Tuning\n",
      "6. Regression metrics(MSE,RMSE,R2,adjusted r2)\n",
      "Challenge - Supervised Learning Algorithms\n",
      "Classification techniques\n",
      "1. Logistic Regression\n",
      "• classification metrics(precision, recall, f1 score, roc, auc)\n",
      "• project\n",
      "2. Naive Bayes Classifier\n",
      "Feature Engineering\n",
      "1. What is feature engineering, feature extraction\n",
      "2. Feature selection\n",
      "• Types of feature selection\n",
      "3. Handling the data\n",
      "• Handling Missing Data\n",
      "• Handling Imbalanced Data\n",
      "4. Handling Outliers\n",
      "5. Feature Scaling (normalization, standardisation, Robust \n",
      "scallingS)\n",
      "6. Covariance And Correlation\n",
      "7. Vif (variable Influence factor)\n",
      "8. One hot encoding, label encoding, Dummy encoding, power \n",
      "transformation\n",
      "4) Both classification and regression \n",
      "regression Algorithms\n",
      "• i) Decision Tree\n",
      "• ii) Ensemble methods\n",
      "• a) bagging\n",
      "• 1) Random forest\n",
      "• b) Boosting\n",
      "• 1) Grdient boost\n",
      "• 2) xg-boost\n",
      "• 3) ada boost\n",
      "• 4) cat-boost\n",
      "• c) Stacking\n",
      "• iii) Support Vector Machines(SVM)\n",
      "• iv) KNN\n",
      "Challenge - Supervised Learning Algorithms – II\n",
      "5) Detecting anomalies\n",
      "• i) Handling Class Imbalance\n",
      "• ii) Anomaly Detection\n",
      "6) Dimensionality reduction techniques\n",
      "• i) Principal Component Analysis(PCA)\n",
      "• ii) Linear Discriminant Analysis (LDA)\n",
      "• iii) t-Distributed Stochastic Neighbor Embedding (t-SNE)\n",
      "7) Unsupervised Learning Algorithms\n",
      "• i) K-Means Clustering,k-median\n",
      "• ii) Hierarchical Clustering\n",
      "• iii) DBSCAN\n",
      "8) Recommender Systems\n",
      "Module 1: Collaborative Filtering\n",
      "• User-based Collaborative Filtering\n",
      "• Similarity between users\n",
      "• Neighborhood-based recommendations\n",
      "• Item-based Collaborative Filtering\n",
      "• Similarity between items\n",
      "• Sparse matrices and data structures\n",
      "• Limitations: cold start, sparsity\n",
      "• Hands-on project: MovieLens dataset recommender\n",
      " Module 2: Matrix Factorization \n",
      "Techniques\n",
      "• Latent factor models and intuition\n",
      "• Singular Value Decomposition (SVD)\n",
      "• SVD++ and Baseline models\n",
      "• ALS (Alternating Least Squares)\n",
      "• Libraries: Surprise, LightFM, Implicit\n",
      "• Model tuning and hyperparameters\n",
      "• Evaluation: RMSE, MAE, Precision@k, Recall@k\n",
      "Module 3: Content-Based Filtering\n",
      "• Concept of item profiles and user profiles\n",
      "• Feature extraction (e.g., genre, tags, text data)\n",
      "• Text vectorization: CountVectorizer, TF-IDF\n",
      "• Similarity measures: Cosine similarity\n",
      "• Building and evaluating a content-based recommender\n",
      "• Hands-on project: Course or Movie Recommender using metadata\n",
      "9) Time Series Analysis\n",
      "• i) Introduction to Time Series Analysis\n",
      "• ii) Modeling a Time Series Problem\n",
      "10) Introduction to Model \n",
      "Explainability\n",
      "Deep learning\n",
      "1. Introduction to Neural Networks\n",
      "1. History of Neural Networks\n",
      "2. Comparison with Biological Neurons\n",
      "3. How Human Brain Trains by Neurons\n",
      "4. How Perceptron Mimics Human Brain\n",
      "5. Neuron\n",
      "6. Perceptron\n",
      "2. Types of Neural Networks\n",
      "1. Introduction to various types of neural networks:\n",
      "1. Single-layer Neural Networks\n",
      "2. Multilayer Neural Networks\n",
      "\n"
     ]
    }
   ],
   "source": [
    "print(content)"
   ]
  },
  {
   "cell_type": "code",
   "execution_count": 5,
   "id": "739641cf",
   "metadata": {},
   "outputs": [
    {
     "name": "stdout",
     "output_type": "stream",
     "text": [
      "1. T-stats, F-test, T-distribution\n",
      "2. T-stats vs. Z-stats: Overview\n",
      "3. When to Use a T-test vs. Z-test\n",
      "4. Chi-square Test\n",
      "5. Central Limit Theorem and Applications\n",
      "6. Confidence Intervals\n",
      "• Confidence Interval (CI)\n",
      "• Confidence Intervals and the Margin of Error\n",
      "• Interpreting Confidence Levels and Confidence Intervals\n",
      "7. Estimation and Hypothesis Testing\n",
      "• What is Hypothesis\n",
      "• Types of Hypothesis\n",
      "• P-value\n",
      "• Null Hypothesis (H₀)\n",
      "• Alternative Hypothesis (Hₐ)\n",
      "• One-tailed Alternative Hypothesis\n",
      "• Two-tailed Alternative Hypothesis\n",
      "• Type 1 & Type 2 Error\n",
      "8. Bayes' Theorem\n",
      "• Chi-Square Test\n",
      "• Chi-Square Distribution Using Python\n",
      "• Chi-Square For Goodness Of Fit Test\n",
      "• A/B Testing\n",
      "• ANOVA Test\n",
      "Machine Learning\n",
      "1. Intro to ML and how machine learns\n",
      "2. Linear Regression(OLS)\n",
      "1. Practical Linear Regression\n",
      "1. types of regression\n",
      "2. Assumptions of linear regression\n",
      "2. Bias - Variance Trade-off\n",
      "3. Gradient descent\n",
      "1. how gradient descent works\n",
      "2. Types of gradient descent\n",
      "4. Regularized Linear Regression [ridge,lasso,elastic]\n",
      "5. Cross validation and Hyperparameter Tuning\n",
      "6. Regression metrics(MSE,RMSE,R2,adjusted r2)\n",
      "Challenge - Supervised Learning Algorithms\n",
      "Classification techniques\n",
      "1. Logistic Regression\n",
      "• classification metrics(precision, recall, f1 score, roc, auc)\n",
      "• project\n",
      "2. Naive Bayes Classifier\n",
      "Feature Engineering\n",
      "1. What is feature engineering, feature extraction\n",
      "2. Feature selection\n",
      "• Types of feature selection\n",
      "3. Handling the data\n",
      "• Handling Missing Data\n",
      "• Handling Imbalanced Data\n",
      "4. Handling Outliers\n",
      "5. Feature Scaling (normalization, standardisation, Robust\n",
      "scallingS)\n",
      "6. Covariance And Correlation\n",
      "7. Vif (variable Influence factor)\n",
      "8. One hot encoding, label encoding, Dummy encoding, power\n",
      "transformation\n",
      "4) Both classification and regression\n",
      "regression Algorithms\n",
      "• i) Decision Tree\n",
      "• ii) Ensemble methods\n",
      "• a) bagging\n",
      "• 1) Random forest\n",
      "• b) Boosting\n",
      "• 1) Grdient boost\n",
      "• 2) xg-boost\n",
      "• 3) ada boost\n",
      "• 4) cat-boost\n",
      "• c) Stacking\n",
      "• iii) Support Vector Machines(SVM)\n",
      "• iv) KNN\n",
      "Challenge - Supervised Learning Algorithms – II\n",
      "5) Detecting anomalies\n",
      "• i) Handling Class Imbalance\n",
      "• ii) Anomaly Detection\n",
      "6) Dimensionality reduction techniques\n",
      "• i) Principal Component Analysis(PCA)\n",
      "• ii) Linear Discriminant Analysis (LDA)\n",
      "• iii) t-Distributed Stochastic Neighbor Embedding (t-SNE)\n",
      "7) Unsupervised Learning Algorithms\n",
      "• i) K-Means Clustering,k-median\n",
      "• ii) Hierarchical Clustering\n",
      "• iii) DBSCAN\n",
      "8) Recommender Systems\n",
      "Module 1: Collaborative Filtering\n",
      "• User-based Collaborative Filtering\n",
      "• Similarity between users\n",
      "• Neighborhood-based recommendations\n",
      "• Item-based Collaborative Filtering\n",
      "• Similarity between items\n",
      "• Sparse matrices and data structures\n",
      "• Limitations: cold start, sparsity\n",
      "• Hands-on project: MovieLens dataset recommender\n",
      "Module 2: Matrix Factorization\n",
      "Techniques\n",
      "• Latent factor models and intuition\n",
      "• Singular Value Decomposition (SVD)\n",
      "• SVD++ and Baseline models\n",
      "• ALS (Alternating Least Squares)\n",
      "• Libraries: Surprise, LightFM, Implicit\n",
      "• Model tuning and hyperparameters\n",
      "• Evaluation: RMSE, MAE, Precision@k, Recall@k\n",
      "Module 3: Content-Based Filtering\n",
      "• Concept of item profiles and user profiles\n",
      "• Feature extraction (e.g., genre, tags, text data)\n",
      "• Text vectorization: CountVectorizer, TF-IDF\n",
      "• Similarity measures: Cosine similarity\n",
      "• Building and evaluating a content-based recommender\n",
      "• Hands-on project: Course or Movie Recommender using metadata\n",
      "9) Time Series Analysis\n",
      "• i) Introduction to Time Series Analysis\n",
      "• ii) Modeling a Time Series Problem\n",
      "10) Introduction to Model\n",
      "Explainability\n",
      "Deep learning\n",
      "1. Introduction to Neural Networks\n",
      "1. History of Neural Networks\n",
      "2. Comparison with Biological Neurons\n",
      "3. How Human Brain Trains by Neurons\n",
      "4. How Perceptron Mimics Human Brain\n",
      "5. Neuron\n",
      "6. Perceptron\n",
      "2. Types of Neural Networks\n",
      "1. Introduction to various types of neural networks:\n",
      "1. Single-layer Neural Networks\n",
      "2. Multilayer Neural Networks\n"
     ]
    }
   ],
   "source": [
    "# reade file line by line\n",
    "with open(\"example.txt\",'r') as f:\n",
    "    for line in f:\n",
    "      print(line.strip())"
   ]
  },
  {
   "cell_type": "code",
   "execution_count": null,
   "id": "3159cbe1",
   "metadata": {},
   "outputs": [],
   "source": [
    "# open file and writing something, In this process our file will be overwritten\n",
    "with open(\"example.txt\",\"w\") as f:\n",
    "   f.write(\"hello Ai\\n\")\n",
    "   f.write(\"This is a new line\") # add new line"
   ]
  },
  {
   "cell_type": "code",
   "execution_count": 9,
   "id": "9a1eb505",
   "metadata": {},
   "outputs": [],
   "source": [
    "# Write a file without overwritting\n",
    "with open(\"example.txt\",\"a\") as f: # \"a\" is append mode add new content without overwrittent the file\n",
    "   f.write(\"This is append mode to add new lin\\n without overwrite content\")"
   ]
  },
  {
   "cell_type": "code",
   "execution_count": 10,
   "id": "d0791e95",
   "metadata": {},
   "outputs": [],
   "source": [
    "# write a list of lines to a file\n",
    "lines =[\"First line \\n\",\"Second line \\n\",\"Third Line\\n\"]\n",
    "\n",
    "with open(\"example.txt\",'a') as f:\n",
    "   f.writelines(lines) # add more lines"
   ]
  },
  {
   "cell_type": "code",
   "execution_count": 11,
   "id": "c89bc79a",
   "metadata": {},
   "outputs": [],
   "source": [
    "# binary files\n",
    " # write a binary file\n",
    "data =b'\\x00\\x02\\x03\\x04'\n",
    "with open(\"example.bin\",'wb') as bf:\n",
    "    bf.write(data)"
   ]
  },
  {
   "cell_type": "code",
   "execution_count": 12,
   "id": "d8dfa2e8",
   "metadata": {},
   "outputs": [
    {
     "name": "stdout",
     "output_type": "stream",
     "text": [
      "b'\\x00\\x02\\x03\\x04'\n"
     ]
    }
   ],
   "source": [
    "# reade binary files\n",
    "with open(\"example.bin\",'rb') as bf:\n",
    "    print(bf.read())"
   ]
  },
  {
   "cell_type": "code",
   "execution_count": 13,
   "id": "2208cd22",
   "metadata": {},
   "outputs": [],
   "source": [
    "# read content from a source text file and write the content to another file\n",
    "with open(\"example.txt\",'r') as f:\n",
    "    content=f.read()\n",
    "   \n",
    "with open(\"text.txt\",'w') as file:\n",
    "    file.write(content)"
   ]
  },
  {
   "cell_type": "markdown",
   "id": "d40835c8",
   "metadata": {},
   "source": [
    "*  'w+' mode used to open a file for reading and writing. if file not exist its created .and if exist then trancated or overwritten the file."
   ]
  },
  {
   "cell_type": "code",
   "execution_count": 16,
   "id": "f2af388f",
   "metadata": {},
   "outputs": [
    {
     "name": "stdout",
     "output_type": "stream",
     "text": [
      "\n"
     ]
    }
   ],
   "source": [
    "# writing and reading\n",
    "with open(\"example2.txt\",\"w+\") as f: # 'w+' mode used to open a file for reading and writing.\n",
    "    f.write(\"hello Ai\\n\")\n",
    "    f.write(\"This is new line\\n\")\n",
    "    \n",
    "\t # move cursor to first line\n",
    "    f.seek(0)\n",
    "    \n",
    "\t # read the content\n",
    "    content = f.read()\n",
    "    print(content)"
   ]
  },
  {
   "cell_type": "markdown",
   "id": "c47d9f05",
   "metadata": {},
   "source": [
    "# File Path handaling"
   ]
  },
  {
   "cell_type": "code",
   "execution_count": 17,
   "id": "d856c72b",
   "metadata": {},
   "outputs": [
    {
     "name": "stdout",
     "output_type": "stream",
     "text": [
      "current diractory: e:\\Internship\\l&l_ai\\python_intership\\basic\n"
     ]
    }
   ],
   "source": [
    "import os\n",
    "cwd = os.getcwd()\n",
    "print(f\"current diractory: {cwd}\")"
   ]
  },
  {
   "cell_type": "code",
   "execution_count": 18,
   "id": "cfdebf5d",
   "metadata": {},
   "outputs": [
    {
     "name": "stdout",
     "output_type": "stream",
     "text": [
      "New dir package created\n"
     ]
    }
   ],
   "source": [
    "# create new diractory\n",
    "new_dir =\"package\"\n",
    "os.mkdir(new_dir)\n",
    "print(f\"New dir {new_dir} created\")"
   ]
  },
  {
   "cell_type": "code",
   "execution_count": 19,
   "id": "705b0009",
   "metadata": {},
   "outputs": [
    {
     "name": "stdout",
     "output_type": "stream",
     "text": [
      "['01-basic.ipynb', '02-string.ipynb', '03-list.ipynb', '04-tupels.ipynb', '05-sets.ipynb', '06-dict.ipynb', '07-if_else.ipynb', '08-loops.ipynb', '09-while_loop.ipynb', '10-functions.ipynb', '11-lambda_function.ipynb', '12-generators_functions.ipynb', '13-file_handaling.ipynb', 'basic_q.pdf', 'example.bin', 'example.txt', 'example2.txt', 'package', 'text.txt']\n"
     ]
    }
   ],
   "source": [
    "# list files and dirs\n",
    "items = os.listdir(\".\") # return current dir all the files\n",
    "print(items)"
   ]
  },
  {
   "cell_type": "code",
   "execution_count": 20,
   "id": "365d2420",
   "metadata": {},
   "outputs": [
    {
     "name": "stdout",
     "output_type": "stream",
     "text": [
      "floder\\file.txt\n"
     ]
    }
   ],
   "source": [
    "# joining paths\n",
    "dir_name =\"floder\"\n",
    "file_name =\"file.txt\"\n",
    "\n",
    "full_path = os.path.join(dir_name,file_name)\n",
    "print(full_path)"
   ]
  },
  {
   "cell_type": "code",
   "execution_count": 21,
   "id": "953ac6a8",
   "metadata": {},
   "outputs": [
    {
     "name": "stdout",
     "output_type": "stream",
     "text": [
      "e:\\Internship\\l&l_ai\\python_intership\\basic\\floder\\file.txt\n"
     ]
    }
   ],
   "source": [
    "# joining paths\n",
    "dir_name =\"floder\"\n",
    "file_name =\"file.txt\"\n",
    "\n",
    "full_path = os.path.join(os.getcwd(),dir_name,file_name)\n",
    "print(full_path)"
   ]
  },
  {
   "cell_type": "code",
   "execution_count": 22,
   "id": "4f97c8f9",
   "metadata": {},
   "outputs": [
    {
     "name": "stdout",
     "output_type": "stream",
     "text": [
      "The file path new_file.txt not exist\n"
     ]
    }
   ],
   "source": [
    "path = \"new_file.txt\"\n",
    "if os.path.exists(path):\n",
    "    print(f\"The file path {path} exist\")\n",
    "else:\n",
    "    print(f\"The file path {path} not exist\")"
   ]
  },
  {
   "cell_type": "code",
   "execution_count": 24,
   "id": "48819c3f",
   "metadata": {},
   "outputs": [
    {
     "name": "stdout",
     "output_type": "stream",
     "text": [
      "The file path example.txt exist\n",
      "This is a file\n"
     ]
    }
   ],
   "source": [
    "# checking path is a file or dir\n",
    "path = \"example.txt\"\n",
    "if os.path.exists(path):\n",
    "    print(f\"The file path {path} exist\")\n",
    "    if os.path.isfile(path):\n",
    "        print(f\"This is a file\")\n",
    "    elif os.path.isdir(path):\n",
    "        print(\"Dir\")\n",
    "    else:\n",
    "        pass\n",
    "else:\n",
    "    print(f\"The file path {path} not exist\")"
   ]
  },
  {
   "cell_type": "code",
   "execution_count": null,
   "id": "d3101219",
   "metadata": {},
   "outputs": [],
   "source": []
  }
 ],
 "metadata": {
  "kernelspec": {
   "display_name": "base",
   "language": "python",
   "name": "python3"
  },
  "language_info": {
   "codemirror_mode": {
    "name": "ipython",
    "version": 3
   },
   "file_extension": ".py",
   "mimetype": "text/x-python",
   "name": "python",
   "nbconvert_exporter": "python",
   "pygments_lexer": "ipython3",
   "version": "3.12.7"
  }
 },
 "nbformat": 4,
 "nbformat_minor": 5
}
