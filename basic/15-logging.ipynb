{
 "cells": [
  {
   "cell_type": "markdown",
   "id": "7b50c659",
   "metadata": {},
   "source": [
    "# Python Logging\n",
    "Logging is a crucial aspect of any application, providing a way to track events, errors, and operational information. Python's built-in logging module offers a flexible framework for emitting log messages from Python programs"
   ]
  },
  {
   "cell_type": "code",
   "execution_count": 1,
   "id": "9e8eaee6",
   "metadata": {},
   "outputs": [],
   "source": [
    "import logging"
   ]
  },
  {
   "cell_type": "code",
   "execution_count": 2,
   "id": "eea1dc17",
   "metadata": {},
   "outputs": [
    {
     "name": "stderr",
     "output_type": "stream",
     "text": [
      "DEBUG:root:debug message\n",
      "INFO:root:This is info\n",
      "WARNING:root:This is Warning\n",
      "ERROR:root:This is a error\n"
     ]
    }
   ],
   "source": [
    "# configure basic logging settings\n",
    "logging.basicConfig(level=logging.DEBUG)\n",
    "\n",
    "# log messages\n",
    "logging.debug(\"debug message\")\n",
    "logging.info(\"This is info\")\n",
    "logging.warning(\"This is Warning\")\n",
    "logging.error(\"This is a error\")"
   ]
  },
  {
   "cell_type": "markdown",
   "id": "6274eec1",
   "metadata": {},
   "source": [
    "# Log Levels\n",
    "Python's logging module has several log levels indicating the severity of events. The default levels are:\n",
    "\n",
    "DEBUG: Detailed information, typically of interest only when diagnosing problems.\n",
    "\n",
    "INFO: Confirmation that things are working as expected.\n",
    "\n",
    "WARNING: An indication that something unexpected happened or indicative of some problem in the near future (e.g., ‘disk space low’). The software is still working as expected.\n",
    "\n",
    "ERROR: Due to a more serious problem, the software has not been able to perform some function.\n",
    "\n",
    "CRITICAL: A very serious error, indicating that the program itself may be unable to continue running."
   ]
  },
  {
   "cell_type": "code",
   "execution_count": 1,
   "id": "b8bb97e0",
   "metadata": {},
   "outputs": [],
   "source": [
    "import logging\n",
    "\n",
    "# configure\n",
    "logging.basicConfig(\n",
    "    filename='app.log',\n",
    "    filemode=\"w\",\n",
    "    level=logging.DEBUG,\n",
    "    format=\"%(asctime)s - %(name)s - %(levelname)s - %(message)s\",\n",
    "    datefmt=\"%Y-%m-%d %H:%M:%S\"\n",
    ")\n",
    "\n",
    "# log messages\n",
    "logging.debug(\"This is a debug message\")\n",
    "logging.info(\"This is info\")\n",
    "logging.warning(\"This is a warning\")\n",
    "logging.error(\"This is an error\")\n"
   ]
  },
  {
   "cell_type": "markdown",
   "id": "7385a182",
   "metadata": {},
   "source": [
    "# Logging with multipel Loggers\n",
    "* we can create multiple loggers for different parts of application"
   ]
  },
  {
   "cell_type": "code",
   "execution_count": 1,
   "id": "f0ec46d0",
   "metadata": {},
   "outputs": [],
   "source": [
    "import logging\n",
    "\n",
    "# create a logger for module 1\n",
    "logger1= logging.getLogger(\"module1\")\n",
    "logger1.setLevel(logging.DEBUG)\n",
    "\n",
    "# create a logger for module 2\n",
    "logger2= logging.getLogger(\"module2\")\n",
    "logger2.setLevel(logging.WARNING)\n",
    "\n",
    "logging.basicConfig(\n",
    "    level=logging.DEBUG,\n",
    "    format=\"%(asctime)s - %(name)s - %(levelname)s - %(message)s\",\n",
    "    datefmt=\"%Y-%m-%d %H:%M:%S\"\n",
    ")"
   ]
  },
  {
   "cell_type": "code",
   "execution_count": 2,
   "id": "df795727",
   "metadata": {},
   "outputs": [
    {
     "name": "stderr",
     "output_type": "stream",
     "text": [
      "2025-07-17 12:34:54 - module1 - DEBUG - This is debug message for module1\n",
      "2025-07-17 12:34:54 - module2 - WARNING - This is warning\n"
     ]
    }
   ],
   "source": [
    "## log message\n",
    "logger1.debug(\"This is debug message for module1\")\n",
    "logger2.warning(\"This is warning\")"
   ]
  },
  {
   "cell_type": "code",
   "execution_count": 1,
   "id": "ee785cb6",
   "metadata": {},
   "outputs": [],
   "source": [
    "import os\n",
    "import logging"
   ]
  },
  {
   "cell_type": "code",
   "execution_count": 2,
   "id": "15e2dbf9",
   "metadata": {},
   "outputs": [],
   "source": [
    "log_dir=\"logs\"\n",
    "file_name=\"handaler.log\"\n",
    "os.makedirs(log_dir,exist_ok=True)"
   ]
  },
  {
   "cell_type": "code",
   "execution_count": 3,
   "id": "771eb7f9",
   "metadata": {},
   "outputs": [],
   "source": [
    "log_file_path = os.path.join(log_dir,file_name)"
   ]
  },
  {
   "cell_type": "code",
   "execution_count": 4,
   "id": "5326a5fc",
   "metadata": {},
   "outputs": [],
   "source": [
    "logging.basicConfig(\n",
    "    filename=log_file_path,\n",
    "    level=logging.INFO\n",
    ")"
   ]
  },
  {
   "cell_type": "code",
   "execution_count": 5,
   "id": "4ada01e4",
   "metadata": {},
   "outputs": [],
   "source": [
    "logging.info(\"I am a Data Scientist\")"
   ]
  },
  {
   "cell_type": "code",
   "execution_count": 6,
   "id": "0d8920d6",
   "metadata": {},
   "outputs": [
    {
     "name": "stdout",
     "output_type": "stream",
     "text": [
      "Collecting ipdb\n",
      "  Downloading ipdb-0.13.13-py3-none-any.whl.metadata (14 kB)\n",
      "Requirement already satisfied: ipython>=7.31.1 in d:\\anaconda\\lib\\site-packages (from ipdb) (8.27.0)\n",
      "Requirement already satisfied: decorator in d:\\anaconda\\lib\\site-packages (from ipdb) (5.1.1)\n",
      "Requirement already satisfied: jedi>=0.16 in d:\\anaconda\\lib\\site-packages (from ipython>=7.31.1->ipdb) (0.19.1)\n",
      "Requirement already satisfied: matplotlib-inline in d:\\anaconda\\lib\\site-packages (from ipython>=7.31.1->ipdb) (0.1.6)\n",
      "Requirement already satisfied: prompt-toolkit<3.1.0,>=3.0.41 in d:\\anaconda\\lib\\site-packages (from ipython>=7.31.1->ipdb) (3.0.43)\n",
      "Requirement already satisfied: pygments>=2.4.0 in d:\\anaconda\\lib\\site-packages (from ipython>=7.31.1->ipdb) (2.15.1)\n",
      "Requirement already satisfied: stack-data in d:\\anaconda\\lib\\site-packages (from ipython>=7.31.1->ipdb) (0.2.0)\n",
      "Requirement already satisfied: traitlets>=5.13.0 in d:\\anaconda\\lib\\site-packages (from ipython>=7.31.1->ipdb) (5.14.3)\n",
      "Requirement already satisfied: colorama in d:\\anaconda\\lib\\site-packages (from ipython>=7.31.1->ipdb) (0.4.6)\n",
      "Requirement already satisfied: parso<0.9.0,>=0.8.3 in d:\\anaconda\\lib\\site-packages (from jedi>=0.16->ipython>=7.31.1->ipdb) (0.8.3)\n",
      "Requirement already satisfied: wcwidth in d:\\anaconda\\lib\\site-packages (from prompt-toolkit<3.1.0,>=3.0.41->ipython>=7.31.1->ipdb) (0.2.5)\n",
      "Requirement already satisfied: executing in d:\\anaconda\\lib\\site-packages (from stack-data->ipython>=7.31.1->ipdb) (0.8.3)\n",
      "Requirement already satisfied: asttokens in d:\\anaconda\\lib\\site-packages (from stack-data->ipython>=7.31.1->ipdb) (2.0.5)\n",
      "Requirement already satisfied: pure-eval in d:\\anaconda\\lib\\site-packages (from stack-data->ipython>=7.31.1->ipdb) (0.2.2)\n",
      "Requirement already satisfied: six in d:\\anaconda\\lib\\site-packages (from asttokens->stack-data->ipython>=7.31.1->ipdb) (1.16.0)\n",
      "Downloading ipdb-0.13.13-py3-none-any.whl (12 kB)\n",
      "Installing collected packages: ipdb\n",
      "Successfully installed ipdb-0.13.13\n"
     ]
    }
   ],
   "source": [
    "!pip install ipdb"
   ]
  },
  {
   "cell_type": "code",
   "execution_count": 7,
   "id": "9fb3a01e",
   "metadata": {},
   "outputs": [],
   "source": [
    "import ipdb"
   ]
  },
  {
   "cell_type": "code",
   "execution_count": null,
   "id": "1284b9da",
   "metadata": {},
   "outputs": [],
   "source": [
    "def test_debug():\n",
    "    #ipdb.set_trace()\n",
    "    l=[]\n",
    "    for i in range(10):\n",
    "        l.append(i)\n",
    "    print(f\"Appended {i} to list\")\n",
    "    return l"
   ]
  },
  {
   "cell_type": "code",
   "execution_count": null,
   "id": "fa1b3215",
   "metadata": {},
   "outputs": [
    {
     "name": "stdout",
     "output_type": "stream",
     "text": [
      "> \u001b[1;32mc:\\users\\www58\\appdata\\local\\temp\\ipykernel_15028\\4241916332.py\u001b[0m(3)\u001b[0;36mtest_debug\u001b[1;34m()\u001b[0m\n",
      "\n",
      "5\n",
      "6\n",
      "4\n",
      "4\n",
      "4\n",
      "4\n",
      "4\n",
      "4\n",
      "4\n",
      "4\n",
      "4\n",
      "4\n",
      "4\n",
      "4\n",
      "4\n"
     ]
    }
   ],
   "source": [
    "test_debug()"
   ]
  },
  {
   "cell_type": "code",
   "execution_count": null,
   "id": "6a61b975",
   "metadata": {},
   "outputs": [],
   "source": []
  }
 ],
 "metadata": {
  "kernelspec": {
   "display_name": "base",
   "language": "python",
   "name": "python3"
  },
  "language_info": {
   "codemirror_mode": {
    "name": "ipython",
    "version": 3
   },
   "file_extension": ".py",
   "mimetype": "text/x-python",
   "name": "python",
   "nbconvert_exporter": "python",
   "pygments_lexer": "ipython3",
   "version": "3.12.7"
  }
 },
 "nbformat": 4,
 "nbformat_minor": 5
}
