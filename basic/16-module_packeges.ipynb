{
 "cells": [
  {
   "cell_type": "markdown",
   "id": "394407e7",
   "metadata": {},
   "source": [
    "# Modules and Packages\n",
    "\n",
    "*In python modules and packeges help to  organize and reuse code functionality ,so that way we manage code efficently."
   ]
  },
  {
   "cell_type": "markdown",
   "id": "460c6029",
   "metadata": {},
   "source": [
    "## Module\n",
    "* A module is simple python file contaning functions,classes or variables that can use other python script"
   ]
  },
  {
   "cell_type": "code",
   "execution_count": 1,
   "id": "8a778cf6",
   "metadata": {},
   "outputs": [
    {
     "data": {
      "text/plain": [
       "4.0"
      ]
     },
     "execution_count": 1,
     "metadata": {},
     "output_type": "execute_result"
    }
   ],
   "source": [
    "import math \n",
    "math.sqrt(16)"
   ]
  },
  {
   "cell_type": "code",
   "execution_count": 2,
   "id": "21926fe5",
   "metadata": {},
   "outputs": [
    {
     "name": "stdout",
     "output_type": "stream",
     "text": [
      "3.141592653589793\n"
     ]
    }
   ],
   "source": [
    "from math import sqrt,pi\n",
    "print(pi)"
   ]
  },
  {
   "cell_type": "code",
   "execution_count": 3,
   "id": "f21efeb3",
   "metadata": {},
   "outputs": [],
   "source": [
    "import numpy as np"
   ]
  },
  {
   "cell_type": "code",
   "execution_count": 4,
   "id": "eaeb44ec",
   "metadata": {},
   "outputs": [
    {
     "data": {
      "text/plain": [
       "array([1, 2, 3])"
      ]
     },
     "execution_count": 4,
     "metadata": {},
     "output_type": "execute_result"
    }
   ],
   "source": [
    "np.array([1,2,3])"
   ]
  },
  {
   "cell_type": "code",
   "execution_count": 5,
   "id": "cec55638",
   "metadata": {},
   "outputs": [
    {
     "data": {
      "text/plain": [
       "2.23606797749979"
      ]
     },
     "execution_count": 5,
     "metadata": {},
     "output_type": "execute_result"
    }
   ],
   "source": [
    "from math import *\n",
    "sqrt(5)"
   ]
  },
  {
   "cell_type": "code",
   "execution_count": 6,
   "id": "8c437fe7",
   "metadata": {},
   "outputs": [
    {
     "data": {
      "text/plain": [
       "1.6094379124341003"
      ]
     },
     "execution_count": 6,
     "metadata": {},
     "output_type": "execute_result"
    }
   ],
   "source": [
    "log(5)"
   ]
  },
  {
   "cell_type": "code",
   "execution_count": 9,
   "id": "0276a7aa",
   "metadata": {},
   "outputs": [],
   "source": [
    "# import custom math module\n",
    "from packeges.math import add"
   ]
  },
  {
   "cell_type": "code",
   "execution_count": 10,
   "id": "434206b6",
   "metadata": {},
   "outputs": [
    {
     "data": {
      "text/plain": [
       "9"
      ]
     },
     "execution_count": 10,
     "metadata": {},
     "output_type": "execute_result"
    }
   ],
   "source": [
    "add(4,5)"
   ]
  },
  {
   "cell_type": "code",
   "execution_count": 11,
   "id": "54dc46b4",
   "metadata": {},
   "outputs": [],
   "source": [
    "from packeges import math"
   ]
  },
  {
   "cell_type": "code",
   "execution_count": 13,
   "id": "63abf19b",
   "metadata": {},
   "outputs": [
    {
     "data": {
      "text/plain": [
       "10"
      ]
     },
     "execution_count": 13,
     "metadata": {},
     "output_type": "execute_result"
    }
   ],
   "source": [
    "math.add(5,5)"
   ]
  },
  {
   "cell_type": "code",
   "execution_count": 14,
   "id": "ea75bdea",
   "metadata": {},
   "outputs": [],
   "source": [
    "from packeges.subpackeges import subp"
   ]
  },
  {
   "cell_type": "code",
   "execution_count": 15,
   "id": "4098e298",
   "metadata": {},
   "outputs": [
    {
     "data": {
      "text/plain": [
       "30"
      ]
     },
     "execution_count": 15,
     "metadata": {},
     "output_type": "execute_result"
    }
   ],
   "source": [
    "subp.mult(5,6)"
   ]
  },
  {
   "cell_type": "markdown",
   "id": "4dbe4b8f",
   "metadata": {},
   "source": [
    "## Package\n",
    "* A package is a diractory that contains multiple modules with a special file __init__.py. it define modules with specific functonalites.\n",
    "* To use packege we have to use import statement.\n"
   ]
  },
  {
   "cell_type": "code",
   "execution_count": 16,
   "id": "a7bf1e61",
   "metadata": {},
   "outputs": [
    {
     "data": {
      "text/plain": [
       "78.53981633974483"
      ]
     },
     "execution_count": 16,
     "metadata": {},
     "output_type": "execute_result"
    }
   ],
   "source": [
    "from geometry import circle,squre,triangle\n",
    "\n",
    "circle.area(5)"
   ]
  },
  {
   "cell_type": "code",
   "execution_count": 17,
   "id": "df8185a3",
   "metadata": {},
   "outputs": [
    {
     "data": {
      "text/plain": [
       "56.548667764616276"
      ]
     },
     "execution_count": 17,
     "metadata": {},
     "output_type": "execute_result"
    }
   ],
   "source": [
    "circle.circumference(9)"
   ]
  },
  {
   "cell_type": "code",
   "execution_count": 18,
   "id": "dd5965d9",
   "metadata": {},
   "outputs": [
    {
     "data": {
      "text/plain": [
       "25"
      ]
     },
     "execution_count": 18,
     "metadata": {},
     "output_type": "execute_result"
    }
   ],
   "source": [
    "squre.area(5)"
   ]
  },
  {
   "cell_type": "code",
   "execution_count": 19,
   "id": "bacf3490",
   "metadata": {},
   "outputs": [
    {
     "data": {
      "text/plain": [
       "10.0"
      ]
     },
     "execution_count": 19,
     "metadata": {},
     "output_type": "execute_result"
    }
   ],
   "source": [
    "triangle.area(5,4)"
   ]
  },
  {
   "cell_type": "markdown",
   "id": "575d235d",
   "metadata": {},
   "source": [
    "# Summary\n",
    "## Module:\n",
    "Type- Single file.\n",
    "\n",
    "Purpose- Organize related code.\n",
    "\n",
    "Example:- triangle.py .\n",
    "\n",
    "## Package:\n",
    "Type;- Directory with multiple modules and an init.py file.\n",
    "\n",
    "Purpose;- Organize related modules hierarchically.\n",
    "\n",
    "Moduels and packages:20Example: geometry/ directory with circle.py , square.py ."
   ]
  },
  {
   "cell_type": "markdown",
   "id": "6df10ee7",
   "metadata": {},
   "source": [
    "## Library:\n",
    "Type;- Collection of modules and packages.\n",
    "\n",
    "Purpose:- Provide a set of related functionalities.\n",
    "\n",
    "Example: numpy , requests ."
   ]
  },
  {
   "cell_type": "code",
   "execution_count": 20,
   "id": "20f6cfeb",
   "metadata": {},
   "outputs": [],
   "source": [
    "import array\n",
    "arr = array.array(\"i\",[1,2,4,3])"
   ]
  },
  {
   "cell_type": "code",
   "execution_count": 21,
   "id": "b8cdf2f0",
   "metadata": {},
   "outputs": [
    {
     "data": {
      "text/plain": [
       "array('i', [1, 2, 4, 3])"
      ]
     },
     "execution_count": 21,
     "metadata": {},
     "output_type": "execute_result"
    }
   ],
   "source": [
    "arr"
   ]
  },
  {
   "cell_type": "code",
   "execution_count": 22,
   "id": "15427d85",
   "metadata": {},
   "outputs": [
    {
     "data": {
      "text/plain": [
       "-0.9589242746631385"
      ]
     },
     "execution_count": 22,
     "metadata": {},
     "output_type": "execute_result"
    }
   ],
   "source": [
    "import math\n",
    "math.sin(5)"
   ]
  },
  {
   "cell_type": "code",
   "execution_count": 23,
   "id": "7fa284a2",
   "metadata": {},
   "outputs": [
    {
     "name": "stdout",
     "output_type": "stream",
     "text": [
      "25\n"
     ]
    }
   ],
   "source": [
    "import random\n",
    "print(random.randint(1,50))"
   ]
  },
  {
   "cell_type": "code",
   "execution_count": 25,
   "id": "79d6b483",
   "metadata": {},
   "outputs": [
    {
     "data": {
      "text/plain": [
       "6"
      ]
     },
     "execution_count": 25,
     "metadata": {},
     "output_type": "execute_result"
    }
   ],
   "source": [
    "random.choice([1,2,3,6,5,8,\"ac\"])"
   ]
  },
  {
   "cell_type": "code",
   "execution_count": 26,
   "id": "e60f9a1f",
   "metadata": {},
   "outputs": [
    {
     "name": "stdout",
     "output_type": "stream",
     "text": [
      "e:\\Internship\\l&l_ai\\python_intership\\basic\n"
     ]
    }
   ],
   "source": [
    "# file and diractory access\n",
    "import os\n",
    "print(os.getcwd())"
   ]
  },
  {
   "cell_type": "code",
   "execution_count": 27,
   "id": "d7939178",
   "metadata": {},
   "outputs": [],
   "source": [
    "# make dir\n",
    "os.mkdir(\"test_dir\")"
   ]
  },
  {
   "cell_type": "code",
   "execution_count": 28,
   "id": "4629a049",
   "metadata": {},
   "outputs": [
    {
     "data": {
      "text/plain": [
       "'det.txt'"
      ]
     },
     "execution_count": 28,
     "metadata": {},
     "output_type": "execute_result"
    }
   ],
   "source": [
    "# high levwl operation on files\n",
    "import shutil\n",
    "shutil.copy(\"files/example.txt\",\"det.txt\")"
   ]
  },
  {
   "cell_type": "code",
   "execution_count": 29,
   "id": "39644bd4",
   "metadata": {},
   "outputs": [
    {
     "data": {
      "text/plain": [
       "dict"
      ]
     },
     "execution_count": 29,
     "metadata": {},
     "output_type": "execute_result"
    }
   ],
   "source": [
    "# data serialization -> converting data to another format\n",
    "import json\n",
    "data = {'name':'ac',\"age\":25}\n",
    "type(data)"
   ]
  },
  {
   "cell_type": "code",
   "execution_count": 31,
   "id": "06759677",
   "metadata": {},
   "outputs": [
    {
     "data": {
      "text/plain": [
       "str"
      ]
     },
     "execution_count": 31,
     "metadata": {},
     "output_type": "execute_result"
    }
   ],
   "source": [
    "json_str = json.dumps(data)\n",
    "type(json_str)"
   ]
  },
  {
   "cell_type": "code",
   "execution_count": 33,
   "id": "ab11aaa6",
   "metadata": {},
   "outputs": [
    {
     "data": {
      "text/plain": [
       "dict"
      ]
     },
     "execution_count": 33,
     "metadata": {},
     "output_type": "execute_result"
    }
   ],
   "source": [
    "parsed_data=json.loads(json_str)\n",
    "parsed_data\n",
    "type(parsed_data)"
   ]
  },
  {
   "cell_type": "code",
   "execution_count": 40,
   "id": "fcc102da",
   "metadata": {},
   "outputs": [],
   "source": [
    "import csv\n",
    "with open(\"exam.csv\",mode=\"w\",newline=\"\") as file:\n",
    "   writer = csv.writer(file)\n",
    "   writer.writerow(['name','age'])\n",
    "   writer.writerow(['ac',24])"
   ]
  },
  {
   "cell_type": "code",
   "execution_count": 41,
   "id": "0f69193b",
   "metadata": {},
   "outputs": [
    {
     "name": "stdout",
     "output_type": "stream",
     "text": [
      "['name', 'age']\n",
      "['ac', '24']\n"
     ]
    }
   ],
   "source": [
    "with open(\"exam.csv\",'r') as f:\n",
    "    data =csv.reader(f)\n",
    "    for i in data:\n",
    "      print(i)"
   ]
  },
  {
   "cell_type": "code",
   "execution_count": 42,
   "id": "c462d569",
   "metadata": {},
   "outputs": [],
   "source": [
    "from datetime import datetime,timedelta"
   ]
  },
  {
   "cell_type": "code",
   "execution_count": 44,
   "id": "f05e6338",
   "metadata": {},
   "outputs": [
    {
     "data": {
      "text/plain": [
       "datetime.datetime(2025, 7, 17, 15, 12, 55, 732626)"
      ]
     },
     "execution_count": 44,
     "metadata": {},
     "output_type": "execute_result"
    }
   ],
   "source": [
    "now =datetime.now()\n",
    "now"
   ]
  },
  {
   "cell_type": "code",
   "execution_count": 46,
   "id": "2caf2fb6",
   "metadata": {},
   "outputs": [],
   "source": [
    "yesterday = now - timedelta(days=1)"
   ]
  },
  {
   "cell_type": "code",
   "execution_count": 47,
   "id": "2d797bf4",
   "metadata": {},
   "outputs": [
    {
     "data": {
      "text/plain": [
       "datetime.datetime(2025, 7, 16, 15, 12, 55, 732626)"
      ]
     },
     "execution_count": 47,
     "metadata": {},
     "output_type": "execute_result"
    }
   ],
   "source": [
    "yesterday"
   ]
  },
  {
   "cell_type": "markdown",
   "id": "afebb031",
   "metadata": {},
   "source": [
    "# PYPI\n",
    "**PyPI (Python Package Index) is a repository for Python packages. It allows developers to publish, share, and find Python libraries and tools. PyPI hosts thousands of packages that extend Pythonʼs functionality, ranging from simple utilities to complex frameworks.**"
   ]
  },
  {
   "cell_type": "markdown",
   "id": "c8449474",
   "metadata": {},
   "source": [
    "## Uses of PyPI\n",
    "Access to Libraries: Provides access to a vast collection of third-party libraries that can help you avoid reinventing the wheel. For example, you can find packages for data analysis, web development, machine learning, and more.\n",
    "\n",
    "Code Sharing: Allows developers to share their code with the community, promoting collaboration and reuse.\n",
    "\n",
    "Package Discovery: Helps you discover and evaluate packages through descriptions, documentation, and user ratings"
   ]
  },
  {
   "cell_type": "markdown",
   "id": "eba93538",
   "metadata": {},
   "source": [
    "## pip\n",
    " pip is the package installer for Python. It is a command-line tool used to install and manage Python packages from PyPI. Pip simplifies the process of downloading and installing packages and their dependencies, ensuring that you can easily integrate external libraries into your projects."
   ]
  },
  {
   "cell_type": "markdown",
   "id": "1b6779ec",
   "metadata": {},
   "source": [
    "## Uses of pip:\n",
    "Installing Packages: Easily install packages from PyPI into your Python environment.\n",
    "\n",
    "Managing Dependencies: Handle package dependencies automatically, making it easier to work with complex libraries.\n",
    "\n",
    "Upgrading and Uninstalling: Update or remove packages as needed. Example: Moduels and packages:9Installing Requests Package: Use pip to install the requests package from PyPI."
   ]
  },
  {
   "cell_type": "code",
   "execution_count": null,
   "id": "3f46d806",
   "metadata": {},
   "outputs": [],
   "source": []
  }
 ],
 "metadata": {
  "kernelspec": {
   "display_name": "base",
   "language": "python",
   "name": "python3"
  },
  "language_info": {
   "codemirror_mode": {
    "name": "ipython",
    "version": 3
   },
   "file_extension": ".py",
   "mimetype": "text/x-python",
   "name": "python",
   "nbconvert_exporter": "python",
   "pygments_lexer": "ipython3",
   "version": "3.12.7"
  }
 },
 "nbformat": 4,
 "nbformat_minor": 5
}
