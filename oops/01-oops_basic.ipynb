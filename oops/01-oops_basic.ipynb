{
 "cells": [
  {
   "cell_type": "markdown",
   "id": "b6cc67d1",
   "metadata": {},
   "source": [
    "# OOP(Object Orient Programming)\n",
    "* oop is programming paradigm that uses object and classes to structre code in a reusable and moduler way.\n",
    "* In simple terms it is a way to write effiecent , resuable, debuagable and managable code."
   ]
  },
  {
   "cell_type": "markdown",
   "id": "c32b85f0",
   "metadata": {},
   "source": [
    "## Class Object\n",
    "\n",
    "**A class is a bluprint to creating object. It define set of attributs and methods**\n",
    "* Attributs : a variables that hold data related to class. (variabels)\n",
    "* Methods: function define with in a class that can access class attributs. (funation)"
   ]
  },
  {
   "cell_type": "markdown",
   "id": "39653455",
   "metadata": {},
   "source": [
    "**An Object is a instance of a a class.it is the user that use class functionality and atteibuts.**"
   ]
  },
  {
   "cell_type": "code",
   "execution_count": 1,
   "id": "b40d03c2",
   "metadata": {},
   "outputs": [],
   "source": [
    "class Car:\n",
    "\tpass\n",
    "\n",
    "audi=Car()"
   ]
  },
  {
   "cell_type": "code",
   "execution_count": 2,
   "id": "4c9a0e0e",
   "metadata": {},
   "outputs": [
    {
     "name": "stdout",
     "output_type": "stream",
     "text": [
      "<class '__main__.Car'>\n"
     ]
    }
   ],
   "source": [
    "print(type(audi))"
   ]
  },
  {
   "cell_type": "code",
   "execution_count": 3,
   "id": "c97954ea",
   "metadata": {},
   "outputs": [
    {
     "data": {
      "text/plain": [
       "<__main__.Car at 0x1c39fe9eb40>"
      ]
     },
     "execution_count": 3,
     "metadata": {},
     "output_type": "execute_result"
    }
   ],
   "source": [
    "audi"
   ]
  },
  {
   "cell_type": "code",
   "execution_count": 4,
   "id": "e1dd7527",
   "metadata": {},
   "outputs": [],
   "source": [
    "audi.window=4 # Initalize attributs. but thise is not a proper way"
   ]
  },
  {
   "cell_type": "code",
   "execution_count": 5,
   "id": "2e179544",
   "metadata": {},
   "outputs": [
    {
     "name": "stdout",
     "output_type": "stream",
     "text": [
      "4\n"
     ]
    }
   ],
   "source": [
    "print(audi.window)"
   ]
  },
  {
   "cell_type": "code",
   "execution_count": 6,
   "id": "b17a1f39",
   "metadata": {},
   "outputs": [
    {
     "ename": "AttributeError",
     "evalue": "'Car' object has no attribute 'window'",
     "output_type": "error",
     "traceback": [
      "\u001b[1;31m---------------------------------------------------------------------------\u001b[0m",
      "\u001b[1;31mAttributeError\u001b[0m                            Traceback (most recent call last)",
      "Cell \u001b[1;32mIn[6], line 3\u001b[0m\n\u001b[0;32m      1\u001b[0m tata \u001b[38;5;241m=\u001b[39m Car()\n\u001b[0;32m      2\u001b[0m tata\u001b[38;5;241m.\u001b[39mdoor \u001b[38;5;241m=\u001b[39m\u001b[38;5;241m4\u001b[39m\n\u001b[1;32m----> 3\u001b[0m \u001b[38;5;28mprint\u001b[39m(tata\u001b[38;5;241m.\u001b[39mwindow)\n",
      "\u001b[1;31mAttributeError\u001b[0m: 'Car' object has no attribute 'window'"
     ]
    }
   ],
   "source": [
    "tata = Car()\n",
    "tata.door =4\n",
    "print(tata.window)"
   ]
  },
  {
   "cell_type": "code",
   "execution_count": null,
   "id": "89f8be13",
   "metadata": {},
   "outputs": [
    {
     "data": {
      "text/plain": [
       "['__annotations__',\n",
       " '__class__',\n",
       " '__delattr__',\n",
       " '__dict__',\n",
       " '__dir__',\n",
       " '__doc__',\n",
       " '__eq__',\n",
       " '__format__',\n",
       " '__ge__',\n",
       " '__getattribute__',\n",
       " '__getstate__',\n",
       " '__gt__',\n",
       " '__hash__',\n",
       " '__init__',\n",
       " '__init_subclass__',\n",
       " '__le__',\n",
       " '__lt__',\n",
       " '__module__',\n",
       " '__ne__',\n",
       " '__new__',\n",
       " '__reduce__',\n",
       " '__reduce_ex__',\n",
       " '__repr__',\n",
       " '__setattr__',\n",
       " '__sizeof__',\n",
       " '__str__',\n",
       " '__subclasshook__',\n",
       " '__weakref__',\n",
       " 'door']"
      ]
     },
     "execution_count": 8,
     "metadata": {},
     "output_type": "execute_result"
    }
   ],
   "source": [
    "dir(tata)"
   ]
  },
  {
   "cell_type": "code",
   "execution_count": null,
   "id": "98ba2116",
   "metadata": {},
   "outputs": [
    {
     "ename": "TypeError",
     "evalue": "Dog.__init__() missing 2 required positional arguments: 'name' and 'age'",
     "output_type": "error",
     "traceback": [
      "\u001b[1;31m---------------------------------------------------------------------------\u001b[0m",
      "\u001b[1;31mTypeError\u001b[0m                                 Traceback (most recent call last)",
      "Cell \u001b[1;32mIn[9], line 10\u001b[0m\n\u001b[0;32m      6\u001b[0m \t\t\u001b[38;5;28mself\u001b[39m\u001b[38;5;241m.\u001b[39mage\u001b[38;5;241m=\u001b[39mage\n\u001b[0;32m      7\u001b[0m \t\t\u001b[38;5;66;03m# self is responsable for give access of these attributs to the class\u001b[39;00m\n\u001b[0;32m      8\u001b[0m \n\u001b[0;32m      9\u001b[0m \u001b[38;5;66;03m# create object\u001b[39;00m\n\u001b[1;32m---> 10\u001b[0m dog1\u001b[38;5;241m=\u001b[39mDog()\n",
      "\u001b[1;31mTypeError\u001b[0m: Dog.__init__() missing 2 required positional arguments: 'name' and 'age'"
     ]
    }
   ],
   "source": [
    "## instance variable and methods\n",
    "class Dog:\n",
    "\t# constractor\n",
    "\tdef __init__(self,name,age):\n",
    "\t\tself.name =name\n",
    "\t\tself.age=age\n",
    "\t\t# self is responsable for give access of these attributs to the class\n",
    "\n",
    "# create object\n",
    "dog1=Dog()"
   ]
  },
  {
   "cell_type": "code",
   "execution_count": null,
   "id": "15887f02",
   "metadata": {},
   "outputs": [],
   "source": [
    "dog1=Dog('tom',2)"
   ]
  },
  {
   "cell_type": "code",
   "execution_count": null,
   "id": "62e73ff8",
   "metadata": {},
   "outputs": [
    {
     "data": {
      "text/plain": [
       "2"
      ]
     },
     "execution_count": 11,
     "metadata": {},
     "output_type": "execute_result"
    }
   ],
   "source": [
    "dog1.age"
   ]
  },
  {
   "cell_type": "code",
   "execution_count": null,
   "id": "9f02e4e7",
   "metadata": {},
   "outputs": [
    {
     "data": {
      "text/plain": [
       "'tom'"
      ]
     },
     "execution_count": 12,
     "metadata": {},
     "output_type": "execute_result"
    }
   ],
   "source": [
    "dog1.name"
   ]
  },
  {
   "cell_type": "code",
   "execution_count": null,
   "id": "e9835e60",
   "metadata": {},
   "outputs": [],
   "source": [
    "# define a class with instance method\n",
    "class Dog:\n",
    "\t# constractor\n",
    "\tdef __init__(self,name,age):\n",
    "\t\tself.name = name # Attributs\n",
    "\t\tself.age = age\n",
    "\n",
    "\t# methods\n",
    "\tdef bark(self):\n",
    "\t\tprint(f\"{self.name} says woof\")\n",
    "\n",
    "dog = Dog('tom',3)"
   ]
  },
  {
   "cell_type": "code",
   "execution_count": null,
   "id": "bc38bae7",
   "metadata": {},
   "outputs": [
    {
     "data": {
      "text/plain": [
       "<bound method Dog.bark of <__main__.Dog object at 0x0000021258E70CE0>>"
      ]
     },
     "execution_count": 14,
     "metadata": {},
     "output_type": "execute_result"
    }
   ],
   "source": [
    "dog.bark"
   ]
  },
  {
   "cell_type": "code",
   "execution_count": null,
   "id": "2cfcf2c7",
   "metadata": {},
   "outputs": [
    {
     "name": "stdout",
     "output_type": "stream",
     "text": [
      "tom says woof\n"
     ]
    }
   ],
   "source": [
    "dog.bark()"
   ]
  },
  {
   "cell_type": "code",
   "execution_count": null,
   "id": "4ead4fd7",
   "metadata": {},
   "outputs": [],
   "source": [
    "# modeling a bank account\n",
    "\n",
    "class BankAccount:\n",
    "\tdef __init__(self,owner,balance=0):\n",
    "\t\tself.owner= owner\n",
    "\t\tself.balance = balance\n",
    "\n",
    "\tdef deposit(self,amount):\n",
    "\t\tbalance = self.balance + amount\n",
    "\t\tprint(f\"{amount} deposited . new balance {balance}\")\n",
    "\n",
    "\tdef withdraw(self,amount):\n",
    "\t\tif amount > self.balance:\n",
    "\t\t\tprint(\"This is Insufficient funds\")\n",
    "\t\telse:\n",
    "\t\t\tself.balance -= amount \n",
    "\t\t\tprint(f\"{amount} withdraw completed . new balance {self.balance}\")\n",
    "\n",
    "\tdef get_balance(self):\n",
    "\t\treturn self.balance"
   ]
  },
  {
   "cell_type": "code",
   "execution_count": null,
   "id": "01968a72",
   "metadata": {},
   "outputs": [],
   "source": [
    "account = BankAccount(\"ac\",50000)"
   ]
  },
  {
   "cell_type": "code",
   "execution_count": null,
   "id": "210a83a8",
   "metadata": {},
   "outputs": [
    {
     "name": "stdout",
     "output_type": "stream",
     "text": [
      "5000 deposited . new balance 55000\n"
     ]
    }
   ],
   "source": [
    "# call instance method\n",
    "account.deposit(5000)"
   ]
  },
  {
   "cell_type": "code",
   "execution_count": null,
   "id": "d0115df8",
   "metadata": {},
   "outputs": [
    {
     "name": "stdout",
     "output_type": "stream",
     "text": [
      "This is Insufficient funds\n"
     ]
    }
   ],
   "source": [
    "account.withdraw(500000)"
   ]
  },
  {
   "cell_type": "code",
   "execution_count": null,
   "id": "574673f0",
   "metadata": {},
   "outputs": [
    {
     "name": "stdout",
     "output_type": "stream",
     "text": [
      "500 withdraw completed . new balance 49500\n"
     ]
    }
   ],
   "source": [
    "account.withdraw(500)"
   ]
  },
  {
   "cell_type": "code",
   "execution_count": null,
   "id": "8f3751ff",
   "metadata": {},
   "outputs": [
    {
     "data": {
      "text/plain": [
       "49500"
      ]
     },
     "execution_count": 28,
     "metadata": {},
     "output_type": "execute_result"
    }
   ],
   "source": [
    "account.get_balance()"
   ]
  },
  {
   "cell_type": "code",
   "execution_count": 7,
   "id": "80b49a26",
   "metadata": {},
   "outputs": [],
   "source": [
    "class Person:\n",
    "\tdef __init__(self,name,age):\n",
    "\t\tself.name = name\n",
    "\t\tself.age =age\n",
    "\tdef get_name(self):\n",
    "\t\tprint(f\"Person name : {self.name}\")\n",
    "\n",
    "\tdef get_age(self):\n",
    "\t\tprint(f\"Age: {self.age}\")"
   ]
  },
  {
   "cell_type": "code",
   "execution_count": 8,
   "id": "5e9da417",
   "metadata": {},
   "outputs": [],
   "source": [
    "ac =Person(\"arpan\",24)"
   ]
  },
  {
   "cell_type": "code",
   "execution_count": 9,
   "id": "931bdc99",
   "metadata": {},
   "outputs": [
    {
     "name": "stdout",
     "output_type": "stream",
     "text": [
      "Person name : arpan\n"
     ]
    }
   ],
   "source": [
    "ac.get_name()"
   ]
  },
  {
   "cell_type": "code",
   "execution_count": 10,
   "id": "a9bd0aa6",
   "metadata": {},
   "outputs": [
    {
     "name": "stdout",
     "output_type": "stream",
     "text": [
      "Age: 24\n"
     ]
    }
   ],
   "source": [
    "ac.get_age()"
   ]
  },
  {
   "cell_type": "code",
   "execution_count": 11,
   "id": "3318c21e",
   "metadata": {},
   "outputs": [
    {
     "name": "stdout",
     "output_type": "stream",
     "text": [
      "Person name : kg\n"
     ]
    }
   ],
   "source": [
    "# modify the value\n",
    "ac.name = \"kg\"\n",
    "ac.get_name()"
   ]
  },
  {
   "cell_type": "code",
   "execution_count": 12,
   "id": "420fd2e2",
   "metadata": {},
   "outputs": [
    {
     "name": "stdout",
     "output_type": "stream",
     "text": [
      "Age: 244\n"
     ]
    }
   ],
   "source": [
    "ac.age = 244\n",
    "ac.get_age()"
   ]
  },
  {
   "cell_type": "markdown",
   "id": "1ec267ee",
   "metadata": {},
   "source": [
    "# Constractor"
   ]
  },
  {
   "cell_type": "markdown",
   "id": "52bebafe",
   "metadata": {},
   "source": [
    "## Default Constrator\n",
    "* Default constrractor also call empty constrator, beacuse it dosn't have any paremeters.\n",
    ">When we don't define any constrator compiler automatically called default constrator"
   ]
  },
  {
   "cell_type": "code",
   "execution_count": 13,
   "id": "bf762cd9",
   "metadata": {},
   "outputs": [
    {
     "name": "stdout",
     "output_type": "stream",
     "text": [
      "abc\n"
     ]
    }
   ],
   "source": [
    "class A():\n",
    "\tprint(\"abc\")\n",
    "\n",
    "obj = A()"
   ]
  },
  {
   "cell_type": "code",
   "execution_count": 21,
   "id": "b7fab957",
   "metadata": {},
   "outputs": [
    {
     "name": "stdout",
     "output_type": "stream",
     "text": [
      "ac\n"
     ]
    }
   ],
   "source": [
    "class A: # default constractor, we can't pass any parameter\n",
    "\tname =\"ac\"\n",
    "\tdef __init__(self):\n",
    "\t\tprint(self.name)\n",
    "\n",
    "obj = A()"
   ]
  },
  {
   "cell_type": "code",
   "execution_count": 22,
   "id": "1cf301f9",
   "metadata": {},
   "outputs": [
    {
     "data": {
      "text/plain": [
       "<__main__.A at 0x1c3a2eff320>"
      ]
     },
     "execution_count": 22,
     "metadata": {},
     "output_type": "execute_result"
    }
   ],
   "source": [
    "obj"
   ]
  },
  {
   "cell_type": "code",
   "execution_count": 1,
   "id": "e72ed899",
   "metadata": {},
   "outputs": [],
   "source": [
    "class Car:\n",
    "   def __init__(self) -> None:\n",
    "      self.name =\"Inova\"\n",
    "      self.year = 2000\n",
    "      \n",
    "c =Car()"
   ]
  },
  {
   "cell_type": "code",
   "execution_count": 2,
   "metadata": {},
   "outputs": [
    {
     "data": {
      "text/plain": [
       "'Inova'"
      ]
     },
     "execution_count": 2,
     "metadata": {},
     "output_type": "execute_result"
    }
   ],
   "source": [
    "c.name"
   ]
  },
  {
   "cell_type": "markdown",
   "id": "e58af8ff",
   "metadata": {},
   "source": [
    "## A parameterized constructor \n",
    "* Parameterized Constructor accepts arguments (parameters) when creating an object, allowing you to initialize object attributes with specific values. It can take multope parameters"
   ]
  },
  {
   "cell_type": "code",
   "execution_count": 23,
   "id": "5adfba49",
   "metadata": {},
   "outputs": [],
   "source": [
    "class student:\n",
    "\t# Parameterized Constructor\n",
    "\tdef __init__(self,name,age):\n",
    "\t\tself.name = name \n",
    "\t\tself.age =age\n",
    "\n",
    "\tdef display(self):\n",
    "\t\treturn f\"Name: {self.name} | Age: {self.age}\""
   ]
  },
  {
   "cell_type": "code",
   "execution_count": 25,
   "id": "8d1c433a",
   "metadata": {},
   "outputs": [],
   "source": [
    "obj = student('ac',24)"
   ]
  },
  {
   "cell_type": "code",
   "execution_count": 26,
   "id": "3fded5e2",
   "metadata": {},
   "outputs": [
    {
     "data": {
      "text/plain": [
       "'Name: ac | Age: 24'"
      ]
     },
     "execution_count": 26,
     "metadata": {},
     "output_type": "execute_result"
    }
   ],
   "source": [
    "obj.display()"
   ]
  },
  {
   "cell_type": "markdown",
   "id": "90179143",
   "metadata": {},
   "source": [
    "# Attributes"
   ]
  },
  {
   "cell_type": "code",
   "execution_count": 47,
   "id": "f22acb7b",
   "metadata": {},
   "outputs": [],
   "source": [
    "class netflix():\n",
    "\n",
    "    new_show = \"Pushpa\" # class attribute\n",
    "\n",
    "    def __init__(self,mail, password,service,amount):\n",
    "        self.mail = mail\n",
    "        self.password = password # instance attributes\n",
    "        self.service = service\n",
    "        self.amount = amount\n",
    "\n",
    "        \n",
    "\n",
    "\n",
    "    def get_password(self):\n",
    "        return self.password"
   ]
  },
  {
   "cell_type": "code",
   "execution_count": 50,
   "id": "c2208658",
   "metadata": {},
   "outputs": [],
   "source": [
    "obj = netflix(\"ac@500\",\"123\",\"striming\",500)"
   ]
  },
  {
   "cell_type": "code",
   "execution_count": 51,
   "id": "a4d2bada",
   "metadata": {},
   "outputs": [
    {
     "data": {
      "text/plain": [
       "'123'"
      ]
     },
     "execution_count": 51,
     "metadata": {},
     "output_type": "execute_result"
    }
   ],
   "source": [
    "obj.get_password()"
   ]
  },
  {
   "cell_type": "code",
   "execution_count": 52,
   "id": "8ad0bcf2",
   "metadata": {},
   "outputs": [
    {
     "data": {
      "text/plain": [
       "'ac@500'"
      ]
     },
     "execution_count": 52,
     "metadata": {},
     "output_type": "execute_result"
    }
   ],
   "source": [
    "obj.mail"
   ]
  },
  {
   "cell_type": "code",
   "execution_count": null,
   "id": "11e1a126",
   "metadata": {},
   "outputs": [
    {
     "data": {
      "text/plain": [
       "'Pushpa'"
      ]
     },
     "execution_count": 54,
     "metadata": {},
     "output_type": "execute_result"
    }
   ],
   "source": [
    "# class attribute access but not modify\n",
    "obj.new_show"
   ]
  },
  {
   "cell_type": "code",
   "execution_count": null,
   "id": "7fcee409",
   "metadata": {},
   "outputs": [
    {
     "data": {
      "text/plain": [
       "'Pushpa'"
      ]
     },
     "execution_count": 55,
     "metadata": {},
     "output_type": "execute_result"
    }
   ],
   "source": [
    "netflix.new_show # class method to access"
   ]
  },
  {
   "cell_type": "code",
   "execution_count": 56,
   "metadata": {},
   "outputs": [
    {
     "ename": "AttributeError",
     "evalue": "type object 'netflix' has no attribute 'mail'",
     "output_type": "error",
     "traceback": [
      "\u001b[1;31m---------------------------------------------------------------------------\u001b[0m",
      "\u001b[1;31mAttributeError\u001b[0m                            Traceback (most recent call last)",
      "Cell \u001b[1;32mIn[56], line 1\u001b[0m\n\u001b[1;32m----> 1\u001b[0m netflix\u001b[38;5;241m.\u001b[39mmail\n",
      "\u001b[1;31mAttributeError\u001b[0m: type object 'netflix' has no attribute 'mail'"
     ]
    }
   ],
   "source": [
    "netflix.mail"
   ]
  },
  {
   "cell_type": "code",
   "execution_count": null,
   "id": "1bfe84d6",
   "metadata": {},
   "outputs": [
    {
     "data": {
      "text/plain": [
       "111"
      ]
     },
     "execution_count": 57,
     "metadata": {},
     "output_type": "execute_result"
    }
   ],
   "source": [
    "# modification instance method\n",
    "obj.password=111\n",
    "obj.password"
   ]
  },
  {
   "cell_type": "code",
   "execution_count": 58,
   "id": "9a2f3c1d",
   "metadata": {},
   "outputs": [
    {
     "data": {
      "text/plain": [
       "'stranger'"
      ]
     },
     "execution_count": 58,
     "metadata": {},
     "output_type": "execute_result"
    }
   ],
   "source": [
    "obj.new_show=\"stranger\"\n",
    "obj.new_show"
   ]
  },
  {
   "cell_type": "markdown",
   "id": "50d7f5b9",
   "metadata": {},
   "source": [
    "# Method\n",
    "* A Method is a just function in a class that associate with object. When a class object created we can access thoes methods usin object. It only access by class object."
   ]
  },
  {
   "cell_type": "markdown",
   "id": "f2c58def",
   "metadata": {},
   "source": [
    "## Instance Method"
   ]
  },
  {
   "cell_type": "code",
   "execution_count": null,
   "id": "e1e05c4e",
   "metadata": {},
   "outputs": [],
   "source": [
    "class Greet:\n",
    "\tdef __init__(self):\n",
    "\t\tpass\n",
    "\t\n",
    "\tdef hello(self): # Method\n",
    "\t\tprint(\"Hello Ai\")\n",
    "\n",
    "a = Greet()"
   ]
  },
  {
   "cell_type": "code",
   "execution_count": 28,
   "id": "4d9a365b",
   "metadata": {},
   "outputs": [
    {
     "name": "stdout",
     "output_type": "stream",
     "text": [
      "Hello Ai\n"
     ]
    }
   ],
   "source": [
    "a.hello()"
   ]
  },
  {
   "cell_type": "code",
   "execution_count": 29,
   "id": "ce1e53a6",
   "metadata": {},
   "outputs": [],
   "source": [
    "# Instance Method\n",
    "class car:\n",
    "\tdef __init__(self,year,model,milage):\n",
    "\t\tself.year = year\n",
    "\t\tself.model =model\n",
    "\t\tself.milage = milage\n",
    "\n",
    "\tdef car_model(self):\n",
    "\t\tprint(\"Car Model: \", self.model)\n",
    "\n",
    "\tdef car_detail(self):\n",
    "\t\tprint(\"milage\", self.milage)\n",
    "\t\tprint(\"year\", self.year)"
   ]
  },
  {
   "cell_type": "code",
   "execution_count": 33,
   "id": "9f544864",
   "metadata": {},
   "outputs": [],
   "source": [
    "obj = car(2024,100,'x55o')"
   ]
  },
  {
   "cell_type": "code",
   "execution_count": 34,
   "id": "06959ac0",
   "metadata": {},
   "outputs": [
    {
     "name": "stdout",
     "output_type": "stream",
     "text": [
      "Car Model:  100\n"
     ]
    }
   ],
   "source": [
    "obj.car_model()"
   ]
  },
  {
   "cell_type": "code",
   "execution_count": 35,
   "id": "5ae21ee5",
   "metadata": {},
   "outputs": [
    {
     "name": "stdout",
     "output_type": "stream",
     "text": [
      "milage x55o\n",
      "year 2024\n"
     ]
    }
   ],
   "source": [
    "obj.car_detail()"
   ]
  },
  {
   "cell_type": "code",
   "execution_count": 36,
   "id": "2aea9eaa",
   "metadata": {},
   "outputs": [],
   "source": [
    "# Instance Method\n",
    "class car2:\n",
    "\tdef __init__(self,year,model,milage):\n",
    "\t\tself.year = year\n",
    "\t\tself.model =model\n",
    "\t\tself.milage = milage\n",
    "\n",
    "\tdef car_model(self):\n",
    "\t\tprint(\"Car Model: \", self.model)\n",
    "\n",
    "\tdef car_detail(a):\n",
    "\t\tprint(\"milage\", self.milage)\n",
    "\t\tprint(\"year\", self.year)"
   ]
  },
  {
   "cell_type": "code",
   "execution_count": 40,
   "id": "fa71e912",
   "metadata": {},
   "outputs": [],
   "source": [
    "obj = car2(2024,100,'x55o')"
   ]
  },
  {
   "cell_type": "code",
   "execution_count": 41,
   "id": "31cae42d",
   "metadata": {},
   "outputs": [
    {
     "name": "stdout",
     "output_type": "stream",
     "text": [
      "Car Model:  100\n"
     ]
    }
   ],
   "source": [
    "obj.car_model()"
   ]
  },
  {
   "cell_type": "code",
   "execution_count": 42,
   "id": "34465fa1",
   "metadata": {},
   "outputs": [
    {
     "ename": "NameError",
     "evalue": "name 'self' is not defined",
     "output_type": "error",
     "traceback": [
      "\u001b[1;31m---------------------------------------------------------------------------\u001b[0m",
      "\u001b[1;31mNameError\u001b[0m                                 Traceback (most recent call last)",
      "Cell \u001b[1;32mIn[42], line 1\u001b[0m\n\u001b[1;32m----> 1\u001b[0m obj\u001b[38;5;241m.\u001b[39mcar_detail()\n",
      "Cell \u001b[1;32mIn[36], line 12\u001b[0m, in \u001b[0;36mcar2.car_detail\u001b[1;34m(a)\u001b[0m\n\u001b[0;32m     11\u001b[0m \u001b[38;5;28;01mdef\u001b[39;00m \u001b[38;5;21mcar_detail\u001b[39m(a):\n\u001b[1;32m---> 12\u001b[0m \t\u001b[38;5;28mprint\u001b[39m(\u001b[38;5;124m\"\u001b[39m\u001b[38;5;124mmilage\u001b[39m\u001b[38;5;124m\"\u001b[39m, \u001b[38;5;28mself\u001b[39m\u001b[38;5;241m.\u001b[39mmilage)\n\u001b[0;32m     13\u001b[0m \t\u001b[38;5;28mprint\u001b[39m(\u001b[38;5;124m\"\u001b[39m\u001b[38;5;124myear\u001b[39m\u001b[38;5;124m\"\u001b[39m, \u001b[38;5;28mself\u001b[39m\u001b[38;5;241m.\u001b[39myear)\n",
      "\u001b[1;31mNameError\u001b[0m: name 'self' is not defined"
     ]
    }
   ],
   "source": [
    "obj.car_detail()"
   ]
  },
  {
   "cell_type": "code",
   "execution_count": 90,
   "id": "2128ecbd",
   "metadata": {},
   "outputs": [],
   "source": [
    "# Instance Method\n",
    "class car:\n",
    "\tdef __init__(a,year,model,milage):\n",
    "\t\ta.year = year\n",
    "\t\ta.model =model\n",
    "\t\ta.milage = milage\n",
    "\n",
    "\tdef car_model(a):\n",
    "\t\tprint(\"Car Model: \", self.model)\n",
    "\n",
    "\tdef car_detail(a):\n",
    "\t\tprint(\"milage\", self.milage)\n",
    "\t\tprint(\"year\", self.year)"
   ]
  },
  {
   "cell_type": "code",
   "execution_count": 91,
   "id": "9b641077",
   "metadata": {},
   "outputs": [],
   "source": [
    "obj = car(2024,100,'x55o')"
   ]
  },
  {
   "cell_type": "code",
   "execution_count": 89,
   "id": "525658dc",
   "metadata": {},
   "outputs": [],
   "source": [
    "class netflix():\n",
    "\n",
    "    new_show = \"Pushpa\"\n",
    "\n",
    "    def __init__(self,mail, password,service,amount):\n",
    "        self.mail = mail\n",
    "        self.password = password\n",
    "        self.service = service\n",
    "        self.amount = amount\n",
    "\n",
    "        \n",
    "\n",
    "\n",
    "    def get_password(self):\n",
    "        return self.password\n",
    "\n",
    "\n",
    "    def get_mail(self):\n",
    "\t\t     return self.mail"
   ]
  },
  {
   "cell_type": "code",
   "execution_count": 88,
   "id": "4a211110",
   "metadata": {},
   "outputs": [],
   "source": [
    "obj = netflix(\"ac@500\",\"123\",\"striming\",500)"
   ]
  },
  {
   "cell_type": "code",
   "execution_count": 75,
   "id": "4f94556a",
   "metadata": {},
   "outputs": [
    {
     "data": {
      "text/plain": [
       "'ac@500'"
      ]
     },
     "execution_count": 75,
     "metadata": {},
     "output_type": "execute_result"
    }
   ],
   "source": [
    "obj.get_mail()"
   ]
  },
  {
   "cell_type": "markdown",
   "id": "1b82a684",
   "metadata": {},
   "source": [
    "## Class Method"
   ]
  },
  {
   "cell_type": "code",
   "execution_count": 100,
   "id": "0d446203",
   "metadata": {},
   "outputs": [],
   "source": [
    "class netflix():\n",
    "\n",
    "    new_show = \"Pushpa\"\n",
    "\n",
    "    def __init__(self,mail, password,service,amount):\n",
    "        self.mail = mail\n",
    "        self.password = password\n",
    "        self.service = service\n",
    "        self.amount = amount\n",
    "\n",
    "        \n",
    "\n",
    "\n",
    "    def get_password(self):\n",
    "        return self.password\n",
    "\n",
    "\n",
    "    def get_mail(self):\n",
    "\t\t     return self.mail\n",
    "\n",
    "    @classmethod\n",
    "    def get_new_show(cls):\n",
    "\t\t     return self.new_show"
   ]
  },
  {
   "cell_type": "code",
   "execution_count": 101,
   "id": "87736a35",
   "metadata": {},
   "outputs": [],
   "source": [
    "obj = netflix(\"ac@500\",\"123\",\"striming\",500)"
   ]
  },
  {
   "cell_type": "code",
   "execution_count": 102,
   "id": "ea9a0f1a",
   "metadata": {},
   "outputs": [
    {
     "ename": "NameError",
     "evalue": "name 'self' is not defined",
     "output_type": "error",
     "traceback": [
      "\u001b[1;31m---------------------------------------------------------------------------\u001b[0m",
      "\u001b[1;31mNameError\u001b[0m                                 Traceback (most recent call last)",
      "Cell \u001b[1;32mIn[102], line 1\u001b[0m\n\u001b[1;32m----> 1\u001b[0m obj\u001b[38;5;241m.\u001b[39mget_new_show()\n",
      "Cell \u001b[1;32mIn[100], line 23\u001b[0m, in \u001b[0;36mnetflix.get_new_show\u001b[1;34m(cls)\u001b[0m\n\u001b[0;32m     21\u001b[0m     \u001b[38;5;129m@classmethod\u001b[39m\n\u001b[0;32m     22\u001b[0m     \u001b[38;5;28;01mdef\u001b[39;00m \u001b[38;5;21mget_new_show\u001b[39m(\u001b[38;5;28mcls\u001b[39m):\n\u001b[1;32m---> 23\u001b[0m \t\t     \u001b[38;5;28;01mreturn\u001b[39;00m \u001b[38;5;28mself\u001b[39m\u001b[38;5;241m.\u001b[39mnew_show\n",
      "\u001b[1;31mNameError\u001b[0m: name 'self' is not defined"
     ]
    }
   ],
   "source": [
    "obj.get_new_show()"
   ]
  },
  {
   "cell_type": "code",
   "execution_count": 103,
   "id": "6f55367f",
   "metadata": {},
   "outputs": [
    {
     "data": {
      "text/plain": [
       "'Pushpa'"
      ]
     },
     "execution_count": 103,
     "metadata": {},
     "output_type": "execute_result"
    }
   ],
   "source": [
    "class netflix():\n",
    "\n",
    "    new_show = \"Pushpa\"\n",
    "\n",
    "    def __init__(self,mail, password,service,amount):\n",
    "        self.mail = mail\n",
    "        self.password = password\n",
    "        self.service = service\n",
    "        self.amount = amount\n",
    "\n",
    "        \n",
    "\n",
    "\n",
    "    def get_password(self):\n",
    "        return self.password\n",
    "\n",
    "\n",
    "    def get_mail(self):\n",
    "\t\t     return self.mail\n",
    "\n",
    "    @classmethod\n",
    "    def get_new_show(cls):\n",
    "\t\t     return cls.new_show\n",
    "\n",
    "obj = netflix(\"ac@500\",\"123\",\"striming\",500)\n",
    "obj.get_new_show()"
   ]
  },
  {
   "cell_type": "code",
   "execution_count": 104,
   "id": "e88cb151",
   "metadata": {},
   "outputs": [
    {
     "data": {
      "text/plain": [
       "'Pushpa'"
      ]
     },
     "execution_count": 104,
     "metadata": {},
     "output_type": "execute_result"
    }
   ],
   "source": [
    "# class method to access\n",
    "netflix.get_new_show()"
   ]
  },
  {
   "cell_type": "markdown",
   "id": "c533ee8a",
   "metadata": {},
   "source": [
    "# Static Method"
   ]
  },
  {
   "cell_type": "code",
   "execution_count": 105,
   "id": "f1994476",
   "metadata": {},
   "outputs": [],
   "source": [
    "class mymath:\n",
    "\t@staticmethod\n",
    "\tdef add(a,b):\n",
    "\t\treturn a + b"
   ]
  },
  {
   "cell_type": "code",
   "execution_count": 106,
   "id": "e91af2a6",
   "metadata": {},
   "outputs": [],
   "source": [
    "obj = mymath()"
   ]
  },
  {
   "cell_type": "code",
   "execution_count": 107,
   "id": "79588f54",
   "metadata": {},
   "outputs": [
    {
     "data": {
      "text/plain": [
       "11"
      ]
     },
     "execution_count": 107,
     "metadata": {},
     "output_type": "execute_result"
    }
   ],
   "source": [
    "obj.add(5,6)"
   ]
  },
  {
   "cell_type": "code",
   "execution_count": null,
   "id": "47f1368f",
   "metadata": {},
   "outputs": [],
   "source": []
  }
 ],
 "metadata": {
  "kernelspec": {
   "display_name": "base",
   "language": "python",
   "name": "python3"
  },
  "language_info": {
   "codemirror_mode": {
    "name": "ipython",
    "version": 3
   },
   "file_extension": ".py",
   "mimetype": "text/x-python",
   "name": "python",
   "nbconvert_exporter": "python",
   "pygments_lexer": "ipython3",
   "version": "3.12.7"
  }
 },
 "nbformat": 4,
 "nbformat_minor": 5
}
