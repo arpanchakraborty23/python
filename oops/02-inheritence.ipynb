{
 "cells": [
  {
   "cell_type": "markdown",
   "id": "d41375d8",
   "metadata": {},
   "source": [
    "# Inheritance\n",
    "* In heritance is a fundamental concept in python that allow a class to inherit attributs and methods from another class."
   ]
  },
  {
   "cell_type": "code",
   "execution_count": 1,
   "id": "a415e583",
   "metadata": {},
   "outputs": [],
   "source": [
    "class Car:\n",
    "\tdef __init__(self,windows,doors,engine):\n",
    "\t\tself.window = windows\n",
    "\t\tself. dooe =doors\n",
    "\t\tself.engine = engine\n",
    "\n",
    "\tdef drive(self):\n",
    "\t\tprint(f\"The person will run {self.engine} car\")"
   ]
  },
  {
   "cell_type": "code",
   "execution_count": 2,
   "id": "cfbadeb2",
   "metadata": {},
   "outputs": [],
   "source": [
    "car1 = Car(4,5,\"petrol\")"
   ]
  },
  {
   "cell_type": "code",
   "execution_count": 3,
   "id": "7e41d5c1",
   "metadata": {},
   "outputs": [
    {
     "name": "stdout",
     "output_type": "stream",
     "text": [
      "The person will run petrol car\n"
     ]
    }
   ],
   "source": [
    "car1.drive()"
   ]
  },
  {
   "cell_type": "code",
   "execution_count": 12,
   "id": "2d71f47a",
   "metadata": {},
   "outputs": [],
   "source": [
    "class Tesla(Car):\n",
    "    def __init__(self, windows, doors, engine, is_selfdrive):\n",
    "        # Call parent class constructor\n",
    "        super().__init__(windows, doors, engine)\n",
    "        # Child class specific attribute\n",
    "        self.is_selfdrive = is_selfdrive\n",
    "\n",
    "    def self_drive(self):\n",
    "        print(f\"Tesla supports self-driving: {self.is_selfdrive}\")"
   ]
  },
  {
   "cell_type": "code",
   "execution_count": 14,
   "id": "5c27a6bb",
   "metadata": {},
   "outputs": [
    {
     "name": "stdout",
     "output_type": "stream",
     "text": [
      "Tesla supports self-driving: True\n"
     ]
    }
   ],
   "source": [
    "my_tesla = Tesla(4, 4, \"Electric\", True)\n",
    "my_tesla.self_drive()        # From child class\n"
   ]
  },
  {
   "cell_type": "code",
   "execution_count": 16,
   "id": "d00ff4ab",
   "metadata": {},
   "outputs": [
    {
     "name": "stdout",
     "output_type": "stream",
     "text": [
      "The person will run Electric car\n"
     ]
    }
   ],
   "source": [
    "my_tesla.drive()"
   ]
  },
  {
   "cell_type": "markdown",
   "id": "1e0af501",
   "metadata": {},
   "source": [
    "# Multipel Inheritance\n",
    "* When a class Inherites from more than one class"
   ]
  },
  {
   "cell_type": "code",
   "execution_count": 17,
   "id": "c43f319f",
   "metadata": {},
   "outputs": [],
   "source": [
    "class Animal:\n",
    "   def __init__(self,name) -> None:\n",
    "      self.name = name\n",
    "   def speak(self):\n",
    "         print(\"Subclass mut immplement\")"
   ]
  },
  {
   "cell_type": "code",
   "execution_count": 18,
   "id": "2caa547d",
   "metadata": {},
   "outputs": [],
   "source": [
    "# base class2\n",
    "class Pet:\n",
    "    def __init__(self,owner) -> None:\n",
    "      self.owner =owner"
   ]
  },
  {
   "cell_type": "code",
   "execution_count": 19,
   "id": "61200675",
   "metadata": {},
   "outputs": [],
   "source": [
    "# Derive class\n",
    "class Dog(Animal,Pet):\n",
    "   def __init__(self, name,owner) -> None:\n",
    "      Animal.__init__(self,name)\n",
    "      Pet.__init__(self,owner)\n",
    "   def speak(self):\n",
    "         return f\"{self.name} say woof\""
   ]
  },
  {
   "cell_type": "code",
   "execution_count": 20,
   "id": "9ea79b84",
   "metadata": {},
   "outputs": [],
   "source": [
    "dog = Dog(\"tom\",\"ac\")"
   ]
  },
  {
   "cell_type": "code",
   "execution_count": 21,
   "id": "a64b1be5",
   "metadata": {},
   "outputs": [
    {
     "data": {
      "text/plain": [
       "'tom say woof'"
      ]
     },
     "execution_count": 21,
     "metadata": {},
     "output_type": "execute_result"
    }
   ],
   "source": [
    "dog.speak()"
   ]
  },
  {
   "cell_type": "code",
   "execution_count": 23,
   "id": "5f273372",
   "metadata": {},
   "outputs": [
    {
     "data": {
      "text/plain": [
       "'ac'"
      ]
     },
     "execution_count": 23,
     "metadata": {},
     "output_type": "execute_result"
    }
   ],
   "source": [
    "dog.owner"
   ]
  },
  {
   "cell_type": "markdown",
   "id": "b0918645",
   "metadata": {},
   "source": [
    "# Multilevel"
   ]
  },
  {
   "cell_type": "code",
   "execution_count": 24,
   "id": "465ed8e5",
   "metadata": {},
   "outputs": [
    {
     "name": "stdout",
     "output_type": "stream",
     "text": [
      "Animal sound\n",
      "Dog barks\n",
      "Puppy cries\n"
     ]
    }
   ],
   "source": [
    "class Animal:\n",
    "    def sound(self):\n",
    "        print(\"Animal sound\")\n",
    "\n",
    "class Dog(Animal):\n",
    "    def bark(self):\n",
    "        print(\"Dog barks\")\n",
    "\n",
    "class Puppy(Dog):\n",
    "    def cry(self):\n",
    "        print(\"Puppy cries\")\n",
    "\n",
    "# Usage\n",
    "p = Puppy()\n",
    "p.sound()  # From Animal\n",
    "p.bark()   # From Dog\n",
    "p.cry()    # Own method\n"
   ]
  },
  {
   "cell_type": "markdown",
   "id": "8bb74a48",
   "metadata": {},
   "source": [
    "#  Hierarchical Inheritance"
   ]
  },
  {
   "cell_type": "code",
   "execution_count": 25,
   "id": "6b57d248",
   "metadata": {},
   "outputs": [
    {
     "name": "stdout",
     "output_type": "stream",
     "text": [
      "Vehicle started\n",
      "Driving car\n",
      "Vehicle started\n",
      "Riding bike\n"
     ]
    }
   ],
   "source": [
    "class Vehicle:\n",
    "    def start(self):\n",
    "        print(\"Vehicle started\")\n",
    "\n",
    "class Car(Vehicle):\n",
    "    def drive(self):\n",
    "        print(\"Driving car\")\n",
    "\n",
    "class Bike(Vehicle):\n",
    "    def ride(self):\n",
    "        print(\"Riding bike\")\n",
    "\n",
    "# Usage\n",
    "c = Car()\n",
    "c.start()\n",
    "c.drive()\n",
    "\n",
    "b = Bike()\n",
    "b.start()\n",
    "b.ride()\n"
   ]
  },
  {
   "cell_type": "code",
   "execution_count": null,
   "id": "e60461d1",
   "metadata": {},
   "outputs": [],
   "source": []
  }
 ],
 "metadata": {
  "kernelspec": {
   "display_name": "base",
   "language": "python",
   "name": "python3"
  },
  "language_info": {
   "codemirror_mode": {
    "name": "ipython",
    "version": 3
   },
   "file_extension": ".py",
   "mimetype": "text/x-python",
   "name": "python",
   "nbconvert_exporter": "python",
   "pygments_lexer": "ipython3",
   "version": "3.12.7"
  }
 },
 "nbformat": 4,
 "nbformat_minor": 5
}
