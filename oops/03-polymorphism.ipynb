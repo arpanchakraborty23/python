{
 "cells": [
  {
   "cell_type": "markdown",
   "id": "c0897cb1",
   "metadata": {},
   "source": [
    "# Polymorphism"
   ]
  },
  {
   "cell_type": "markdown",
   "id": "7674eabf",
   "metadata": {},
   "source": [
    "# Method Overriding\n",
    "* Overriding allows a child class to provide a specific implementation of a method that already define its parent class"
   ]
  },
  {
   "cell_type": "code",
   "execution_count": 1,
   "id": "79eef028",
   "metadata": {},
   "outputs": [],
   "source": [
    "# Base class\n",
    "class Animal:\n",
    "    def sound(self):\n",
    "        print(\"Animal sound\")\n",
    "\n",
    "# derive class\n",
    "class Dog(Animal):\n",
    "\tdef sound(self):\n",
    "\t\treturn f\"Woof!\"\n",
    "\n",
    "\n",
    "class Cat(Animal):\n",
    "\tdef sound(self):\n",
    "\t\treturn \"Meow\""
   ]
  },
  {
   "cell_type": "code",
   "execution_count": 2,
   "id": "8643c492",
   "metadata": {},
   "outputs": [],
   "source": [
    "dog =Dog()\n",
    "cat = Cat()"
   ]
  },
  {
   "cell_type": "code",
   "execution_count": 3,
   "id": "5373d4d3",
   "metadata": {},
   "outputs": [
    {
     "data": {
      "text/plain": [
       "'Meow'"
      ]
     },
     "execution_count": 3,
     "metadata": {},
     "output_type": "execute_result"
    }
   ],
   "source": [
    "cat.sound()"
   ]
  },
  {
   "cell_type": "code",
   "execution_count": 4,
   "id": "1e9f932e",
   "metadata": {},
   "outputs": [
    {
     "data": {
      "text/plain": [
       "'Woof!'"
      ]
     },
     "execution_count": 4,
     "metadata": {},
     "output_type": "execute_result"
    }
   ],
   "source": [
    "dog.sound()"
   ]
  },
  {
   "cell_type": "code",
   "execution_count": 8,
   "id": "10e5c736",
   "metadata": {},
   "outputs": [],
   "source": [
    "class Shape:\n",
    "\tdef area(self):\n",
    "\t\treturn \"The area of fiure\"\n",
    "\n",
    "class Retangle(Shape):\n",
    "\tdef __init__(self,width,height):\n",
    "\t\tself.width = width\n",
    "\t\tself.height = height\n",
    "\n",
    "\tdef area(self):\n",
    "\t\treturn self.width * self.height\n",
    "\n",
    "class Circle(Shape):\n",
    "\tdef __init__(self,radius):\n",
    "\t\tself.raduis = radius\n",
    "\n",
    "\tdef area(self):\n",
    "\t\treturn 3.14* self.raduis * self.raduis"
   ]
  },
  {
   "cell_type": "code",
   "execution_count": 9,
   "id": "c51f9d3f",
   "metadata": {},
   "outputs": [],
   "source": [
    "def print_Area(shape):\n",
    "\tprint(f\"the area is {shape.area()}\")"
   ]
  },
  {
   "cell_type": "code",
   "execution_count": 10,
   "id": "5a682f9a",
   "metadata": {},
   "outputs": [
    {
     "name": "stdout",
     "output_type": "stream",
     "text": [
      "the area is 24\n",
      "the area is 78.5\n"
     ]
    }
   ],
   "source": [
    "r =Retangle(4,6)\n",
    "c = Circle(5)\n",
    "\n",
    "print_Area(r)\n",
    "print_Area(c)"
   ]
  },
  {
   "cell_type": "code",
   "execution_count": null,
   "id": "b04d4289",
   "metadata": {},
   "outputs": [],
   "source": [
    "# Polymorphism with abstract base classes\n",
    "# Abstraction means hiding implementation details and showing only essential features."
   ]
  },
  {
   "cell_type": "code",
   "execution_count": 13,
   "id": "0a0c40c8",
   "metadata": {},
   "outputs": [],
   "source": [
    "from abc import ABC,abstractmethod"
   ]
  },
  {
   "cell_type": "code",
   "execution_count": 26,
   "id": "053e1f0d",
   "metadata": {},
   "outputs": [
    {
     "name": "stdout",
     "output_type": "stream",
     "text": [
      "Engine Started\n",
      "Riding Bike\n"
     ]
    }
   ],
   "source": [
    "class Vehicle(ABC):                      # Abstract Base Class\n",
    "    @abstractmethod\n",
    "    def start(self):                     # Abstract Method (no implementation)\n",
    "        pass\n",
    "\n",
    "class Car(Vehicle):                      # Inherits from Vehicle\n",
    "    def start(self):\n",
    "        print(\"Engine Started\")          # Implementation of abstract method\n",
    "\n",
    "class Bike(Vehicle):                     # Inherits from Vehicle\n",
    "    def start(self):\n",
    "        print(\"Riding Bike\")             # Implementation of abstract method\n",
    "\n",
    "\n",
    "\n",
    "c = Car()\n",
    "c.start()   # Output: Engine Started\n",
    "\n",
    "b = Bike()\n",
    "b.start()   # Output: Riding Bike\n"
   ]
  },
  {
   "cell_type": "code",
   "execution_count": null,
   "id": "3d3049b8",
   "metadata": {},
   "outputs": [],
   "source": []
  }
 ],
 "metadata": {
  "kernelspec": {
   "display_name": "base",
   "language": "python",
   "name": "python3"
  },
  "language_info": {
   "codemirror_mode": {
    "name": "ipython",
    "version": 3
   },
   "file_extension": ".py",
   "mimetype": "text/x-python",
   "name": "python",
   "nbconvert_exporter": "python",
   "pygments_lexer": "ipython3",
   "version": "3.12.7"
  }
 },
 "nbformat": 4,
 "nbformat_minor": 5
}
