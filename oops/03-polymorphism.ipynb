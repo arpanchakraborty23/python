{
 "cells": [
  {
   "cell_type": "markdown",
   "id": "7674eabf",
   "metadata": {},
   "source": [
    "# Method Overriding\n",
    "* Overriding allows a child class to provide a specific implementation of a method that already define its parent class"
   ]
  },
  {
   "cell_type": "code",
   "execution_count": 1,
   "id": "79eef028",
   "metadata": {},
   "outputs": [],
   "source": [
    "# Base class\n",
    "class Animal:\n",
    "\tdef __init__(self, name) -> None:\n",
    "\t\tself.name = name\n",
    "\n",
    "\tdef sound(self):\n",
    "\t\tprint(\"Animal sound\")\n",
    "\n",
    "# derive class\n",
    "class Dog(Animal):\n",
    "\tdef sound(self):\n",
    "\t\treturn \"Woof!\"\n",
    "\n",
    "class Cat(Animal):\n",
    "\tdef sound(self):\n",
    "\t\treturn \"Meow\""
   ]
  },
  {
   "cell_type": "code",
   "execution_count": null,
   "id": "af1a42b1",
   "metadata": {},
   "outputs": [],
   "source": []
  },
  {
   "cell_type": "code",
   "execution_count": 7,
   "id": "8643c492",
   "metadata": {},
   "outputs": [],
   "source": [
    "dog =Dog(\"Tom\")"
   ]
  },
  {
   "cell_type": "code",
   "execution_count": 9,
   "id": "1b78d174",
   "metadata": {},
   "outputs": [],
   "source": [
    "cat =Cat(\"TOM\")"
   ]
  },
  {
   "cell_type": "code",
   "execution_count": 10,
   "id": "5373d4d3",
   "metadata": {},
   "outputs": [
    {
     "data": {
      "text/plain": [
       "'Meow'"
      ]
     },
     "execution_count": 10,
     "metadata": {},
     "output_type": "execute_result"
    }
   ],
   "source": [
    "cat.sound()"
   ]
  },
  {
   "cell_type": "code",
   "execution_count": 8,
   "id": "1e9f932e",
   "metadata": {},
   "outputs": [
    {
     "data": {
      "text/plain": [
       "'Woof!'"
      ]
     },
     "execution_count": 8,
     "metadata": {},
     "output_type": "execute_result"
    }
   ],
   "source": [
    "dog.sound()"
   ]
  },
  {
   "cell_type": "code",
   "execution_count": 8,
   "id": "10e5c736",
   "metadata": {},
   "outputs": [],
   "source": [
    "class Shape:\n",
    "\tdef area(self):\n",
    "\t\treturn \"The area of fiure\"\n",
    "\n",
    "class Retangle(Shape):\n",
    "\tdef __init__(self,width,height):\n",
    "\t\tself.width = width\n",
    "\t\tself.height = height\n",
    "\n",
    "\tdef area(self):\n",
    "\t\treturn self.width * self.height\n",
    "\n",
    "class Circle(Shape):\n",
    "\tdef __init__(self,radius):\n",
    "\t\tself.raduis = radius\n",
    "\n",
    "\tdef area(self):\n",
    "\t\treturn 3.14* self.raduis * self.raduis"
   ]
  },
  {
   "cell_type": "code",
   "execution_count": 9,
   "id": "c51f9d3f",
   "metadata": {},
   "outputs": [],
   "source": [
    "def print_Area(shape):\n",
    "\tprint(f\"the area is {shape.area()}\")"
   ]
  },
  {
   "cell_type": "code",
   "execution_count": 10,
   "id": "5a682f9a",
   "metadata": {},
   "outputs": [
    {
     "name": "stdout",
     "output_type": "stream",
     "text": [
      "the area is 24\n",
      "the area is 78.5\n"
     ]
    }
   ],
   "source": [
    "r =Retangle(4,6)\n",
    "c = Circle(5)\n",
    "\n",
    "print_Area(r)\n",
    "print_Area(c)"
   ]
  },
  {
   "cell_type": "markdown",
   "id": "9227a3fb",
   "metadata": {},
   "source": [
    "# Polymorphism"
   ]
  },
  {
   "cell_type": "code",
   "execution_count": 11,
   "id": "5f413bd2",
   "metadata": {},
   "outputs": [],
   "source": [
    "# operator"
   ]
  },
  {
   "cell_type": "code",
   "execution_count": 12,
   "id": "4f24db93",
   "metadata": {},
   "outputs": [
    {
     "data": {
      "text/plain": [
       "35"
      ]
     },
     "execution_count": 12,
     "metadata": {},
     "output_type": "execute_result"
    }
   ],
   "source": [
    "a = 10\n",
    "b =25\n",
    "a +b"
   ]
  },
  {
   "cell_type": "code",
   "execution_count": 14,
   "id": "de84db45",
   "metadata": {},
   "outputs": [],
   "source": [
    "a =\"ac\"\n",
    "b =\"a\""
   ]
  },
  {
   "cell_type": "code",
   "execution_count": 15,
   "id": "9a3e0021",
   "metadata": {},
   "outputs": [
    {
     "data": {
      "text/plain": [
       "'aca'"
      ]
     },
     "execution_count": 15,
     "metadata": {},
     "output_type": "execute_result"
    }
   ],
   "source": [
    "a +b"
   ]
  },
  {
   "cell_type": "code",
   "execution_count": 24,
   "id": "829fdaa1",
   "metadata": {},
   "outputs": [],
   "source": [
    "class Tiger:\n",
    "   def nature(self):\n",
    "      print(\"Aggrasive and dengours\")\n",
    "   \n",
    "   def color(self):\n",
    "      print(\"orenge and black strip\")"
   ]
  },
  {
   "cell_type": "code",
   "execution_count": 25,
   "id": "60621115",
   "metadata": {},
   "outputs": [],
   "source": [
    "class Elephant:\n",
    "   def nature(self):\n",
    "      print(\"Clam and Powerfull\")\n",
    "   \n",
    "   def color(self):\n",
    "      print(\"graush black\")"
   ]
  },
  {
   "cell_type": "code",
   "execution_count": 26,
   "id": "3717e340",
   "metadata": {},
   "outputs": [],
   "source": [
    "t =Tiger()\n",
    "e =Elephant()"
   ]
  },
  {
   "cell_type": "code",
   "execution_count": 27,
   "id": "008a621e",
   "metadata": {},
   "outputs": [
    {
     "name": "stdout",
     "output_type": "stream",
     "text": [
      "Aggrasive and dengours\n"
     ]
    }
   ],
   "source": [
    "t.nature()"
   ]
  },
  {
   "cell_type": "code",
   "execution_count": 28,
   "id": "ada5662e",
   "metadata": {},
   "outputs": [
    {
     "name": "stdout",
     "output_type": "stream",
     "text": [
      "Clam and Powerfull\n"
     ]
    }
   ],
   "source": [
    "e.nature()"
   ]
  },
  {
   "cell_type": "code",
   "execution_count": 23,
   "id": "5f6aa723",
   "metadata": {},
   "outputs": [],
   "source": [
    "# Both classes has same method but based on object their nature diffrent it is called polymorphism"
   ]
  },
  {
   "cell_type": "code",
   "execution_count": 29,
   "id": "36e208a2",
   "metadata": {},
   "outputs": [],
   "source": [
    "class F1:\n",
    "   def run(self):\n",
    "      print(\"win\")\n",
    "      \n",
    "class F2(F1):\n",
    "\tdef run(self):\n",
    "\t\t  print(\"This is Second class\")\n",
    "              \n",
    "class F3(F1):\n",
    "\tdef run(self):\n",
    "\t\t  print(\"This is Third  class\")"
   ]
  },
  {
   "cell_type": "code",
   "execution_count": 30,
   "metadata": {},
   "outputs": [],
   "source": [
    "f1 =F1()\n",
    "f2 =F2()\n",
    "f3 =F3()"
   ]
  },
  {
   "cell_type": "code",
   "execution_count": 31,
   "id": "c3123da0",
   "metadata": {},
   "outputs": [
    {
     "name": "stdout",
     "output_type": "stream",
     "text": [
      "win\n"
     ]
    }
   ],
   "source": [
    "f1.run()"
   ]
  },
  {
   "cell_type": "code",
   "execution_count": 32,
   "metadata": {},
   "outputs": [
    {
     "name": "stdout",
     "output_type": "stream",
     "text": [
      "This is Second class\n"
     ]
    }
   ],
   "source": [
    "f2.run()"
   ]
  },
  {
   "cell_type": "code",
   "execution_count": 33,
   "id": "17d17d77",
   "metadata": {},
   "outputs": [
    {
     "name": "stdout",
     "output_type": "stream",
     "text": [
      "This is Third  class\n"
     ]
    }
   ],
   "source": [
    "f3.run()"
   ]
  },
  {
   "cell_type": "code",
   "execution_count": null,
   "id": "9982e45f",
   "metadata": {},
   "outputs": [],
   "source": []
  },
  {
   "cell_type": "markdown",
   "id": "d49a2438",
   "metadata": {},
   "source": [
    "#  Polymorphism with abstract base classes\n",
    "- Abstraction means hiding implementation details and showing only essential features."
   ]
  },
  {
   "cell_type": "code",
   "execution_count": 13,
   "id": "0a0c40c8",
   "metadata": {},
   "outputs": [],
   "source": [
    "from abc import ABC,abstractmethod"
   ]
  },
  {
   "cell_type": "code",
   "execution_count": 26,
   "id": "053e1f0d",
   "metadata": {},
   "outputs": [
    {
     "name": "stdout",
     "output_type": "stream",
     "text": [
      "Engine Started\n",
      "Riding Bike\n"
     ]
    }
   ],
   "source": [
    "class Vehicle(ABC):                      # Abstract Base Class\n",
    "    @abstractmethod\n",
    "    def start(self):                     # Abstract Method (no implementation)\n",
    "        pass\n",
    "\n",
    "class Car(Vehicle):                      # Inherits from Vehicle\n",
    "    def start(self):\n",
    "        print(\"Engine Started\")          # Implementation of abstract method\n",
    "\n",
    "class Bike(Vehicle):                     # Inherits from Vehicle\n",
    "    def start(self):\n",
    "        print(\"Riding Bike\")             # Implementation of abstract method\n",
    "\n",
    "\n",
    "\n",
    "c = Car()\n",
    "c.start()   # Output: Engine Started\n",
    "\n",
    "b = Bike()\n",
    "b.start()   # Output: Riding Bike\n"
   ]
  },
  {
   "cell_type": "code",
   "execution_count": null,
   "id": "3d3049b8",
   "metadata": {},
   "outputs": [],
   "source": []
  }
 ],
 "metadata": {
  "kernelspec": {
   "display_name": "base",
   "language": "python",
   "name": "python3"
  },
  "language_info": {
   "codemirror_mode": {
    "name": "ipython",
    "version": 3
   },
   "file_extension": ".py",
   "mimetype": "text/x-python",
   "name": "python",
   "nbconvert_exporter": "python",
   "pygments_lexer": "ipython3",
   "version": "3.12.7"
  }
 },
 "nbformat": 4,
 "nbformat_minor": 5
}
