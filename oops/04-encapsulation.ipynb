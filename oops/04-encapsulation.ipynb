{
 "cells": [
  {
   "cell_type": "markdown",
   "id": "a9eba17c",
   "metadata": {},
   "source": [
    "# Encapsulation"
   ]
  },
  {
   "cell_type": "markdown",
   "id": "25ced5a0",
   "metadata": {},
   "source": [
    "* Encapsulation is a process of restricting access of certain components in a object By making them private.\n",
    "* In simple terms internal private details and exposing only the necessary details to the outside world.\n",
    "> Example - In website their is a public dashbord which is accassible to all the users and admin dashboard which is only accessible to the admin. In this case the admin dashboard is encapsulated not acceacble by public user and the public dashboard is exposed to the outside world."
   ]
  },
  {
   "cell_type": "code",
   "execution_count": null,
   "id": "68f49aea",
   "metadata": {},
   "outputs": [],
   "source": [
    "class Person:\n",
    "\tdef __init__(self,name,age):\n",
    "\t\tself.name = name # public variable\n",
    "\t\tself.age = age   # public variable\n",
    "\n",
    "p = Person(\"ac\",24)"
   ]
  },
  {
   "cell_type": "code",
   "execution_count": 2,
   "id": "1978cdc6",
   "metadata": {},
   "outputs": [
    {
     "data": {
      "text/plain": [
       "'ac'"
      ]
     },
     "execution_count": 2,
     "metadata": {},
     "output_type": "execute_result"
    }
   ],
   "source": [
    "p.name"
   ]
  },
  {
   "cell_type": "code",
   "execution_count": 3,
   "id": "e4469055",
   "metadata": {},
   "outputs": [],
   "source": [
    "class Person:\n",
    "\tdef __init__(self,name,age):\n",
    "\t\tself.__name = name # private variable\n",
    "\t\tself.__age = age   # private variable\n",
    "\n",
    "p = Person(\"ac\",24)"
   ]
  },
  {
   "cell_type": "code",
   "execution_count": 4,
   "id": "1dba7178",
   "metadata": {},
   "outputs": [
    {
     "data": {
      "text/plain": [
       "['_Person__age',\n",
       " '_Person__name',\n",
       " '__class__',\n",
       " '__delattr__',\n",
       " '__dict__',\n",
       " '__dir__',\n",
       " '__doc__',\n",
       " '__eq__',\n",
       " '__format__',\n",
       " '__ge__',\n",
       " '__getattribute__',\n",
       " '__getstate__',\n",
       " '__gt__',\n",
       " '__hash__',\n",
       " '__init__',\n",
       " '__init_subclass__',\n",
       " '__le__',\n",
       " '__lt__',\n",
       " '__module__',\n",
       " '__ne__',\n",
       " '__new__',\n",
       " '__reduce__',\n",
       " '__reduce_ex__',\n",
       " '__repr__',\n",
       " '__setattr__',\n",
       " '__sizeof__',\n",
       " '__str__',\n",
       " '__subclasshook__',\n",
       " '__weakref__']"
      ]
     },
     "execution_count": 4,
     "metadata": {},
     "output_type": "execute_result"
    }
   ],
   "source": [
    "dir(p)"
   ]
  },
  {
   "cell_type": "code",
   "execution_count": 11,
   "id": "a998b6f4",
   "metadata": {},
   "outputs": [
    {
     "ename": "AttributeError",
     "evalue": "type object 'Person' has no attribute '_Person__age'",
     "output_type": "error",
     "traceback": [
      "\u001b[1;31m---------------------------------------------------------------------------\u001b[0m",
      "\u001b[1;31mAttributeError\u001b[0m                            Traceback (most recent call last)",
      "Cell \u001b[1;32mIn[11], line 1\u001b[0m\n\u001b[1;32m----> 1\u001b[0m Person\u001b[38;5;241m.\u001b[39m_Person__age\n",
      "\u001b[1;31mAttributeError\u001b[0m: type object 'Person' has no attribute '_Person__age'"
     ]
    }
   ],
   "source": [
    "Person._Person__age # not acceable, Restacting to accessing the variable"
   ]
  },
  {
   "cell_type": "code",
   "execution_count": 14,
   "id": "15841aa5",
   "metadata": {},
   "outputs": [],
   "source": [
    "class Person:\n",
    "\tdef __init__(self,name,age):\n",
    "\t\tself._name = name # protacted variable\n",
    "\t\tself._age = age   # protacted variable\n",
    "\n",
    "class Employee(Person):\n",
    "\tdef __init__(self,name,age):\n",
    "\t\tsuper().__init__(name,age)\n",
    "\n",
    "p = Employee(\"ac\",24)"
   ]
  },
  {
   "cell_type": "code",
   "execution_count": 15,
   "id": "49ed84df",
   "metadata": {},
   "outputs": [
    {
     "data": {
      "text/plain": [
       "'ac'"
      ]
     },
     "execution_count": 15,
     "metadata": {},
     "output_type": "execute_result"
    }
   ],
   "source": [
    "p._name"
   ]
  },
  {
   "cell_type": "markdown",
   "id": "c6b0e9a1",
   "metadata": {},
   "source": [
    "# Getter & Setter"
   ]
  },
  {
   "cell_type": "markdown",
   "id": "128fd089",
   "metadata": {},
   "source": [
    "**To access the private variable we use getter and setter method"
   ]
  },
  {
   "cell_type": "code",
   "execution_count": 57,
   "id": "9eaa6c5d",
   "metadata": {},
   "outputs": [],
   "source": [
    "class Person:\n",
    "\tdef __init__(self,name,age):\n",
    "\t\tself.__name = name # private variable\n",
    "\t\tself.__age = age   # private variable\n",
    "\n",
    "\t# getter\n",
    "\tdef get_name(self):\n",
    "\t\treturn self.__name\n",
    "\n",
    "\tdef get_age(self):\n",
    "\t\treturn self.__age\n",
    "\n",
    "\t# setter changing name\n",
    "\tdef set_name(self,name):\n",
    "\t\tself.__name=name\n",
    "\n",
    "\tdef set_age(self,age):\n",
    "\t\tif age > 0:\n",
    "\t\t\tself.__age=age\n",
    "\t\telse:\n",
    "\t\t\tprint(\"Age is negative\")\n",
    "\n",
    "p = Person(\"ac\",24)"
   ]
  },
  {
   "cell_type": "code",
   "execution_count": 58,
   "id": "08306077",
   "metadata": {},
   "outputs": [
    {
     "ename": "AttributeError",
     "evalue": "'Person' object has no attribute '__name'",
     "output_type": "error",
     "traceback": [
      "\u001b[1;31m---------------------------------------------------------------------------\u001b[0m",
      "\u001b[1;31mAttributeError\u001b[0m                            Traceback (most recent call last)",
      "Cell \u001b[1;32mIn[58], line 1\u001b[0m\n\u001b[1;32m----> 1\u001b[0m p\u001b[38;5;241m.\u001b[39m__name\n",
      "\u001b[1;31mAttributeError\u001b[0m: 'Person' object has no attribute '__name'"
     ]
    }
   ],
   "source": [
    "p.__name"
   ]
  },
  {
   "cell_type": "code",
   "execution_count": 59,
   "id": "e7c54357",
   "metadata": {},
   "outputs": [
    {
     "data": {
      "text/plain": [
       "'ac'"
      ]
     },
     "execution_count": 59,
     "metadata": {},
     "output_type": "execute_result"
    }
   ],
   "source": [
    "p.get_name()"
   ]
  },
  {
   "cell_type": "code",
   "execution_count": 60,
   "id": "1b184d75",
   "metadata": {},
   "outputs": [
    {
     "data": {
      "text/plain": [
       "24"
      ]
     },
     "execution_count": 60,
     "metadata": {},
     "output_type": "execute_result"
    }
   ],
   "source": [
    "p.get_age()"
   ]
  },
  {
   "cell_type": "code",
   "execution_count": 61,
   "id": "6bd8293b",
   "metadata": {},
   "outputs": [],
   "source": [
    "p.set_name(\"kc\") # modify value"
   ]
  },
  {
   "cell_type": "code",
   "execution_count": 62,
   "id": "6f42ad48",
   "metadata": {},
   "outputs": [
    {
     "data": {
      "text/plain": [
       "'kc'"
      ]
     },
     "execution_count": 62,
     "metadata": {},
     "output_type": "execute_result"
    }
   ],
   "source": [
    "p.get_name() # check modify value"
   ]
  },
  {
   "cell_type": "code",
   "execution_count": 63,
   "id": "3ab6c062",
   "metadata": {},
   "outputs": [
    {
     "data": {
      "text/plain": [
       "24"
      ]
     },
     "execution_count": 63,
     "metadata": {},
     "output_type": "execute_result"
    }
   ],
   "source": [
    "# resticted method\n",
    "p._Person__age\n"
   ]
  },
  {
   "cell_type": "code",
   "execution_count": 64,
   "id": "281c2e15",
   "metadata": {},
   "outputs": [
    {
     "data": {
      "text/plain": [
       "'kc'"
      ]
     },
     "execution_count": 64,
     "metadata": {},
     "output_type": "execute_result"
    }
   ],
   "source": [
    "p._Person__name"
   ]
  },
  {
   "cell_type": "code",
   "execution_count": 65,
   "id": "2f32c025",
   "metadata": {},
   "outputs": [
    {
     "data": {
      "text/plain": [
       "str"
      ]
     },
     "execution_count": 65,
     "metadata": {},
     "output_type": "execute_result"
    }
   ],
   "source": [
    "type(p._Person__name)"
   ]
  },
  {
   "cell_type": "code",
   "execution_count": 19,
   "id": "80c0382a",
   "metadata": {},
   "outputs": [],
   "source": [
    "class Car:\n",
    "    def __init__(self, name, model):\n",
    "        self.name = name\n",
    "        self.model = model\n",
    "        self.__actual_price = 100000\n",
    "        self.__profit_margin = 20\n",
    "\n",
    "    def prince(self):\n",
    "        profit = int((self.__actual_price/100)* self.__profit_margin if self.__actual_price > 10000 else (self.__actual_price/100)*5)\n",
    "        price = self.__actual_price + profit\n",
    "        print(f\"Your Car price: {price}\")\n",
    "\n",
    "    def get_profit_margine(self):\n",
    "        return self.__profit_margin\n",
    "\n",
    "    def set_profit_margine(self, margine):\n",
    "        self.__profit_margin = margine\n",
    "\n",
    "    def get_actual_price(self):\n",
    "        return self.__actual_price\n",
    "\n",
    "    def set_actual_price(self, price):\n",
    "        self.__actual_price = price\n",
    "   "
   ]
  },
  {
   "cell_type": "code",
   "execution_count": 20,
   "id": "b2b83762",
   "metadata": {},
   "outputs": [],
   "source": [
    "c = Car(\"Inova\",\"Petrol\")"
   ]
  },
  {
   "cell_type": "code",
   "execution_count": 21,
   "id": "f546274f",
   "metadata": {},
   "outputs": [
    {
     "name": "stdout",
     "output_type": "stream",
     "text": [
      "Your Car price: 120000\n"
     ]
    }
   ],
   "source": [
    "c.prince()"
   ]
  },
  {
   "cell_type": "code",
   "execution_count": 22,
   "id": "548de2fc",
   "metadata": {},
   "outputs": [
    {
     "data": {
      "text/plain": [
       "20"
      ]
     },
     "execution_count": 22,
     "metadata": {},
     "output_type": "execute_result"
    }
   ],
   "source": [
    "c.get_profit_margine()"
   ]
  },
  {
   "cell_type": "code",
   "execution_count": 23,
   "id": "8e003c12",
   "metadata": {},
   "outputs": [],
   "source": [
    "c.set_profit_margine(10)"
   ]
  },
  {
   "cell_type": "code",
   "execution_count": 24,
   "id": "01805222",
   "metadata": {},
   "outputs": [
    {
     "name": "stdout",
     "output_type": "stream",
     "text": [
      "Your Car price: 110000\n"
     ]
    }
   ],
   "source": [
    "c.prince()"
   ]
  },
  {
   "cell_type": "code",
   "execution_count": 25,
   "id": "7623c1c4",
   "metadata": {},
   "outputs": [
    {
     "data": {
      "text/plain": [
       "10"
      ]
     },
     "execution_count": 25,
     "metadata": {},
     "output_type": "execute_result"
    }
   ],
   "source": [
    "c.get_profit_margine()"
   ]
  },
  {
   "cell_type": "code",
   "execution_count": 27,
   "id": "353a4329",
   "metadata": {},
   "outputs": [
    {
     "data": {
      "text/plain": [
       "100000"
      ]
     },
     "execution_count": 27,
     "metadata": {},
     "output_type": "execute_result"
    }
   ],
   "source": [
    "c.get_actual_price()"
   ]
  },
  {
   "cell_type": "code",
   "execution_count": 29,
   "id": "52270b29",
   "metadata": {},
   "outputs": [],
   "source": [
    "c.set_actual_price(15000000)"
   ]
  },
  {
   "cell_type": "code",
   "execution_count": 30,
   "id": "6e5baabe",
   "metadata": {},
   "outputs": [
    {
     "name": "stdout",
     "output_type": "stream",
     "text": [
      "Your Car price: 16500000\n"
     ]
    }
   ],
   "source": [
    "c.prince()"
   ]
  },
  {
   "cell_type": "code",
   "execution_count": 37,
   "id": "155a541c",
   "metadata": {},
   "outputs": [],
   "source": [
    "class Person:\n",
    "    def __init__(self,dob,location,time) -> None:\n",
    "      self.__dob=dob\n",
    "      self.location = location\n",
    "      self.time = time\n",
    "    def info(self):\n",
    "      print(f\"The person Details :\\n \\t dob :{self.__dob} \\t time : {self.time} \\t locaton: {self.location}\")"
   ]
  },
  {
   "cell_type": "code",
   "execution_count": 38,
   "id": "5c97493d",
   "metadata": {},
   "outputs": [],
   "source": [
    "p = Person(\"8/08/2001\",\"kolkata\",\"12\")"
   ]
  },
  {
   "cell_type": "code",
   "execution_count": 39,
   "id": "abeefec1",
   "metadata": {},
   "outputs": [
    {
     "name": "stdout",
     "output_type": "stream",
     "text": [
      "The person Details :\n",
      " \t dob :8/08/2001 \t time : 12 \t locaton: kolkata\n"
     ]
    }
   ],
   "source": [
    "p.info()"
   ]
  },
  {
   "cell_type": "code",
   "execution_count": 40,
   "id": "a8c25dbc",
   "metadata": {},
   "outputs": [],
   "source": [
    "p.location=\"Delhi\"\n",
    "p.time= \"1\""
   ]
  },
  {
   "cell_type": "code",
   "execution_count": 41,
   "id": "136c6efa",
   "metadata": {},
   "outputs": [
    {
     "ename": "AttributeError",
     "evalue": "'Person' object has no attribute '__dob'",
     "output_type": "error",
     "traceback": [
      "\u001b[1;31m---------------------------------------------------------------------------\u001b[0m",
      "\u001b[1;31mAttributeError\u001b[0m                            Traceback (most recent call last)",
      "Cell \u001b[1;32mIn[41], line 1\u001b[0m\n\u001b[1;32m----> 1\u001b[0m p\u001b[38;5;241m.\u001b[39m__dob\n",
      "\u001b[1;31mAttributeError\u001b[0m: 'Person' object has no attribute '__dob'"
     ]
    }
   ],
   "source": [
    "p.__dob"
   ]
  },
  {
   "cell_type": "code",
   "execution_count": 42,
   "id": "37c49236",
   "metadata": {},
   "outputs": [
    {
     "name": "stdout",
     "output_type": "stream",
     "text": [
      "The person Details :\n",
      " \t dob :8/08/2001 \t time : 1 \t locaton: Delhi\n"
     ]
    }
   ],
   "source": [
    "p.info()"
   ]
  },
  {
   "cell_type": "markdown",
   "id": "27b317fc",
   "metadata": {},
   "source": [
    "# Property Decorator"
   ]
  },
  {
   "cell_type": "code",
   "execution_count": 51,
   "id": "8ef35ff8",
   "metadata": {},
   "outputs": [],
   "source": [
    "class Car:\n",
    "    def __init__(self, name, model):\n",
    "        self.name = name\n",
    "        self.model = model\n",
    "        self.__actual_price = 100000\n",
    "        self.__profit_margin = 20\n",
    "    @property  \n",
    "    def margine(self):\n",
    "      return self.__profit_margin\n",
    "    @margine.setter\n",
    "    def margine(self, margie):\n",
    "        self.__profit_margin = margie"
   ]
  },
  {
   "cell_type": "code",
   "execution_count": 52,
   "id": "5b84fe50",
   "metadata": {},
   "outputs": [],
   "source": [
    "c = Car(\"Inova\",'petrol')"
   ]
  },
  {
   "cell_type": "code",
   "execution_count": 53,
   "id": "0f50ceca",
   "metadata": {},
   "outputs": [
    {
     "data": {
      "text/plain": [
       "20"
      ]
     },
     "execution_count": 53,
     "metadata": {},
     "output_type": "execute_result"
    }
   ],
   "source": [
    "c.margine"
   ]
  },
  {
   "cell_type": "code",
   "execution_count": 54,
   "id": "d849ae21",
   "metadata": {},
   "outputs": [],
   "source": [
    "c.margine=30"
   ]
  },
  {
   "cell_type": "code",
   "execution_count": 55,
   "id": "9db10d13",
   "metadata": {},
   "outputs": [
    {
     "data": {
      "text/plain": [
       "30"
      ]
     },
     "execution_count": 55,
     "metadata": {},
     "output_type": "execute_result"
    }
   ],
   "source": [
    "c.margine"
   ]
  },
  {
   "cell_type": "code",
   "execution_count": 56,
   "id": "336995d3",
   "metadata": {},
   "outputs": [
    {
     "data": {
      "text/plain": [
       "int"
      ]
     },
     "execution_count": 56,
     "metadata": {},
     "output_type": "execute_result"
    }
   ],
   "source": [
    "type(c.margine)"
   ]
  },
  {
   "cell_type": "code",
   "execution_count": null,
   "id": "8f118f77",
   "metadata": {},
   "outputs": [],
   "source": []
  }
 ],
 "metadata": {
  "kernelspec": {
   "display_name": "base",
   "language": "python",
   "name": "python3"
  },
  "language_info": {
   "codemirror_mode": {
    "name": "ipython",
    "version": 3
   },
   "file_extension": ".py",
   "mimetype": "text/x-python",
   "name": "python",
   "nbconvert_exporter": "python",
   "pygments_lexer": "ipython3",
   "version": "3.12.7"
  }
 },
 "nbformat": 4,
 "nbformat_minor": 5
}
