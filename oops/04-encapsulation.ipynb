{
 "cells": [
  {
   "cell_type": "markdown",
   "id": "a9eba17c",
   "metadata": {},
   "source": [
    "# Encapsulation"
   ]
  },
  {
   "cell_type": "code",
   "execution_count": null,
   "id": "68f49aea",
   "metadata": {},
   "outputs": [],
   "source": [
    "class Person:\n",
    "\tdef __init__(self,name,age):\n",
    "\t\tself.name = name # public variable\n",
    "\t\tself.age = age   # public variable\n",
    "\n",
    "p = Person(\"ac\",24)"
   ]
  },
  {
   "cell_type": "code",
   "execution_count": 2,
   "id": "1978cdc6",
   "metadata": {},
   "outputs": [
    {
     "data": {
      "text/plain": [
       "'ac'"
      ]
     },
     "execution_count": 2,
     "metadata": {},
     "output_type": "execute_result"
    }
   ],
   "source": [
    "p.name"
   ]
  },
  {
   "cell_type": "code",
   "execution_count": 3,
   "id": "e4469055",
   "metadata": {},
   "outputs": [],
   "source": [
    "class Person:\n",
    "\tdef __init__(self,name,age):\n",
    "\t\tself.__name = name # private variable\n",
    "\t\tself.__age = age   # private variable\n",
    "\n",
    "p = Person(\"ac\",24)"
   ]
  },
  {
   "cell_type": "code",
   "execution_count": 4,
   "id": "1dba7178",
   "metadata": {},
   "outputs": [
    {
     "data": {
      "text/plain": [
       "['_Person__age',\n",
       " '_Person__name',\n",
       " '__class__',\n",
       " '__delattr__',\n",
       " '__dict__',\n",
       " '__dir__',\n",
       " '__doc__',\n",
       " '__eq__',\n",
       " '__format__',\n",
       " '__ge__',\n",
       " '__getattribute__',\n",
       " '__getstate__',\n",
       " '__gt__',\n",
       " '__hash__',\n",
       " '__init__',\n",
       " '__init_subclass__',\n",
       " '__le__',\n",
       " '__lt__',\n",
       " '__module__',\n",
       " '__ne__',\n",
       " '__new__',\n",
       " '__reduce__',\n",
       " '__reduce_ex__',\n",
       " '__repr__',\n",
       " '__setattr__',\n",
       " '__sizeof__',\n",
       " '__str__',\n",
       " '__subclasshook__',\n",
       " '__weakref__']"
      ]
     },
     "execution_count": 4,
     "metadata": {},
     "output_type": "execute_result"
    }
   ],
   "source": [
    "dir(p)"
   ]
  },
  {
   "cell_type": "code",
   "execution_count": 11,
   "id": "a998b6f4",
   "metadata": {},
   "outputs": [
    {
     "ename": "AttributeError",
     "evalue": "type object 'Person' has no attribute '_Person__age'",
     "output_type": "error",
     "traceback": [
      "\u001b[1;31m---------------------------------------------------------------------------\u001b[0m",
      "\u001b[1;31mAttributeError\u001b[0m                            Traceback (most recent call last)",
      "Cell \u001b[1;32mIn[11], line 1\u001b[0m\n\u001b[1;32m----> 1\u001b[0m Person\u001b[38;5;241m.\u001b[39m_Person__age\n",
      "\u001b[1;31mAttributeError\u001b[0m: type object 'Person' has no attribute '_Person__age'"
     ]
    }
   ],
   "source": [
    "Person._Person__age # not acceable, Restacting to accessing the variable"
   ]
  },
  {
   "cell_type": "code",
   "execution_count": 14,
   "id": "15841aa5",
   "metadata": {},
   "outputs": [],
   "source": [
    "class Person:\n",
    "\tdef __init__(self,name,age):\n",
    "\t\tself._name = name # protacted variable\n",
    "\t\tself._age = age   # protacted variable\n",
    "\n",
    "class Employee(Person):\n",
    "\tdef __init__(self,name,age):\n",
    "\t\tsuper().__init__(name,age)\n",
    "\n",
    "p = Employee(\"ac\",24)"
   ]
  },
  {
   "cell_type": "code",
   "execution_count": 15,
   "id": "49ed84df",
   "metadata": {},
   "outputs": [
    {
     "data": {
      "text/plain": [
       "'ac'"
      ]
     },
     "execution_count": 15,
     "metadata": {},
     "output_type": "execute_result"
    }
   ],
   "source": [
    "p._name"
   ]
  },
  {
   "cell_type": "markdown",
   "id": "c6b0e9a1",
   "metadata": {},
   "source": [
    "# Getter & Setter"
   ]
  },
  {
   "cell_type": "markdown",
   "id": "128fd089",
   "metadata": {},
   "source": [
    "**To access the private variable we use getter and setter method"
   ]
  },
  {
   "cell_type": "code",
   "execution_count": 17,
   "id": "9eaa6c5d",
   "metadata": {},
   "outputs": [],
   "source": [
    "class Person:\n",
    "\tdef __init__(self,name,age):\n",
    "\t\tself.__name = name # private variable\n",
    "\t\tself.__age = age   # private variable\n",
    "\n",
    "\t# getter\n",
    "\tdef get_name(self):\n",
    "\t\treturn self.__name\n",
    "\n",
    "\tdef get_age(self):\n",
    "\t\treturn self.__age\n",
    "\n",
    "\t# setter changing name\n",
    "\tdef set_name(self,name):\n",
    "\t\tself.__name=name\n",
    "\n",
    "\tdef set_age(self,age):\n",
    "\t\tif age > 0:\n",
    "\t\t\tself.__age=age\n",
    "\t\telse:\n",
    "\t\t\tprint(\"Age is negative\")\n",
    "\n",
    "p = Person(\"ac\",24)"
   ]
  },
  {
   "cell_type": "code",
   "execution_count": 18,
   "id": "08306077",
   "metadata": {},
   "outputs": [
    {
     "ename": "AttributeError",
     "evalue": "'Person' object has no attribute '__name'",
     "output_type": "error",
     "traceback": [
      "\u001b[1;31m---------------------------------------------------------------------------\u001b[0m",
      "\u001b[1;31mAttributeError\u001b[0m                            Traceback (most recent call last)",
      "Cell \u001b[1;32mIn[18], line 1\u001b[0m\n\u001b[1;32m----> 1\u001b[0m p\u001b[38;5;241m.\u001b[39m__name\n",
      "\u001b[1;31mAttributeError\u001b[0m: 'Person' object has no attribute '__name'"
     ]
    }
   ],
   "source": [
    "p.__name"
   ]
  },
  {
   "cell_type": "code",
   "execution_count": 20,
   "id": "e7c54357",
   "metadata": {},
   "outputs": [
    {
     "data": {
      "text/plain": [
       "'ac'"
      ]
     },
     "execution_count": 20,
     "metadata": {},
     "output_type": "execute_result"
    }
   ],
   "source": [
    "p.get_name()"
   ]
  },
  {
   "cell_type": "code",
   "execution_count": 21,
   "id": "1b184d75",
   "metadata": {},
   "outputs": [
    {
     "data": {
      "text/plain": [
       "24"
      ]
     },
     "execution_count": 21,
     "metadata": {},
     "output_type": "execute_result"
    }
   ],
   "source": [
    "p.get_age()"
   ]
  },
  {
   "cell_type": "code",
   "execution_count": null,
   "id": "6bd8293b",
   "metadata": {},
   "outputs": [],
   "source": [
    "p.set_name(\"kc\") # modify value"
   ]
  },
  {
   "cell_type": "code",
   "execution_count": null,
   "id": "6f42ad48",
   "metadata": {},
   "outputs": [
    {
     "data": {
      "text/plain": [
       "'kc'"
      ]
     },
     "execution_count": 23,
     "metadata": {},
     "output_type": "execute_result"
    }
   ],
   "source": [
    "p.get_name() # check modify value"
   ]
  },
  {
   "cell_type": "code",
   "execution_count": null,
   "id": "3ab6c062",
   "metadata": {},
   "outputs": [],
   "source": []
  }
 ],
 "metadata": {
  "kernelspec": {
   "display_name": "base",
   "language": "python",
   "name": "python3"
  },
  "language_info": {
   "codemirror_mode": {
    "name": "ipython",
    "version": 3
   },
   "file_extension": ".py",
   "mimetype": "text/x-python",
   "name": "python",
   "nbconvert_exporter": "python",
   "pygments_lexer": "ipython3",
   "version": "3.12.7"
  }
 },
 "nbformat": 4,
 "nbformat_minor": 5
}
