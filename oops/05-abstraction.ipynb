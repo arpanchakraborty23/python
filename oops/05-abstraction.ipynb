{
 "cells": [
  {
   "cell_type": "markdown",
   "id": "48d4bf01",
   "metadata": {},
   "source": [
    "# Abstraction\n",
    "* Hiding the complex Implementation from user"
   ]
  },
  {
   "cell_type": "code",
   "execution_count": 2,
   "id": "0600723b",
   "metadata": {},
   "outputs": [],
   "source": [
    "from abc import ABC,abstractmethod"
   ]
  },
  {
   "cell_type": "code",
   "execution_count": 3,
   "id": "57430146",
   "metadata": {},
   "outputs": [
    {
     "name": "stdout",
     "output_type": "stream",
     "text": [
      "Car engine started\n",
      "This is Driving\n",
      "Bike engine started\n",
      "This is Driving\n"
     ]
    }
   ],
   "source": [
    "class Vehicle(ABC):  # Abstract Base Class\n",
    "\t\n",
    "\tdef drive(self):\n",
    "\t\tprint(\"This is Driving\")  # Concrete method (optional to override)\n",
    "\n",
    "\t@abstractmethod\n",
    "\tdef start(self):  # Abstract Method (must be implemented)\n",
    "\t\tpass\n",
    "\n",
    "class Car(Vehicle):  # Subclass\n",
    "\tdef start(self):\n",
    "\t\tprint(\"Car engine started\")  # Implementing abstract method\n",
    "\n",
    "class Bike(Vehicle):  # Another subclass\n",
    "\tdef start(self):\n",
    "\t\tprint(\"Bike engine started\")  # Implementing abstract method\n",
    "\n",
    "def operate(v):  # Polymorphic function\n",
    "\tv.start()    # Calls the appropriate start() method based on the object\n",
    "\tv.drive()    # Calls the concrete method\n",
    "\n",
    "car = Car()\n",
    "bike = Bike()\n",
    "operate(car)   # Output: Car engine started \\n This is Driving\n",
    "operate(bike)  # Output: Bike engine started \\n This is Driving\n"
   ]
  },
  {
   "cell_type": "code",
   "execution_count": 4,
   "id": "b1316588",
   "metadata": {},
   "outputs": [],
   "source": [
    "# abstract metod"
   ]
  },
  {
   "cell_type": "code",
   "execution_count": 6,
   "id": "3821c143",
   "metadata": {},
   "outputs": [],
   "source": [
    "class mentor(ABC): # converting to abstract base class. that no one can access \n",
    "   @abstractmethod\n",
    "   def tech(self): # it will accessble to anyone\n",
    "      pass\n",
    "   "
   ]
  },
  {
   "cell_type": "code",
   "execution_count": 10,
   "id": "357600e3",
   "metadata": {},
   "outputs": [],
   "source": [
    "class Euron(mentor): # createing class where we implementing funcality\n",
    "   def teach(self):\n",
    "      return \"this is my teach method\""
   ]
  },
  {
   "cell_type": "code",
   "execution_count": 11,
   "id": "40a51ff6",
   "metadata": {},
   "outputs": [
    {
     "ename": "TypeError",
     "evalue": "Can't instantiate abstract class mentor without an implementation for abstract method 'tech'",
     "output_type": "error",
     "traceback": [
      "\u001b[1;31m---------------------------------------------------------------------------\u001b[0m",
      "\u001b[1;31mTypeError\u001b[0m                                 Traceback (most recent call last)",
      "Cell \u001b[1;32mIn[11], line 1\u001b[0m\n\u001b[1;32m----> 1\u001b[0m m\u001b[38;5;241m=\u001b[39m mentor()\n",
      "\u001b[1;31mTypeError\u001b[0m: Can't instantiate abstract class mentor without an implementation for abstract method 'tech'"
     ]
    }
   ],
   "source": [
    "m= mentor()"
   ]
  },
  {
   "cell_type": "code",
   "execution_count": 12,
   "id": "3d59b643",
   "metadata": {},
   "outputs": [
    {
     "ename": "TypeError",
     "evalue": "Can't instantiate abstract class Euron without an implementation for abstract method 'tech'",
     "output_type": "error",
     "traceback": [
      "\u001b[1;31m---------------------------------------------------------------------------\u001b[0m",
      "\u001b[1;31mTypeError\u001b[0m                                 Traceback (most recent call last)",
      "Cell \u001b[1;32mIn[12], line 1\u001b[0m\n\u001b[1;32m----> 1\u001b[0m em\u001b[38;5;241m=\u001b[39mEuron()\n",
      "\u001b[1;31mTypeError\u001b[0m: Can't instantiate abstract class Euron without an implementation for abstract method 'tech'"
     ]
    }
   ],
   "source": [
    "em=Euron()"
   ]
  },
  {
   "cell_type": "code",
   "execution_count": 13,
   "id": "4d282810",
   "metadata": {},
   "outputs": [],
   "source": [
    "class Course(ABC):\n",
    "   @abstractmethod\n",
    "   def content(self):\n",
    "      pass\n",
    "   def duration(self):pass"
   ]
  },
  {
   "cell_type": "code",
   "execution_count": 14,
   "id": "e15a496f",
   "metadata": {},
   "outputs": [],
   "source": [
    "class Python(Course):\n",
    "    def content(self):\n",
    "        return \"This method wii give content\"\n",
    "    def duration(self):\n",
    "        return \"Duration 1 month\""
   ]
  },
  {
   "cell_type": "code",
   "execution_count": 15,
   "id": "d0392b13",
   "metadata": {},
   "outputs": [],
   "source": [
    "p = Python()"
   ]
  },
  {
   "cell_type": "code",
   "execution_count": 16,
   "id": "284b3fe6",
   "metadata": {},
   "outputs": [
    {
     "data": {
      "text/plain": [
       "'Duration 1 month'"
      ]
     },
     "execution_count": 16,
     "metadata": {},
     "output_type": "execute_result"
    }
   ],
   "source": [
    "p.duration()"
   ]
  },
  {
   "cell_type": "code",
   "execution_count": 17,
   "id": "1402975b",
   "metadata": {},
   "outputs": [
    {
     "data": {
      "text/plain": [
       "'This method wii give content'"
      ]
     },
     "execution_count": 17,
     "metadata": {},
     "output_type": "execute_result"
    }
   ],
   "source": [
    "p.content()"
   ]
  },
  {
   "cell_type": "code",
   "execution_count": null,
   "id": "c2efbfaf",
   "metadata": {},
   "outputs": [],
   "source": []
  }
 ],
 "metadata": {
  "kernelspec": {
   "display_name": "base",
   "language": "python",
   "name": "python3"
  },
  "language_info": {
   "codemirror_mode": {
    "name": "ipython",
    "version": 3
   },
   "file_extension": ".py",
   "mimetype": "text/x-python",
   "name": "python",
   "nbconvert_exporter": "python",
   "pygments_lexer": "ipython3",
   "version": "3.12.7"
  }
 },
 "nbformat": 4,
 "nbformat_minor": 5
}
