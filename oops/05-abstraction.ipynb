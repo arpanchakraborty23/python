{
 "cells": [
  {
   "cell_type": "markdown",
   "id": "48d4bf01",
   "metadata": {},
   "source": [
    "# Abstraction\n",
    "* Hiding the complex Implementation from user"
   ]
  },
  {
   "cell_type": "code",
   "execution_count": 1,
   "id": "0600723b",
   "metadata": {},
   "outputs": [],
   "source": [
    "from abc import ABC,abstractmethod"
   ]
  },
  {
   "cell_type": "code",
   "execution_count": 14,
   "id": "57430146",
   "metadata": {},
   "outputs": [
    {
     "name": "stdout",
     "output_type": "stream",
     "text": [
      "Engine Started\n"
     ]
    }
   ],
   "source": [
    "from abc import ABC, abstractmethod\n",
    "\n",
    "class Vehicle(ABC):  # Abstract Base Class\n",
    "    \n",
    "    def drive(self):\n",
    "        print(\"This is Driving\")  # Concrete method (optional to override)\n",
    "\n",
    "    @abstractmethod\n",
    "    def start(self):  # Abstract Method (must be implemented)\n",
    "        pass\n",
    "\n",
    "class Car(Vehicle):  # Subclass\n",
    "    def start(self):\n",
    "        print(\"Engine Started\")  # Implementing abstract method\n",
    "\n",
    "def operate(v):  # Polymorphic function\n",
    "    v.start()    # Calls the appropriate start() method based on the object\n",
    "\n",
    "car = Car()\n",
    "operate(car)  # Output: Engine Started\n"
   ]
  },
  {
   "cell_type": "code",
   "execution_count": null,
   "id": "b1316588",
   "metadata": {},
   "outputs": [],
   "source": []
  }
 ],
 "metadata": {
  "kernelspec": {
   "display_name": "base",
   "language": "python",
   "name": "python3"
  },
  "language_info": {
   "codemirror_mode": {
    "name": "ipython",
    "version": 3
   },
   "file_extension": ".py",
   "mimetype": "text/x-python",
   "name": "python",
   "nbconvert_exporter": "python",
   "pygments_lexer": "ipython3",
   "version": "3.12.7"
  }
 },
 "nbformat": 4,
 "nbformat_minor": 5
}
