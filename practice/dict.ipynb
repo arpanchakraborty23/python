{
 "cells": [
  {
   "cell_type": "markdown",
   "id": "ea5eff6a",
   "metadata": {},
   "source": [
    "# dict creation"
   ]
  },
  {
   "cell_type": "code",
   "execution_count": 1,
   "id": "2a4789be",
   "metadata": {},
   "outputs": [],
   "source": [
    "# create dict\n",
    "my_dict = {\"name\": \"ac\", \"age\":24,'skills':[\"Python\",\"ML\",\"DL\",\"CV\",\"NLP\"]}"
   ]
  },
  {
   "cell_type": "code",
   "execution_count": 2,
   "id": "4ed4cc25",
   "metadata": {},
   "outputs": [
    {
     "ename": "KeyError",
     "evalue": "1",
     "output_type": "error",
     "traceback": [
      "\u001b[1;31m---------------------------------------------------------------------------\u001b[0m",
      "\u001b[1;31mKeyError\u001b[0m                                  Traceback (most recent call last)",
      "Cell \u001b[1;32mIn[2], line 1\u001b[0m\n\u001b[1;32m----> 1\u001b[0m my_dict[\u001b[38;5;241m1\u001b[39m]\n",
      "\u001b[1;31mKeyError\u001b[0m: 1"
     ]
    }
   ],
   "source": [
    "my_dict[1]"
   ]
  },
  {
   "cell_type": "code",
   "execution_count": 2,
   "id": "0b1fb9b5",
   "metadata": {},
   "outputs": [],
   "source": [
    "# dict usin dict()\n",
    "d = dict(name=\"ac\",age=24,job=\"jr.DataScintist\")"
   ]
  },
  {
   "cell_type": "code",
   "execution_count": 3,
   "id": "c85c09d4",
   "metadata": {},
   "outputs": [
    {
     "data": {
      "text/plain": [
       "{'name': 'ac', 'age': 24, 'job': 'jr.DataScintist'}"
      ]
     },
     "execution_count": 3,
     "metadata": {},
     "output_type": "execute_result"
    }
   ],
   "source": [
    "d"
   ]
  },
  {
   "cell_type": "code",
   "execution_count": 4,
   "id": "e94eb6a0",
   "metadata": {},
   "outputs": [
    {
     "data": {
      "text/plain": [
       "{'name': 'axc', 'age': 24, 'city': 'kolkata'}"
      ]
     },
     "execution_count": 4,
     "metadata": {},
     "output_type": "execute_result"
    }
   ],
   "source": [
    "# empty dict\n",
    "d2 = {}\n",
    "d2['name'] =\"axc\"\n",
    "d2['age'] = 24\n",
    "d2['city'] = \"kolkata\"\n",
    "d2"
   ]
  },
  {
   "cell_type": "code",
   "execution_count": 5,
   "id": "db5ca750",
   "metadata": {},
   "outputs": [
    {
     "data": {
      "text/plain": [
       "{'name': 'avc', 'age': 25, 'job': 'ds'}"
      ]
     },
     "execution_count": 5,
     "metadata": {},
     "output_type": "execute_result"
    }
   ],
   "source": [
    "# using zip\n",
    "keys = [\"name\",\"age\",\"job\"]\n",
    "values = [\"avc\",25, \"ds\"]\n",
    "dict(zip(keys,values))"
   ]
  },
  {
   "cell_type": "code",
   "execution_count": 7,
   "id": "4dfe3bf9",
   "metadata": {},
   "outputs": [
    {
     "data": {
      "text/plain": [
       "{'name': ['avc', 25, 'ds'], 'age': ['avc', 25, 'ds'], 'job': ['avc', 25, 'ds']}"
      ]
     },
     "execution_count": 7,
     "metadata": {},
     "output_type": "execute_result"
    }
   ],
   "source": [
    "# fromkeys\n",
    "dict.fromkeys(keys,values)"
   ]
  },
  {
   "cell_type": "markdown",
   "id": "d1aaf555",
   "metadata": {},
   "source": [
    "# mutable\n",
    "* dict can change add, remove items"
   ]
  },
  {
   "cell_type": "code",
   "execution_count": 8,
   "id": "1db64ba5",
   "metadata": {},
   "outputs": [
    {
     "data": {
      "text/plain": [
       "{'name': 'ac', 'age': 24, 'job': 'jr.DataScintist'}"
      ]
     },
     "execution_count": 8,
     "metadata": {},
     "output_type": "execute_result"
    }
   ],
   "source": [
    "d"
   ]
  },
  {
   "cell_type": "code",
   "execution_count": 9,
   "id": "63a9c6b8",
   "metadata": {},
   "outputs": [
    {
     "data": {
      "text/plain": [
       "{'name': 'ac', 'age': 25, 'job': 'jr.DataScintist'}"
      ]
     },
     "execution_count": 9,
     "metadata": {},
     "output_type": "execute_result"
    }
   ],
   "source": [
    "# modify value\n",
    "d[\"age\"] =25\n",
    "d"
   ]
  },
  {
   "cell_type": "markdown",
   "id": "fc20237c",
   "metadata": {},
   "source": [
    "# unique key\n",
    "* every should be unique . if not it overwrite older key valus"
   ]
  },
  {
   "cell_type": "code",
   "execution_count": 10,
   "id": "b9fb553b",
   "metadata": {},
   "outputs": [
    {
     "data": {
      "text/plain": [
       "{'name': 'ac', 'age': 25, 'job': 'jr.DataScintist'}"
      ]
     },
     "execution_count": 10,
     "metadata": {},
     "output_type": "execute_result"
    }
   ],
   "source": [
    "d"
   ]
  },
  {
   "cell_type": "code",
   "execution_count": 11,
   "id": "3eeb3450",
   "metadata": {},
   "outputs": [],
   "source": [
    "d[\"age\"] = 24"
   ]
  },
  {
   "cell_type": "code",
   "execution_count": 12,
   "id": "3e0dd878",
   "metadata": {},
   "outputs": [
    {
     "data": {
      "text/plain": [
       "{'name': 'ac', 'age': 24, 'job': 'jr.DataScintist'}"
      ]
     },
     "execution_count": 12,
     "metadata": {},
     "output_type": "execute_result"
    }
   ],
   "source": [
    "d"
   ]
  },
  {
   "cell_type": "markdown",
   "id": "9773719d",
   "metadata": {},
   "source": [
    "# keys must be immutable"
   ]
  },
  {
   "cell_type": "code",
   "execution_count": 15,
   "id": "5dcfbdc1",
   "metadata": {},
   "outputs": [],
   "source": [
    "d4 = {(1,2):'age'}"
   ]
  },
  {
   "cell_type": "code",
   "execution_count": 16,
   "id": "55976979",
   "metadata": {},
   "outputs": [
    {
     "data": {
      "text/plain": [
       "{(1, 2): 'age'}"
      ]
     },
     "execution_count": 16,
     "metadata": {},
     "output_type": "execute_result"
    }
   ],
   "source": [
    "d4"
   ]
  },
  {
   "cell_type": "markdown",
   "id": "a8904c8c",
   "metadata": {},
   "source": [
    "# efficient lookup, insertion, deletion"
   ]
  },
  {
   "cell_type": "code",
   "execution_count": 18,
   "id": "aeb6be11",
   "metadata": {},
   "outputs": [],
   "source": [
    "# inserton\n",
    "my_dict['skills'] = \"Ai\""
   ]
  },
  {
   "cell_type": "code",
   "execution_count": 19,
   "id": "24b86d95",
   "metadata": {},
   "outputs": [
    {
     "data": {
      "text/plain": [
       "{'name': 'ac', 'age': 24, 'skills': 'Ai'}"
      ]
     },
     "execution_count": 19,
     "metadata": {},
     "output_type": "execute_result"
    }
   ],
   "source": [
    "my_dict"
   ]
  },
  {
   "cell_type": "code",
   "execution_count": 20,
   "id": "005a2252",
   "metadata": {},
   "outputs": [],
   "source": [
    "# del\n",
    "del my_dict"
   ]
  },
  {
   "cell_type": "code",
   "execution_count": 21,
   "id": "dd438cbb",
   "metadata": {},
   "outputs": [
    {
     "data": {
      "text/plain": [
       "'ac'"
      ]
     },
     "execution_count": 21,
     "metadata": {},
     "output_type": "execute_result"
    }
   ],
   "source": [
    "# lookup\n",
    "d['name']"
   ]
  },
  {
   "cell_type": "markdown",
   "id": "b0348504",
   "metadata": {},
   "source": [
    "# Dynamic size and heterogenous\n",
    "* No need for declare the size of dict ahead of time\n",
    "* dict can content diffrent dtypes"
   ]
  },
  {
   "cell_type": "code",
   "execution_count": 22,
   "id": "9b5bb304",
   "metadata": {},
   "outputs": [],
   "source": [
    "d2 = {}\n",
    "d2['name'] =\"axc\"\n",
    "d2['age'] = 24\n",
    "d2['city'] = \"kolkata\""
   ]
  },
  {
   "cell_type": "markdown",
   "id": "f0bc1ae9",
   "metadata": {},
   "source": [
    "# methods"
   ]
  },
  {
   "cell_type": "code",
   "execution_count": 24,
   "id": "a3b20973",
   "metadata": {},
   "outputs": [
    {
     "data": {
      "text/plain": [
       "dict_keys(['name', 'age', 'city'])"
      ]
     },
     "execution_count": 24,
     "metadata": {},
     "output_type": "execute_result"
    }
   ],
   "source": [
    "d2.keys()"
   ]
  },
  {
   "cell_type": "code",
   "execution_count": 25,
   "id": "85df6af3",
   "metadata": {},
   "outputs": [
    {
     "data": {
      "text/plain": [
       "dict_values(['axc', 24, 'kolkata'])"
      ]
     },
     "execution_count": 25,
     "metadata": {},
     "output_type": "execute_result"
    }
   ],
   "source": [
    "d2.values()"
   ]
  },
  {
   "cell_type": "code",
   "execution_count": 26,
   "id": "9266be42",
   "metadata": {},
   "outputs": [
    {
     "data": {
      "text/plain": [
       "dict_items([('name', 'axc'), ('age', 24), ('city', 'kolkata')])"
      ]
     },
     "execution_count": 26,
     "metadata": {},
     "output_type": "execute_result"
    }
   ],
   "source": [
    "d2.items()"
   ]
  },
  {
   "cell_type": "code",
   "execution_count": 30,
   "id": "e580d526",
   "metadata": {},
   "outputs": [
    {
     "data": {
      "text/plain": [
       "'axc'"
      ]
     },
     "execution_count": 30,
     "metadata": {},
     "output_type": "execute_result"
    }
   ],
   "source": [
    "d2.get('name')"
   ]
  },
  {
   "cell_type": "code",
   "execution_count": 31,
   "id": "58a41d41",
   "metadata": {},
   "outputs": [],
   "source": [
    "# pop -> remove dict and return value\n",
    "age = d2.pop(\"age\")"
   ]
  },
  {
   "cell_type": "code",
   "execution_count": 32,
   "id": "1df8905b",
   "metadata": {},
   "outputs": [
    {
     "data": {
      "text/plain": [
       "24"
      ]
     },
     "execution_count": 32,
     "metadata": {},
     "output_type": "execute_result"
    }
   ],
   "source": [
    "age"
   ]
  },
  {
   "cell_type": "code",
   "execution_count": 33,
   "id": "413a2998",
   "metadata": {},
   "outputs": [
    {
     "data": {
      "text/plain": [
       "{'name': 'axc', 'city': 'kolkata'}"
      ]
     },
     "execution_count": 33,
     "metadata": {},
     "output_type": "execute_result"
    }
   ],
   "source": [
    "d2"
   ]
  },
  {
   "cell_type": "code",
   "execution_count": 34,
   "id": "fda2b373",
   "metadata": {},
   "outputs": [],
   "source": [
    "# update -> update new data key-value\n",
    "d2.update({\"age\":24,\"skills\":\"DS\"})"
   ]
  },
  {
   "cell_type": "code",
   "execution_count": 35,
   "id": "7a55cab3",
   "metadata": {},
   "outputs": [
    {
     "data": {
      "text/plain": [
       "{'name': 'axc', 'city': 'kolkata', 'age': 24, 'skills': 'DS'}"
      ]
     },
     "execution_count": 35,
     "metadata": {},
     "output_type": "execute_result"
    }
   ],
   "source": [
    "d2"
   ]
  },
  {
   "cell_type": "code",
   "execution_count": 36,
   "id": "ed8f2fa7",
   "metadata": {},
   "outputs": [],
   "source": [
    "# clear -> return empty dict\n",
    "d2.clear()"
   ]
  },
  {
   "cell_type": "code",
   "execution_count": 37,
   "id": "3dbc87ab",
   "metadata": {},
   "outputs": [
    {
     "data": {
      "text/plain": [
       "{}"
      ]
     },
     "execution_count": 37,
     "metadata": {},
     "output_type": "execute_result"
    }
   ],
   "source": [
    "d2"
   ]
  },
  {
   "cell_type": "code",
   "execution_count": 38,
   "id": "bc189147",
   "metadata": {},
   "outputs": [
    {
     "data": {
      "text/plain": [
       "{'name': 'ac', 'age': 24, 'job': 'jr.DataScintist'}"
      ]
     },
     "execution_count": 38,
     "metadata": {},
     "output_type": "execute_result"
    }
   ],
   "source": [
    "# invert dict\n",
    "d"
   ]
  },
  {
   "cell_type": "code",
   "execution_count": 40,
   "id": "74c3fa60",
   "metadata": {},
   "outputs": [
    {
     "data": {
      "text/plain": [
       "{'ac': 'name', 24: 'age', 'jr.DataScintist': 'job'}"
      ]
     },
     "execution_count": 40,
     "metadata": {},
     "output_type": "execute_result"
    }
   ],
   "source": [
    "{v:k for k,v in d.items()}"
   ]
  },
  {
   "cell_type": "code",
   "execution_count": 41,
   "id": "6c59ad19",
   "metadata": {},
   "outputs": [],
   "source": [
    "# max\n",
    "d2 ={\"a\":4,\"b\":5,\"c\":7}"
   ]
  },
  {
   "cell_type": "code",
   "execution_count": 44,
   "id": "24541b59",
   "metadata": {},
   "outputs": [
    {
     "data": {
      "text/plain": [
       "'c'"
      ]
     },
     "execution_count": 44,
     "metadata": {},
     "output_type": "execute_result"
    }
   ],
   "source": [
    "# max\n",
    "max(d2,key=d2.get)"
   ]
  },
  {
   "cell_type": "code",
   "execution_count": 5,
   "id": "a0f68d36",
   "metadata": {},
   "outputs": [],
   "source": [
    "d = {'name': 'ac', 'age': 24, 'skills': 'Ai'}"
   ]
  },
  {
   "cell_type": "code",
   "execution_count": 6,
   "id": "5830c9f8",
   "metadata": {},
   "outputs": [
    {
     "data": {
      "text/plain": [
       "'ac'"
      ]
     },
     "execution_count": 6,
     "metadata": {},
     "output_type": "execute_result"
    }
   ],
   "source": [
    "d.get(\"name\")"
   ]
  },
  {
   "cell_type": "code",
   "execution_count": 7,
   "id": "ccd3f160",
   "metadata": {},
   "outputs": [
    {
     "data": {
      "text/plain": [
       "dict_items([('name', 'ac'), ('age', 24), ('skills', 'Ai')])"
      ]
     },
     "execution_count": 7,
     "metadata": {},
     "output_type": "execute_result"
    }
   ],
   "source": [
    "d.items()"
   ]
  },
  {
   "cell_type": "code",
   "execution_count": 8,
   "id": "067021fe",
   "metadata": {},
   "outputs": [
    {
     "data": {
      "text/plain": [
       "'Ai'"
      ]
     },
     "execution_count": 8,
     "metadata": {},
     "output_type": "execute_result"
    }
   ],
   "source": [
    "d.pop(\"skills\")"
   ]
  },
  {
   "cell_type": "code",
   "execution_count": 9,
   "id": "96126d5c",
   "metadata": {},
   "outputs": [
    {
     "data": {
      "text/plain": [
       "{'name': 'ac', 'age': 24}"
      ]
     },
     "execution_count": 9,
     "metadata": {},
     "output_type": "execute_result"
    }
   ],
   "source": [
    "d"
   ]
  },
  {
   "cell_type": "code",
   "execution_count": 11,
   "id": "fecc8f9f",
   "metadata": {},
   "outputs": [
    {
     "data": {
      "text/plain": [
       "'ac'"
      ]
     },
     "execution_count": 11,
     "metadata": {},
     "output_type": "execute_result"
    }
   ],
   "source": [
    "d.setdefault(\"name\")"
   ]
  },
  {
   "cell_type": "code",
   "execution_count": 12,
   "id": "b8bdd06e",
   "metadata": {},
   "outputs": [
    {
     "data": {
      "text/plain": [
       "{'name': 'ac', 'age': 24}"
      ]
     },
     "execution_count": 12,
     "metadata": {},
     "output_type": "execute_result"
    }
   ],
   "source": [
    "d"
   ]
  },
  {
   "cell_type": "code",
   "execution_count": null,
   "id": "e0789a3b",
   "metadata": {},
   "outputs": [
    {
     "ename": "TypeError",
     "evalue": "dict.popitem() takes no arguments (1 given)",
     "output_type": "error",
     "traceback": [
      "\u001b[1;31m---------------------------------------------------------------------------\u001b[0m",
      "\u001b[1;31mTypeError\u001b[0m                                 Traceback (most recent call last)",
      "Cell \u001b[1;32mIn[15], line 1\u001b[0m\n\u001b[1;32m----> 1\u001b[0m d\u001b[38;5;241m.\u001b[39mpopitem({\u001b[38;5;124m\"\u001b[39m\u001b[38;5;124mage\u001b[39m\u001b[38;5;124m\"\u001b[39m:\u001b[38;5;241m32\u001b[39m})\n",
      "\u001b[1;31mTypeError\u001b[0m: dict.popitem() takes no arguments (1 given)"
     ]
    }
   ],
   "source": [
    "d.popitem() # remove last inserted items"
   ]
  },
  {
   "cell_type": "code",
   "execution_count": 16,
   "id": "e17b0e23",
   "metadata": {},
   "outputs": [
    {
     "data": {
      "text/plain": [
       "{'name': 'ac'}"
      ]
     },
     "execution_count": 16,
     "metadata": {},
     "output_type": "execute_result"
    }
   ],
   "source": [
    "d"
   ]
  },
  {
   "cell_type": "code",
   "execution_count": 17,
   "id": "9bcf63e8",
   "metadata": {},
   "outputs": [
    {
     "data": {
      "text/plain": [
       "'ac'"
      ]
     },
     "execution_count": 17,
     "metadata": {},
     "output_type": "execute_result"
    }
   ],
   "source": [
    "d.pop(\"name\")"
   ]
  },
  {
   "cell_type": "code",
   "execution_count": 18,
   "id": "031e5a89",
   "metadata": {},
   "outputs": [
    {
     "data": {
      "text/plain": [
       "{}"
      ]
     },
     "execution_count": 18,
     "metadata": {},
     "output_type": "execute_result"
    }
   ],
   "source": [
    "d"
   ]
  },
  {
   "cell_type": "code",
   "execution_count": 19,
   "id": "05889243",
   "metadata": {},
   "outputs": [],
   "source": [
    "d.update({'name': 'ac', 'age': 24, 'skills': 'Ai'})"
   ]
  },
  {
   "cell_type": "code",
   "execution_count": 20,
   "id": "b608f2fc",
   "metadata": {},
   "outputs": [
    {
     "data": {
      "text/plain": [
       "{'name': 'ac', 'age': 24, 'skills': 'Ai'}"
      ]
     },
     "execution_count": 20,
     "metadata": {},
     "output_type": "execute_result"
    }
   ],
   "source": [
    "d"
   ]
  },
  {
   "cell_type": "code",
   "execution_count": 22,
   "id": "27a4f561",
   "metadata": {},
   "outputs": [
    {
     "data": {
      "text/plain": [
       "{'name': ['ac', 25, 'DS'], 'age': ['ac', 25, 'DS'], 'skill': ['ac', 25, 'DS']}"
      ]
     },
     "execution_count": 22,
     "metadata": {},
     "output_type": "execute_result"
    }
   ],
   "source": [
    "keys = [\"name\",\"age\",\"skill\"]\n",
    "values = [\"ac\",25, \"DS\"]\n",
    "d2 ={}\n",
    "d2.fromkeys(keys,values)"
   ]
  },
  {
   "cell_type": "code",
   "execution_count": 23,
   "id": "1fbab154",
   "metadata": {},
   "outputs": [
    {
     "data": {
      "text/plain": [
       "{'name': 'ac', 'age': 24, 'skills': 'Ai'}"
      ]
     },
     "execution_count": 23,
     "metadata": {},
     "output_type": "execute_result"
    }
   ],
   "source": [
    "d"
   ]
  },
  {
   "cell_type": "code",
   "execution_count": 24,
   "id": "6ac8adaa",
   "metadata": {},
   "outputs": [],
   "source": [
    "d.setdefault(\"salary\")"
   ]
  },
  {
   "cell_type": "code",
   "execution_count": 2,
   "id": "6e3e3dbc",
   "metadata": {},
   "outputs": [
    {
     "ename": "NameError",
     "evalue": "name 'd' is not defined",
     "output_type": "error",
     "traceback": [
      "\u001b[1;31m---------------------------------------------------------------------------\u001b[0m",
      "\u001b[1;31mNameError\u001b[0m                                 Traceback (most recent call last)",
      "Cell \u001b[1;32mIn[2], line 1\u001b[0m\n\u001b[1;32m----> 1\u001b[0m d\n",
      "\u001b[1;31mNameError\u001b[0m: name 'd' is not defined"
     ]
    }
   ],
   "source": [
    "d"
   ]
  },
  {
   "cell_type": "code",
   "execution_count": null,
   "id": "1167567e",
   "metadata": {},
   "outputs": [],
   "source": []
  }
 ],
 "metadata": {
  "kernelspec": {
   "display_name": "base",
   "language": "python",
   "name": "python3"
  },
  "language_info": {
   "codemirror_mode": {
    "name": "ipython",
    "version": 3
   },
   "file_extension": ".py",
   "mimetype": "text/x-python",
   "name": "python",
   "nbconvert_exporter": "python",
   "pygments_lexer": "ipython3",
   "version": "3.12.7"
  }
 },
 "nbformat": 4,
 "nbformat_minor": 5
}
