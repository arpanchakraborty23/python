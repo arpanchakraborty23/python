{
 "cells": [
  {
   "cell_type": "code",
   "execution_count": 1,
   "id": "c1f3ec7a",
   "metadata": {},
   "outputs": [],
   "source": [
    "s=\"datascince\""
   ]
  },
  {
   "cell_type": "code",
   "execution_count": 2,
   "id": "fbf5b621",
   "metadata": {},
   "outputs": [
    {
     "data": {
      "text/plain": [
       "'a'"
      ]
     },
     "execution_count": 2,
     "metadata": {},
     "output_type": "execute_result"
    }
   ],
   "source": [
    "s[1]"
   ]
  },
  {
   "cell_type": "code",
   "execution_count": 4,
   "id": "83d81008",
   "metadata": {},
   "outputs": [
    {
     "name": "stdout",
     "output_type": "stream",
     "text": [
      "d\n",
      "a\n",
      "t\n",
      "a\n",
      "s\n",
      "c\n",
      "i\n",
      "n\n",
      "c\n",
      "e\n"
     ]
    }
   ],
   "source": [
    "for i in s:\n",
    "\tprint(i)"
   ]
  },
  {
   "cell_type": "code",
   "execution_count": 4,
   "id": "267138d6",
   "metadata": {},
   "outputs": [
    {
     "name": "stdout",
     "output_type": "stream",
     "text": [
      "01-basic.ipynb\n",
      "02-string.ipynb\n",
      "03-list.ipynb\n",
      "04-tupels.ipynb\n",
      "05-sets.ipynb\n",
      "06-dict.ipynb\n",
      "07-if_else.ipynb\n",
      "08-loops.ipynb\n",
      "basic_q.pdf\n"
     ]
    }
   ],
   "source": [
    "import os\n",
    "path = r\"E:\\Internship\\l&l_ai\\python_intership\\basic\"\n",
    "for file in os.listdir(path):\n",
    "    print(file)"
   ]
  },
  {
   "cell_type": "code",
   "execution_count": 5,
   "id": "da5efcd5",
   "metadata": {},
   "outputs": [],
   "source": [
    "files = os.listdir(path)"
   ]
  },
  {
   "cell_type": "code",
   "execution_count": 6,
   "id": "118cc4cc",
   "metadata": {},
   "outputs": [
    {
     "name": "stdout",
     "output_type": "stream",
     "text": [
      "01-BASIC.IPYNB\n",
      "02-STRING.IPYNB\n",
      "03-LIST.IPYNB\n",
      "04-TUPELS.IPYNB\n",
      "05-SETS.IPYNB\n",
      "06-DICT.IPYNB\n",
      "07-IF_ELSE.IPYNB\n",
      "08-LOOPS.IPYNB\n",
      "BASIC_Q.PDF\n"
     ]
    }
   ],
   "source": [
    "for file in files:\n",
    "    print(file.upper())"
   ]
  },
  {
   "cell_type": "code",
   "execution_count": 7,
   "id": "3ec7095a",
   "metadata": {},
   "outputs": [
    {
     "name": "stdout",
     "output_type": "stream",
     "text": [
      "01-basic.ipynb\n",
      "02-string.ipynb\n",
      "03-list.ipynb\n",
      "04-tupels.ipynb\n",
      "05-sets.ipynb\n",
      "06-dict.ipynb\n",
      "07-if_else.ipynb\n",
      "08-loops.ipynb\n",
      "Basic_q.pdf\n"
     ]
    }
   ],
   "source": [
    "for file in files:\n",
    "    print(file.capitalize())"
   ]
  },
  {
   "cell_type": "code",
   "execution_count": 8,
   "id": "e5e967f2",
   "metadata": {},
   "outputs": [
    {
     "name": "stdout",
     "output_type": "stream",
     "text": [
      "1\n",
      "1\n",
      "1\n",
      "1\n",
      "1\n",
      "1\n",
      "1\n",
      "1\n",
      "0\n"
     ]
    }
   ],
   "source": [
    "for file in files:\n",
    "    print(file.count(\".ipynb\"))"
   ]
  },
  {
   "cell_type": "code",
   "execution_count": 11,
   "id": "9149786a",
   "metadata": {},
   "outputs": [
    {
     "name": "stdout",
     "output_type": "stream",
     "text": [
      "01-basic--->ipynb\n",
      "02-string--->ipynb\n",
      "03-list--->ipynb\n",
      "04-tupels--->ipynb\n",
      "05-sets--->ipynb\n",
      "06-dict--->ipynb\n",
      "07-if_else--->ipynb\n",
      "08-loops--->ipynb\n",
      "basic_q--->pdf\n"
     ]
    }
   ],
   "source": [
    "for file in files:\n",
    "    print(\"--->\".join(file.split(\".\")))"
   ]
  },
  {
   "cell_type": "code",
   "execution_count": null,
   "id": "4996cf98",
   "metadata": {},
   "outputs": [
    {
     "name": "stdout",
     "output_type": "stream",
     "text": [
      "basic_q.pdf\n"
     ]
    }
   ],
   "source": [
    "for file in files:\n",
    "    if file.endswith(\".pdf\"):\n",
    "        print(file)"
   ]
  },
  {
   "cell_type": "code",
   "execution_count": 19,
   "id": "f665a652",
   "metadata": {},
   "outputs": [
    {
     "data": {
      "text/plain": [
       "([],\n",
       " ['01-basic.ipynb',\n",
       "  '02-string.ipynb',\n",
       "  '03-list.ipynb',\n",
       "  '04-tupels.ipynb',\n",
       "  '05-sets.ipynb',\n",
       "  '06-dict.ipynb',\n",
       "  '07-if_else.ipynb',\n",
       "  '08-loops.ipynb',\n",
       "  'basic_q.pdf'])"
      ]
     },
     "execution_count": 19,
     "metadata": {},
     "output_type": "execute_result"
    }
   ],
   "source": [
    "list(os.walk(path))[0][1:3]"
   ]
  },
  {
   "cell_type": "markdown",
   "id": "4ad51557",
   "metadata": {},
   "source": [
    "# List Comprehension\n",
    "* List comprehension is a concise and elegant way to create lists in Python. It provides a more readable and often more efficient alternative to traditional for loops when building lists."
   ]
  },
  {
   "cell_type": "code",
   "execution_count": 1,
   "id": "f737ce27",
   "metadata": {},
   "outputs": [
    {
     "data": {
      "text/plain": [
       "[1, 2, 3, 4, 5, 6, 7, 8, 9, 10]"
      ]
     },
     "execution_count": 1,
     "metadata": {},
     "output_type": "execute_result"
    }
   ],
   "source": [
    "lst = [i for i in range(1,11)]\n",
    "lst"
   ]
  },
  {
   "cell_type": "code",
   "execution_count": 3,
   "id": "9c26bdd7",
   "metadata": {},
   "outputs": [
    {
     "name": "stdout",
     "output_type": "stream",
     "text": [
      "[1, 8, 27, 64, 125]\n"
     ]
    }
   ],
   "source": [
    "l = list(range(1,6))\n",
    "cube_lst = [i**3 for i in l]\n",
    "print(cube_lst)"
   ]
  },
  {
   "cell_type": "code",
   "execution_count": 4,
   "id": "9d7760e6",
   "metadata": {},
   "outputs": [],
   "source": [
    "fruits =['apple', 'banana', 'cherry']\n",
    "length= [len(i) for i in fruits]"
   ]
  },
  {
   "cell_type": "code",
   "execution_count": 5,
   "id": "66f253e6",
   "metadata": {},
   "outputs": [
    {
     "data": {
      "text/plain": [
       "[5, 6, 6]"
      ]
     },
     "execution_count": 5,
     "metadata": {},
     "output_type": "execute_result"
    }
   ],
   "source": [
    "length"
   ]
  },
  {
   "cell_type": "code",
   "execution_count": 7,
   "id": "864c6317",
   "metadata": {},
   "outputs": [
    {
     "name": "stdout",
     "output_type": "stream",
     "text": [
      "[1, 4, 9, 16, 25]\n"
     ]
    }
   ],
   "source": [
    "square = [i**2 for i in l]\n",
    "print(square)"
   ]
  },
  {
   "cell_type": "code",
   "execution_count": 8,
   "id": "428dcc7f",
   "metadata": {},
   "outputs": [
    {
     "name": "stdout",
     "output_type": "stream",
     "text": [
      "[2, 4, 6, 8, 10, 12, 14, 16, 18, 20, 22, 24, 26, 28]\n"
     ]
    }
   ],
   "source": [
    "even = [num for num in range(1,30) if num%2==0]\n",
    "print(even)"
   ]
  },
  {
   "cell_type": "code",
   "execution_count": 10,
   "id": "c102291c",
   "metadata": {},
   "outputs": [
    {
     "name": "stdout",
     "output_type": "stream",
     "text": [
      "['hello', 'world', 'python']\n"
     ]
    }
   ],
   "source": [
    "words = ['hello', 'world', 'python', 'code', 'list']\n",
    "len_4_words =[word for word in words if len(word)> 4]\n",
    "print(len_4_words)"
   ]
  },
  {
   "cell_type": "code",
   "execution_count": 13,
   "id": "09037a55",
   "metadata": {},
   "outputs": [
    {
     "data": {
      "text/plain": [
       "[6, 12, 18, 24, 30]"
      ]
     },
     "execution_count": 13,
     "metadata": {},
     "output_type": "execute_result"
    }
   ],
   "source": [
    "[i for i in range(1,31) if (i%2==0) and (i%3==0)]"
   ]
  },
  {
   "cell_type": "code",
   "execution_count": 22,
   "id": "57f6bcd1",
   "metadata": {},
   "outputs": [
    {
     "data": {
      "text/plain": [
       "['Alice', 'Bob', 'Charlie']"
      ]
     },
     "execution_count": 22,
     "metadata": {},
     "output_type": "execute_result"
    }
   ],
   "source": [
    "d = [('Alice', 25), ('Bob', 30), ('Charlie', 35)]\n",
    "[d[i][0] for i in range(len(d))]"
   ]
  },
  {
   "cell_type": "code",
   "execution_count": 16,
   "id": "11d42f54",
   "metadata": {},
   "outputs": [
    {
     "data": {
      "text/plain": [
       "('Bob', 30)"
      ]
     },
     "execution_count": 16,
     "metadata": {},
     "output_type": "execute_result"
    }
   ],
   "source": [
    "d[1]"
   ]
  },
  {
   "cell_type": "code",
   "execution_count": 40,
   "id": "17624f72",
   "metadata": {},
   "outputs": [
    {
     "data": {
      "text/plain": [
       "[1, 2, 3, 4, 5, 6, 7, 8, 9]"
      ]
     },
     "execution_count": 40,
     "metadata": {},
     "output_type": "execute_result"
    }
   ],
   "source": [
    "m =  [[1, 2, 3], [4, 5, 6], [7, 8, 9]]\n",
    "[j for i in m for j in i]"
   ]
  },
  {
   "cell_type": "code",
   "execution_count": 42,
   "id": "98dc9ee7",
   "metadata": {},
   "outputs": [
    {
     "data": {
      "text/plain": [
       "[(1, 'a'), (1, 'b'), (2, 'a'), (2, 'b'), (3, 'a'), (3, 'b')]"
      ]
     },
     "execution_count": 42,
     "metadata": {},
     "output_type": "execute_result"
    }
   ],
   "source": [
    "l1 = [1, 2, 3] ; l2 = ['a', 'b']\n",
    "[(i,j) for i in l1 for j in l2]"
   ]
  },
  {
   "cell_type": "code",
   "execution_count": 50,
   "id": "710bbf91",
   "metadata": {},
   "outputs": [
    {
     "data": {
      "text/plain": [
       "['Jane', 30]"
      ]
     },
     "execution_count": 50,
     "metadata": {},
     "output_type": "execute_result"
    }
   ],
   "source": [
    "d2 = [{'name': 'John', 'age': 25}, {'name': 'Jane', 'age': 30}]\n",
    "[i[k]  for i in d2 for k,v in i.items() if i['age']>25]"
   ]
  },
  {
   "cell_type": "code",
   "execution_count": 56,
   "id": "7a092e68",
   "metadata": {},
   "outputs": [
    {
     "data": {
      "text/plain": [
       "['H', 'W', 'P', 'P', 'L', 'C']"
      ]
     },
     "execution_count": 56,
     "metadata": {},
     "output_type": "execute_result"
    }
   ],
   "source": [
    "l3 = ['Hello World', 'Python Programming', 'List Comprehension']\n",
    "[j[0] for word in l3 for j in word.split(\" \") ]"
   ]
  },
  {
   "cell_type": "code",
   "execution_count": 65,
   "id": "234ae650",
   "metadata": {},
   "outputs": [
    {
     "data": {
      "text/plain": [
       "51"
      ]
     },
     "execution_count": 65,
     "metadata": {},
     "output_type": "execute_result"
    }
   ],
   "source": [
    "len([i**2 for i in range(101) if (i**2 )%2==0 ])"
   ]
  },
  {
   "cell_type": "code",
   "execution_count": 94,
   "id": "fb747116",
   "metadata": {},
   "outputs": [
    {
     "ename": "TypeError",
     "evalue": "list indices must be integers or slices, not list",
     "output_type": "error",
     "traceback": [
      "\u001b[1;31m---------------------------------------------------------------------------\u001b[0m",
      "\u001b[1;31mTypeError\u001b[0m                                 Traceback (most recent call last)",
      "Cell \u001b[1;32mIn[94], line 2\u001b[0m\n\u001b[0;32m      1\u001b[0m t \u001b[38;5;241m=\u001b[39m  [[\u001b[38;5;241m1\u001b[39m, \u001b[38;5;241m2\u001b[39m, \u001b[38;5;241m3\u001b[39m], [\u001b[38;5;241m4\u001b[39m, \u001b[38;5;241m5\u001b[39m, \u001b[38;5;241m6\u001b[39m]]\n\u001b[1;32m----> 2\u001b[0m [[t[i][i],t[\u001b[38;5;241m1\u001b[39m][\u001b[38;5;241m0\u001b[39m]]\u001b[38;5;28;01mfor\u001b[39;00m i \u001b[38;5;129;01min\u001b[39;00m t]\n",
      "\u001b[1;31mTypeError\u001b[0m: list indices must be integers or slices, not list"
     ]
    }
   ],
   "source": [
    "t =  [[1, 2, 3], [4, 5, 6]]\n",
    "[[t[i][i],t[1][0]]for i in t]"
   ]
  },
  {
   "cell_type": "code",
   "execution_count": null,
   "id": "9104dc25",
   "metadata": {},
   "outputs": [
    {
     "name": "stdout",
     "output_type": "stream",
     "text": [
      "[1, 2, 3]|[4, 5, 6]|[4, 5, 6]|[4, 5, 6]|"
     ]
    }
   ],
   "source": [
    "for i in range(len(t)):\n",
    "    \n"
   ]
  },
  {
   "cell_type": "code",
   "execution_count": 118,
   "id": "2d2dffe9",
   "metadata": {},
   "outputs": [
    {
     "data": {
      "text/plain": [
       "['QUI', 'BRO', 'JUM']"
      ]
     },
     "execution_count": 118,
     "metadata": {},
     "output_type": "execute_result"
    }
   ],
   "source": [
    "s =  \"The quick brown fox jumps\"\n",
    "[i.upper()[:3] for i in s.split() if len(i) >3 ]"
   ]
  },
  {
   "cell_type": "code",
   "execution_count": 129,
   "id": "a5db4ed0",
   "metadata": {},
   "outputs": [
    {
     "data": {
      "text/plain": [
       "['file1', 'image', 'document', 'script']"
      ]
     },
     "execution_count": 129,
     "metadata": {},
     "output_type": "execute_result"
    }
   ],
   "source": [
    "f = ['file1.txt', 'image.jpg', 'document.pdf', 'script.py']\n",
    "[name.split(\".\")[0] for name in f ]"
   ]
  },
  {
   "cell_type": "code",
   "execution_count": 130,
   "id": "87ae7a9e",
   "metadata": {},
   "outputs": [
    {
     "data": {
      "text/plain": [
       "[[1, 2, 3], [4, 5, 6], [7, 8, 9]]"
      ]
     },
     "execution_count": 130,
     "metadata": {},
     "output_type": "execute_result"
    }
   ],
   "source": [
    "m"
   ]
  },
  {
   "cell_type": "code",
   "execution_count": 131,
   "id": "dedb0a2b",
   "metadata": {},
   "outputs": [
    {
     "data": {
      "text/plain": [
       "[4, 5, 6]"
      ]
     },
     "execution_count": 131,
     "metadata": {},
     "output_type": "execute_result"
    }
   ],
   "source": [
    "m[1]"
   ]
  },
  {
   "cell_type": "markdown",
   "id": "c9b2fcf8",
   "metadata": {},
   "source": [
    "# Dictionary comprehensions \n",
    "* Dictionary comprehensions work similarly to list comprehensions but create dictionaries instead of lists. They're a concise way to build dictionaries from iterables."
   ]
  },
  {
   "cell_type": "code",
   "execution_count": 132,
   "id": "ca9424cf",
   "metadata": {},
   "outputs": [
    {
     "data": {
      "text/plain": [
       "{'cat': 3, 'dog': 3, 'elephant': 8, 'mouse': 5}"
      ]
     },
     "execution_count": 132,
     "metadata": {},
     "output_type": "execute_result"
    }
   ],
   "source": [
    "animal = ['cat', 'dog', 'elephant', 'mouse']\n",
    "{ani:len(ani) for ani in animal}"
   ]
  },
  {
   "cell_type": "code",
   "execution_count": 133,
   "id": "e319a5ba",
   "metadata": {},
   "outputs": [
    {
     "data": {
      "text/plain": [
       "{'a': 10, 'b': 20, 'c': 30}"
      ]
     },
     "execution_count": 133,
     "metadata": {},
     "output_type": "execute_result"
    }
   ],
   "source": [
    "d = {'a': 1, 'b': 2, 'c': 3}\n",
    "{k:v*10 for k,v in d.items()}"
   ]
  },
  {
   "cell_type": "code",
   "execution_count": 134,
   "id": "126acc23",
   "metadata": {},
   "outputs": [
    {
     "data": {
      "text/plain": [
       "[1, 2, 3, 4, 5]"
      ]
     },
     "execution_count": 134,
     "metadata": {},
     "output_type": "execute_result"
    }
   ],
   "source": [
    "l"
   ]
  },
  {
   "cell_type": "code",
   "execution_count": 138,
   "id": "9bddac50",
   "metadata": {},
   "outputs": [
    {
     "data": {
      "text/plain": [
       "{1: 'odd', 2: 'even', 3: 'odd', 4: 'even', 5: 'odd'}"
      ]
     },
     "execution_count": 138,
     "metadata": {},
     "output_type": "execute_result"
    }
   ],
   "source": [
    "{v: ('even' if v % 2 == 0 else 'odd') for v in l}"
   ]
  },
  {
   "cell_type": "code",
   "execution_count": 140,
   "id": "a933d460",
   "metadata": {},
   "outputs": [
    {
     "data": {
      "text/plain": [
       "{'apple': 5, 'cherry': 8}"
      ]
     },
     "execution_count": 140,
     "metadata": {},
     "output_type": "execute_result"
    }
   ],
   "source": [
    "d3 = {'apple': 5, 'banana': 2, 'cherry': 8, 'date': 1}\n",
    "{k:v for k,v in d3.items() if v>3}"
   ]
  },
  {
   "cell_type": "code",
   "execution_count": 144,
   "id": "2b2f43d8",
   "metadata": {},
   "outputs": [
    {
     "data": {
      "text/plain": [
       "{'Alice': 'b', 'Bob': 'a', 'Charlie': 'c', 'Diana': 'a'}"
      ]
     },
     "execution_count": 144,
     "metadata": {},
     "output_type": "execute_result"
    }
   ],
   "source": [
    "d3 = {'Alice': 85, 'Bob': 92, 'Charlie': 78, 'Diana': 96}\n",
    "{k: (\"a\" if v >= 90 else (\"b\" if v >= 80 else \"c\")) for k, v in d3.items()}"
   ]
  },
  {
   "cell_type": "code",
   "execution_count": 148,
   "id": "225f669c",
   "metadata": {},
   "outputs": [
    {
     "data": {
      "text/plain": [
       "{'name': 'John', 'age': 25, 'city': 'NYC'}"
      ]
     },
     "execution_count": 148,
     "metadata": {},
     "output_type": "execute_result"
    }
   ],
   "source": [
    "v =['John', 25, 'NYC'] ;  k =['name', 'age', 'city']\n",
    "{k[i]:v[i] for i in range(len(v))}"
   ]
  },
  {
   "cell_type": "code",
   "execution_count": 158,
   "id": "4c7b9425",
   "metadata": {},
   "outputs": [
    {
     "data": {
      "text/plain": [
       "{'even': 196}"
      ]
     },
     "execution_count": 158,
     "metadata": {},
     "output_type": "execute_result"
    }
   ],
   "source": [
    "{\"even\":i**2 for i in range(1, 15) if i%2==0}"
   ]
  },
  {
   "cell_type": "code",
   "execution_count": 164,
   "id": "70096352",
   "metadata": {},
   "outputs": [
    {
     "data": {
      "text/plain": [
       "(('P', 'n'), ('H', 'o'), ('C', 'e'), ('W', 'd'))"
      ]
     },
     "execution_count": 164,
     "metadata": {},
     "output_type": "execute_result"
    }
   ],
   "source": [
    "t = ['Hello', 'World', 'Python', 'Code']\n",
    "tuple(({(i[0],i[-1]) for i in t}))"
   ]
  },
  {
   "cell_type": "code",
   "execution_count": null,
   "id": "e57b2673",
   "metadata": {},
   "outputs": [],
   "source": []
  }
 ],
 "metadata": {
  "kernelspec": {
   "display_name": "base",
   "language": "python",
   "name": "python3"
  },
  "language_info": {
   "codemirror_mode": {
    "name": "ipython",
    "version": 3
   },
   "file_extension": ".py",
   "mimetype": "text/x-python",
   "name": "python",
   "nbconvert_exporter": "python",
   "pygments_lexer": "ipython3",
   "version": "3.12.7"
  }
 },
 "nbformat": 4,
 "nbformat_minor": 5
}
