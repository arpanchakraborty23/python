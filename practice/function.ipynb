{
 "cells": [
  {
   "cell_type": "code",
   "execution_count": 1,
   "id": "ac086985",
   "metadata": {},
   "outputs": [
    {
     "data": {
      "text/plain": [
       "45"
      ]
     },
     "execution_count": 1,
     "metadata": {},
     "output_type": "execute_result"
    }
   ],
   "source": [
    "# calculate area\n",
    "def calculate_area(l,w):\n",
    "\treturn l *w\n",
    "\n",
    "calculate_area(5,9)"
   ]
  },
  {
   "cell_type": "code",
   "execution_count": 3,
   "id": "b4bbd7f3",
   "metadata": {},
   "outputs": [
    {
     "data": {
      "text/plain": [
       "25"
      ]
     },
     "execution_count": 3,
     "metadata": {},
     "output_type": "execute_result"
    }
   ],
   "source": [
    "# exponent\n",
    "def power(value,exponent=2):\n",
    "\treturn value ** exponent\n",
    "\n",
    "power(5)"
   ]
  },
  {
   "cell_type": "code",
   "execution_count": 4,
   "id": "7a750d21",
   "metadata": {},
   "outputs": [
    {
     "data": {
      "text/plain": [
       "125"
      ]
     },
     "execution_count": 4,
     "metadata": {},
     "output_type": "execute_result"
    }
   ],
   "source": [
    "power(5,3)"
   ]
  },
  {
   "cell_type": "code",
   "execution_count": 7,
   "id": "5ccba932",
   "metadata": {},
   "outputs": [],
   "source": [
    "# squre\n",
    "def squre(v):\n",
    "\treturn v**2\n",
    "\n",
    "squre_lambda = lambda x:x**2"
   ]
  },
  {
   "cell_type": "code",
   "execution_count": 9,
   "id": "22f2ce13",
   "metadata": {},
   "outputs": [
    {
     "name": "stdout",
     "output_type": "stream",
     "text": [
      "25\n",
      "2704\n"
     ]
    }
   ],
   "source": [
    "print(squre(5))\n",
    "print(squre_lambda(52))"
   ]
  },
  {
   "cell_type": "code",
   "execution_count": 16,
   "id": "7c0f7729",
   "metadata": {},
   "outputs": [
    {
     "data": {
      "text/plain": [
       "(1, 4, 9, 16)"
      ]
     },
     "execution_count": 16,
     "metadata": {},
     "output_type": "execute_result"
    }
   ],
   "source": [
    "# apply map\n",
    "l =list(range(1,5))\n",
    "tuple(map(squre_lambda,l))"
   ]
  },
  {
   "cell_type": "code",
   "execution_count": 17,
   "id": "66c2bede",
   "metadata": {},
   "outputs": [
    {
     "data": {
      "text/plain": [
       "[1, 4, 9, 16]"
      ]
     },
     "execution_count": 17,
     "metadata": {},
     "output_type": "execute_result"
    }
   ],
   "source": [
    "list(map(squre,l))"
   ]
  },
  {
   "cell_type": "code",
   "execution_count": 21,
   "id": "7ac45b6d",
   "metadata": {},
   "outputs": [],
   "source": [
    "## add \n",
    "def add(x ,y):\n",
    "\treturn x + y\n",
    "\n",
    "add_lambda = lambda x , y :x + y"
   ]
  },
  {
   "cell_type": "code",
   "execution_count": 20,
   "id": "de9162a4",
   "metadata": {},
   "outputs": [
    {
     "data": {
      "text/plain": [
       "14"
      ]
     },
     "execution_count": 20,
     "metadata": {},
     "output_type": "execute_result"
    }
   ],
   "source": [
    "add_lambda(5,9)"
   ]
  },
  {
   "cell_type": "code",
   "execution_count": 22,
   "id": "0da8c80a",
   "metadata": {},
   "outputs": [
    {
     "data": {
      "text/plain": [
       "11"
      ]
     },
     "execution_count": 22,
     "metadata": {},
     "output_type": "execute_result"
    }
   ],
   "source": [
    "add(5,6)"
   ]
  },
  {
   "cell_type": "code",
   "execution_count": 23,
   "id": "9dffc61a",
   "metadata": {},
   "outputs": [
    {
     "data": {
      "text/plain": [
       "[2, 7, 9, 13]"
      ]
     },
     "execution_count": 23,
     "metadata": {},
     "output_type": "execute_result"
    }
   ],
   "source": [
    "# apply on list\n",
    "l2 = [1,5,6,9]\n",
    "list(map(add,l,l2))"
   ]
  },
  {
   "cell_type": "code",
   "execution_count": 24,
   "id": "8ccc9038",
   "metadata": {},
   "outputs": [
    {
     "data": {
      "text/plain": [
       "[2, 7, 9, 13]"
      ]
     },
     "execution_count": 24,
     "metadata": {},
     "output_type": "execute_result"
    }
   ],
   "source": [
    "list(map(add_lambda,l,l2))"
   ]
  },
  {
   "cell_type": "code",
   "execution_count": 25,
   "id": "5c44108b",
   "metadata": {},
   "outputs": [],
   "source": [
    "# return even only\n",
    "def even(x):\n",
    "\tif x%2==0:\n",
    "\t\treturn x\n",
    "\n",
    "lambda_even = lambda x: x%2==0"
   ]
  },
  {
   "cell_type": "code",
   "execution_count": 29,
   "id": "a2f44d0b",
   "metadata": {},
   "outputs": [
    {
     "data": {
      "text/plain": [
       "(2, 4, 6, 8, 10, 12, 14, 16, 18, 20, 22, 24, 26, 28)"
      ]
     },
     "execution_count": 29,
     "metadata": {},
     "output_type": "execute_result"
    }
   ],
   "source": [
    "lst = list(range(1,30))\n",
    "tuple(filter(even,lst))"
   ]
  },
  {
   "cell_type": "code",
   "execution_count": 31,
   "id": "f077c389",
   "metadata": {},
   "outputs": [
    {
     "data": {
      "text/plain": [
       "{2, 4, 6, 8, 10, 12, 14, 16, 18, 20, 22, 24, 26, 28}"
      ]
     },
     "execution_count": 31,
     "metadata": {},
     "output_type": "execute_result"
    }
   ],
   "source": [
    "set(filter(lambda_even,lst))"
   ]
  },
  {
   "cell_type": "code",
   "execution_count": null,
   "id": "9d648030",
   "metadata": {},
   "outputs": [],
   "source": []
  }
 ],
 "metadata": {
  "kernelspec": {
   "display_name": "base",
   "language": "python",
   "name": "python3"
  },
  "language_info": {
   "codemirror_mode": {
    "name": "ipython",
    "version": 3
   },
   "file_extension": ".py",
   "mimetype": "text/x-python",
   "name": "python",
   "nbconvert_exporter": "python",
   "pygments_lexer": "ipython3",
   "version": "3.12.7"
  }
 },
 "nbformat": 4,
 "nbformat_minor": 5
}
