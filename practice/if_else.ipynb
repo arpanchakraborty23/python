{
 "cells": [
  {
   "cell_type": "code",
   "execution_count": 1,
   "id": "afac709e",
   "metadata": {},
   "outputs": [
    {
     "name": "stdout",
     "output_type": "stream",
     "text": [
      "Evev\n"
     ]
    }
   ],
   "source": [
    "num = 2\n",
    "print(\"Evev\") if num%2 ==0 else print(\"Odd\")"
   ]
  },
  {
   "cell_type": "code",
   "execution_count": 2,
   "id": "bc0c7082",
   "metadata": {},
   "outputs": [
    {
     "name": "stdout",
     "output_type": "stream",
     "text": [
      "Negative\n"
     ]
    }
   ],
   "source": [
    "num = -1\n",
    "print(\"Negative\") if num < 0 else print(\"Positive\")"
   ]
  },
  {
   "cell_type": "code",
   "execution_count": 9,
   "id": "d530c552",
   "metadata": {},
   "outputs": [
    {
     "name": "stdout",
     "output_type": "stream",
     "text": [
      "Leap year\n"
     ]
    }
   ],
   "source": [
    "yrs = 2028\n",
    "if yrs%4 ==0 and yrs %100 !=0:\n",
    "\tprint(\"Leap year\") \n",
    "else :\n",
    "\tprint(\"Not Leap year\")"
   ]
  },
  {
   "cell_type": "code",
   "execution_count": 13,
   "id": "d30c5c9c",
   "metadata": {},
   "outputs": [],
   "source": [
    "a =1; b=2 ;c =3"
   ]
  },
  {
   "cell_type": "code",
   "execution_count": 14,
   "id": "416bbe00",
   "metadata": {},
   "outputs": [
    {
     "name": "stdout",
     "output_type": "stream",
     "text": [
      "It is a Aramstrong Number\n"
     ]
    }
   ],
   "source": [
    "if a + b == c:\n",
    "\tprint(\"It is a Aramstrong Number\")"
   ]
  },
  {
   "cell_type": "code",
   "execution_count": 34,
   "id": "b75f7929",
   "metadata": {},
   "outputs": [
    {
     "name": "stdout",
     "output_type": "stream",
     "text": [
      "153\n",
      "Not Aramstrong\n"
     ]
    }
   ],
   "source": [
    "input_num = (input())\n",
    "num = int(num)\n",
    "print(num)\n",
    "count = 0\n",
    "for i in range(len(input_num)):\n",
    "\tcount +=int(input_num[i])**3\n",
    "\n",
    "if num == count:\n",
    "\tprint(\"it is Aramstrong num\")\n",
    "else :\n",
    "\tprint(\"Not Aramstrong\")"
   ]
  },
  {
   "cell_type": "code",
   "execution_count": 24,
   "id": "4adea40d",
   "metadata": {},
   "outputs": [
    {
     "data": {
      "text/plain": [
       "153"
      ]
     },
     "execution_count": 24,
     "metadata": {},
     "output_type": "execute_result"
    }
   ],
   "source": [
    "count"
   ]
  },
  {
   "cell_type": "code",
   "execution_count": 36,
   "id": "1e57486e",
   "metadata": {},
   "outputs": [
    {
     "name": "stdout",
     "output_type": "stream",
     "text": [
      "612.0\n"
     ]
    }
   ],
   "source": [
    "num1 = float(input(\"Enter the number\"))\n",
    "num2 = float(input(\"Enter the number\"))\n",
    "operator = input(\"Enter oparation Symbol\")\n",
    "\n",
    "if operator ==\"+\":\n",
    "\tprint(num1 + num2)\n",
    "elif operator ==\"*\":\n",
    "\tprint( num * num)\n",
    "elif operator ==\"/\":\n",
    "\tprint(num1 / num2)\n",
    "else :\n",
    "\tprint(num1 - num2)"
   ]
  },
  {
   "cell_type": "code",
   "execution_count": 38,
   "id": "d107db68",
   "metadata": {},
   "outputs": [
    {
     "name": "stdout",
     "output_type": "stream",
     "text": [
      "65 You are a Senior citizen\n"
     ]
    }
   ],
   "source": [
    "# Age Calculator\n",
    "age = int(input())\n",
    "if age >=0 and age<=12:\n",
    "\tprint(f\"{age} your a child\")\n",
    "elif age >=12 and age<=17:\n",
    "\tprint(f\"{age} you are a teenager\")\n",
    "elif age >=17 and age<=60:\n",
    "\tprint(f\"{age} Your a Adult\")\n",
    "else:\n",
    "\tprint(f\"{age} You are a Senior citizen\")\n"
   ]
  },
  {
   "cell_type": "code",
   "execution_count": 52,
   "id": "29ad5a9a",
   "metadata": {},
   "outputs": [
    {
     "name": "stdout",
     "output_type": "stream",
     "text": [
      "Login success\n"
     ]
    }
   ],
   "source": [
    "user = input()\n",
    "password = input()\n",
    "db=[\"admin\",\"12345\"]\n",
    "\n",
    "if user not in db :\n",
    "\tprint(\"Register First\")\n",
    "else:\n",
    "\tprint(\"Login success\")\n"
   ]
  },
  {
   "cell_type": "code",
   "execution_count": 53,
   "id": "be28e09b",
   "metadata": {},
   "outputs": [
    {
     "data": {
      "text/plain": [
       "['admin', '12345']"
      ]
     },
     "execution_count": 53,
     "metadata": {},
     "output_type": "execute_result"
    }
   ],
   "source": [
    "db"
   ]
  },
  {
   "cell_type": "code",
   "execution_count": 75,
   "id": "258bc6f3",
   "metadata": {},
   "outputs": [
    {
     "name": "stdout",
     "output_type": "stream",
     "text": [
      "OverWeight\n"
     ]
    }
   ],
   "source": [
    "# Bmi calculator\n",
    "height = float(input(\"Enter your Height\"))/100\n",
    "weight = float(input(\"Enter Your Weight\"))\n",
    "\n",
    "result =(weight/(height* height))\n",
    "\n",
    "if result <=18.5:\n",
    "\tprint(\"UnderWight\")\n",
    "elif result >=18.5 and result <=24.9: print(\"Normal\")\n",
    "elif result >=25 and result <= 29.9 : print(\"OverWeight\")\n",
    "else: print(\"Obeses\")"
   ]
  },
  {
   "cell_type": "code",
   "execution_count": 76,
   "id": "1dbab1ed",
   "metadata": {},
   "outputs": [
    {
     "data": {
      "text/plain": [
       "25.390624999999996"
      ]
     },
     "execution_count": 76,
     "metadata": {},
     "output_type": "execute_result"
    }
   ],
   "source": [
    "result"
   ]
  },
  {
   "cell_type": "code",
   "execution_count": 79,
   "id": "23bd31ce",
   "metadata": {},
   "outputs": [
    {
     "name": "stdout",
     "output_type": "stream",
     "text": [
      "spring\n"
     ]
    }
   ],
   "source": [
    "#  Season Detector\n",
    "season = {\"winter\" :[12,1,2],\"spring\":[3,4,5],\"summer\":[6,7,8],\"fall\":[9,10,11]}\n",
    "input = 5\n",
    "\n",
    "for k,v in season.items():\n",
    "\tif input in season[k]:\n",
    "\t\tprint(k)"
   ]
  },
  {
   "cell_type": "code",
   "execution_count": 95,
   "id": "68456df1",
   "metadata": {},
   "outputs": [
    {
     "name": "stdout",
     "output_type": "stream",
     "text": [
      "strong\n"
     ]
    }
   ],
   "source": [
    "password = \"Ac@55255252\"\n",
    "\n",
    "if len(password)>8:\n",
    "\tif any(chr.isupper() for chr in password ):\n",
    "\t\tif any(chr.islower() for chr in password):\n",
    "\t\t\tif any(chr.isdigit() for chr in password):\n",
    "\t\t\t\tprint(\"strong\")\n",
    "else:\n",
    "\tprint(\"password is too small\")\n",
    "\t"
   ]
  },
  {
   "cell_type": "code",
   "execution_count": 80,
   "id": "b3518ee8",
   "metadata": {},
   "outputs": [
    {
     "data": {
      "text/plain": [
       "True"
      ]
     },
     "execution_count": 80,
     "metadata": {},
     "output_type": "execute_result"
    }
   ],
   "source": [
    "\"A\".isalpha()"
   ]
  },
  {
   "cell_type": "code",
   "execution_count": 83,
   "id": "930c033d",
   "metadata": {},
   "outputs": [
    {
     "ename": "AttributeError",
     "evalue": "'str' object has no attribute 'iscapsize'",
     "output_type": "error",
     "traceback": [
      "\u001b[1;31m---------------------------------------------------------------------------\u001b[0m",
      "\u001b[1;31mAttributeError\u001b[0m                            Traceback (most recent call last)",
      "Cell \u001b[1;32mIn[83], line 1\u001b[0m\n\u001b[1;32m----> 1\u001b[0m \u001b[38;5;124m\"\u001b[39m\u001b[38;5;124mAnvvc\u001b[39m\u001b[38;5;124m\"\u001b[39m\u001b[38;5;241m.\u001b[39miscapsize()\n",
      "\u001b[1;31mAttributeError\u001b[0m: 'str' object has no attribute 'iscapsize'"
     ]
    }
   ],
   "source": [
    "\"Anvvc\".iscapsize()"
   ]
  },
  {
   "cell_type": "code",
   "execution_count": 96,
   "id": "e06003b8",
   "metadata": {},
   "outputs": [
    {
     "data": {
      "text/plain": [
       "5"
      ]
     },
     "execution_count": 96,
     "metadata": {},
     "output_type": "execute_result"
    }
   ],
   "source": [
    "import random\n",
    "random.choice([1,2,3,5])"
   ]
  },
  {
   "cell_type": "code",
   "execution_count": 104,
   "id": "61bf08ce",
   "metadata": {},
   "outputs": [
    {
     "name": "stdout",
     "output_type": "stream",
     "text": [
      "User Win\n"
     ]
    }
   ],
   "source": [
    "# Rock Paper Scissors\n",
    "user = \"rock\"\n",
    "choice_option = ['rock','paper','seasor']\n",
    "computer = random.choice(choice_option)\n",
    "\n",
    "if user == computer:\n",
    "\tprint(\"Draw\")\n",
    "elif (user =='rock' and computer ==\"paper\") or (user == \"paper\" and computer ==\"seasor\") or (user == \"seasor\" and computer == \"rock\"):\n",
    "\tprint(\"User Win\")\n",
    "else :\n",
    "\tprint(\"Computer win\")"
   ]
  },
  {
   "cell_type": "code",
   "execution_count": 116,
   "id": "9fab7c64",
   "metadata": {},
   "outputs": [],
   "source": [
    "# Shipping Cost Calculator\n",
    "distance = 1500\n",
    "user_delivery = \"normal\"\n",
    "user_packgetype =\"fragile\"\n"
   ]
  },
  {
   "cell_type": "code",
   "execution_count": 117,
   "id": "b09cdd35",
   "metadata": {},
   "outputs": [
    {
     "name": "stdout",
     "output_type": "stream",
     "text": [
      "Your shipping cost will be: 60360\n"
     ]
    }
   ],
   "source": [
    "delivery = {\"normal\":60,'express':120,\"overnight\": 300}\n",
    "packegetype = {\"regular\":100, \"fragile\":300,\"hazardous\":500}\n",
    "\n",
    "\n",
    "\n",
    "if distance<=1000:\n",
    "\tdelivery_cost = delivery[user_delivery]\n",
    "\tpackege_cost =  packegetype[user_packgetype]\n",
    "\tresult = 20*distance + delivery_cost + packege_cost\n",
    "\tprint(f\"Your shipping cost will be: {result}\")\n",
    "\n",
    "elif distance >=1000 and distance <=2500:\n",
    "\tdelivery_cost = delivery[user_delivery]\n",
    "\tpackege_cost =  packegetype[user_packgetype]\n",
    "\tresult = 40*distance + delivery_cost + packege_cost\n",
    "\tprint(f\"Your shipping cost will be: {result}\")\n",
    "\n",
    "else :\n",
    "\tdelivery_cost = delivery[user_delivery]\n",
    "\tpackege_cost =  packegetype[user_packgetype]\n",
    "\tresult = 60*distance + delivery_cost + packege_cost\n",
    "\tprint(f\"Your shipping cost will be: {result}\")"
   ]
  },
  {
   "cell_type": "code",
   "execution_count": 118,
   "id": "f3960bbf",
   "metadata": {},
   "outputs": [
    {
     "name": "stdout",
     "output_type": "stream",
     "text": [
      "fail\n"
     ]
    }
   ],
   "source": [
    "#  Student Grade and Attendance System\n",
    "attendence=65; grade= 50\n",
    "\n",
    "if grade ==\"A\" or grade ==\"B\":\n",
    "\tif attendence>=80:\n",
    "\t\tprint(\"Excellent\")\n",
    "\telif attendence <=80 and attendence>=70:\n",
    "\t\tprint(\"Good\")\n",
    "\telse :\n",
    "\t\tprint(\"Warning\")\n",
    "elif grade ==\"c\":\n",
    "\tif attendence<70 and attendence>=50:\n",
    "\t\tprint(\"Parents call\")\n",
    "else:\n",
    "\tprint(\"fail\")"
   ]
  },
  {
   "cell_type": "code",
   "execution_count": 124,
   "id": "46877501",
   "metadata": {},
   "outputs": [
    {
     "name": "stdout",
     "output_type": "stream",
     "text": [
      "ticket price 320.0\n"
     ]
    }
   ],
   "source": [
    "# Movie Ticket Pricing\n",
    "day = \"weakend\"\n",
    "time ='night'\n",
    "\n",
    "price =400\n",
    "if day ==\"weakend\":\n",
    "\tif age <= 60 and time ==\"morning\":\n",
    "\t\tresult = (price - (price/100)*10)\n",
    "\t\tprint(\"ticket price {}\".format(result))\n",
    "\telif age <= 60 and time ==\"afternoon\":\n",
    "\t\tresult = (price - (price/100)*15)\n",
    "\t\tprint(\"ticket price {}\".format(result))\n",
    "\telse :\n",
    "\t\tresult =(price - (price/100)*20)\n",
    "\t\tprint(\"ticket price {}\".format(result))\n",
    "else :\n",
    "\tresult =(price - (price/100)*5)\n",
    "\tprint(\"ticket price {}\".format(result))"
   ]
  },
  {
   "cell_type": "code",
   "execution_count": 133,
   "id": "3e0f369e",
   "metadata": {},
   "outputs": [],
   "source": [
    "# Bank Loan Approval System\n",
    "credite_score = 600\n",
    "income = 30\n",
    "employment = \"full-time\""
   ]
  },
  {
   "cell_type": "code",
   "execution_count": null,
   "id": "fe1c7bbf",
   "metadata": {},
   "outputs": [
    {
     "name": "stdout",
     "output_type": "stream",
     "text": [
      "Warning\n"
     ]
    }
   ],
   "source": [
    "if credite_score > 750:\n",
    "\tif (employment==\"full-time\" and income >30) or (employment==\"part-time\" and income >30):\n",
    "\t\tprint(\"High score .Loan Approved\")\n",
    "\telse :\n",
    "\t\tprint(\"High score but income not meet the condition \")\n",
    "\n",
    "elif credite_score <=750 and credite_score >= 650:\n",
    "\tif (employment==\"full-time\" and income >30) or (employment==\"full-time\" and income <30):\n",
    "\t\tprint(\"Fair score .Loan Approved\")\n",
    "\telse :\n",
    "\t\tprint(\"eligble\")\n",
    "\n",
    "elif credite_score<=650 and credite_score>=500:\n",
    "\tif (employment==\"full-time\" and income >30):\n",
    "\t\tprint(\"Decent score .Loan Approve with bond\")\n",
    "\telse :\n",
    "\t\tprint(\"Warning\")\n",
    "\t\t\n",
    "else:\n",
    "\tprint(\"No Loan\")"
   ]
  },
  {
   "cell_type": "code",
   "execution_count": 2,
   "id": "a50b42ae",
   "metadata": {},
   "outputs": [
    {
     "name": "stdout",
     "output_type": "stream",
     "text": [
      "{1: 'mon', 2: 'tue', 3: 'wed', 4: 'thus', 5: 'fri', 6: 'sat', 7: 'sun'}\n",
      "Today is :fri\n"
     ]
    }
   ],
   "source": [
    "# Day of the Week\n",
    "days = {\"mon\":1,\"tue\":2,\"wed\":3,\"thus\":4,\"fri\":5,\"sat\":6,\"sun\":7}\n",
    "day =  {v:k for k,v in days.items()}\n",
    "print(day)\n",
    "\n",
    "num = int(input(\"Enter The No\"))\n",
    "\n",
    "if num>= 1 and num <= 7:\n",
    "    print(f\"Today is :{day[num]}\")\n",
    "else:\n",
    "    print(\"Invalid Number\")"
   ]
  },
  {
   "cell_type": "code",
   "execution_count": 3,
   "id": "7cf857c3",
   "metadata": {},
   "outputs": [
    {
     "name": "stdout",
     "output_type": "stream",
     "text": [
      "latte\n"
     ]
    }
   ],
   "source": [
    "# Coffee Shop Order System\n",
    "choice = input(\"Enter your order\")\n",
    "temp = input(\"Enter the Temp\")\n",
    "manu_op = input()\n",
    "\n",
    "if choice == \"coffe\":\n",
    "    if temp == \"cold\":\n",
    "        if manu_op == \"americano\":\n",
    "            print(\"americano coffe\")\n",
    "        elif manu_op == \"latte\":\n",
    "            print(\"latte\")\n",
    "        elif manu_op == \"espresso\":\n",
    "            print(\"espresso coffe\")\n",
    "    else:\n",
    "        print(\"Hot coffe\")\n",
    "elif choice == \"tea\":\n",
    "    print(\"One Cup Hot Tea\")\n",
    "elif choice == \"chocolate\":\n",
    "    print(\"hot chocolate\")\n",
    "else:\n",
    "    print(f\"Sorry! {choice} not in the manu\")"
   ]
  },
  {
   "cell_type": "code",
   "execution_count": 10,
   "id": "9d9b2578",
   "metadata": {},
   "outputs": [],
   "source": [
    "#  Employee Payroll System \n",
    "hours_worked = int(input(\"Enter the worked hours\"))\n",
    "position = input(\"Enter your Position:\")\n",
    "position_rate = {\"sde\":200,\"ds\":250,\"mle\":300,\"cloud\":200}\n",
    "bonus = \"10000\"\n",
    "absence = input(\"No of data absance\")"
   ]
  },
  {
   "cell_type": "code",
   "execution_count": 11,
   "id": "c33f5a88",
   "metadata": {},
   "outputs": [
    {
     "name": "stdout",
     "output_type": "stream",
     "text": [
      "Your monthly salary 280000\n"
     ]
    }
   ],
   "source": [
    "if hours_worked >= 44:\n",
    "    day_works = 20 - int(absence)\n",
    "    result = (position_rate[position] * hours_worked) * day_works + int(bonus)\n",
    "    print(f\"Your monthly salary {result}\")\n",
    "\n",
    "elif hours_worked >= 30 and hours_worked <= 44:\n",
    "    day_works = 20 - int(absence)\n",
    "    bonus_val = int(bonus) - 2000\n",
    "    result = (position_rate[position] * hours_worked) * day_works + bonus_val\n",
    "    print(f\"Your monthly salary {result}\")\n",
    "else:\n",
    "    print(\"No Salary\")"
   ]
  },
  {
   "cell_type": "code",
   "execution_count": null,
   "id": "f8a27ff4",
   "metadata": {},
   "outputs": [],
   "source": []
  }
 ],
 "metadata": {
  "kernelspec": {
   "display_name": "base",
   "language": "python",
   "name": "python3"
  },
  "language_info": {
   "codemirror_mode": {
    "name": "ipython",
    "version": 3
   },
   "file_extension": ".py",
   "mimetype": "text/x-python",
   "name": "python",
   "nbconvert_exporter": "python",
   "pygments_lexer": "ipython3",
   "version": "3.12.7"
  }
 },
 "nbformat": 4,
 "nbformat_minor": 5
}
