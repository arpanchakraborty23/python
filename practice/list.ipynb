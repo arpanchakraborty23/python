{
 "cells": [
  {
   "cell_type": "code",
   "execution_count": 2,
   "id": "a467743b",
   "metadata": {},
   "outputs": [],
   "source": [
    "# add single item to a list\n",
    "lst =[ 1,2,33,9]\n",
    "lst.append(920)"
   ]
  },
  {
   "cell_type": "code",
   "execution_count": 3,
   "id": "3187e3de",
   "metadata": {},
   "outputs": [
    {
     "data": {
      "text/plain": [
       "[1, 2, 33, 9, 920]"
      ]
     },
     "execution_count": 3,
     "metadata": {},
     "output_type": "execute_result"
    }
   ],
   "source": [
    "lst"
   ]
  },
  {
   "cell_type": "code",
   "execution_count": 4,
   "id": "fc8463be",
   "metadata": {},
   "outputs": [
    {
     "data": {
      "text/plain": [
       "[1, 2, 33, 9, 920]"
      ]
     },
     "execution_count": 4,
     "metadata": {},
     "output_type": "execute_result"
    }
   ],
   "source": [
    "#  add another list to a list\n",
    "lst"
   ]
  },
  {
   "cell_type": "code",
   "execution_count": 5,
   "id": "5b0b061d",
   "metadata": {},
   "outputs": [],
   "source": [
    "new_lst=[2,2,3,3]\n",
    "lst.append(new_lst)"
   ]
  },
  {
   "cell_type": "code",
   "execution_count": 6,
   "id": "4075e485",
   "metadata": {},
   "outputs": [
    {
     "data": {
      "text/plain": [
       "[1, 2, 33, 9, 920, [2, 2, 3, 3]]"
      ]
     },
     "execution_count": 6,
     "metadata": {},
     "output_type": "execute_result"
    }
   ],
   "source": [
    "lst"
   ]
  },
  {
   "cell_type": "code",
   "execution_count": 7,
   "id": "8f536f64",
   "metadata": {},
   "outputs": [],
   "source": [
    "new_lst.extend([1,2,36,58,69])"
   ]
  },
  {
   "cell_type": "code",
   "execution_count": 8,
   "id": "eb07d6e5",
   "metadata": {},
   "outputs": [
    {
     "data": {
      "text/plain": [
       "[2, 2, 3, 3, 1, 2, 36, 58, 69]"
      ]
     },
     "execution_count": 8,
     "metadata": {},
     "output_type": "execute_result"
    }
   ],
   "source": [
    "new_lst"
   ]
  },
  {
   "cell_type": "code",
   "execution_count": 9,
   "id": "b566f99d",
   "metadata": {},
   "outputs": [],
   "source": [
    "# insert a item in a index\n",
    "new_lst.insert(3,\"ac\")"
   ]
  },
  {
   "cell_type": "code",
   "execution_count": 10,
   "id": "c1e59d89",
   "metadata": {},
   "outputs": [
    {
     "data": {
      "text/plain": [
       "[2, 2, 3, 'ac', 3, 1, 2, 36, 58, 69]"
      ]
     },
     "execution_count": 10,
     "metadata": {},
     "output_type": "execute_result"
    }
   ],
   "source": [
    "new_lst"
   ]
  },
  {
   "cell_type": "code",
   "execution_count": 12,
   "id": "8422d5c0",
   "metadata": {},
   "outputs": [
    {
     "data": {
      "text/plain": [
       "2"
      ]
     },
     "execution_count": 12,
     "metadata": {},
     "output_type": "execute_result"
    }
   ],
   "source": [
    "# remove first index value\n",
    "new_lst.pop(0)"
   ]
  },
  {
   "cell_type": "code",
   "execution_count": 13,
   "id": "bbdc8fa5",
   "metadata": {},
   "outputs": [
    {
     "data": {
      "text/plain": [
       "[2, 3, 'ac', 3, 1, 2, 36, 58, 69]"
      ]
     },
     "execution_count": 13,
     "metadata": {},
     "output_type": "execute_result"
    }
   ],
   "source": [
    "new_lst"
   ]
  },
  {
   "cell_type": "code",
   "execution_count": 14,
   "id": "e639802f",
   "metadata": {},
   "outputs": [],
   "source": [
    "# remove item by value\n",
    "new_lst.remove(\"ac\")"
   ]
  },
  {
   "cell_type": "code",
   "execution_count": 15,
   "id": "8c39bc0a",
   "metadata": {},
   "outputs": [
    {
     "data": {
      "text/plain": [
       "[2, 3, 3, 1, 2, 36, 58, 69]"
      ]
     },
     "execution_count": 15,
     "metadata": {},
     "output_type": "execute_result"
    }
   ],
   "source": [
    "new_lst"
   ]
  },
  {
   "cell_type": "code",
   "execution_count": 16,
   "id": "176584b3",
   "metadata": {},
   "outputs": [
    {
     "data": {
      "text/plain": [
       "[2, 3, 3, 1, 2, 36, 58, 69]"
      ]
     },
     "execution_count": 16,
     "metadata": {},
     "output_type": "execute_result"
    }
   ],
   "source": [
    "# delete the variable\n",
    "new_lst"
   ]
  },
  {
   "cell_type": "code",
   "execution_count": 17,
   "id": "b38ebc0e",
   "metadata": {},
   "outputs": [],
   "source": [
    "del new_lst"
   ]
  },
  {
   "cell_type": "code",
   "execution_count": 18,
   "id": "45fc05e7",
   "metadata": {},
   "outputs": [
    {
     "ename": "NameError",
     "evalue": "name 'new_lst' is not defined",
     "output_type": "error",
     "traceback": [
      "\u001b[1;31m---------------------------------------------------------------------------\u001b[0m",
      "\u001b[1;31mNameError\u001b[0m                                 Traceback (most recent call last)",
      "Cell \u001b[1;32mIn[18], line 1\u001b[0m\n\u001b[1;32m----> 1\u001b[0m new_lst\n",
      "\u001b[1;31mNameError\u001b[0m: name 'new_lst' is not defined"
     ]
    }
   ],
   "source": [
    "new_lst"
   ]
  },
  {
   "cell_type": "code",
   "execution_count": 19,
   "id": "95fa8b1b",
   "metadata": {},
   "outputs": [
    {
     "data": {
      "text/plain": [
       "[1, 2, 33, 9, 920, [2, 3, 3, 1, 2, 36, 58, 69]]"
      ]
     },
     "execution_count": 19,
     "metadata": {},
     "output_type": "execute_result"
    }
   ],
   "source": [
    "# copy a lst\n",
    "lst"
   ]
  },
  {
   "cell_type": "code",
   "execution_count": 20,
   "id": "aeb78c19",
   "metadata": {},
   "outputs": [],
   "source": [
    "lst2 = lst.copy()"
   ]
  },
  {
   "cell_type": "code",
   "execution_count": 21,
   "id": "6a2334d9",
   "metadata": {},
   "outputs": [
    {
     "data": {
      "text/plain": [
       "[1, 2, 33, 9, 920, [2, 3, 3, 1, 2, 36, 58, 69]]"
      ]
     },
     "execution_count": 21,
     "metadata": {},
     "output_type": "execute_result"
    }
   ],
   "source": [
    "lst2"
   ]
  },
  {
   "cell_type": "code",
   "execution_count": 23,
   "id": "8a258f64",
   "metadata": {},
   "outputs": [],
   "source": [
    "# nested\n",
    "import copy\n",
    "lst3 = copy.deepcopy(lst)"
   ]
  },
  {
   "cell_type": "code",
   "execution_count": 24,
   "id": "e797f9c9",
   "metadata": {},
   "outputs": [
    {
     "data": {
      "text/plain": [
       "[1, 2, 33, 9, 920, [2, 3, 3, 1, 2, 36, 58, 69]]"
      ]
     },
     "execution_count": 24,
     "metadata": {},
     "output_type": "execute_result"
    }
   ],
   "source": [
    "lst3"
   ]
  },
  {
   "cell_type": "code",
   "execution_count": 25,
   "id": "9fea1ba7",
   "metadata": {},
   "outputs": [
    {
     "data": {
      "text/plain": [
       "[1, 2, 33, 9, 920, [2, 3, 3, 1, 2, 36, 58, 69]]"
      ]
     },
     "execution_count": 25,
     "metadata": {},
     "output_type": "execute_result"
    }
   ],
   "source": [
    "# create a sublist\n",
    "lst"
   ]
  },
  {
   "cell_type": "code",
   "execution_count": 27,
   "id": "f4fc0154",
   "metadata": {},
   "outputs": [
    {
     "data": {
      "text/plain": [
       "[1, 33, 920]"
      ]
     },
     "execution_count": 27,
     "metadata": {},
     "output_type": "execute_result"
    }
   ],
   "source": [
    "lst[::2]"
   ]
  },
  {
   "cell_type": "code",
   "execution_count": 33,
   "id": "3e26fed3",
   "metadata": {},
   "outputs": [
    {
     "data": {
      "text/plain": [
       "[2, 3, 3, 1, 2]"
      ]
     },
     "execution_count": 33,
     "metadata": {},
     "output_type": "execute_result"
    }
   ],
   "source": [
    "lst[5][:5]"
   ]
  },
  {
   "cell_type": "code",
   "execution_count": 34,
   "id": "48683418",
   "metadata": {},
   "outputs": [],
   "source": [
    "sublst = lst[::2] + lst[5][:5]"
   ]
  },
  {
   "cell_type": "code",
   "execution_count": 35,
   "id": "0441fd22",
   "metadata": {},
   "outputs": [
    {
     "data": {
      "text/plain": [
       "[1, 33, 920, 2, 3, 3, 1, 2]"
      ]
     },
     "execution_count": 35,
     "metadata": {},
     "output_type": "execute_result"
    }
   ],
   "source": [
    "sublst"
   ]
  },
  {
   "cell_type": "code",
   "execution_count": 39,
   "id": "72cd41d6",
   "metadata": {},
   "outputs": [],
   "source": [
    "# sorted the lst\n",
    "new= sorted(lst[5][:])"
   ]
  },
  {
   "cell_type": "code",
   "execution_count": 41,
   "id": "31aa216a",
   "metadata": {},
   "outputs": [
    {
     "data": {
      "text/plain": [
       "[1, 33, 920, 2, 3, 3, 1, 2]"
      ]
     },
     "execution_count": 41,
     "metadata": {},
     "output_type": "execute_result"
    }
   ],
   "source": [
    "# without asing variable\n",
    "sublst"
   ]
  },
  {
   "cell_type": "code",
   "execution_count": 42,
   "id": "52fef32a",
   "metadata": {},
   "outputs": [],
   "source": [
    "sublst.sort()"
   ]
  },
  {
   "cell_type": "code",
   "execution_count": 43,
   "id": "4d1df3cf",
   "metadata": {},
   "outputs": [
    {
     "data": {
      "text/plain": [
       "[1, 1, 2, 2, 3, 3, 33, 920]"
      ]
     },
     "execution_count": 43,
     "metadata": {},
     "output_type": "execute_result"
    }
   ],
   "source": [
    "sublst"
   ]
  },
  {
   "cell_type": "code",
   "execution_count": 1,
   "id": "c0d5e1ed",
   "metadata": {},
   "outputs": [],
   "source": [
    "# interchange\n",
    "a = [1,23,65,89,87]\n",
    "b = [1,2,36,4,8,5]\n",
    "a,b = b,a"
   ]
  },
  {
   "cell_type": "code",
   "execution_count": 2,
   "id": "7276ff9c",
   "metadata": {},
   "outputs": [
    {
     "data": {
      "text/plain": [
       "[1, 2, 36, 4, 8, 5]"
      ]
     },
     "execution_count": 2,
     "metadata": {},
     "output_type": "execute_result"
    }
   ],
   "source": [
    "a"
   ]
  },
  {
   "cell_type": "code",
   "execution_count": 3,
   "id": "dea15be4",
   "metadata": {},
   "outputs": [
    {
     "data": {
      "text/plain": [
       "[1, 23, 65, 89, 87]"
      ]
     },
     "execution_count": 3,
     "metadata": {},
     "output_type": "execute_result"
    }
   ],
   "source": [
    "b"
   ]
  },
  {
   "cell_type": "code",
   "execution_count": 5,
   "id": "791353f3",
   "metadata": {},
   "outputs": [
    {
     "data": {
      "text/plain": [
       "[1, 2, 36, 4, 8, 5]"
      ]
     },
     "execution_count": 5,
     "metadata": {},
     "output_type": "execute_result"
    }
   ],
   "source": [
    "# swape first and last\n",
    "a"
   ]
  },
  {
   "cell_type": "code",
   "execution_count": 6,
   "id": "e79d043e",
   "metadata": {},
   "outputs": [],
   "source": [
    "a[0], a[-1] = a[-1], a[0]"
   ]
  },
  {
   "cell_type": "code",
   "execution_count": 7,
   "id": "3f733698",
   "metadata": {},
   "outputs": [
    {
     "data": {
      "text/plain": [
       "[5, 2, 36, 4, 8, 1]"
      ]
     },
     "execution_count": 7,
     "metadata": {},
     "output_type": "execute_result"
    }
   ],
   "source": [
    "a"
   ]
  },
  {
   "cell_type": "code",
   "execution_count": 9,
   "id": "6cca01bd",
   "metadata": {},
   "outputs": [
    {
     "data": {
      "text/plain": [
       "6"
      ]
     },
     "execution_count": 9,
     "metadata": {},
     "output_type": "execute_result"
    }
   ],
   "source": [
    "len(a)"
   ]
  },
  {
   "cell_type": "code",
   "execution_count": 10,
   "id": "b4442016",
   "metadata": {},
   "outputs": [],
   "source": [
    "count = 0\n",
    "for i in a:\n",
    "\tcount = count +1"
   ]
  },
  {
   "cell_type": "code",
   "execution_count": 11,
   "id": "98a18add",
   "metadata": {},
   "outputs": [
    {
     "data": {
      "text/plain": [
       "6"
      ]
     },
     "execution_count": 11,
     "metadata": {},
     "output_type": "execute_result"
    }
   ],
   "source": [
    "count"
   ]
  },
  {
   "cell_type": "code",
   "execution_count": 12,
   "id": "f422969c",
   "metadata": {},
   "outputs": [
    {
     "data": {
      "text/plain": [
       "36"
      ]
     },
     "execution_count": 12,
     "metadata": {},
     "output_type": "execute_result"
    }
   ],
   "source": [
    "max(a)"
   ]
  },
  {
   "cell_type": "code",
   "execution_count": 13,
   "id": "049e7c14",
   "metadata": {},
   "outputs": [],
   "source": [
    "a.clear()"
   ]
  },
  {
   "cell_type": "code",
   "execution_count": 14,
   "id": "302b1f97",
   "metadata": {},
   "outputs": [
    {
     "data": {
      "text/plain": [
       "[]"
      ]
     },
     "execution_count": 14,
     "metadata": {},
     "output_type": "execute_result"
    }
   ],
   "source": [
    "a"
   ]
  },
  {
   "cell_type": "code",
   "execution_count": 15,
   "id": "044e3f95",
   "metadata": {},
   "outputs": [],
   "source": [
    "a =[1, 2, 36, 4, 8, 5]\n",
    "\n",
    "a = []"
   ]
  },
  {
   "cell_type": "code",
   "execution_count": 16,
   "id": "909ec4ae",
   "metadata": {},
   "outputs": [
    {
     "data": {
      "text/plain": [
       "[]"
      ]
     },
     "execution_count": 16,
     "metadata": {},
     "output_type": "execute_result"
    }
   ],
   "source": [
    "a"
   ]
  },
  {
   "cell_type": "code",
   "execution_count": 17,
   "id": "64d7f4f8",
   "metadata": {},
   "outputs": [],
   "source": [
    "a =[1, 2, 36, 4, 8, 5] "
   ]
  },
  {
   "cell_type": "code",
   "execution_count": null,
   "id": "2f856c82",
   "metadata": {},
   "outputs": [],
   "source": [
    "a_2 = a  # cloning"
   ]
  },
  {
   "cell_type": "code",
   "execution_count": 20,
   "id": "c7c91133",
   "metadata": {},
   "outputs": [
    {
     "data": {
      "text/plain": [
       "[1, 2, 36, 4, 8, 5]"
      ]
     },
     "execution_count": 20,
     "metadata": {},
     "output_type": "execute_result"
    }
   ],
   "source": [
    "a_2"
   ]
  },
  {
   "cell_type": "code",
   "execution_count": 21,
   "id": "f96af263",
   "metadata": {},
   "outputs": [
    {
     "data": {
      "text/plain": [
       "56"
      ]
     },
     "execution_count": 21,
     "metadata": {},
     "output_type": "execute_result"
    }
   ],
   "source": [
    "sum(a)"
   ]
  },
  {
   "cell_type": "code",
   "execution_count": 27,
   "id": "fd82b47d",
   "metadata": {},
   "outputs": [
    {
     "name": "stdout",
     "output_type": "stream",
     "text": [
      "1\n",
      "2\n",
      "36\n",
      "4\n",
      "8\n",
      "5\n"
     ]
    }
   ],
   "source": [
    "for i in a:\n",
    "\tprint(i)"
   ]
  },
  {
   "cell_type": "code",
   "execution_count": 35,
   "id": "d1fdf1fd",
   "metadata": {},
   "outputs": [],
   "source": [
    "count = 0\n",
    "for i in a:\n",
    "\tcount += i"
   ]
  },
  {
   "cell_type": "code",
   "execution_count": 36,
   "id": "bafe2df2",
   "metadata": {},
   "outputs": [
    {
     "data": {
      "text/plain": [
       "56"
      ]
     },
     "execution_count": 36,
     "metadata": {},
     "output_type": "execute_result"
    }
   ],
   "source": [
    "count"
   ]
  },
  {
   "cell_type": "code",
   "execution_count": 37,
   "id": "bec74072",
   "metadata": {},
   "outputs": [
    {
     "data": {
      "text/plain": [
       "9.333333333333334"
      ]
     },
     "execution_count": 37,
     "metadata": {},
     "output_type": "execute_result"
    }
   ],
   "source": [
    "# avg\n",
    "sum(a)/len(a)"
   ]
  },
  {
   "cell_type": "code",
   "execution_count": 38,
   "id": "90545847",
   "metadata": {},
   "outputs": [
    {
     "data": {
      "text/plain": [
       "[1, 2, 36, 4, 8, 5]"
      ]
     },
     "execution_count": 38,
     "metadata": {},
     "output_type": "execute_result"
    }
   ],
   "source": [
    "a"
   ]
  },
  {
   "cell_type": "code",
   "execution_count": 40,
   "id": "050502c7",
   "metadata": {},
   "outputs": [],
   "source": [
    "multiply = 1\n",
    "for num in a:\n",
    "\tmultiply = multiply *num "
   ]
  },
  {
   "cell_type": "code",
   "execution_count": 41,
   "id": "9a7f0770",
   "metadata": {},
   "outputs": [
    {
     "data": {
      "text/plain": [
       "11520"
      ]
     },
     "execution_count": 41,
     "metadata": {},
     "output_type": "execute_result"
    }
   ],
   "source": [
    "multiply"
   ]
  },
  {
   "cell_type": "code",
   "execution_count": 44,
   "id": "b283c7e6",
   "metadata": {},
   "outputs": [
    {
     "data": {
      "text/plain": [
       "8"
      ]
     },
     "execution_count": 44,
     "metadata": {},
     "output_type": "execute_result"
    }
   ],
   "source": [
    "sorted(a,reverse=True)[1]"
   ]
  },
  {
   "cell_type": "code",
   "execution_count": 45,
   "id": "08d47eec",
   "metadata": {},
   "outputs": [
    {
     "data": {
      "text/plain": [
       "8"
      ]
     },
     "execution_count": 45,
     "metadata": {},
     "output_type": "execute_result"
    }
   ],
   "source": [
    "sorted(a)[-2]"
   ]
  },
  {
   "cell_type": "code",
   "execution_count": null,
   "id": "00adcf63",
   "metadata": {},
   "outputs": [],
   "source": []
  }
 ],
 "metadata": {
  "kernelspec": {
   "display_name": "base",
   "language": "python",
   "name": "python3"
  },
  "language_info": {
   "codemirror_mode": {
    "name": "ipython",
    "version": 3
   },
   "file_extension": ".py",
   "mimetype": "text/x-python",
   "name": "python",
   "nbconvert_exporter": "python",
   "pygments_lexer": "ipython3",
   "version": "3.12.7"
  }
 },
 "nbformat": 4,
 "nbformat_minor": 5
}
