{
 "cells": [
  {
   "cell_type": "code",
   "execution_count": 1,
   "id": "9e122d61",
   "metadata": {},
   "outputs": [],
   "source": [
    "## what is the difference between casefold and lower"
   ]
  },
  {
   "cell_type": "code",
   "execution_count": 1,
   "id": "da869212",
   "metadata": {},
   "outputs": [],
   "source": [
    "s = \"b\""
   ]
  },
  {
   "cell_type": "code",
   "execution_count": 2,
   "id": "0ac264a7",
   "metadata": {},
   "outputs": [
    {
     "name": "stdout",
     "output_type": "stream",
     "text": [
      "b\n"
     ]
    }
   ],
   "source": [
    "print(s.lower())"
   ]
  },
  {
   "cell_type": "code",
   "execution_count": 4,
   "id": "12ab921c",
   "metadata": {},
   "outputs": [
    {
     "name": "stdout",
     "output_type": "stream",
     "text": [
      "b\n"
     ]
    }
   ],
   "source": [
    "print(s.casefold())"
   ]
  },
  {
   "cell_type": "code",
   "execution_count": 6,
   "id": "c9861e29",
   "metadata": {},
   "outputs": [
    {
     "data": {
      "text/plain": [
       "'lower coverts data into lower case from upper case \\n\"\\nother hand casefold convet special char like alpha, bita, gemma to alphabats'"
      ]
     },
     "execution_count": 6,
     "metadata": {},
     "output_type": "execute_result"
    }
   ],
   "source": [
    "\"\"\"lower coverts data into lower case from upper case \\n\"\n",
    "other hand casefold convet special char like alpha, bita, gemma to alphabats\"\"\""
   ]
  },
  {
   "cell_type": "code",
   "execution_count": 7,
   "id": "594212f9",
   "metadata": {},
   "outputs": [],
   "source": [
    "#1) python program for reverse the string"
   ]
  },
  {
   "cell_type": "code",
   "execution_count": 9,
   "id": "edc09853",
   "metadata": {},
   "outputs": [
    {
     "name": "stdout",
     "output_type": "stream",
     "text": [
      "['statistic', 'is', 'the', 'fundamentals', 'of', 'ai']\n",
      "['ai', 'of', 'fundamentals', 'the', 'is', 'statistic']\n"
     ]
    },
    {
     "data": {
      "text/plain": [
       "'ai of fundamentals the is statistic'"
      ]
     },
     "execution_count": 9,
     "metadata": {},
     "output_type": "execute_result"
    }
   ],
   "source": [
    "# method: 1\n",
    "\n",
    "s = \"statistic is the fundamentals of ai\"\n",
    "s_split = s.split()\n",
    "print(s_split)\n",
    "reverse_s = s_split[::-1]\n",
    "print(reverse_s)\n",
    "answer = \" \".join(reverse_s)\n",
    "answer"
   ]
  },
  {
   "cell_type": "code",
   "execution_count": 19,
   "id": "ff1455b0",
   "metadata": {},
   "outputs": [
    {
     "data": {
      "text/plain": [
       "'ai of fundamentals the is statistic'"
      ]
     },
     "execution_count": 19,
     "metadata": {},
     "output_type": "execute_result"
    }
   ],
   "source": [
    "# method: 2\n",
    "\" \".join(reversed(s_split))\n"
   ]
  },
  {
   "cell_type": "markdown",
   "id": "0b3f9920",
   "metadata": {},
   "source": [
    "# 2)  write a python  program for palidrome"
   ]
  },
  {
   "cell_type": "code",
   "execution_count": 22,
   "id": "48a9f618",
   "metadata": {},
   "outputs": [
    {
     "data": {
      "text/plain": [
       "True"
      ]
     },
     "execution_count": 22,
     "metadata": {},
     "output_type": "execute_result"
    }
   ],
   "source": [
    "s = \"level\"\n",
    "s == s[::-1]\n"
   ]
  },
  {
   "cell_type": "code",
   "execution_count": 35,
   "id": "a9be4838",
   "metadata": {},
   "outputs": [
    {
     "data": {
      "text/plain": [
       "'lldkd'"
      ]
     },
     "execution_count": 35,
     "metadata": {},
     "output_type": "execute_result"
    }
   ],
   "source": [
    "a = 'dkdll'\n",
    "\"\".join(reversed(a))"
   ]
  },
  {
   "cell_type": "code",
   "execution_count": 39,
   "id": "6d4434e4",
   "metadata": {},
   "outputs": [
    {
     "name": "stdout",
     "output_type": "stream",
     "text": [
      "lldkd\n"
     ]
    }
   ],
   "source": [
    "st = ''\n",
    "for i in a:\n",
    "    st = i+ st\n",
    "print(st)"
   ]
  },
  {
   "cell_type": "code",
   "execution_count": 40,
   "id": "f980e2ce",
   "metadata": {},
   "outputs": [
    {
     "name": "stdout",
     "output_type": "stream",
     "text": [
      "not pilendrom\n"
     ]
    }
   ],
   "source": [
    "if st == a:\n",
    "    print(\"plindrom\")\n",
    "else:\n",
    "    print(\"not pilendrom\")"
   ]
  },
  {
   "cell_type": "markdown",
   "id": "1e935d1d",
   "metadata": {},
   "source": [
    "# 3)  check if two words are anagram or not"
   ]
  },
  {
   "cell_type": "markdown",
   "id": "2f9d6e53",
   "metadata": {},
   "source": [
    "* two strings are considered anagrams if they contain the exact same characters in the same frequencies, but in a different order. For example, \"listen\" and \"silent"
   ]
  },
  {
   "cell_type": "code",
   "execution_count": 47,
   "id": "b4344d23",
   "metadata": {},
   "outputs": [
    {
     "data": {
      "text/plain": [
       "True"
      ]
     },
     "execution_count": 47,
     "metadata": {},
     "output_type": "execute_result"
    }
   ],
   "source": [
    "str1 = 'listen'\n",
    "str2 = 'silent'\n",
    "\n",
    "sorted(str1)== sorted(str2)"
   ]
  },
  {
   "cell_type": "markdown",
   "id": "55662f7c",
   "metadata": {},
   "source": [
    "# 4) python program for  length of string"
   ]
  },
  {
   "cell_type": "code",
   "execution_count": 48,
   "id": "ece50ff1",
   "metadata": {},
   "outputs": [
    {
     "data": {
      "text/plain": [
       "'level'"
      ]
     },
     "execution_count": 48,
     "metadata": {},
     "output_type": "execute_result"
    }
   ],
   "source": [
    "s"
   ]
  },
  {
   "cell_type": "code",
   "execution_count": 50,
   "id": "919114f2",
   "metadata": {},
   "outputs": [
    {
     "data": {
      "text/plain": [
       "5"
      ]
     },
     "execution_count": 50,
     "metadata": {},
     "output_type": "execute_result"
    }
   ],
   "source": [
    "len(s)"
   ]
  },
  {
   "cell_type": "code",
   "execution_count": 52,
   "id": "4402949e",
   "metadata": {},
   "outputs": [
    {
     "name": "stdout",
     "output_type": "stream",
     "text": [
      "1\n",
      "2\n",
      "3\n",
      "4\n",
      "5\n"
     ]
    }
   ],
   "source": [
    "count =0\n",
    "for i in s:\n",
    "    count = count + 1\n",
    "    print(count)"
   ]
  },
  {
   "cell_type": "markdown",
   "id": "44761e77",
   "metadata": {},
   "source": [
    "# 5) python program for  counting even length of words"
   ]
  },
  {
   "cell_type": "code",
   "execution_count": 53,
   "id": "7fc438f4",
   "metadata": {},
   "outputs": [],
   "source": [
    "s =\"lower coverts data into lower case from upper case other hand casefold convet special char like alpha, bita, gemma to alphabats\""
   ]
  },
  {
   "cell_type": "code",
   "execution_count": 64,
   "id": "3391fb91",
   "metadata": {},
   "outputs": [
    {
     "name": "stdout",
     "output_type": "stream",
     "text": [
      "['lower', 'coverts', 'data', 'into', 'lower', 'case', 'from', 'upper', 'case', 'other', 'hand', 'casefold', 'convet', 'special', 'char', 'like', 'alpha,', 'bita,', 'gemma', 'to', 'alphabats']\n",
      "data\n",
      "into\n",
      "case\n",
      "from\n",
      "case\n",
      "hand\n",
      "casefold\n",
      "convet\n",
      "char\n",
      "like\n",
      "alpha,\n",
      "to\n"
     ]
    }
   ],
   "source": [
    "s_split = s.split()\n",
    "print(s_split)\n",
    "for word in s_split:\n",
    "    if len(word)%2==0:\n",
    "        print(word)"
   ]
  },
  {
   "cell_type": "markdown",
   "id": "48f5bd9c",
   "metadata": {},
   "source": [
    "#  counting of   word appers"
   ]
  },
  {
   "cell_type": "code",
   "execution_count": 71,
   "id": "f327b61d",
   "metadata": {},
   "outputs": [
    {
     "data": {
      "text/plain": [
       "['ravi', 'kumar', 'varma', 'father', 'ravi']"
      ]
     },
     "execution_count": 71,
     "metadata": {},
     "output_type": "execute_result"
    }
   ],
   "source": [
    "s='ravi kumar varma father ravi '\n",
    "s_split= s.split()\n",
    "s_split"
   ]
  },
  {
   "cell_type": "code",
   "execution_count": 95,
   "id": "307eb731",
   "metadata": {},
   "outputs": [],
   "source": [
    "s='ravi kumar varma father ravi '\n",
    "d ={}\n",
    "s_split= s.split()\n",
    "for i in s_split:\n",
    "   if i in d:\n",
    "      d[i] +=1\n",
    "   else:\n",
    "      d[i] =1\n",
    "      \n",
    "result = [k for k,v in d.items() if v>1]"
   ]
  },
  {
   "cell_type": "code",
   "execution_count": 96,
   "id": "63321007",
   "metadata": {},
   "outputs": [
    {
     "data": {
      "text/plain": [
       "{'ravi': 2, 'kumar': 1, 'varma': 1, 'father': 1}"
      ]
     },
     "execution_count": 96,
     "metadata": {},
     "output_type": "execute_result"
    }
   ],
   "source": [
    "d"
   ]
  },
  {
   "cell_type": "code",
   "execution_count": 97,
   "id": "0f7cb65f",
   "metadata": {},
   "outputs": [
    {
     "data": {
      "text/plain": [
       "['ravi']"
      ]
     },
     "execution_count": 97,
     "metadata": {},
     "output_type": "execute_result"
    }
   ],
   "source": [
    "result"
   ]
  },
  {
   "cell_type": "markdown",
   "id": "0d254a49",
   "metadata": {},
   "source": [
    "# Number of words in a given sentense"
   ]
  },
  {
   "cell_type": "code",
   "execution_count": 98,
   "id": "bd30441b",
   "metadata": {},
   "outputs": [],
   "source": [
    "mystring = 'Maintaining & expending the database of prospects for the organization.'"
   ]
  },
  {
   "cell_type": "code",
   "execution_count": 105,
   "id": "5879c966",
   "metadata": {},
   "outputs": [
    {
     "data": {
      "text/plain": [
       "10"
      ]
     },
     "execution_count": 105,
     "metadata": {},
     "output_type": "execute_result"
    }
   ],
   "source": [
    "len(mystring.split())"
   ]
  },
  {
   "cell_type": "code",
   "execution_count": 103,
   "id": "044020cd",
   "metadata": {},
   "outputs": [],
   "source": [
    "s = mystring.split()\n",
    "count = 0\n",
    "for i in s:\n",
    "    count = 1+ count"
   ]
  },
  {
   "cell_type": "code",
   "execution_count": 104,
   "id": "4ee5f8a6",
   "metadata": {},
   "outputs": [
    {
     "data": {
      "text/plain": [
       "10"
      ]
     },
     "execution_count": 104,
     "metadata": {},
     "output_type": "execute_result"
    }
   ],
   "source": [
    "count"
   ]
  },
  {
   "cell_type": "code",
   "execution_count": 1,
   "id": "608cb35c",
   "metadata": {},
   "outputs": [
    {
     "data": {
      "text/plain": [
       "['This', 'is', 'Python', 'practice']"
      ]
     },
     "execution_count": 1,
     "metadata": {},
     "output_type": "execute_result"
    }
   ],
   "source": [
    "text = \" This is Python practice\"\n",
    "\n",
    "text.split()"
   ]
  },
  {
   "cell_type": "code",
   "execution_count": 2,
   "id": "c2254603",
   "metadata": {},
   "outputs": [
    {
     "data": {
      "text/plain": [
       "'python'"
      ]
     },
     "execution_count": 2,
     "metadata": {},
     "output_type": "execute_result"
    }
   ],
   "source": [
    "text = \" python \"\n",
    "text.strip()"
   ]
  },
  {
   "cell_type": "code",
   "execution_count": 12,
   "id": "0ef7ab97",
   "metadata": {},
   "outputs": [
    {
     "name": "stdout",
     "output_type": "stream",
     "text": [
      "['This', 'is', 'Python', 'practice']\n",
      "['practice', 'Python', 'is', 'This']\n"
     ]
    },
    {
     "data": {
      "text/plain": [
       "'practice Python is This'"
      ]
     },
     "execution_count": 12,
     "metadata": {},
     "output_type": "execute_result"
    }
   ],
   "source": [
    "text = \" This is Python practice\"\n",
    "s_split = text.split()\n",
    "print(s_split)\n",
    "s_revesed = s_split[::-1]\n",
    "print(s_revesed)\n",
    "\" \".join(s_revesed)"
   ]
  },
  {
   "cell_type": "code",
   "execution_count": 18,
   "id": "cd65b83f",
   "metadata": {},
   "outputs": [
    {
     "name": "stdout",
     "output_type": "stream",
     "text": [
      "acapoo\n"
     ]
    },
    {
     "data": {
      "text/plain": [
       "'ACAPOO'"
      ]
     },
     "execution_count": 18,
     "metadata": {},
     "output_type": "execute_result"
    }
   ],
   "source": [
    "email =\"acapoo@gmaol.com\"\n",
    "username = email.split(\"@\")[0]\n",
    "print(username)\n",
    "username.upper()"
   ]
  },
  {
   "cell_type": "code",
   "execution_count": 26,
   "id": "215a29f0",
   "metadata": {},
   "outputs": [
    {
     "data": {
      "text/plain": [
       "True"
      ]
     },
     "execution_count": 26,
     "metadata": {},
     "output_type": "execute_result"
    }
   ],
   "source": [
    "# plaindrom\n",
    "a = \"apple\"; b = \"elppa\"\n",
    "a == b[::-1]\n"
   ]
  },
  {
   "cell_type": "code",
   "execution_count": 25,
   "id": "68245814",
   "metadata": {},
   "outputs": [
    {
     "data": {
      "text/plain": [
       "'elppa'"
      ]
     },
     "execution_count": 25,
     "metadata": {},
     "output_type": "execute_result"
    }
   ],
   "source": [
    "a[::-1]"
   ]
  },
  {
   "cell_type": "code",
   "execution_count": 34,
   "id": "d989e688",
   "metadata": {},
   "outputs": [
    {
     "data": {
      "text/plain": [
       "' This is Python practice'"
      ]
     },
     "execution_count": 34,
     "metadata": {},
     "output_type": "execute_result"
    }
   ],
   "source": [
    "text"
   ]
  },
  {
   "cell_type": "code",
   "execution_count": null,
   "id": "0661c997",
   "metadata": {},
   "outputs": [],
   "source": [
    "# Count vowels and consonants in a string\n",
    "vowels = ['a','e','i','o','u']\n",
    "count_consonants =0\n",
    "count_vowel =0\n",
    "for vowel in vowels:\n",
    "\tif vowel in text.lower():\n",
    "\t\tcount_vowel +=1"
   ]
  },
  {
   "cell_type": "code",
   "execution_count": 35,
   "id": "b7163a11",
   "metadata": {},
   "outputs": [
    {
     "name": "stdout",
     "output_type": "stream",
     "text": [
      "Total No of Vowels: 4\n"
     ]
    }
   ],
   "source": [
    "print(f\"Total No of Vowels: {count_vowel}\")"
   ]
  },
  {
   "cell_type": "code",
   "execution_count": 36,
   "id": "d62547b5",
   "metadata": {},
   "outputs": [
    {
     "data": {
      "text/plain": [
       "' THIS IS PYTHON PRACTICE'"
      ]
     },
     "execution_count": 36,
     "metadata": {},
     "output_type": "execute_result"
    }
   ],
   "source": [
    "# upper\n",
    "text.upper()"
   ]
  },
  {
   "cell_type": "code",
   "execution_count": 37,
   "id": "3381d9a4",
   "metadata": {},
   "outputs": [
    {
     "data": {
      "text/plain": [
       "24"
      ]
     },
     "execution_count": 37,
     "metadata": {},
     "output_type": "execute_result"
    }
   ],
   "source": [
    "len(text)"
   ]
  },
  {
   "cell_type": "code",
   "execution_count": 39,
   "id": "44cb644f",
   "metadata": {},
   "outputs": [
    {
     "data": {
      "text/plain": [
       "False"
      ]
     },
     "execution_count": 39,
     "metadata": {},
     "output_type": "execute_result"
    }
   ],
   "source": [
    "text.isdigit()"
   ]
  },
  {
   "cell_type": "code",
   "execution_count": 40,
   "id": "098fd031",
   "metadata": {},
   "outputs": [
    {
     "data": {
      "text/plain": [
       "False"
      ]
     },
     "execution_count": 40,
     "metadata": {},
     "output_type": "execute_result"
    }
   ],
   "source": [
    "text.isalpha()"
   ]
  },
  {
   "cell_type": "code",
   "execution_count": 41,
   "id": "4a6c4621",
   "metadata": {},
   "outputs": [
    {
     "data": {
      "text/plain": [
       "' This is Python practice'"
      ]
     },
     "execution_count": 41,
     "metadata": {},
     "output_type": "execute_result"
    }
   ],
   "source": [
    "text"
   ]
  },
  {
   "cell_type": "code",
   "execution_count": 42,
   "id": "91cc5d75",
   "metadata": {},
   "outputs": [
    {
     "data": {
      "text/plain": [
       "'This_is_Python_practice'"
      ]
     },
     "execution_count": 42,
     "metadata": {},
     "output_type": "execute_result"
    }
   ],
   "source": [
    "s =text.split()\n",
    "\"_\".join(s)"
   ]
  },
  {
   "cell_type": "code",
   "execution_count": 46,
   "id": "22aadb5c",
   "metadata": {},
   "outputs": [],
   "source": [
    "# frquncy\n",
    "count ={}\n",
    "for chr in text.lower().strip():\n",
    "\tif chr in count:\n",
    "\t\tcount[chr] +=1\n",
    "\telse:\n",
    "\t\tcount[chr] =1"
   ]
  },
  {
   "cell_type": "code",
   "execution_count": 47,
   "id": "617a23ea",
   "metadata": {},
   "outputs": [
    {
     "data": {
      "text/plain": [
       "{'t': 3,\n",
       " 'h': 2,\n",
       " 'i': 3,\n",
       " 's': 2,\n",
       " ' ': 3,\n",
       " 'p': 2,\n",
       " 'y': 1,\n",
       " 'o': 1,\n",
       " 'n': 1,\n",
       " 'r': 1,\n",
       " 'a': 1,\n",
       " 'c': 2,\n",
       " 'e': 1}"
      ]
     },
     "execution_count": 47,
     "metadata": {},
     "output_type": "execute_result"
    }
   ],
   "source": [
    "count"
   ]
  },
  {
   "cell_type": "code",
   "execution_count": 49,
   "id": "78d00b8b",
   "metadata": {},
   "outputs": [],
   "source": [
    "if count.values() ==1:\n",
    "\tprint(count)"
   ]
  },
  {
   "cell_type": "code",
   "execution_count": null,
   "id": "b3a60670",
   "metadata": {},
   "outputs": [
    {
     "ename": "KeyError",
     "evalue": "1",
     "output_type": "error",
     "traceback": [
      "\u001b[1;31m---------------------------------------------------------------------------\u001b[0m",
      "\u001b[1;31mKeyError\u001b[0m                                  Traceback (most recent call last)",
      "Cell \u001b[1;32mIn[53], line 3\u001b[0m\n\u001b[0;32m      1\u001b[0m \u001b[38;5;28;01mfor\u001b[39;00m k,v \u001b[38;5;129;01min\u001b[39;00m count\u001b[38;5;241m.\u001b[39mitems():\n\u001b[0;32m      2\u001b[0m \t\u001b[38;5;28;01mif\u001b[39;00m v\u001b[38;5;241m==\u001b[39m\u001b[38;5;241m1\u001b[39m:\n\u001b[1;32m----> 3\u001b[0m \t\t\u001b[38;5;28mprint\u001b[39m(count[v])\n",
      "\u001b[1;31mKeyError\u001b[0m: 1"
     ]
    }
   ],
   "source": [
    "for k,v in count.items():\n",
    "\tif v==1:"
   ]
  },
  {
   "cell_type": "code",
   "execution_count": 55,
   "id": "791e639d",
   "metadata": {},
   "outputs": [
    {
     "data": {
      "text/plain": [
       "[' ',\n",
       " ' ',\n",
       " ' ',\n",
       " ' ',\n",
       " 'P',\n",
       " 'T',\n",
       " 'a',\n",
       " 'c',\n",
       " 'c',\n",
       " 'e',\n",
       " 'h',\n",
       " 'h',\n",
       " 'i',\n",
       " 'i',\n",
       " 'i',\n",
       " 'n',\n",
       " 'o',\n",
       " 'p',\n",
       " 'r',\n",
       " 's',\n",
       " 's',\n",
       " 't',\n",
       " 't',\n",
       " 'y']"
      ]
     },
     "execution_count": 55,
     "metadata": {},
     "output_type": "execute_result"
    }
   ],
   "source": [
    "sorted(text)"
   ]
  },
  {
   "cell_type": "code",
   "execution_count": 56,
   "id": "804a7fff",
   "metadata": {},
   "outputs": [
    {
     "data": {
      "text/plain": [
       "'fk;;shg'"
      ]
     },
     "execution_count": 56,
     "metadata": {},
     "output_type": "execute_result"
    }
   ],
   "source": [
    "# extract third chr\n",
    "t = \"fjlkhs;hh;/oshgh;sg\"\n",
    "t[::3]"
   ]
  },
  {
   "cell_type": "code",
   "execution_count": 61,
   "id": "aa3c3209",
   "metadata": {},
   "outputs": [
    {
     "data": {
      "text/plain": [
       "'ghs;;kf'"
      ]
     },
     "execution_count": 61,
     "metadata": {},
     "output_type": "execute_result"
    }
   ],
   "source": [
    "t[::3][::-1]"
   ]
  },
  {
   "cell_type": "code",
   "execution_count": null,
   "id": "f22dc024",
   "metadata": {},
   "outputs": [
    {
     "data": {
      "text/plain": [
       "'gs;f'"
      ]
     },
     "execution_count": 64,
     "metadata": {},
     "output_type": "execute_result"
    }
   ],
   "source": [
    "t[::3][::-2] # first it jumpes chr from [::3] and then revesed thoes chr with jumps"
   ]
  },
  {
   "cell_type": "code",
   "execution_count": 65,
   "id": "86ce86cb",
   "metadata": {},
   "outputs": [
    {
     "data": {
      "text/plain": [
       "['This', 'is', 'Python', 'practice']"
      ]
     },
     "execution_count": 65,
     "metadata": {},
     "output_type": "execute_result"
    }
   ],
   "source": [
    "s"
   ]
  },
  {
   "cell_type": "code",
   "execution_count": 66,
   "id": "7d750ed8",
   "metadata": {},
   "outputs": [
    {
     "data": {
      "text/plain": [
       "'fjlkhs;hh;/oshgh;sg'"
      ]
     },
     "execution_count": 66,
     "metadata": {},
     "output_type": "execute_result"
    }
   ],
   "source": [
    "t"
   ]
  },
  {
   "cell_type": "code",
   "execution_count": 67,
   "id": "3fd605fd",
   "metadata": {},
   "outputs": [
    {
     "data": {
      "text/plain": [
       "True"
      ]
     },
     "execution_count": 67,
     "metadata": {},
     "output_type": "execute_result"
    }
   ],
   "source": [
    "\"/\" in t"
   ]
  },
  {
   "cell_type": "code",
   "execution_count": 69,
   "id": "2b97e57f",
   "metadata": {},
   "outputs": [
    {
     "data": {
      "text/plain": [
       "'fjlkhs;hh;***oshgh;sg'"
      ]
     },
     "execution_count": 69,
     "metadata": {},
     "output_type": "execute_result"
    }
   ],
   "source": [
    "t.replace(\"/\",\"***\")"
   ]
  },
  {
   "cell_type": "code",
   "execution_count": 71,
   "id": "860a3374",
   "metadata": {},
   "outputs": [
    {
     "data": {
      "text/plain": [
       "'fjlkhswas;/oshgh;sg'"
      ]
     },
     "execution_count": 71,
     "metadata": {},
     "output_type": "execute_result"
    }
   ],
   "source": [
    "t[:6] +\"was\" + t[9:]"
   ]
  },
  {
   "cell_type": "code",
   "execution_count": 73,
   "id": "e2de7dfa",
   "metadata": {},
   "outputs": [
    {
     "data": {
      "text/plain": [
       "['This', 'is', 'Python', 'practice']"
      ]
     },
     "execution_count": 73,
     "metadata": {},
     "output_type": "execute_result"
    }
   ],
   "source": [
    "s"
   ]
  },
  {
   "cell_type": "code",
   "execution_count": 78,
   "id": "c5c58a6a",
   "metadata": {},
   "outputs": [
    {
     "ename": "TypeError",
     "evalue": "can only concatenate list (not \"str\") to list",
     "output_type": "error",
     "traceback": [
      "\u001b[1;31m---------------------------------------------------------------------------\u001b[0m",
      "\u001b[1;31mTypeError\u001b[0m                                 Traceback (most recent call last)",
      "Cell \u001b[1;32mIn[78], line 1\u001b[0m\n\u001b[1;32m----> 1\u001b[0m s[:\u001b[38;5;241m2\u001b[39m] \u001b[38;5;241m+\u001b[39m s[\u001b[38;5;241m2\u001b[39m]\n",
      "\u001b[1;31mTypeError\u001b[0m: can only concatenate list (not \"str\") to list"
     ]
    }
   ],
   "source": [
    "s[:2] + s[2]"
   ]
  },
  {
   "cell_type": "code",
   "execution_count": 80,
   "id": "f10f2956",
   "metadata": {},
   "outputs": [],
   "source": [
    "s = \"1,2,23,6,65\"\n",
    "count = 0\n",
    "for i in s.split(\",\"):\n",
    "\t count +=int(i)"
   ]
  },
  {
   "cell_type": "code",
   "execution_count": 81,
   "id": "fd8c8185",
   "metadata": {},
   "outputs": [
    {
     "data": {
      "text/plain": [
       "97"
      ]
     },
     "execution_count": 81,
     "metadata": {},
     "output_type": "execute_result"
    }
   ],
   "source": [
    "count"
   ]
  },
  {
   "cell_type": "code",
   "execution_count": 103,
   "id": "c2c2efc6",
   "metadata": {},
   "outputs": [
    {
     "data": {
      "text/plain": [
       "'python pogramming'"
      ]
     },
     "execution_count": 103,
     "metadata": {},
     "output_type": "execute_result"
    }
   ],
   "source": [
    "s = \"WelcomeTOPythonPogramming\"\n",
    "python = \"p\"+s.split(\"P\")[1]\n",
    "pogramming =\" p\"+s.split(\"P\")[2]\n",
    "python + pogramming"
   ]
  },
  {
   "cell_type": "code",
   "execution_count": 96,
   "id": "02429760",
   "metadata": {},
   "outputs": [
    {
     "data": {
      "text/plain": [
       "'pogramming'"
      ]
     },
     "execution_count": 96,
     "metadata": {},
     "output_type": "execute_result"
    }
   ],
   "source": [
    "\"p\"+splited[1]"
   ]
  },
  {
   "cell_type": "code",
   "execution_count": 104,
   "id": "19e05bb4",
   "metadata": {},
   "outputs": [
    {
     "data": {
      "text/plain": [
       "'fjlkhs;hh;/oshgh;sg'"
      ]
     },
     "execution_count": 104,
     "metadata": {},
     "output_type": "execute_result"
    }
   ],
   "source": [
    "t"
   ]
  },
  {
   "cell_type": "code",
   "execution_count": 105,
   "id": "e699342d",
   "metadata": {},
   "outputs": [
    {
     "data": {
      "text/plain": [
       "'Fjlkhs;Hh;/Oshgh;Sg'"
      ]
     },
     "execution_count": 105,
     "metadata": {},
     "output_type": "execute_result"
    }
   ],
   "source": [
    "t.title()"
   ]
  },
  {
   "cell_type": "code",
   "execution_count": 106,
   "id": "3716334e",
   "metadata": {},
   "outputs": [
    {
     "data": {
      "text/plain": [
       "'WelcomeTOPythonPogramming'"
      ]
     },
     "execution_count": 106,
     "metadata": {},
     "output_type": "execute_result"
    }
   ],
   "source": [
    "s"
   ]
  },
  {
   "cell_type": "code",
   "execution_count": 110,
   "id": "d8a6c418",
   "metadata": {},
   "outputs": [
    {
     "data": {
      "text/plain": [
       "'Hello Ai'"
      ]
     },
     "execution_count": 110,
     "metadata": {},
     "output_type": "execute_result"
    }
   ],
   "source": [
    "d = \"hello ai\"\n",
    "title = d.title()\n",
    "title"
   ]
  },
  {
   "cell_type": "code",
   "execution_count": 111,
   "id": "cebe700c",
   "metadata": {},
   "outputs": [
    {
     "data": {
      "text/plain": [
       "'hELLO aI'"
      ]
     },
     "execution_count": 111,
     "metadata": {},
     "output_type": "execute_result"
    }
   ],
   "source": [
    "title.swapcase()"
   ]
  },
  {
   "cell_type": "code",
   "execution_count": 113,
   "id": "0ab79e41",
   "metadata": {},
   "outputs": [
    {
     "data": {
      "text/plain": [
       "True"
      ]
     },
     "execution_count": 113,
     "metadata": {},
     "output_type": "execute_result"
    }
   ],
   "source": [
    "\"123\".isalnum()"
   ]
  },
  {
   "cell_type": "code",
   "execution_count": 117,
   "id": "103884f9",
   "metadata": {},
   "outputs": [
    {
     "data": {
      "text/plain": [
       "'Hello Ai'"
      ]
     },
     "execution_count": 117,
     "metadata": {},
     "output_type": "execute_result"
    }
   ],
   "source": [
    "title"
   ]
  },
  {
   "cell_type": "code",
   "execution_count": 116,
   "id": "436a804e",
   "metadata": {},
   "outputs": [
    {
     "data": {
      "text/plain": [
       "False"
      ]
     },
     "execution_count": 116,
     "metadata": {},
     "output_type": "execute_result"
    }
   ],
   "source": [
    "title.isalpha() # check all chr is alphabetic"
   ]
  },
  {
   "cell_type": "code",
   "execution_count": 120,
   "id": "ae1bcd3e",
   "metadata": {},
   "outputs": [
    {
     "data": {
      "text/plain": [
       "True"
      ]
     },
     "execution_count": 120,
     "metadata": {},
     "output_type": "execute_result"
    }
   ],
   "source": [
    "title.split()[1].isalpha()"
   ]
  },
  {
   "cell_type": "code",
   "execution_count": 122,
   "id": "d102248d",
   "metadata": {},
   "outputs": [
    {
     "data": {
      "text/plain": [
       "True"
      ]
     },
     "execution_count": 122,
     "metadata": {},
     "output_type": "execute_result"
    }
   ],
   "source": [
    "\"123\".isdigit() # cheacking digits\n"
   ]
  },
  {
   "cell_type": "code",
   "execution_count": null,
   "id": "9f3a9933",
   "metadata": {},
   "outputs": [
    {
     "data": {
      "text/plain": [
       "False"
      ]
     },
     "execution_count": 123,
     "metadata": {},
     "output_type": "execute_result"
    }
   ],
   "source": [
    "title.islower() # lower all chr check"
   ]
  },
  {
   "cell_type": "code",
   "execution_count": 124,
   "id": "a77f2678",
   "metadata": {},
   "outputs": [
    {
     "data": {
      "text/plain": [
       "False"
      ]
     },
     "execution_count": 124,
     "metadata": {},
     "output_type": "execute_result"
    }
   ],
   "source": [
    "title.isupper()"
   ]
  },
  {
   "cell_type": "code",
   "execution_count": 125,
   "id": "3c837336",
   "metadata": {},
   "outputs": [
    {
     "data": {
      "text/plain": [
       "True"
      ]
     },
     "execution_count": 125,
     "metadata": {},
     "output_type": "execute_result"
    }
   ],
   "source": [
    "\" \".isspace()"
   ]
  },
  {
   "cell_type": "code",
   "execution_count": 128,
   "id": "efc4b144",
   "metadata": {},
   "outputs": [
    {
     "data": {
      "text/plain": [
       "'hello '"
      ]
     },
     "execution_count": 128,
     "metadata": {},
     "output_type": "execute_result"
    }
   ],
   "source": [
    "\" hello \".lstrip()"
   ]
  },
  {
   "cell_type": "code",
   "execution_count": 130,
   "id": "cbd8c47a",
   "metadata": {},
   "outputs": [
    {
     "data": {
      "text/plain": [
       "' hello'"
      ]
     },
     "execution_count": 130,
     "metadata": {},
     "output_type": "execute_result"
    }
   ],
   "source": [
    "\" hello \".rstrip() # traling white remove"
   ]
  },
  {
   "cell_type": "code",
   "execution_count": 131,
   "id": "bc885c11",
   "metadata": {},
   "outputs": [
    {
     "data": {
      "text/plain": [
       "'fjlkhs;hh;/oshgh;sg'"
      ]
     },
     "execution_count": 131,
     "metadata": {},
     "output_type": "execute_result"
    }
   ],
   "source": [
    "t"
   ]
  },
  {
   "cell_type": "code",
   "execution_count": 132,
   "id": "0e7e92f0",
   "metadata": {},
   "outputs": [
    {
     "data": {
      "text/plain": [
       "'Hello Ai'"
      ]
     },
     "execution_count": 132,
     "metadata": {},
     "output_type": "execute_result"
    }
   ],
   "source": [
    "title"
   ]
  },
  {
   "cell_type": "code",
   "execution_count": 133,
   "id": "fe3931c4",
   "metadata": {},
   "outputs": [
    {
     "data": {
      "text/plain": [
       "'World of Ai'"
      ]
     },
     "execution_count": 133,
     "metadata": {},
     "output_type": "execute_result"
    }
   ],
   "source": [
    "title.replace(\"Hello\",\"World of\")"
   ]
  },
  {
   "cell_type": "code",
   "execution_count": 134,
   "id": "b398fdc9",
   "metadata": {},
   "outputs": [
    {
     "data": {
      "text/plain": [
       "'fjlkhs;hh;/oshgh;sg'"
      ]
     },
     "execution_count": 134,
     "metadata": {},
     "output_type": "execute_result"
    }
   ],
   "source": [
    "t"
   ]
  },
  {
   "cell_type": "code",
   "execution_count": 136,
   "id": "2d3b1935",
   "metadata": {},
   "outputs": [
    {
     "data": {
      "text/plain": [
       "6"
      ]
     },
     "execution_count": 136,
     "metadata": {},
     "output_type": "execute_result"
    }
   ],
   "source": [
    "t.find(';') # find index position"
   ]
  },
  {
   "cell_type": "code",
   "execution_count": 138,
   "id": "d486e710",
   "metadata": {},
   "outputs": [
    {
     "data": {
      "text/plain": [
       "6"
      ]
     },
     "execution_count": 138,
     "metadata": {},
     "output_type": "execute_result"
    }
   ],
   "source": [
    "t.index(\";\")"
   ]
  },
  {
   "cell_type": "code",
   "execution_count": 139,
   "id": "d068f330",
   "metadata": {},
   "outputs": [
    {
     "data": {
      "text/plain": [
       "'Hello Ai'"
      ]
     },
     "execution_count": 139,
     "metadata": {},
     "output_type": "execute_result"
    }
   ],
   "source": [
    "title"
   ]
  },
  {
   "cell_type": "code",
   "execution_count": 142,
   "id": "81a0ae6b",
   "metadata": {},
   "outputs": [
    {
     "ename": "ValueError",
     "evalue": "substring not found",
     "output_type": "error",
     "traceback": [
      "\u001b[1;31m---------------------------------------------------------------------------\u001b[0m",
      "\u001b[1;31mValueError\u001b[0m                                Traceback (most recent call last)",
      "Cell \u001b[1;32mIn[142], line 1\u001b[0m\n\u001b[1;32m----> 1\u001b[0m title\u001b[38;5;241m.\u001b[39mindex(\u001b[38;5;124m\"\u001b[39m\u001b[38;5;124mai\u001b[39m\u001b[38;5;124m\"\u001b[39m)\n",
      "\u001b[1;31mValueError\u001b[0m: substring not found"
     ]
    }
   ],
   "source": [
    "title.index(\"ai\") # index can't find sunstring only for single chr"
   ]
  },
  {
   "cell_type": "code",
   "execution_count": 141,
   "id": "ce065ab3",
   "metadata": {},
   "outputs": [
    {
     "data": {
      "text/plain": [
       "-1"
      ]
     },
     "execution_count": 141,
     "metadata": {},
     "output_type": "execute_result"
    }
   ],
   "source": [
    "title.find('ai')"
   ]
  },
  {
   "cell_type": "code",
   "execution_count": 143,
   "id": "daf23f04",
   "metadata": {},
   "outputs": [
    {
     "data": {
      "text/plain": [
       "-1"
      ]
     },
     "execution_count": 143,
     "metadata": {},
     "output_type": "execute_result"
    }
   ],
   "source": [
    "title.rfind(\"ai\")"
   ]
  },
  {
   "cell_type": "code",
   "execution_count": 144,
   "id": "c6e8ab1c",
   "metadata": {},
   "outputs": [
    {
     "ename": "ValueError",
     "evalue": "substring not found",
     "output_type": "error",
     "traceback": [
      "\u001b[1;31m---------------------------------------------------------------------------\u001b[0m",
      "\u001b[1;31mValueError\u001b[0m                                Traceback (most recent call last)",
      "Cell \u001b[1;32mIn[144], line 1\u001b[0m\n\u001b[1;32m----> 1\u001b[0m title\u001b[38;5;241m.\u001b[39mrindex(\u001b[38;5;124m\"\u001b[39m\u001b[38;5;124mai\u001b[39m\u001b[38;5;124m\"\u001b[39m)\n",
      "\u001b[1;31mValueError\u001b[0m: substring not found"
     ]
    }
   ],
   "source": [
    "title.rindex(\"ai\")"
   ]
  },
  {
   "cell_type": "code",
   "execution_count": null,
   "id": "47d8c8d2",
   "metadata": {},
   "outputs": [
    {
     "data": {
      "text/plain": [
       "'hello, ai'"
      ]
     },
     "execution_count": 145,
     "metadata": {},
     "output_type": "execute_result"
    }
   ],
   "source": [
    "\"hello, {}\".format(input()) # placeholder"
   ]
  },
  {
   "cell_type": "code",
   "execution_count": 146,
   "id": "3a3faa5a",
   "metadata": {},
   "outputs": [
    {
     "data": {
      "text/plain": [
       "'hello ai'"
      ]
     },
     "execution_count": 146,
     "metadata": {},
     "output_type": "execute_result"
    }
   ],
   "source": [
    "f\"hello {input()}\""
   ]
  },
  {
   "cell_type": "code",
   "execution_count": 150,
   "id": "277394df",
   "metadata": {},
   "outputs": [
    {
     "data": {
      "text/plain": [
       "65"
      ]
     },
     "execution_count": 150,
     "metadata": {},
     "output_type": "execute_result"
    }
   ],
   "source": [
    "ord(\"A\") # unicode"
   ]
  },
  {
   "cell_type": "code",
   "execution_count": 152,
   "id": "e0cb5e73",
   "metadata": {},
   "outputs": [
    {
     "ename": "TypeError",
     "evalue": "'str' object is not callable",
     "output_type": "error",
     "traceback": [
      "\u001b[1;31m---------------------------------------------------------------------------\u001b[0m",
      "\u001b[1;31mTypeError\u001b[0m                                 Traceback (most recent call last)",
      "Cell \u001b[1;32mIn[152], line 1\u001b[0m\n\u001b[1;32m----> 1\u001b[0m \u001b[38;5;28mchr\u001b[39m(\u001b[38;5;241m65\u001b[39m)\n",
      "\u001b[1;31mTypeError\u001b[0m: 'str' object is not callable"
     ]
    }
   ],
   "source": [
    "chr(65)"
   ]
  },
  {
   "cell_type": "code",
   "execution_count": 1,
   "id": "a42fcb1e",
   "metadata": {},
   "outputs": [],
   "source": [
    "s = \"This is string practice\""
   ]
  },
  {
   "cell_type": "code",
   "execution_count": 2,
   "id": "9789990e",
   "metadata": {},
   "outputs": [
    {
     "data": {
      "text/plain": [
       "'A'"
      ]
     },
     "execution_count": 2,
     "metadata": {},
     "output_type": "execute_result"
    }
   ],
   "source": [
    "chr = \"a\"\n",
    "chr.capitalize()"
   ]
  },
  {
   "cell_type": "code",
   "execution_count": 3,
   "id": "a8826635",
   "metadata": {},
   "outputs": [
    {
     "data": {
      "text/plain": [
       "'a'"
      ]
     },
     "execution_count": 3,
     "metadata": {},
     "output_type": "execute_result"
    }
   ],
   "source": [
    "chr.casefold()"
   ]
  },
  {
   "cell_type": "code",
   "execution_count": 4,
   "id": "c5860d44",
   "metadata": {},
   "outputs": [
    {
     "data": {
      "text/plain": [
       "'a'"
      ]
     },
     "execution_count": 4,
     "metadata": {},
     "output_type": "execute_result"
    }
   ],
   "source": [
    "chr = \"A\"\n",
    "chr.casefold()"
   ]
  },
  {
   "cell_type": "code",
   "execution_count": 11,
   "id": "be75ebd9",
   "metadata": {},
   "outputs": [
    {
     "data": {
      "text/plain": [
       "'This is string practice'"
      ]
     },
     "execution_count": 11,
     "metadata": {},
     "output_type": "execute_result"
    }
   ],
   "source": [
    "s.center(10,\"0\")"
   ]
  },
  {
   "cell_type": "code",
   "execution_count": 12,
   "id": "ed6323bd",
   "metadata": {},
   "outputs": [
    {
     "data": {
      "text/plain": [
       "'====A====='"
      ]
     },
     "execution_count": 12,
     "metadata": {},
     "output_type": "execute_result"
    }
   ],
   "source": [
    "chr.center(10,\"=\")"
   ]
  },
  {
   "cell_type": "code",
   "execution_count": 13,
   "id": "cfbde2d1",
   "metadata": {},
   "outputs": [
    {
     "data": {
      "text/plain": [
       "'β'"
      ]
     },
     "execution_count": 13,
     "metadata": {},
     "output_type": "execute_result"
    }
   ],
   "source": [
    "\"β\".casefold()"
   ]
  },
  {
   "cell_type": "code",
   "execution_count": 14,
   "id": "56055e4a",
   "metadata": {},
   "outputs": [
    {
     "data": {
      "text/plain": [
       "1"
      ]
     },
     "execution_count": 14,
     "metadata": {},
     "output_type": "execute_result"
    }
   ],
   "source": [
    "s.count(\"a\")"
   ]
  },
  {
   "cell_type": "code",
   "execution_count": 17,
   "id": "f6400e52",
   "metadata": {},
   "outputs": [
    {
     "data": {
      "text/plain": [
       "3"
      ]
     },
     "execution_count": 17,
     "metadata": {},
     "output_type": "execute_result"
    }
   ],
   "source": [
    "s.count(\"s\")"
   ]
  },
  {
   "cell_type": "code",
   "execution_count": 18,
   "id": "d8c4ba33",
   "metadata": {},
   "outputs": [
    {
     "data": {
      "text/plain": [
       "b'A'"
      ]
     },
     "execution_count": 18,
     "metadata": {},
     "output_type": "execute_result"
    }
   ],
   "source": [
    "chr.encode()"
   ]
  },
  {
   "cell_type": "code",
   "execution_count": 19,
   "id": "e8d915d1",
   "metadata": {},
   "outputs": [
    {
     "data": {
      "text/plain": [
       "False"
      ]
     },
     "execution_count": 19,
     "metadata": {},
     "output_type": "execute_result"
    }
   ],
   "source": [
    "s.endswith(\"on\")"
   ]
  },
  {
   "cell_type": "code",
   "execution_count": 20,
   "id": "b9344f36",
   "metadata": {},
   "outputs": [
    {
     "data": {
      "text/plain": [
       "False"
      ]
     },
     "execution_count": 20,
     "metadata": {},
     "output_type": "execute_result"
    }
   ],
   "source": [
    "s.endswith(\"is\")"
   ]
  },
  {
   "cell_type": "code",
   "execution_count": 22,
   "id": "da210f94",
   "metadata": {},
   "outputs": [
    {
     "data": {
      "text/plain": [
       "True"
      ]
     },
     "execution_count": 22,
     "metadata": {},
     "output_type": "execute_result"
    }
   ],
   "source": [
    "s.endswith(\"practice\")"
   ]
  },
  {
   "cell_type": "code",
   "execution_count": 25,
   "id": "4d9d100b",
   "metadata": {},
   "outputs": [
    {
     "data": {
      "text/plain": [
       "'This is string practice'"
      ]
     },
     "execution_count": 25,
     "metadata": {},
     "output_type": "execute_result"
    }
   ],
   "source": [
    "s.expandtabs(105)"
   ]
  },
  {
   "cell_type": "code",
   "execution_count": 26,
   "id": "204e3ab5",
   "metadata": {},
   "outputs": [
    {
     "data": {
      "text/plain": [
       "'This is string practice'"
      ]
     },
     "execution_count": 26,
     "metadata": {},
     "output_type": "execute_result"
    }
   ],
   "source": [
    "s"
   ]
  },
  {
   "cell_type": "code",
   "execution_count": 29,
   "id": "527e9b11",
   "metadata": {},
   "outputs": [
    {
     "data": {
      "text/plain": [
       "15"
      ]
     },
     "execution_count": 29,
     "metadata": {},
     "output_type": "execute_result"
    }
   ],
   "source": [
    "s.find(\"p\")"
   ]
  },
  {
   "cell_type": "code",
   "execution_count": 31,
   "id": "072f6526",
   "metadata": {},
   "outputs": [
    {
     "data": {
      "text/plain": [
       "2"
      ]
     },
     "execution_count": 31,
     "metadata": {},
     "output_type": "execute_result"
    }
   ],
   "source": [
    "s.find(\"i\")"
   ]
  },
  {
   "cell_type": "code",
   "execution_count": 32,
   "id": "950adc61",
   "metadata": {},
   "outputs": [
    {
     "data": {
      "text/plain": [
       "2"
      ]
     },
     "execution_count": 32,
     "metadata": {},
     "output_type": "execute_result"
    }
   ],
   "source": [
    "s.find(\"is\")"
   ]
  },
  {
   "cell_type": "code",
   "execution_count": 33,
   "id": "f8cf5452",
   "metadata": {},
   "outputs": [
    {
     "data": {
      "text/plain": [
       "15"
      ]
     },
     "execution_count": 33,
     "metadata": {},
     "output_type": "execute_result"
    }
   ],
   "source": [
    "s.find(\"practice\")"
   ]
  },
  {
   "cell_type": "code",
   "execution_count": 36,
   "id": "624d31f9",
   "metadata": {},
   "outputs": [
    {
     "name": "stdout",
     "output_type": "stream",
     "text": [
      "ML is a skill of a DS\n"
     ]
    }
   ],
   "source": [
    "print(f\"{input()} is a skill of a DS\")"
   ]
  },
  {
   "cell_type": "code",
   "execution_count": 38,
   "id": "f6d5c016",
   "metadata": {},
   "outputs": [
    {
     "name": "stdout",
     "output_type": "stream",
     "text": [
      "ML is a part of AI\n"
     ]
    }
   ],
   "source": [
    "print(\"{} is a part of AI\".format(\"ML\"))"
   ]
  },
  {
   "cell_type": "code",
   "execution_count": null,
   "id": "138551d1",
   "metadata": {},
   "outputs": [
    {
     "data": {
      "text/plain": [
       "'my name is ac and age 34'"
      ]
     },
     "execution_count": 39,
     "metadata": {},
     "output_type": "execute_result"
    }
   ],
   "source": [
    "d = {\"name\":\"ac\",\"age\":34}\n",
    "\n",
    "txt = \"my name is {name} and age {age}\"\n",
    "txt.format_map(d) # formats the specified values of a dictionary and insert them inside the string's placeholders."
   ]
  },
  {
   "cell_type": "code",
   "execution_count": 43,
   "id": "7086a406",
   "metadata": {},
   "outputs": [
    {
     "data": {
      "text/plain": [
       "2"
      ]
     },
     "execution_count": 43,
     "metadata": {},
     "output_type": "execute_result"
    }
   ],
   "source": [
    "s.index(\"is\") # return index no"
   ]
  },
  {
   "cell_type": "code",
   "execution_count": 44,
   "id": "b80c5528",
   "metadata": {},
   "outputs": [
    {
     "data": {
      "text/plain": [
       "False"
      ]
     },
     "execution_count": 44,
     "metadata": {},
     "output_type": "execute_result"
    }
   ],
   "source": [
    "s.isalpha()"
   ]
  },
  {
   "cell_type": "code",
   "execution_count": 45,
   "id": "0e42085a",
   "metadata": {},
   "outputs": [
    {
     "data": {
      "text/plain": [
       "False"
      ]
     },
     "execution_count": 45,
     "metadata": {},
     "output_type": "execute_result"
    }
   ],
   "source": [
    "\"123\".isalpha()"
   ]
  },
  {
   "cell_type": "code",
   "execution_count": 47,
   "id": "ff50e769",
   "metadata": {},
   "outputs": [
    {
     "data": {
      "text/plain": [
       "True"
      ]
     },
     "execution_count": 47,
     "metadata": {},
     "output_type": "execute_result"
    }
   ],
   "source": [
    "\"python\".isalpha()"
   ]
  },
  {
   "cell_type": "code",
   "execution_count": 48,
   "id": "8b0275bb",
   "metadata": {},
   "outputs": [
    {
     "data": {
      "text/plain": [
       "True"
      ]
     },
     "execution_count": 48,
     "metadata": {},
     "output_type": "execute_result"
    }
   ],
   "source": [
    "chr.isalpha() # return bool for every word"
   ]
  },
  {
   "cell_type": "code",
   "execution_count": 49,
   "id": "9df1ec16",
   "metadata": {},
   "outputs": [
    {
     "data": {
      "text/plain": [
       "True"
      ]
     },
     "execution_count": 49,
     "metadata": {},
     "output_type": "execute_result"
    }
   ],
   "source": [
    "chr.isascii()"
   ]
  },
  {
   "cell_type": "code",
   "execution_count": 50,
   "id": "a3a78ace",
   "metadata": {},
   "outputs": [
    {
     "data": {
      "text/plain": [
       "True"
      ]
     },
     "execution_count": 50,
     "metadata": {},
     "output_type": "execute_result"
    }
   ],
   "source": [
    "s.isascii()"
   ]
  },
  {
   "cell_type": "code",
   "execution_count": 51,
   "id": "27bb1ef2",
   "metadata": {},
   "outputs": [
    {
     "data": {
      "text/plain": [
       "False"
      ]
     },
     "execution_count": 51,
     "metadata": {},
     "output_type": "execute_result"
    }
   ],
   "source": [
    "s.isidentifier()"
   ]
  },
  {
   "cell_type": "code",
   "execution_count": 53,
   "id": "988091aa",
   "metadata": {},
   "outputs": [
    {
     "data": {
      "text/plain": [
       "True"
      ]
     },
     "execution_count": 53,
     "metadata": {},
     "output_type": "execute_result"
    }
   ],
   "source": [
    "chr.isidentifier() # v work with sequnce of string"
   ]
  },
  {
   "cell_type": "code",
   "execution_count": 54,
   "id": "4f71d2ea",
   "metadata": {},
   "outputs": [
    {
     "data": {
      "text/plain": [
       "True"
      ]
     },
     "execution_count": 54,
     "metadata": {},
     "output_type": "execute_result"
    }
   ],
   "source": [
    "\"dd\".isprintable()"
   ]
  },
  {
   "cell_type": "code",
   "execution_count": 55,
   "id": "b1469c41",
   "metadata": {},
   "outputs": [
    {
     "data": {
      "text/plain": [
       "False"
      ]
     },
     "execution_count": 55,
     "metadata": {},
     "output_type": "execute_result"
    }
   ],
   "source": [
    "# check whitespace or not\n",
    "chr.isspace()"
   ]
  },
  {
   "cell_type": "code",
   "execution_count": 56,
   "id": "418b4074",
   "metadata": {},
   "outputs": [
    {
     "data": {
      "text/plain": [
       "False"
      ]
     },
     "execution_count": 56,
     "metadata": {},
     "output_type": "execute_result"
    }
   ],
   "source": [
    "s.isspace()"
   ]
  },
  {
   "cell_type": "code",
   "execution_count": 57,
   "id": "3cda5fe0",
   "metadata": {},
   "outputs": [
    {
     "data": {
      "text/plain": [
       "False"
      ]
     },
     "execution_count": 57,
     "metadata": {},
     "output_type": "execute_result"
    }
   ],
   "source": [
    "\" python \".isspace()"
   ]
  },
  {
   "cell_type": "code",
   "execution_count": null,
   "id": "cc7731ed",
   "metadata": {},
   "outputs": [
    {
     "data": {
      "text/plain": [
       "True"
      ]
     },
     "execution_count": 58,
     "metadata": {},
     "output_type": "execute_result"
    }
   ],
   "source": [
    "\" \".isspace() # check string is empty or not"
   ]
  },
  {
   "cell_type": "code",
   "execution_count": 64,
   "id": "cb4edbb2",
   "metadata": {},
   "outputs": [
    {
     "name": "stdout",
     "output_type": "stream",
     "text": [
      "DL                   Poceptron is building block of\n"
     ]
    }
   ],
   "source": [
    "txt = \"DL\"\n",
    "x = txt.ljust(20)\n",
    "print(x,\"Poceptron is building block of\")"
   ]
  },
  {
   "cell_type": "code",
   "execution_count": 66,
   "id": "fe79a03d",
   "metadata": {},
   "outputs": [
    {
     "name": "stdout",
     "output_type": "stream",
     "text": [
      "DL         Poceptron is building block of\n"
     ]
    }
   ],
   "source": [
    "txt = \"DL\"\n",
    "x = txt.ljust(10)\n",
    "print(x,\"Poceptron is building block of\")"
   ]
  },
  {
   "cell_type": "code",
   "execution_count": 67,
   "id": "0cac66ba",
   "metadata": {},
   "outputs": [
    {
     "data": {
      "text/plain": [
       "'This is string practice'"
      ]
     },
     "execution_count": 67,
     "metadata": {},
     "output_type": "execute_result"
    }
   ],
   "source": [
    "s.lstrip()"
   ]
  },
  {
   "cell_type": "code",
   "execution_count": 72,
   "id": "47bd7c15",
   "metadata": {},
   "outputs": [
    {
     "name": "stdout",
     "output_type": "stream",
     "text": [
      "bacic of python       crucial for DS\n"
     ]
    }
   ],
   "source": [
    "txt = \" python      \"\n",
    "x = txt.lstrip()\n",
    "print(\"bacic of\", x, \"crucial for DS\")"
   ]
  },
  {
   "cell_type": "code",
   "execution_count": 78,
   "id": "6d3eac84",
   "metadata": {},
   "outputs": [
    {
     "data": {
      "text/plain": [
       "'p'"
      ]
     },
     "execution_count": 78,
     "metadata": {},
     "output_type": "execute_result"
    }
   ],
   "source": [
    "table = str.maketrans(\"A\",\"p\")\n",
    "chr.translate(table)"
   ]
  },
  {
   "cell_type": "code",
   "execution_count": 79,
   "id": "8b7ee482",
   "metadata": {},
   "outputs": [
    {
     "data": {
      "text/plain": [
       "'A'"
      ]
     },
     "execution_count": 79,
     "metadata": {},
     "output_type": "execute_result"
    }
   ],
   "source": [
    "chr"
   ]
  },
  {
   "cell_type": "code",
   "execution_count": 85,
   "id": "be067506",
   "metadata": {},
   "outputs": [
    {
     "data": {
      "text/plain": [
       "'0000000050'"
      ]
     },
     "execution_count": 85,
     "metadata": {},
     "output_type": "execute_result"
    }
   ],
   "source": [
    "\"50\".zfill(10)"
   ]
  },
  {
   "cell_type": "code",
   "execution_count": 86,
   "id": "998968dc",
   "metadata": {},
   "outputs": [
    {
     "data": {
      "text/plain": [
       "'000000000A'"
      ]
     },
     "execution_count": 86,
     "metadata": {},
     "output_type": "execute_result"
    }
   ],
   "source": [
    "chr.zfill(10)"
   ]
  },
  {
   "cell_type": "code",
   "execution_count": 88,
   "id": "180da170",
   "metadata": {},
   "outputs": [
    {
     "data": {
      "text/plain": [
       "True"
      ]
     },
     "execution_count": 88,
     "metadata": {},
     "output_type": "execute_result"
    }
   ],
   "source": [
    "s.startswith(\"This\")"
   ]
  },
  {
   "cell_type": "code",
   "execution_count": 93,
   "id": "14ac900a",
   "metadata": {},
   "outputs": [
    {
     "data": {
      "text/plain": [
       "['Thank you for the music .Welcome to the jungle']"
      ]
     },
     "execution_count": 93,
     "metadata": {},
     "output_type": "execute_result"
    }
   ],
   "source": [
    "\"Thank you for the music .Welcome to the jungle\".splitlines()"
   ]
  },
  {
   "cell_type": "code",
   "execution_count": 90,
   "id": "eff4c05d",
   "metadata": {},
   "outputs": [
    {
     "data": {
      "text/plain": [
       "' Thank you\\nvisit us agein'"
      ]
     },
     "execution_count": 90,
     "metadata": {},
     "output_type": "execute_result"
    }
   ],
   "source": [
    "txt =\" Thank you\\nvisit us agein\"\n",
    "txt"
   ]
  },
  {
   "cell_type": "code",
   "execution_count": 92,
   "id": "aed8835f",
   "metadata": {},
   "outputs": [
    {
     "data": {
      "text/plain": [
       "[' Thank you', 'visit us agein']"
      ]
     },
     "execution_count": 92,
     "metadata": {},
     "output_type": "execute_result"
    }
   ],
   "source": [
    "txt.splitlines()"
   ]
  },
  {
   "cell_type": "code",
   "execution_count": 94,
   "id": "91caaddc",
   "metadata": {},
   "outputs": [
    {
     "data": {
      "text/plain": [
       "[' Thank you', 'visit us agein']"
      ]
     },
     "execution_count": 94,
     "metadata": {},
     "output_type": "execute_result"
    }
   ],
   "source": [
    "txt.rsplit(\"\\n\")"
   ]
  },
  {
   "cell_type": "code",
   "execution_count": 97,
   "id": "44d8ba03",
   "metadata": {},
   "outputs": [
    {
     "data": {
      "text/plain": [
       "(' Thank ', 'you', '\\nvisit us agein')"
      ]
     },
     "execution_count": 97,
     "metadata": {},
     "output_type": "execute_result"
    }
   ],
   "source": [
    "txt.rpartition(\"you\")"
   ]
  },
  {
   "cell_type": "code",
   "execution_count": 98,
   "id": "6cce33b6",
   "metadata": {},
   "outputs": [
    {
     "data": {
      "text/plain": [
       "(' Thank you', '\\n', 'visit us agein')"
      ]
     },
     "execution_count": 98,
     "metadata": {},
     "output_type": "execute_result"
    }
   ],
   "source": [
    "txt.rpartition(\"\\n\")"
   ]
  },
  {
   "cell_type": "code",
   "execution_count": null,
   "id": "9727ad0a",
   "metadata": {},
   "outputs": [],
   "source": []
  }
 ],
 "metadata": {
  "kernelspec": {
   "display_name": "base",
   "language": "python",
   "name": "python3"
  },
  "language_info": {
   "codemirror_mode": {
    "name": "ipython",
    "version": 3
   },
   "file_extension": ".py",
   "mimetype": "text/x-python",
   "name": "python",
   "nbconvert_exporter": "python",
   "pygments_lexer": "ipython3",
   "version": "3.12.7"
  }
 },
 "nbformat": 4,
 "nbformat_minor": 5
}
