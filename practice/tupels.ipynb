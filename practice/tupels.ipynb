{
 "cells": [
  {
   "cell_type": "code",
   "execution_count": 1,
   "id": "df6a2875",
   "metadata": {},
   "outputs": [
    {
     "data": {
      "text/plain": [
       "('av', 4, 5, 6, 6)"
      ]
     },
     "execution_count": 1,
     "metadata": {},
     "output_type": "execute_result"
    }
   ],
   "source": [
    "# create tupel\n",
    "t = (\"av\",4,5,6,6)\n",
    "t"
   ]
  },
  {
   "cell_type": "code",
   "execution_count": 3,
   "id": "724aa7fc",
   "metadata": {},
   "outputs": [],
   "source": [
    "t = tuple()"
   ]
  },
  {
   "cell_type": "code",
   "execution_count": 8,
   "id": "f3daff12",
   "metadata": {},
   "outputs": [],
   "source": [
    "# packing, unpacking\n",
    "t = (\"ac\",5)"
   ]
  },
  {
   "cell_type": "code",
   "execution_count": 9,
   "id": "aa12e0a4",
   "metadata": {},
   "outputs": [
    {
     "name": "stdout",
     "output_type": "stream",
     "text": [
      "ac\n",
      "5\n"
     ]
    }
   ],
   "source": [
    "a, b = t\n",
    "print(a)\n",
    "print(b)"
   ]
  },
  {
   "cell_type": "code",
   "execution_count": 10,
   "id": "a50c1979",
   "metadata": {},
   "outputs": [
    {
     "data": {
      "text/plain": [
       "5"
      ]
     },
     "execution_count": 10,
     "metadata": {},
     "output_type": "execute_result"
    }
   ],
   "source": [
    "t[1]"
   ]
  },
  {
   "cell_type": "code",
   "execution_count": 13,
   "id": "76f874aa",
   "metadata": {},
   "outputs": [
    {
     "name": "stdout",
     "output_type": "stream",
     "text": [
      "CPU times: total: 0 ns\n",
      "Wall time: 0 ns\n"
     ]
    }
   ],
   "source": [
    "%time\n",
    "t =(\"av\",4,5,6,6)"
   ]
  },
  {
   "cell_type": "code",
   "execution_count": 15,
   "id": "10918797",
   "metadata": {},
   "outputs": [
    {
     "name": "stdout",
     "output_type": "stream",
     "text": [
      "CPU times: total: 0 ns\n",
      "Wall time: 0 ns\n"
     ]
    }
   ],
   "source": [
    "%time\n",
    "l = [1,2,3,6,5,7,4,7,8,4,988,7,7,9]"
   ]
  },
  {
   "cell_type": "code",
   "execution_count": 16,
   "id": "9aa3e992",
   "metadata": {},
   "outputs": [
    {
     "data": {
      "text/plain": [
       "('av', 4, 5, 6, 6)"
      ]
     },
     "execution_count": 16,
     "metadata": {},
     "output_type": "execute_result"
    }
   ],
   "source": [
    "t"
   ]
  },
  {
   "cell_type": "code",
   "execution_count": null,
   "id": "6fdb428d",
   "metadata": {},
   "outputs": [
    {
     "data": {
      "text/plain": [
       "1"
      ]
     },
     "execution_count": 19,
     "metadata": {},
     "output_type": "execute_result"
    }
   ],
   "source": [
    "t.index(4) # input value return index"
   ]
  },
  {
   "cell_type": "code",
   "execution_count": 20,
   "id": "bbede8f5",
   "metadata": {},
   "outputs": [
    {
     "data": {
      "text/plain": [
       "1"
      ]
     },
     "execution_count": 20,
     "metadata": {},
     "output_type": "execute_result"
    }
   ],
   "source": [
    "t.count(4)"
   ]
  },
  {
   "cell_type": "code",
   "execution_count": 23,
   "id": "9a071123",
   "metadata": {},
   "outputs": [],
   "source": [
    "# nested tuple\n",
    "n_t = ((1,2),(2,3),(4,5))"
   ]
  },
  {
   "cell_type": "code",
   "execution_count": 24,
   "id": "7ae85b5e",
   "metadata": {},
   "outputs": [],
   "source": [
    "a,*b,c =(1,2,3,6,21,8)"
   ]
  },
  {
   "cell_type": "code",
   "execution_count": 25,
   "id": "68394283",
   "metadata": {},
   "outputs": [
    {
     "data": {
      "text/plain": [
       "[2, 3, 6, 21]"
      ]
     },
     "execution_count": 25,
     "metadata": {},
     "output_type": "execute_result"
    }
   ],
   "source": [
    "b"
   ]
  },
  {
   "cell_type": "code",
   "execution_count": 28,
   "id": "d36f7bc9",
   "metadata": {},
   "outputs": [
    {
     "data": {
      "text/plain": [
       "list"
      ]
     },
     "execution_count": 28,
     "metadata": {},
     "output_type": "execute_result"
    }
   ],
   "source": [
    "type(b)"
   ]
  },
  {
   "cell_type": "code",
   "execution_count": 26,
   "id": "b89b9453",
   "metadata": {},
   "outputs": [
    {
     "data": {
      "text/plain": [
       "1"
      ]
     },
     "execution_count": 26,
     "metadata": {},
     "output_type": "execute_result"
    }
   ],
   "source": [
    "a"
   ]
  },
  {
   "cell_type": "code",
   "execution_count": 27,
   "id": "83d3338a",
   "metadata": {},
   "outputs": [
    {
     "data": {
      "text/plain": [
       "8"
      ]
     },
     "execution_count": 27,
     "metadata": {},
     "output_type": "execute_result"
    }
   ],
   "source": [
    "c"
   ]
  },
  {
   "cell_type": "code",
   "execution_count": 29,
   "id": "94f157f3",
   "metadata": {},
   "outputs": [
    {
     "data": {
      "text/plain": [
       "('av', 4, 5, 6, 6)"
      ]
     },
     "execution_count": 29,
     "metadata": {},
     "output_type": "execute_result"
    }
   ],
   "source": [
    "# acces first and last item from tuple\n",
    "t"
   ]
  },
  {
   "cell_type": "code",
   "execution_count": 30,
   "id": "8505c0f4",
   "metadata": {},
   "outputs": [],
   "source": [
    "*a, b =t"
   ]
  },
  {
   "cell_type": "code",
   "execution_count": 31,
   "id": "9736e4e7",
   "metadata": {},
   "outputs": [
    {
     "data": {
      "text/plain": [
       "6"
      ]
     },
     "execution_count": 31,
     "metadata": {},
     "output_type": "execute_result"
    }
   ],
   "source": [
    "b"
   ]
  },
  {
   "cell_type": "code",
   "execution_count": 37,
   "id": "db7134dd",
   "metadata": {},
   "outputs": [],
   "source": [
    "t =(1,2,3,6,59,87,45,4,62,5)"
   ]
  },
  {
   "cell_type": "code",
   "execution_count": 38,
   "id": "8f39edf2",
   "metadata": {},
   "outputs": [],
   "source": [
    "# get even no from tupel\n",
    "even = tuple(num for num in t if num %2==0)"
   ]
  },
  {
   "cell_type": "code",
   "execution_count": 39,
   "id": "b401a9c5",
   "metadata": {},
   "outputs": [
    {
     "data": {
      "text/plain": [
       "[2, 6, 4, 62]"
      ]
     },
     "execution_count": 39,
     "metadata": {},
     "output_type": "execute_result"
    }
   ],
   "source": [
    "list(even)"
   ]
  },
  {
   "cell_type": "code",
   "execution_count": 41,
   "id": "8a73cded",
   "metadata": {},
   "outputs": [
    {
     "data": {
      "text/plain": [
       "(1, 2, 3, 6, 59, 87, 45, 4, 62, 5)"
      ]
     },
     "execution_count": 41,
     "metadata": {},
     "output_type": "execute_result"
    }
   ],
   "source": [
    "t"
   ]
  },
  {
   "cell_type": "code",
   "execution_count": 40,
   "id": "30f8c269",
   "metadata": {},
   "outputs": [
    {
     "data": {
      "text/plain": [
       "(5, 62, 4, 45, 87, 59, 6, 3, 2, 1)"
      ]
     },
     "execution_count": 40,
     "metadata": {},
     "output_type": "execute_result"
    }
   ],
   "source": [
    "# inverse of tupel\n",
    "inverse = tuple(list(t)[::-1])\n",
    "inverse"
   ]
  },
  {
   "cell_type": "code",
   "execution_count": null,
   "id": "68186ca9",
   "metadata": {},
   "outputs": [],
   "source": []
  }
 ],
 "metadata": {
  "kernelspec": {
   "display_name": "base",
   "language": "python",
   "name": "python3"
  },
  "language_info": {
   "codemirror_mode": {
    "name": "ipython",
    "version": 3
   },
   "file_extension": ".py",
   "mimetype": "text/x-python",
   "name": "python",
   "nbconvert_exporter": "python",
   "pygments_lexer": "ipython3",
   "version": "3.12.7"
  }
 },
 "nbformat": 4,
 "nbformat_minor": 5
}
